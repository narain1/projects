{
  "cells": [
    {
      "cell_type": "code",
      "execution_count": 89,
      "metadata": {
        "id": "dgeiZ8sm7P20"
      },
      "outputs": [],
      "source": [
        "import torch"
      ]
    },
    {
      "cell_type": "code",
      "execution_count": 90,
      "metadata": {
        "id": "HS5bPKQO7P23",
        "outputId": "6ccef717-d9de-4fea-8fa3-98467e020fbd",
        "colab": {
          "base_uri": "https://localhost:8080/",
          "height": 36
        }
      },
      "outputs": [
        {
          "output_type": "execute_result",
          "data": {
            "application/vnd.google.colaboratory.intrinsic+json": {
              "type": "string"
            },
            "text/plain": [
              "'Tesla K80'"
            ]
          },
          "metadata": {},
          "execution_count": 90
        }
      ],
      "source": [
        "%matplotlib inline\n",
        "from matplotlib import pyplot\n",
        "import numpy\n",
        "\n",
        "assert torch.cuda.is_available(), \"GPU required\"\n",
        "torch.cuda.get_device_name()"
      ]
    },
    {
      "cell_type": "markdown",
      "metadata": {
        "id": "9f_6U8lx7P25"
      },
      "source": [
        "- Part I: What is PyTorch? - A guided quick tour\n",
        "- Part II: How can we make programs in PyTorch fast? - Model Optimization\n",
        "- Part III: After training our model, are we done? -\n",
        "     Aspects of deployment and the model lifecycle"
      ]
    },
    {
      "cell_type": "markdown",
      "metadata": {
        "id": "cJEy9qus7P29"
      },
      "source": [
        "# PyTorch is ... Tensors\n",
        "\n",
        "At the heart of PyTorch is the Tensor data type. It is a multidimensional array.\n",
        "\n",
        "When we speak of the dimension of tensors, it is the number of axes (or, in PyTorch, dimensions) - so dimension is in the sense of arrays, not the mathematical one.\n",
        "\n",
        "Tensors can be 0d (i.e. scalars - single numbers), 1d (vectors), 2d (matrices), 3d..."
      ]
    },
    {
      "cell_type": "code",
      "execution_count": 91,
      "metadata": {
        "id": "kGz63_EB7P29",
        "outputId": "ebba3d69-df4b-40fd-c663-7c2afbe31d44",
        "colab": {
          "base_uri": "https://localhost:8080/"
        }
      },
      "outputs": [
        {
          "output_type": "execute_result",
          "data": {
            "text/plain": [
              "tensor([[0.7071, 1.4142, 1.6180],\n",
              "        [0.8346, 2.7183, 3.1416]])"
            ]
          },
          "metadata": {},
          "execution_count": 91
        }
      ],
      "source": [
        "t = torch.tensor([[0.7071, 1.4142, 1.6180],\n",
        "                  [0.8346, 2.7183, 3.1416]])\n",
        "t"
      ]
    },
    {
      "cell_type": "markdown",
      "metadata": {
        "id": "gbbBck417P2-"
      },
      "source": [
        "## Tensors are arrays\n",
        "Tensors have a shape (the size of each dimension):\n"
      ]
    },
    {
      "cell_type": "code",
      "execution_count": 92,
      "metadata": {
        "id": "Zv50Hx2r7P2-",
        "outputId": "70cddfd4-de83-4396-8381-65fe6421378a",
        "colab": {
          "base_uri": "https://localhost:8080/"
        }
      },
      "outputs": [
        {
          "output_type": "execute_result",
          "data": {
            "text/plain": [
              "(2, torch.Size([2, 3]))"
            ]
          },
          "metadata": {},
          "execution_count": 92
        }
      ],
      "source": [
        "t.dim(), t.shape"
      ]
    },
    {
      "cell_type": "markdown",
      "metadata": {
        "id": "mrDkbfrd7P2_"
      },
      "source": [
        "Indexing - also with assignments - works as expected. Use .item() to get numbers from tensors."
      ]
    },
    {
      "cell_type": "code",
      "execution_count": 93,
      "metadata": {
        "id": "ZN_E6vWE7P2_",
        "outputId": "f8501a88-1dfb-4a8e-81f3-ac16398c69e9",
        "colab": {
          "base_uri": "https://localhost:8080/"
        }
      },
      "outputs": [
        {
          "output_type": "execute_result",
          "data": {
            "text/plain": [
              "tensor(3.1416)"
            ]
          },
          "metadata": {},
          "execution_count": 93
        }
      ],
      "source": [
        "t[1, 2]"
      ]
    },
    {
      "cell_type": "code",
      "execution_count": 94,
      "metadata": {
        "id": "mIiWWsA67P3A",
        "outputId": "fc596dc8-d8ee-46d5-93e9-0f3c8a9ab3eb",
        "colab": {
          "base_uri": "https://localhost:8080/"
        }
      },
      "outputs": [
        {
          "output_type": "execute_result",
          "data": {
            "text/plain": [
              "(tensor([[0.7071, 1.4142, 1.6180],\n",
              "         [0.8346, 2.7183, 3.1416]]), 3.1415927410125732)"
            ]
          },
          "metadata": {},
          "execution_count": 94
        }
      ],
      "source": [
        "t[1, 2] = 3.141592653589793\n",
        "t, t[1, 2].item()"
      ]
    },
    {
      "cell_type": "markdown",
      "metadata": {
        "id": "qyC_umuE7P3A"
      },
      "source": [
        "\"Advanced indexing\" with masks also works"
      ]
    },
    {
      "cell_type": "code",
      "execution_count": 95,
      "metadata": {
        "id": "sL3ZZ1bF7P3A",
        "outputId": "ca1a041f-1ab2-4f35-f4fc-b281fae8aa91",
        "colab": {
          "base_uri": "https://localhost:8080/"
        }
      },
      "outputs": [
        {
          "output_type": "execute_result",
          "data": {
            "text/plain": [
              "tensor([[0.0000, 1.4142, 1.6180],\n",
              "        [0.0000, 2.7183, 3.1416]])"
            ]
          },
          "metadata": {},
          "execution_count": 95
        }
      ],
      "source": [
        "t[t < 1] = 0\n",
        "t"
      ]
    },
    {
      "cell_type": "markdown",
      "metadata": {
        "id": "mW9qehlO7P3B"
      },
      "source": [
        "so does slicing"
      ]
    },
    {
      "cell_type": "code",
      "execution_count": 96,
      "metadata": {
        "id": "BmzyneAe7P3B",
        "outputId": "536f3092-2859-4c26-c8ec-0be98761d2c7",
        "colab": {
          "base_uri": "https://localhost:8080/"
        }
      },
      "outputs": [
        {
          "output_type": "execute_result",
          "data": {
            "text/plain": [
              "(tensor([[1.4142, 1.6180],\n",
              "         [2.7183, 3.1416]]), tensor([[0.0000, 1.6180],\n",
              "         [0.0000, 3.1416]]), tensor([3.1416]))"
            ]
          },
          "metadata": {},
          "execution_count": 96
        }
      ],
      "source": [
        "t[:, 1:], t[:, ::2], t[1, 2, None]"
      ]
    },
    {
      "cell_type": "markdown",
      "metadata": {
        "id": "Awvp_7Qe7P3B"
      },
      "source": [
        "Tensors always hold elements (numbers) of a given scalar type, the \"data type\" or dtype.\n",
        "For PyTorch (with its GPU focus), `float32` is perhaps the most common dtype.\n",
        "Apropos GPU, they do have a device."
      ]
    },
    {
      "cell_type": "code",
      "execution_count": 97,
      "metadata": {
        "id": "QV0WY6XG7P3B",
        "outputId": "46a12a50-5b71-4ba8-cee7-aaa13837220b",
        "colab": {
          "base_uri": "https://localhost:8080/"
        }
      },
      "outputs": [
        {
          "output_type": "execute_result",
          "data": {
            "text/plain": [
              "(torch.float32, device(type='cpu'))"
            ]
          },
          "metadata": {},
          "execution_count": 97
        }
      ],
      "source": [
        "t.dtype, t.device"
      ]
    },
    {
      "cell_type": "markdown",
      "metadata": {
        "id": "e-82RK9M7P3C"
      },
      "source": [
        "We can move between devices and convert between dtypes."
      ]
    },
    {
      "cell_type": "code",
      "execution_count": 38,
      "metadata": {
        "id": "4JWHYTLj7P3C",
        "outputId": "1fdf05ec-1ab5-46b7-e603-2b5c34c2e81c",
        "colab": {
          "base_uri": "https://localhost:8080/"
        }
      },
      "outputs": [
        {
          "output_type": "execute_result",
          "data": {
            "text/plain": [
              "tensor([[0.0000, 1.4142, 1.6180],\n",
              "        [0.0000, 2.7183, 3.1416]], device='cuda:0', dtype=torch.float64)"
            ]
          },
          "metadata": {},
          "execution_count": 38
        }
      ],
      "source": [
        "t.to(dtype=torch.float64, device=\"cuda\")  # if we have a GPU"
      ]
    },
    {
      "cell_type": "markdown",
      "metadata": {
        "id": "P0OyEVwe7P3D"
      },
      "source": [
        "## Tensors - a scenic view of memory blobs\n",
        "\n",
        "Internally, Tensors are stored as a blob of memory"
      ]
    },
    {
      "cell_type": "code",
      "execution_count": 39,
      "metadata": {
        "id": "lACgnWBl7P3D",
        "outputId": "7f0931a8-3b6a-42ff-9ec2-ccf069ff8ac9",
        "colab": {
          "base_uri": "https://localhost:8080/"
        }
      },
      "outputs": [
        {
          "output_type": "execute_result",
          "data": {
            "text/plain": [
              " 0.0\n",
              " 1.414199948310852\n",
              " 1.6180000305175781\n",
              " 0.0\n",
              " 2.7183001041412354\n",
              " 3.1415927410125732\n",
              "[torch.FloatStorage of size 6]"
            ]
          },
          "metadata": {},
          "execution_count": 39
        }
      ],
      "source": [
        "t.storage()"
      ]
    },
    {
      "cell_type": "code",
      "execution_count": 40,
      "metadata": {
        "id": "EEo4ldVD7P3D",
        "outputId": "a55e5c07-d450-4210-ee65-b4826e61a9c9",
        "colab": {
          "base_uri": "https://localhost:8080/"
        }
      },
      "outputs": [
        {
          "output_type": "execute_result",
          "data": {
            "text/plain": [
              "((3, 1), torch.Size([2, 3]), 0, 94062304580800)"
            ]
          },
          "metadata": {},
          "execution_count": 40
        }
      ],
      "source": [
        "t.stride(), t.shape, t.storage_offset(), t.data_ptr()"
      ]
    },
    {
      "cell_type": "code",
      "execution_count": 41,
      "metadata": {
        "id": "5s7b9_ie7P3D",
        "outputId": "0674e34e-2913-4039-d509-73c3b9b995df",
        "colab": {
          "base_uri": "https://localhost:8080/"
        }
      },
      "outputs": [
        {
          "output_type": "execute_result",
          "data": {
            "text/plain": [
              "tensor([[0.0000, 1.4142, 1.6180],\n",
              "        [0.0000, 2.7183, 3.1416]])"
            ]
          },
          "metadata": {},
          "execution_count": 41
        }
      ],
      "source": [
        "t"
      ]
    },
    {
      "cell_type": "markdown",
      "metadata": {
        "id": "HRZtCFU57P3E"
      },
      "source": [
        "Indexing and Slicing (and taking Diagonals, too) do *not* copy, but create views:"
      ]
    },
    {
      "cell_type": "code",
      "execution_count": 42,
      "metadata": {
        "id": "f3XA57WA7P3E"
      },
      "outputs": [],
      "source": [
        "v = t[:, 2:]"
      ]
    },
    {
      "cell_type": "code",
      "execution_count": 43,
      "metadata": {
        "id": "ckihSLU17P3E",
        "outputId": "ede52330-2954-4875-dc1b-a783b90eb80b",
        "colab": {
          "base_uri": "https://localhost:8080/"
        }
      },
      "outputs": [
        {
          "output_type": "execute_result",
          "data": {
            "text/plain": [
              "((3, 1), torch.Size([2, 1]), 2, 94062304580808, 94062304580800)"
            ]
          },
          "metadata": {},
          "execution_count": 43
        }
      ],
      "source": [
        "v.stride(), v.shape, v.storage_offset(), v.data_ptr(), v.storage().data_ptr() "
      ]
    },
    {
      "cell_type": "code",
      "execution_count": 44,
      "metadata": {
        "id": "obOhLcgD7P3E",
        "outputId": "7fb5b03a-917c-42a1-89d5-f24bdbb65ac5",
        "colab": {
          "base_uri": "https://localhost:8080/"
        }
      },
      "outputs": [
        {
          "output_type": "execute_result",
          "data": {
            "text/plain": [
              "(tensor([[1.6180],\n",
              "         [3.1416]]),  0.0\n",
              "  1.414199948310852\n",
              "  1.6180000305175781\n",
              "  0.0\n",
              "  2.7183001041412354\n",
              "  3.1415927410125732\n",
              " [torch.FloatStorage of size 6])"
            ]
          },
          "metadata": {},
          "execution_count": 44
        }
      ],
      "source": [
        "v, v.storage()"
      ]
    },
    {
      "cell_type": "markdown",
      "metadata": {
        "id": "Yd0zhQ5w7P3E"
      },
      "source": [
        "(`data_ptr` already subsumes the storage offset...)"
      ]
    },
    {
      "cell_type": "markdown",
      "metadata": {
        "id": "_2sEoty_7P3F"
      },
      "source": [
        "## Generalized tensors are tensors, too.\n",
        "\n",
        "- These were strided tensors\n",
        "- There are other Tensor types: Sparse, on TPU,...\n",
        "- Quantized is a bit special, but similar in spirit."
      ]
    },
    {
      "cell_type": "code",
      "execution_count": 45,
      "metadata": {
        "id": "PO1g0WGi7P3F",
        "outputId": "5f1c6dba-5960-4ad1-e0aa-3cdbb0f24168",
        "colab": {
          "base_uri": "https://localhost:8080/"
        }
      },
      "outputs": [
        {
          "output_type": "execute_result",
          "data": {
            "text/plain": [
              "torch.strided"
            ]
          },
          "metadata": {},
          "execution_count": 45
        }
      ],
      "source": [
        "t.layout"
      ]
    },
    {
      "cell_type": "code",
      "execution_count": 46,
      "metadata": {
        "id": "Zxf3yd_E7P3F",
        "outputId": "9e41a5b2-26ac-4b92-dfcc-77ec0ca83406",
        "colab": {
          "base_uri": "https://localhost:8080/"
        }
      },
      "outputs": [
        {
          "output_type": "execute_result",
          "data": {
            "text/plain": [
              "(tensor(indices=tensor([[0, 1, 2, 3, 4, 5, 6, 7, 8, 9]]),\n",
              "        values=tensor([-1.4277,  0.2225,  0.4054, -0.1131, -1.9861, -1.6616,\n",
              "                       -0.0743,  1.2836, -1.8991, -1.5649]),\n",
              "        size=(10,), nnz=10, layout=torch.sparse_coo), torch.sparse_coo)"
            ]
          },
          "metadata": {},
          "execution_count": 46
        }
      ],
      "source": [
        "s = torch.sparse_coo_tensor(torch.arange(10)[None], torch.randn(10))\n",
        "s, s.layout"
      ]
    },
    {
      "cell_type": "markdown",
      "metadata": {
        "id": "4Funk10i7P3F"
      },
      "source": [
        "## Where to get Tensors?\n",
        "\n",
        "\n",
        "- torch.tensor\n",
        "\n",
        "- torch.zeros, ones, randn, ...\n",
        "\n",
        "- torch.zeros_like, ones_like, randn_like, ...\n",
        "\n",
        "Conversion to and from Numpy works without copying (there also is `torch.utils.dlpack` for a similar effect with GPU tensors)"
      ]
    },
    {
      "cell_type": "code",
      "execution_count": 47,
      "metadata": {
        "id": "mRVo_xL67P3G",
        "outputId": "e07c7f35-2c01-4ed5-e4ce-a68317b014bc",
        "colab": {
          "base_uri": "https://localhost:8080/"
        }
      },
      "outputs": [
        {
          "output_type": "execute_result",
          "data": {
            "text/plain": [
              "True"
            ]
          },
          "metadata": {},
          "execution_count": 47
        }
      ],
      "source": [
        "a = t.numpy()\n",
        "t2 = torch.from_numpy(a)\n",
        "t2.data_ptr() == t.data_ptr()"
      ]
    },
    {
      "cell_type": "markdown",
      "metadata": {
        "id": "8N9_2jrJ7P3G"
      },
      "source": [
        "Careful: Numpy uses a dtype of float64 by default, PyTorch float32 (as you typically want that for GPUs)\n",
        "\n",
        "Sometimes you see FloatTensor, .data, ... in old code or copied from old code. Don't do that.\n",
        "\n",
        "There also are `torch.utils.dlpack.to_dlpack` / `from_dlpack` for interchange with GPU tensors."
      ]
    },
    {
      "cell_type": "markdown",
      "metadata": {
        "id": "gR22PEpB7P3G"
      },
      "source": [
        "### Saving and loading tensors\n",
        "\n",
        "Saving and loading tensors and dicts, lists of them (and other types) can be done though `torch.save` and `torch.load`. Optionally, you can specify where the tensors should be loaded to (the default is to put GPU tensors back on the GPU)."
      ]
    },
    {
      "cell_type": "code",
      "execution_count": 48,
      "metadata": {
        "id": "FLF7blQy7P3G",
        "outputId": "50a409cb-a36b-4483-d000-3298fc13ab66",
        "colab": {
          "base_uri": "https://localhost:8080/"
        }
      },
      "outputs": [
        {
          "output_type": "execute_result",
          "data": {
            "text/plain": [
              "tensor([[0.0000, 1.4142, 1.6180],\n",
              "        [0.0000, 2.7183, 3.1416]])"
            ]
          },
          "metadata": {},
          "execution_count": 48
        }
      ],
      "source": [
        "torch.save(t, 'my-tensor.pt')\n",
        "torch.load('my-tensor.pt', map_location=\"cpu\")"
      ]
    },
    {
      "cell_type": "markdown",
      "metadata": {
        "id": "GcJvgv9e7P3H"
      },
      "source": [
        "**Style advice**: Do use `.pt` as an extension, not `.pth` or anything else (`pth` collides with Python \"path\" files)."
      ]
    },
    {
      "cell_type": "markdown",
      "metadata": {
        "id": "jT7llo4J7P3H"
      },
      "source": [
        "# PyTorch is ... operations on tensors\n",
        "\n",
        "PyTorch mostly follows numpy in naming. Most things are available as methods (`t.tanh()`) and functions (`torch.tanh(t)`). More neural-network specific things are in `torch.nn.functional`."
      ]
    },
    {
      "cell_type": "code",
      "execution_count": 49,
      "metadata": {
        "id": "uCIfNlyr7P3H",
        "outputId": "17086a66-96bc-4fd8-9b51-a51b160f25f7",
        "colab": {
          "base_uri": "https://localhost:8080/"
        }
      },
      "outputs": [
        {
          "output_type": "execute_result",
          "data": {
            "text/plain": [
              "(tensor([[0.0000, 0.8884, 0.9243],\n",
              "         [0.0000, 0.9913, 0.9963]]), tensor([[0.0000, 0.8884, 0.9243],\n",
              "         [0.0000, 0.9913, 0.9963]]))"
            ]
          },
          "metadata": {},
          "execution_count": 49
        }
      ],
      "source": [
        "t.tanh(), torch.tanh(t)"
      ]
    },
    {
      "cell_type": "markdown",
      "metadata": {
        "id": "cvOGFQwE7P3H"
      },
      "source": [
        "Inplace operations are signaled by a trailing underscore `_`."
      ]
    },
    {
      "cell_type": "code",
      "execution_count": 50,
      "metadata": {
        "id": "MHHU3-NG7P3H",
        "outputId": "dffe4c20-4599-44f4-bd8b-3a1ad9dce92b",
        "colab": {
          "base_uri": "https://localhost:8080/"
        }
      },
      "outputs": [
        {
          "output_type": "execute_result",
          "data": {
            "text/plain": [
              "tensor([[-0.6047,  0.9106,  0.8079, -0.1111,  0.1504],\n",
              "        [ 0.6921,  0.3378,  0.8457,  0.7822,  0.3295],\n",
              "        [-0.1095,  0.2447,  0.5485, -0.5683, -0.8245],\n",
              "        [ 0.3506,  0.8453,  0.8686,  0.9077,  0.2151],\n",
              "        [-0.8047,  0.3456,  0.6439, -0.4940, -0.1265]])"
            ]
          },
          "metadata": {},
          "execution_count": 50
        }
      ],
      "source": [
        "z = torch.randn(5, 5)\n",
        "z.tanh_()\n",
        "z\n"
      ]
    },
    {
      "cell_type": "markdown",
      "metadata": {
        "id": "EcTaslUE7P3H"
      },
      "source": [
        "The `torch.nn.functional` namespace (sometimes mapped to `F.`) contains functions that are more neural-network related.\n"
      ]
    },
    {
      "cell_type": "code",
      "execution_count": 51,
      "metadata": {
        "id": "XYaVbpUz7P3I",
        "outputId": "1f1b0ffe-2a47-4179-b682-3781cfa97a7a",
        "colab": {
          "base_uri": "https://localhost:8080/"
        }
      },
      "outputs": [
        {
          "output_type": "execute_result",
          "data": {
            "text/plain": [
              "tensor([[ 4.9212,  1.0213,  1.3607, -1.1068, -1.0882, -2.4396,  1.3456,  1.1685,\n",
              "          0.3992,  2.0664],\n",
              "        [ 2.1705,  1.3655,  4.3526, -1.7732, -0.9843, -2.7401, -6.1328,  2.3917,\n",
              "         -3.1630,  1.0244]])"
            ]
          },
          "metadata": {},
          "execution_count": 51
        }
      ],
      "source": [
        "w = torch.randn(10, 5)\n",
        "i = torch.randn(2, 5)\n",
        "torch.nn.functional.linear(i, w)"
      ]
    },
    {
      "cell_type": "markdown",
      "metadata": {
        "id": "DP_SWUye7P3I"
      },
      "source": [
        "## Autograd in action"
      ]
    },
    {
      "cell_type": "code",
      "execution_count": 85,
      "metadata": {
        "id": "SSCjxXSF7P3I"
      },
      "outputs": [],
      "source": [
        "x = torch.linspace(-3, 3, 50, requires_grad=True)\n",
        "y = torch.linspace(-3, 3, 50, requires_grad=True)\n",
        "\n",
        "f = 10 * torch.sin(y)**2 + torch.tanh(x)\n",
        "gr_x, gr_y = torch.autograd.grad(f.sum(), [x,y]) # gr always returns a list of gradients\n"
      ]
    },
    {
      "cell_type": "code",
      "execution_count": 87,
      "metadata": {
        "scrolled": true,
        "id": "rGMeI0lV7P3I",
        "outputId": "d974c87b-da74-402a-ca22-d2792357eb3d",
        "colab": {
          "base_uri": "https://localhost:8080/",
          "height": 264
        }
      },
      "outputs": [
        {
          "output_type": "display_data",
          "data": {
            "image/png": "[encoded data removed]",
            "text/plain": [
              "<Figure size 432x288 with 1 Axes>"
            ]
          },
          "metadata": {
            "needs_background": "light"
          }
        }
      ],
      "source": [
        "%matplotlib inline\n",
        "from matplotlib import pyplot\n",
        "pyplot.plot(x.detach().numpy(), f.detach().numpy(), '--')\n",
        "delta = 0.2\n",
        "for xi, fi, gi in zip(x[::10].tolist(), f[::10].tolist(), gr_y[::10].tolist()):\n",
        "    pyplot.plot([xi-delta, xi+delta], [fi-delta*gi, fi+delta*gi]) # tangents at every 10th point"
      ]
    },
    {
      "cell_type": "markdown",
      "metadata": {
        "id": "ECjFzSW67P3J"
      },
      "source": [
        "Example of optimizing starting from random initializations.\n",
        "\n",
        "- We have 100 mini batches à 10 items.\n",
        "- Each is, for a (normally) random $x$ the value $f(x) = \\sin(2x)$.\n",
        "- This we approximate by a 2-layer network with 10 hidden units. Our loss is the squared euclidean distance.\n",
        "- By trying various starting values, we represent the uncertainty coming from the random initializaiton of the weights (of course, we would expect that to go away with more iterations)."
      ]
    },
    {
      "cell_type": "code",
      "execution_count": 54,
      "metadata": {
        "id": "QF9lHdmA7P3J",
        "outputId": "e7e6c88d-e7a7-4f78-dab2-d3ea6f3e06ca",
        "colab": {
          "base_uri": "https://localhost:8080/"
        }
      },
      "outputs": [
        {
          "output_type": "stream",
          "name": "stderr",
          "text": [
            "/usr/local/lib/python3.7/dist-packages/ipykernel_launcher.py:24: UserWarning: Not providing a value for linspace's steps is deprecated and will throw a runtime error in a future release. This warning will appear only once per process. (Triggered internally at  ../aten/src/ATen/native/RangeFactories.cpp:23.)\n"
          ]
        },
        {
          "output_type": "execute_result",
          "data": {
            "text/plain": [
              "torch.Size([100, 100])"
            ]
          },
          "metadata": {},
          "execution_count": 54
        }
      ],
      "source": [
        "final_preds = []\n",
        "for no in range(100):   # 100 experiments\n",
        "    w1 = torch.randn(1, 10, requires_grad=True)   # initialise random paramters\n",
        "    b1 = torch.randn(10, requires_grad=True)\n",
        "    w2 = torch.randn(10, 1, requires_grad=True)\n",
        "    b2 = torch.randn(1, requires_grad=True)\n",
        "    params = [w1, b1, w2, b2]\n",
        "\n",
        "    for i in range(100):  # fitting 100 minibatches\n",
        "        x = torch.randn(10, 1)   # input value\n",
        "        target = torch.sin(2 * x)   # target value (usually from dataset)\n",
        "\n",
        "        pred = torch.tanh(x @ w1 + b1) @ w2 + b2   # our model\n",
        "\n",
        "        loss = ((pred - target) ** 2).sum()\n",
        "\n",
        "        grads = torch.autograd.grad(loss, params)\n",
        "\n",
        "        for p, g in zip(params, grads):\n",
        "            with torch.no_grad():\n",
        "                p -= 1e-2 * g\n",
        "\n",
        "    with torch.no_grad(): # no gradients here...\n",
        "        x0 = torch.linspace(-2, 2)\n",
        "        final_preds.append(torch.tanh(x0[:, None] @ w1 + b1) @ w2 + b2)\n",
        "\n",
        "final_preds = torch.cat(final_preds, dim=1)\n",
        "final_preds.shape"
      ]
    },
    {
      "cell_type": "code",
      "execution_count": 55,
      "metadata": {
        "id": "rkjVKzrg7P3J",
        "outputId": "780ad8d0-ff2e-437e-eb9f-e5f7b2132cbf",
        "colab": {
          "base_uri": "https://localhost:8080/",
          "height": 282
        }
      },
      "outputs": [
        {
          "output_type": "execute_result",
          "data": {
            "text/plain": [
              "[<matplotlib.lines.Line2D at 0x7fd9005f3e50>]"
            ]
          },
          "metadata": {},
          "execution_count": 55
        },
        {
          "output_type": "display_data",
          "data": {
            "image/png": "[encoded data removed]",
            "text/plain": [
              "<Figure size 432x288 with 1 Axes>"
            ]
          },
          "metadata": {
            "needs_background": "light"
          }
        }
      ],
      "source": [
        "x0 = torch.linspace(-2, 2)\n",
        "pyplot.plot(x0, final_preds, alpha=0.3)\n",
        "pyplot.plot(x0, torch.sin(2 * x0), linewidth=5)"
      ]
    },
    {
      "cell_type": "code",
      "execution_count": 56,
      "metadata": {
        "id": "jBV2GADQ7P3J",
        "outputId": "cc0064d0-194d-49f2-a358-57d970e589a4",
        "colab": {
          "base_uri": "https://localhost:8080/",
          "height": 282
        }
      },
      "outputs": [
        {
          "output_type": "execute_result",
          "data": {
            "text/plain": [
              "<matplotlib.legend.Legend at 0x7fd90051ded0>"
            ]
          },
          "metadata": {},
          "execution_count": 56
        },
        {
          "output_type": "display_data",
          "data": {
            "image/png": "[encoded data removed]",
            "text/plain": [
              "<Figure size 432x288 with 1 Axes>"
            ]
          },
          "metadata": {
            "needs_background": "light"
          }
        }
      ],
      "source": [
        "pyplot.plot(x0, final_preds.mean(1), label='estimate')\n",
        "pyplot.plot(x0, torch.sin(2 * x0), label='true')\n",
        "pyplot.fill_between(x0, numpy.percentile(final_preds, 2.5, axis=1), numpy.percentile(final_preds, 97.5, axis=1),\n",
        "                   color='lightgray')\n",
        "pyplot.legend()"
      ]
    },
    {
      "cell_type": "markdown",
      "metadata": {
        "id": "R5dX1KbU7P3K"
      },
      "source": [
        "## Leaves, intermediates, inplace and ...\n",
        "\n",
        "There roughly are these types of tensors from an autograd perspective:\n",
        "\n",
        "- \"Plain\" tensors, not requiring gradients (in particular all integral tensors).\n",
        "- Leaves are the initial tensors requiring grad, from the factory functions or by taking a non-grad-requiring tensor and saying `t.requires_grad_()`.\n",
        "- Computed tensors where an input requires gradients will, in general, require gradient.\n",
        "- \"views\", tensors sharing memory, are special."
      ]
    },
    {
      "cell_type": "markdown",
      "metadata": {
        "id": "AnR-u_T47P3K"
      },
      "source": [
        "Let's look at this in some detail."
      ]
    },
    {
      "cell_type": "code",
      "execution_count": 57,
      "metadata": {
        "id": "pWKKWoHw7P3K"
      },
      "outputs": [],
      "source": [
        "import graphviz\n",
        "import warnings\n",
        "def ptgraph(tensors=None):\n",
        "    g = graphviz.Digraph()\n",
        "    with warnings.catch_warnings():\n",
        "        warnings.filterwarnings('ignore')\n",
        "        names = {v:k for k,v in globals().items() if isinstance(v, torch.Tensor) and not k.startswith('_')}\n",
        "        for n, m in globals().items():\n",
        "            if isinstance(m, torch.nn.Module) and not n.startswith('_'):            \n",
        "                names.update({p: n+':'+np for np, p in m.named_parameters()})\n",
        "        new_names = names\n",
        "        while new_names:\n",
        "            new_names = {k.grad: v+'.grad' for k, v in new_names.items() if k.grad is not None}\n",
        "            names.update(new_names)\n",
        "        known_gradfns = {k.grad_fn: k for k,v in names.items() if k.grad_fn is not None}\n",
        "    seen = set()\n",
        "    def traverse_node(node):\n",
        "        node = known_gradfns.get(node, node)\n",
        "        node_id = str(hash(node))\n",
        "        nodename = node.__class__.__name__\n",
        "        if isinstance(node, torch.Tensor) and node in names:\n",
        "            nodename = names[node]\n",
        "            if node.grad_fn is None:\n",
        "                g.node(node_id, nodename)\n",
        "                return node_id\n",
        "            node = node.grad_fn\n",
        "            nodename = f'{nodename} ({node.__class__.__name__})'\n",
        "        if hasattr(node, 'variable'):\n",
        "            v = node.variable\n",
        "            vn = names.get(v)\n",
        "            node_id = str(hash(v))\n",
        "            if vn is not None:\n",
        "                nodename = f'{vn} ({nodename})'\n",
        "        g.node(node_id, nodename)\n",
        "        if node in seen:\n",
        "            return node_id\n",
        "        seen.add(node)\n",
        "        for n ,p in node.next_functions:\n",
        "            if n is not None:\n",
        "                other_id = traverse_node(n)\n",
        "                g.edge(other_id, node_id)\n",
        "        return node_id\n",
        "    if tensors is None:\n",
        "        tensors = names.keys()\n",
        "    elif not isinstance(tensors, (list, tuple)):\n",
        "        tensors = [tensors]\n",
        "    for t in tensors:\n",
        "        other_id = traverse_node(t)\n",
        "    return g"
      ]
    },
    {
      "cell_type": "code",
      "execution_count": 58,
      "metadata": {
        "id": "OsGxWLIV7P3K",
        "outputId": "12990ad2-7f70-4cc6-d478-34291fee99fc",
        "colab": {
          "base_uri": "https://localhost:8080/",
          "height": 273
        }
      },
      "outputs": [
        {
          "output_type": "execute_result",
          "data": {
            "text/plain": [
              "<graphviz.dot.Digraph at 0x7fd9004fdc10>"
            ],
            "image/svg+xml": "<?xml version=\"1.0\" encoding=\"UTF-8\" standalone=\"no\"?>\n<!DOCTYPE svg PUBLIC \"-//W3C//DTD SVG 1.1//EN\"\n \"http://www.w3.org/Graphics/SVG/1.1/DTD/svg11.dtd\">\n<!-- Generated by graphviz version 2.40.1 (20161225.0304)\n -->\n<!-- Title: %3 Pages: 1 -->\n<svg width=\"356pt\" height=\"188pt\"\n viewBox=\"0.00 0.00 355.88 188.00\" xmlns=\"http://www.w3.org/2000/svg\" xmlns:xlink=\"http://www.w3.org/1999/xlink\">\n<g id=\"graph0\" class=\"graph\" transform=\"scale(1 1) rotate(0) translate(4 184)\">\n<title>%3</title>\n<polygon fill=\"#ffffff\" stroke=\"transparent\" points=\"-4,4 -4,-184 351.8847,-184 351.8847,4 -4,4\"/>\n<!-- 140569989460816 -->\n<g id=\"node1\" class=\"node\">\n<title>140569989460816</title>\n<ellipse fill=\"none\" stroke=\"#000000\" cx=\"172.7924\" cy=\"-18\" rx=\"81.4863\" ry=\"18\"/>\n<text text-anchor=\"middle\" x=\"172.7924\" y=\"-14.3\" font-family=\"Times,serif\" font-size=\"14.00\" fill=\"#000000\">c (MulBackward0)</text>\n</g>\n<!-- 8785624366557 -->\n<g id=\"node2\" class=\"node\">\n<title>8785624366557</title>\n<ellipse fill=\"none\" stroke=\"#000000\" cx=\"85.7924\" cy=\"-90\" rx=\"69.5877\" ry=\"18\"/>\n<text text-anchor=\"middle\" x=\"85.7924\" y=\"-86.3\" font-family=\"Times,serif\" font-size=\"14.00\" fill=\"#000000\">AddBackward0</text>\n</g>\n<!-- 8785624366557&#45;&gt;140569989460816 -->\n<g id=\"edge2\" class=\"edge\">\n<title>8785624366557&#45;&gt;140569989460816</title>\n<path fill=\"none\" stroke=\"#000000\" d=\"M106.8527,-72.5708C117.8848,-63.4408 131.5686,-52.1163 143.6064,-42.1539\"/>\n<polygon fill=\"#000000\" stroke=\"#000000\" points=\"146.1521,-44.5903 151.6245,-35.5182 141.6891,-39.1976 146.1521,-44.5903\"/>\n</g>\n<!-- 140569989460528 -->\n<g id=\"node3\" class=\"node\">\n<title>140569989460528</title>\n<ellipse fill=\"none\" stroke=\"#000000\" cx=\"85.7924\" cy=\"-162\" rx=\"85.5853\" ry=\"18\"/>\n<text text-anchor=\"middle\" x=\"85.7924\" y=\"-158.3\" font-family=\"Times,serif\" font-size=\"14.00\" fill=\"#000000\">a (AccumulateGrad)</text>\n</g>\n<!-- 140569989460528&#45;&gt;8785624366557 -->\n<g id=\"edge1\" class=\"edge\">\n<title>140569989460528&#45;&gt;8785624366557</title>\n<path fill=\"none\" stroke=\"#000000\" d=\"M85.7924,-143.8314C85.7924,-136.131 85.7924,-126.9743 85.7924,-118.4166\"/>\n<polygon fill=\"#000000\" stroke=\"#000000\" points=\"89.2925,-118.4132 85.7924,-108.4133 82.2925,-118.4133 89.2925,-118.4132\"/>\n</g>\n<!-- 140569989460336 -->\n<g id=\"node4\" class=\"node\">\n<title>140569989460336</title>\n<ellipse fill=\"none\" stroke=\"#000000\" cx=\"260.7924\" cy=\"-90\" rx=\"87.1846\" ry=\"18\"/>\n<text text-anchor=\"middle\" x=\"260.7924\" y=\"-86.3\" font-family=\"Times,serif\" font-size=\"14.00\" fill=\"#000000\">b (AccumulateGrad)</text>\n</g>\n<!-- 140569989460336&#45;&gt;140569989460816 -->\n<g id=\"edge3\" class=\"edge\">\n<title>140569989460336&#45;&gt;140569989460816</title>\n<path fill=\"none\" stroke=\"#000000\" d=\"M239.0396,-72.2022C227.9567,-63.1345 214.3184,-51.9758 202.3028,-42.1449\"/>\n<polygon fill=\"#000000\" stroke=\"#000000\" points=\"204.2509,-39.2166 194.295,-35.593 199.8182,-44.6343 204.2509,-39.2166\"/>\n</g>\n</g>\n</svg>\n"
          },
          "metadata": {},
          "execution_count": 58
        }
      ],
      "source": [
        "a = torch.randn(5, requires_grad=True)\n",
        "b = torch.randn(5, requires_grad=True)\n",
        "c = (a + 1) * b\n",
        "ptgraph(c)\n"
      ]
    },
    {
      "cell_type": "markdown",
      "metadata": {
        "id": "Te2l7JAH7P3L"
      },
      "source": [
        "A common mistake is to accidentally throw away the true leaf. Note the difference between `a` and `b`."
      ]
    },
    {
      "cell_type": "code",
      "execution_count": 59,
      "metadata": {
        "id": "ddkgThrZ7P3L",
        "outputId": "61bcac24-cc92-415e-99ca-8cd831e8d4b6",
        "colab": {
          "base_uri": "https://localhost:8080/",
          "height": 368
        }
      },
      "outputs": [
        {
          "output_type": "execute_result",
          "data": {
            "text/plain": [
              "<graphviz.dot.Digraph at 0x7fd9004eedd0>"
            ],
            "image/svg+xml": "<?xml version=\"1.0\" encoding=\"UTF-8\" standalone=\"no\"?>\n<!DOCTYPE svg PUBLIC \"-//W3C//DTD SVG 1.1//EN\"\n \"http://www.w3.org/Graphics/SVG/1.1/DTD/svg11.dtd\">\n<!-- Generated by graphviz version 2.40.1 (20161225.0304)\n -->\n<!-- Title: %3 Pages: 1 -->\n<svg width=\"373pt\" height=\"260pt\"\n viewBox=\"0.00 0.00 372.78 260.00\" xmlns=\"http://www.w3.org/2000/svg\" xmlns:xlink=\"http://www.w3.org/1999/xlink\">\n<g id=\"graph0\" class=\"graph\" transform=\"scale(1 1) rotate(0) translate(4 256)\">\n<title>%3</title>\n<polygon fill=\"#ffffff\" stroke=\"transparent\" points=\"-4,4 -4,-256 368.7832,-256 368.7832,4 -4,4\"/>\n<!-- 140569989463984 -->\n<g id=\"node1\" class=\"node\">\n<title>140569989463984</title>\n<ellipse fill=\"none\" stroke=\"#000000\" cx=\"189.6909\" cy=\"-18\" rx=\"81.4863\" ry=\"18\"/>\n<text text-anchor=\"middle\" x=\"189.6909\" y=\"-14.3\" font-family=\"Times,serif\" font-size=\"14.00\" fill=\"#000000\">c (MulBackward0)</text>\n</g>\n<!-- 8785624358733 -->\n<g id=\"node2\" class=\"node\">\n<title>8785624358733</title>\n<ellipse fill=\"none\" stroke=\"#000000\" cx=\"102.6909\" cy=\"-90\" rx=\"69.5877\" ry=\"18\"/>\n<text text-anchor=\"middle\" x=\"102.6909\" y=\"-86.3\" font-family=\"Times,serif\" font-size=\"14.00\" fill=\"#000000\">AddBackward0</text>\n</g>\n<!-- 8785624358733&#45;&gt;140569989463984 -->\n<g id=\"edge3\" class=\"edge\">\n<title>8785624358733&#45;&gt;140569989463984</title>\n<path fill=\"none\" stroke=\"#000000\" d=\"M123.7512,-72.5708C134.7833,-63.4408 148.4671,-52.1163 160.5049,-42.1539\"/>\n<polygon fill=\"#000000\" stroke=\"#000000\" points=\"163.0506,-44.5903 168.523,-35.5182 158.5876,-39.1976 163.0506,-44.5903\"/>\n</g>\n<!-- 140569989463792 -->\n<g id=\"node3\" class=\"node\">\n<title>140569989463792</title>\n<ellipse fill=\"none\" stroke=\"#000000\" cx=\"102.6909\" cy=\"-162\" rx=\"96.6831\" ry=\"18\"/>\n<text text-anchor=\"middle\" x=\"102.6909\" y=\"-158.3\" font-family=\"Times,serif\" font-size=\"14.00\" fill=\"#000000\">a (ToCopyBackward0)</text>\n</g>\n<!-- 140569989463792&#45;&gt;8785624358733 -->\n<g id=\"edge2\" class=\"edge\">\n<title>140569989463792&#45;&gt;8785624358733</title>\n<path fill=\"none\" stroke=\"#000000\" d=\"M102.6909,-143.8314C102.6909,-136.131 102.6909,-126.9743 102.6909,-118.4166\"/>\n<polygon fill=\"#000000\" stroke=\"#000000\" points=\"106.191,-118.4132 102.6909,-108.4133 99.191,-118.4133 106.191,-118.4132\"/>\n</g>\n<!-- 140569989463600 -->\n<g id=\"node4\" class=\"node\">\n<title>140569989463600</title>\n<ellipse fill=\"none\" stroke=\"#000000\" cx=\"102.6909\" cy=\"-234\" rx=\"102.8821\" ry=\"18\"/>\n<text text-anchor=\"middle\" x=\"102.6909\" y=\"-230.3\" font-family=\"Times,serif\" font-size=\"14.00\" fill=\"#000000\">pre_a (AccumulateGrad)</text>\n</g>\n<!-- 140569989463600&#45;&gt;140569989463792 -->\n<g id=\"edge1\" class=\"edge\">\n<title>140569989463600&#45;&gt;140569989463792</title>\n<path fill=\"none\" stroke=\"#000000\" d=\"M102.6909,-215.8314C102.6909,-208.131 102.6909,-198.9743 102.6909,-190.4166\"/>\n<polygon fill=\"#000000\" stroke=\"#000000\" points=\"106.191,-190.4132 102.6909,-180.4133 99.191,-190.4133 106.191,-190.4132\"/>\n</g>\n<!-- 140569989463696 -->\n<g id=\"node5\" class=\"node\">\n<title>140569989463696</title>\n<ellipse fill=\"none\" stroke=\"#000000\" cx=\"277.6909\" cy=\"-90\" rx=\"87.1846\" ry=\"18\"/>\n<text text-anchor=\"middle\" x=\"277.6909\" y=\"-86.3\" font-family=\"Times,serif\" font-size=\"14.00\" fill=\"#000000\">b (AccumulateGrad)</text>\n</g>\n<!-- 140569989463696&#45;&gt;140569989463984 -->\n<g id=\"edge4\" class=\"edge\">\n<title>140569989463696&#45;&gt;140569989463984</title>\n<path fill=\"none\" stroke=\"#000000\" d=\"M255.9381,-72.2022C244.8552,-63.1345 231.2169,-51.9758 219.2013,-42.1449\"/>\n<polygon fill=\"#000000\" stroke=\"#000000\" points=\"221.1494,-39.2166 211.1935,-35.593 216.7167,-44.6343 221.1494,-39.2166\"/>\n</g>\n</g>\n</svg>\n"
          },
          "metadata": {},
          "execution_count": 59
        }
      ],
      "source": [
        "pre_a = torch.randn(5, requires_grad=True)\n",
        "a =  pre_a.cuda()\n",
        "b = torch.randn(5, requires_grad=True, device='cuda')\n",
        "c = (a + 1) * b\n",
        "ptgraph(c)"
      ]
    },
    {
      "cell_type": "markdown",
      "metadata": {
        "id": "IyXdz2_o7P3L"
      },
      "source": [
        "This would be a repaired version (but, if you can, working directly on the GPU is more efficient)."
      ]
    },
    {
      "cell_type": "code",
      "execution_count": 60,
      "metadata": {
        "id": "BUO0C9xL7P3L",
        "outputId": "ede52741-20b6-4b60-942f-9ac1b2e539d3",
        "colab": {
          "base_uri": "https://localhost:8080/",
          "height": 273
        }
      },
      "outputs": [
        {
          "output_type": "execute_result",
          "data": {
            "text/plain": [
              "<graphviz.dot.Digraph at 0x7fd9004df850>"
            ],
            "image/svg+xml": "<?xml version=\"1.0\" encoding=\"UTF-8\" standalone=\"no\"?>\n<!DOCTYPE svg PUBLIC \"-//W3C//DTD SVG 1.1//EN\"\n \"http://www.w3.org/Graphics/SVG/1.1/DTD/svg11.dtd\">\n<!-- Generated by graphviz version 2.40.1 (20161225.0304)\n -->\n<!-- Title: %3 Pages: 1 -->\n<svg width=\"356pt\" height=\"188pt\"\n viewBox=\"0.00 0.00 355.88 188.00\" xmlns=\"http://www.w3.org/2000/svg\" xmlns:xlink=\"http://www.w3.org/1999/xlink\">\n<g id=\"graph0\" class=\"graph\" transform=\"scale(1 1) rotate(0) translate(4 184)\">\n<title>%3</title>\n<polygon fill=\"#ffffff\" stroke=\"transparent\" points=\"-4,4 -4,-184 351.8847,-184 351.8847,4 -4,4\"/>\n<!-- 140569989482640 -->\n<g id=\"node1\" class=\"node\">\n<title>140569989482640</title>\n<ellipse fill=\"none\" stroke=\"#000000\" cx=\"172.7924\" cy=\"-18\" rx=\"81.4863\" ry=\"18\"/>\n<text text-anchor=\"middle\" x=\"172.7924\" y=\"-14.3\" font-family=\"Times,serif\" font-size=\"14.00\" fill=\"#000000\">c (MulBackward0)</text>\n</g>\n<!-- 8785624358901 -->\n<g id=\"node2\" class=\"node\">\n<title>8785624358901</title>\n<ellipse fill=\"none\" stroke=\"#000000\" cx=\"85.7924\" cy=\"-90\" rx=\"69.5877\" ry=\"18\"/>\n<text text-anchor=\"middle\" x=\"85.7924\" y=\"-86.3\" font-family=\"Times,serif\" font-size=\"14.00\" fill=\"#000000\">AddBackward0</text>\n</g>\n<!-- 8785624358901&#45;&gt;140569989482640 -->\n<g id=\"edge2\" class=\"edge\">\n<title>8785624358901&#45;&gt;140569989482640</title>\n<path fill=\"none\" stroke=\"#000000\" d=\"M106.8527,-72.5708C117.8848,-63.4408 131.5686,-52.1163 143.6064,-42.1539\"/>\n<polygon fill=\"#000000\" stroke=\"#000000\" points=\"146.1521,-44.5903 151.6245,-35.5182 141.6891,-39.1976 146.1521,-44.5903\"/>\n</g>\n<!-- 140569989483120 -->\n<g id=\"node3\" class=\"node\">\n<title>140569989483120</title>\n<ellipse fill=\"none\" stroke=\"#000000\" cx=\"85.7924\" cy=\"-162\" rx=\"85.5853\" ry=\"18\"/>\n<text text-anchor=\"middle\" x=\"85.7924\" y=\"-158.3\" font-family=\"Times,serif\" font-size=\"14.00\" fill=\"#000000\">a (AccumulateGrad)</text>\n</g>\n<!-- 140569989483120&#45;&gt;8785624358901 -->\n<g id=\"edge1\" class=\"edge\">\n<title>140569989483120&#45;&gt;8785624358901</title>\n<path fill=\"none\" stroke=\"#000000\" d=\"M85.7924,-143.8314C85.7924,-136.131 85.7924,-126.9743 85.7924,-118.4166\"/>\n<polygon fill=\"#000000\" stroke=\"#000000\" points=\"89.2925,-118.4132 85.7924,-108.4133 82.2925,-118.4133 89.2925,-118.4132\"/>\n</g>\n<!-- 140569989483216 -->\n<g id=\"node4\" class=\"node\">\n<title>140569989483216</title>\n<ellipse fill=\"none\" stroke=\"#000000\" cx=\"260.7924\" cy=\"-90\" rx=\"87.1846\" ry=\"18\"/>\n<text text-anchor=\"middle\" x=\"260.7924\" y=\"-86.3\" font-family=\"Times,serif\" font-size=\"14.00\" fill=\"#000000\">b (AccumulateGrad)</text>\n</g>\n<!-- 140569989483216&#45;&gt;140569989482640 -->\n<g id=\"edge3\" class=\"edge\">\n<title>140569989483216&#45;&gt;140569989482640</title>\n<path fill=\"none\" stroke=\"#000000\" d=\"M239.0396,-72.2022C227.9567,-63.1345 214.3184,-51.9758 202.3028,-42.1449\"/>\n<polygon fill=\"#000000\" stroke=\"#000000\" points=\"204.2509,-39.2166 194.295,-35.593 199.8182,-44.6343 204.2509,-39.2166\"/>\n</g>\n</g>\n</svg>\n"
          },
          "metadata": {},
          "execution_count": 60
        }
      ],
      "source": [
        "a = torch.randn(5).cuda().requires_grad_()\n",
        "b = torch.randn(5, requires_grad=True, device='cuda')\n",
        "c = (a + 1) * b\n",
        "ptgraph(c)"
      ]
    },
    {
      "cell_type": "markdown",
      "metadata": {
        "id": "oVhlbKPW7P3L"
      },
      "source": [
        "You can cut things from autograd with `detach()` (and `detach_()`)"
      ]
    },
    {
      "cell_type": "code",
      "execution_count": 61,
      "metadata": {
        "id": "PuRj4n2U7P3M",
        "outputId": "8475e9b1-b897-4a3c-b5a1-25d5c49c68f2",
        "colab": {
          "base_uri": "https://localhost:8080/",
          "height": 176
        }
      },
      "outputs": [
        {
          "output_type": "execute_result",
          "data": {
            "text/plain": [
              "<graphviz.dot.Digraph at 0x7fd900501e10>"
            ],
            "image/svg+xml": "<?xml version=\"1.0\" encoding=\"UTF-8\" standalone=\"no\"?>\n<!DOCTYPE svg PUBLIC \"-//W3C//DTD SVG 1.1//EN\"\n \"http://www.w3.org/Graphics/SVG/1.1/DTD/svg11.dtd\">\n<!-- Generated by graphviz version 2.40.1 (20161225.0304)\n -->\n<!-- Title: %3 Pages: 1 -->\n<svg width=\"182pt\" height=\"116pt\"\n viewBox=\"0.00 0.00 182.18 116.00\" xmlns=\"http://www.w3.org/2000/svg\" xmlns:xlink=\"http://www.w3.org/1999/xlink\">\n<g id=\"graph0\" class=\"graph\" transform=\"scale(1 1) rotate(0) translate(4 112)\">\n<title>%3</title>\n<polygon fill=\"#ffffff\" stroke=\"transparent\" points=\"-4,4 -4,-112 178.1845,-112 178.1845,4 -4,4\"/>\n<!-- 140569989513872 -->\n<g id=\"node1\" class=\"node\">\n<title>140569989513872</title>\n<ellipse fill=\"none\" stroke=\"#000000\" cx=\"87.0923\" cy=\"-18\" rx=\"81.4863\" ry=\"18\"/>\n<text text-anchor=\"middle\" x=\"87.0923\" y=\"-14.3\" font-family=\"Times,serif\" font-size=\"14.00\" fill=\"#000000\">c (MulBackward0)</text>\n</g>\n<!-- 140569989514544 -->\n<g id=\"node2\" class=\"node\">\n<title>140569989514544</title>\n<ellipse fill=\"none\" stroke=\"#000000\" cx=\"87.0923\" cy=\"-90\" rx=\"87.1846\" ry=\"18\"/>\n<text text-anchor=\"middle\" x=\"87.0923\" y=\"-86.3\" font-family=\"Times,serif\" font-size=\"14.00\" fill=\"#000000\">b (AccumulateGrad)</text>\n</g>\n<!-- 140569989514544&#45;&gt;140569989513872 -->\n<g id=\"edge1\" class=\"edge\">\n<title>140569989514544&#45;&gt;140569989513872</title>\n<path fill=\"none\" stroke=\"#000000\" d=\"M87.0923,-71.8314C87.0923,-64.131 87.0923,-54.9743 87.0923,-46.4166\"/>\n<polygon fill=\"#000000\" stroke=\"#000000\" points=\"90.5924,-46.4132 87.0923,-36.4133 83.5924,-46.4133 90.5924,-46.4132\"/>\n</g>\n</g>\n</svg>\n"
          },
          "metadata": {},
          "execution_count": 61
        }
      ],
      "source": [
        "a = torch.randn(5, requires_grad=True).cuda()\n",
        "b = torch.randn(5, requires_grad=True, device='cuda')\n",
        "c = (a + 1).detach() * b\n",
        "ptgraph(c)"
      ]
    },
    {
      "cell_type": "markdown",
      "metadata": {
        "id": "dGYyQRrl7P3M"
      },
      "source": [
        "Inplace with autograd can be tricky"
      ]
    },
    {
      "cell_type": "code",
      "execution_count": 62,
      "metadata": {
        "id": "eWIIky_v7P3M",
        "outputId": "8115ee2d-d6f4-48d4-ca2a-2a77a7e09836",
        "colab": {
          "base_uri": "https://localhost:8080/"
        }
      },
      "outputs": [
        {
          "output_type": "execute_result",
          "data": {
            "text/plain": [
              "(tensor([1., 1., 1., 1., 1.]),)"
            ]
          },
          "metadata": {},
          "execution_count": 62
        }
      ],
      "source": [
        "a = torch.randn(5, requires_grad=True)\n",
        "b1 = a + 1\n",
        "b2 = b1 + 1\n",
        "\n",
        "b1 += 1\n",
        "\n",
        "torch.autograd.grad(b2.sum(), a) # works\n"
      ]
    },
    {
      "cell_type": "code",
      "execution_count": 65,
      "metadata": {
        "id": "6mFN3F5R7P3N",
        "outputId": "30126516-3ea0-4014-bce6-bb808c392d22",
        "colab": {
          "base_uri": "https://localhost:8080/",
          "height": 273
        }
      },
      "outputs": [
        {
          "output_type": "execute_result",
          "data": {
            "text/plain": [
              "<graphviz.dot.Digraph at 0x7fd900452650>"
            ],
            "image/svg+xml": "<?xml version=\"1.0\" encoding=\"UTF-8\" standalone=\"no\"?>\n<!DOCTYPE svg PUBLIC \"-//W3C//DTD SVG 1.1//EN\"\n \"http://www.w3.org/Graphics/SVG/1.1/DTD/svg11.dtd\">\n<!-- Generated by graphviz version 2.40.1 (20161225.0304)\n -->\n<!-- Title: %3 Pages: 1 -->\n<svg width=\"339pt\" height=\"188pt\"\n viewBox=\"0.00 0.00 338.88 188.00\" xmlns=\"http://www.w3.org/2000/svg\" xmlns:xlink=\"http://www.w3.org/1999/xlink\">\n<g id=\"graph0\" class=\"graph\" transform=\"scale(1 1) rotate(0) translate(4 184)\">\n<title>%3</title>\n<polygon fill=\"#ffffff\" stroke=\"transparent\" points=\"-4,4 -4,-184 334.8847,-184 334.8847,4 -4,4\"/>\n<!-- 140569989506832 -->\n<g id=\"node1\" class=\"node\">\n<title>140569989506832</title>\n<ellipse fill=\"none\" stroke=\"#000000\" cx=\"164.7924\" cy=\"-18\" rx=\"65.7887\" ry=\"18\"/>\n<text text-anchor=\"middle\" x=\"164.7924\" y=\"-14.3\" font-family=\"Times,serif\" font-size=\"14.00\" fill=\"#000000\">c (CopySlices)</text>\n</g>\n<!-- 8785624322697 -->\n<g id=\"node2\" class=\"node\">\n<title>8785624322697</title>\n<ellipse fill=\"none\" stroke=\"#000000\" cx=\"85.7924\" cy=\"-90\" rx=\"53.0913\" ry=\"18\"/>\n<text text-anchor=\"middle\" x=\"85.7924\" y=\"-86.3\" font-family=\"Times,serif\" font-size=\"14.00\" fill=\"#000000\">CopySlices</text>\n</g>\n<!-- 8785624322697&#45;&gt;140569989506832 -->\n<g id=\"edge2\" class=\"edge\">\n<title>8785624322697&#45;&gt;140569989506832</title>\n<path fill=\"none\" stroke=\"#000000\" d=\"M104.5143,-72.937C114.501,-63.8352 126.965,-52.4756 137.9632,-42.4519\"/>\n<polygon fill=\"#000000\" stroke=\"#000000\" points=\"140.6228,-44.7636 145.6561,-35.4407 135.9075,-39.5899 140.6228,-44.7636\"/>\n</g>\n<!-- 140569989508944 -->\n<g id=\"node3\" class=\"node\">\n<title>140569989508944</title>\n<ellipse fill=\"none\" stroke=\"#000000\" cx=\"85.7924\" cy=\"-162\" rx=\"85.5853\" ry=\"18\"/>\n<text text-anchor=\"middle\" x=\"85.7924\" y=\"-158.3\" font-family=\"Times,serif\" font-size=\"14.00\" fill=\"#000000\">a (AccumulateGrad)</text>\n</g>\n<!-- 140569989508944&#45;&gt;8785624322697 -->\n<g id=\"edge1\" class=\"edge\">\n<title>140569989508944&#45;&gt;8785624322697</title>\n<path fill=\"none\" stroke=\"#000000\" d=\"M85.7924,-143.8314C85.7924,-136.131 85.7924,-126.9743 85.7924,-118.4166\"/>\n<polygon fill=\"#000000\" stroke=\"#000000\" points=\"89.2925,-118.4132 85.7924,-108.4133 82.2925,-118.4133 89.2925,-118.4132\"/>\n</g>\n<!-- 140569989507792 -->\n<g id=\"node4\" class=\"node\">\n<title>140569989507792</title>\n<ellipse fill=\"none\" stroke=\"#000000\" cx=\"243.7924\" cy=\"-90\" rx=\"87.1846\" ry=\"18\"/>\n<text text-anchor=\"middle\" x=\"243.7924\" y=\"-86.3\" font-family=\"Times,serif\" font-size=\"14.00\" fill=\"#000000\">b (AccumulateGrad)</text>\n</g>\n<!-- 140569989507792&#45;&gt;140569989506832 -->\n<g id=\"edge3\" class=\"edge\">\n<title>140569989507792&#45;&gt;140569989506832</title>\n<path fill=\"none\" stroke=\"#000000\" d=\"M224.2643,-72.2022C214.3371,-63.1546 202.1259,-52.0255 191.3567,-42.2105\"/>\n<polygon fill=\"#000000\" stroke=\"#000000\" points=\"193.5718,-39.4938 183.8232,-35.3446 188.8566,-44.6675 193.5718,-39.4938\"/>\n</g>\n</g>\n</svg>\n"
          },
          "metadata": {},
          "execution_count": 65
        }
      ],
      "source": [
        "a = torch.randn(5, requires_grad=True)\n",
        "b = torch.randn(5, requires_grad=True)\n",
        "c = torch.zeros(4, 7)  # padded torch.stack([a,b])\n",
        "c[1, 1:-1] = a\n",
        "c[2, 1:-1] = b\n",
        "c\n",
        "ptgraph(c)"
      ]
    },
    {
      "cell_type": "code",
      "execution_count": 66,
      "metadata": {
        "id": "57W_e2UG7P3N"
      },
      "outputs": [],
      "source": [
        "gr_a, gr_b = torch.autograd.grad(c.sum(), [a, b])\n",
        "assert (gr_a -1).abs().max().item() < 1e-6 and (gr_b -1).abs().max().item() < 1e-6  # float and \"==\" don't mix well"
      ]
    },
    {
      "cell_type": "markdown",
      "metadata": {
        "id": "3Bs6plnn7P3N"
      },
      "source": [
        "## Inplace Summary\n",
        "\n",
        "\n",
        "There are two main situations where inplace operations cannot be used:\n",
        "\n",
        "- When operating on leaf tensors, the leaf tensor would be moved into the graph, which would be bad.\n",
        "- When the operation before the inplace wants to have its result to compute the backward. Whether this is the case is not easy to tell from the outside, unfortunately.\n",
        "\n",
        "As a corollary, you should avoid using inplace on the inputs of your re-usable module lest in the future use could be in one of the two situations.\n",
        "\n",
        "Later: You might also be less eager to use inplace when planning to use the JIT, as it will fuse pointwise non-inplace operations like ReLU if there are several in a row.\n"
      ]
    },
    {
      "cell_type": "markdown",
      "metadata": {
        "id": "q3MwwXLG7P3O"
      },
      "source": [
        "For validation, inference or other things where the *end user* decides she does not want gradients, there is the `torch.no_grad` context manager.\n",
        "\n",
        "We'll use it below to evaluate models after training.\n",
        "\n",
        "- If you need to use `torch.no_grad()` somewhere where it isn’t because you’re evaluating something that’s written for training, you should ask yourself if you’re doing it wrong.\n",
        "\n",
        "- Using item and detach for things to keep around longer than the next backward is generally a good idea (e.g. when you record loss history, statistics, …), but be careful to not ruin your graph. (Targeted detach is good in nn.Module subclass code, with torch.no_grad() should be needed very rarely.)"
      ]
    },
    {
      "cell_type": "markdown",
      "metadata": {
        "id": "ap1qjAnI7P3O"
      },
      "source": [
        "It is not true that tensors created in `torch.no_grad` never require grad (as often views are special):"
      ]
    },
    {
      "cell_type": "code",
      "execution_count": 67,
      "metadata": {
        "id": "K0BX8qbg7P3O",
        "outputId": "bb74eee6-19e6-4baa-b64e-efd85f022f93",
        "colab": {
          "base_uri": "https://localhost:8080/"
        }
      },
      "outputs": [
        {
          "output_type": "execute_result",
          "data": {
            "text/plain": [
              "(tensor([[ 1.4447, -2.1644,  0.7714, -0.4119, -0.2971],\n",
              "         [ 2.2113,  0.8420, -0.3257,  3.0973, -0.0933],\n",
              "         [ 0.4321,  5.0535, -0.6793,  2.1482,  0.0214],\n",
              "         [-2.6201, -6.1263,  3.4157, -3.6923,  0.5025],\n",
              "         [ 2.3249, -0.0169,  2.4853, -2.5186, -1.8111]]),\n",
              " tensor([[ 0.7224, -1.0822],\n",
              "         [ 1.1057,  0.4210]], requires_grad=True))"
            ]
          },
          "metadata": {},
          "execution_count": 67
        }
      ],
      "source": [
        "a = torch.randn(5, 5, requires_grad=True)\n",
        "\n",
        "with torch.no_grad():\n",
        "    b = a * 2\n",
        "    c = a[:2, :2]\n",
        "\n",
        "b, c\n",
        "\n",
        "#with torch.inference_mode(): won't track views"
      ]
    },
    {
      "cell_type": "markdown",
      "metadata": {
        "id": "iYszf1iv7P3O"
      },
      "source": [
        "### Second derivatives\n",
        "\n",
        "You cannot get Hessians, but you can get Hessian vector products or really derivatives of any scalar function of the gradient."
      ]
    },
    {
      "cell_type": "code",
      "execution_count": 68,
      "metadata": {
        "id": "oXmj2ETL7P3O",
        "outputId": "52dbf6e8-1e22-4193-f349-80318eae2aae",
        "colab": {
          "base_uri": "https://localhost:8080/"
        }
      },
      "outputs": [
        {
          "output_type": "execute_result",
          "data": {
            "text/plain": [
              "(tensor([0., 1., 2., 3., 4.], requires_grad=True),\n",
              " tensor([  0.,  12.,  48., 108., 192.]))"
            ]
          },
          "metadata": {},
          "execution_count": 68
        }
      ],
      "source": [
        "a = torch.arange(5., requires_grad=True)\n",
        "b = a ** 4\n",
        "gr, = torch.autograd.grad(b.sum(), [a], create_graph=True)\n",
        "hvp, = torch.autograd.grad(gr.sum(), [a])  # what is the vector in HVP?\n",
        "a, hvp # 4 * 3 * x"
      ]
    },
    {
      "cell_type": "markdown",
      "metadata": {
        "id": "IKAIWLPT7P3P"
      },
      "source": [
        "\n",
        "\n",
        "## `backward` as a convenience method\n",
        "\n",
        "Above we used `torch.autograd.grad`. More commonly, you find `loss.backward()`. This is a convenience method for computing the gradient of all leaves `t` and storing the gradient in `t.grad`.\n",
        "In particular, PyTorch's built-in optimizers use these.\n",
        "\n",
        "You can ask for a gradient of an intermediate to be stored by `t.retain_grad()`.\n",
        "\n",
        "My advice: Only use backward to get gradients to then use with the optimizer. Don't use backward with \n",
        "`create_graph`."
      ]
    },
    {
      "cell_type": "markdown",
      "metadata": {
        "id": "n_QhAgEn7P3P"
      },
      "source": [
        "## A fun trick\n",
        "\n",
        "Sometimes, we want the backward to not quite be like the forward. Round obviously has gradient 0, but wouldn't it be sometimes be convenient if..."
      ]
    },
    {
      "cell_type": "code",
      "execution_count": 69,
      "metadata": {
        "id": "uCJWVuyB7P3P",
        "outputId": "df736bb3-d784-4588-e208-9adbe74a3ef1",
        "colab": {
          "base_uri": "https://localhost:8080/"
        }
      },
      "outputs": [
        {
          "output_type": "execute_result",
          "data": {
            "text/plain": [
              "tensor([0., 0., 0., 0., 0.])"
            ]
          },
          "metadata": {},
          "execution_count": 69
        }
      ],
      "source": [
        "a = torch.randn(5, requires_grad=True)\n",
        "b = a.round()\n",
        "gr, = torch.autograd.grad(b.sum(), [a])\n",
        "gr"
      ]
    },
    {
      "cell_type": "markdown",
      "metadata": {
        "id": "wTneESMt7P3P"
      },
      "source": [
        "...we can actually do that (not this construction, but the same rounding trick is the gist of \"quantization aware training\", other things like \"gumble softmax\" also work like this):"
      ]
    },
    {
      "cell_type": "code",
      "execution_count": 70,
      "metadata": {
        "id": "2ZB9Kd0h7P3P",
        "outputId": "8557423e-4d10-413b-e540-2b511dfcbb45",
        "colab": {
          "base_uri": "https://localhost:8080/"
        }
      },
      "outputs": [
        {
          "output_type": "execute_result",
          "data": {
            "text/plain": [
              "(True, tensor([1., 1., 1., 1., 1.]))"
            ]
          },
          "metadata": {},
          "execution_count": 70
        }
      ],
      "source": [
        "def differentiable_round(a, ndigits=None):\n",
        "    if ndigits is None:\n",
        "        b = a.round()\n",
        "    else:\n",
        "        scale = 10 ** ndigits\n",
        "        b = (a * scale).round() / scale\n",
        "    return a + (b - a).detach()  # PyTorch's version of \"cleverly add 0\"\n",
        "c = differentiable_round(a)\n",
        "gr2, = torch.autograd.grad(c.sum(), [a])\n",
        "(c == b).all().item(), gr2"
      ]
    },
    {
      "cell_type": "markdown",
      "metadata": {
        "id": "sEkdwTZz7P3Q"
      },
      "source": [
        "Fake quantization training the hard way"
      ]
    },
    {
      "cell_type": "code",
      "execution_count": 71,
      "metadata": {
        "id": "JpFXrZCt7P3Q"
      },
      "outputs": [],
      "source": [
        "w1 = torch.randn(1, 10, requires_grad=True)\n",
        "b1 = torch.randn(10, requires_grad=True)\n",
        "w2 = torch.randn(10, 1, requires_grad=True)\n",
        "b2 = torch.randn(1, requires_grad=True)\n",
        "params = [w1, b1, w2, b2]\n",
        "\n",
        "\n",
        "for i in range(200):\n",
        "    x = torch.randn(10, 1)\n",
        "    target = torch.sin(2 * x)\n",
        "\n",
        "    xr = differentiable_round(x)\n",
        "    w1r = differentiable_round(w1, 1)\n",
        "    b1r = differentiable_round(b1, 1)\n",
        "    w2r = differentiable_round(w2, 1)\n",
        "    b2r = differentiable_round(b2, 1)\n",
        "    pred = torch.tanh(xr @ w1r + b1r) @ w2r + b2r\n",
        "\n",
        "    loss = ((pred - target) ** 2).sum()\n",
        "\n",
        "    grads = torch.autograd.grad(loss, params)\n",
        "\n",
        "    for p, g in zip(params, grads):\n",
        "        with torch.no_grad():\n",
        "            p -= 1e-2 * g"
      ]
    },
    {
      "cell_type": "markdown",
      "metadata": {
        "id": "lP8zuOHb7P3Q"
      },
      "source": [
        "Did it work?"
      ]
    },
    {
      "cell_type": "code",
      "execution_count": 72,
      "metadata": {
        "id": "4RSTUOEB7P3Q",
        "outputId": "f4b8d77e-702c-4735-a5f4-c55bd2ab68ad",
        "colab": {
          "base_uri": "https://localhost:8080/",
          "height": 282
        }
      },
      "outputs": [
        {
          "output_type": "execute_result",
          "data": {
            "text/plain": [
              "<matplotlib.legend.Legend at 0x7fd900478e50>"
            ]
          },
          "metadata": {},
          "execution_count": 72
        },
        {
          "output_type": "display_data",
          "data": {
            "image/png": "[encoded data removed]",
            "text/plain": [
              "<Figure size 432x288 with 1 Axes>"
            ]
          },
          "metadata": {
            "needs_background": "light"
          }
        }
      ],
      "source": [
        "with torch.no_grad(): # no gradients here...\n",
        "    w1r = differentiable_round(w1, 1)\n",
        "    b1r = differentiable_round(b1, 1)\n",
        "    w2r = differentiable_round(w2, 1)\n",
        "    b2r = differentiable_round(b2, 1)\n",
        "    x0 = torch.linspace(-2, 2)\n",
        "    final_preds = torch.tanh(x0[:, None] @ w1r + b1r) @ w2r + b2r\n",
        "    gt = torch.sin(2*x0)\n",
        "\n",
        "pyplot.plot(x0, final_preds, label='fit')\n",
        "pyplot.plot(x0, gt, label='ground truth')\n",
        "pyplot.legend()"
      ]
    },
    {
      "cell_type": "markdown",
      "metadata": {
        "id": "AzI5gn-e7P3R"
      },
      "source": [
        "# PyTorch is ... a Neural Network (and general Modelling) Library\n",
        "\n",
        "`torch.nn.Module` and subclasses play the central role as Neural Network building blocks.\n",
        "Modules are for bundling neural network *state*, i.e. Parameters, other Buffers, Submodules, with the rules to compute outputs from inputs.\n",
        "- Parameters: wrap in torch.nn.Parameter + assign\n",
        "- Buffers (Tensors noch trained via SGD, e.g. statistics): register_buffer\n",
        "- Submodules: assign"
      ]
    },
    {
      "cell_type": "markdown",
      "metadata": {
        "id": "4Ie5fIgE7P3R"
      },
      "source": [
        "Here is the equivalent of our previous model:"
      ]
    },
    {
      "cell_type": "code",
      "execution_count": 73,
      "metadata": {
        "id": "26HXhJpw7P3R",
        "outputId": "029fc592-7f5d-4460-ab30-08a9552707ae",
        "colab": {
          "base_uri": "https://localhost:8080/"
        }
      },
      "outputs": [
        {
          "output_type": "execute_result",
          "data": {
            "text/plain": [
              "Parameter containing:\n",
              "tensor([[ 0.6608,  0.9512, -0.7711, -1.5607, -1.4068, -0.0930, -0.4074, -0.5330,\n",
              "          0.4760,  1.8865]], device='cuda:0', requires_grad=True)"
            ]
          },
          "metadata": {},
          "execution_count": 73
        }
      ],
      "source": [
        "class MyModel(torch.nn.Module):\n",
        "    def __init__(self):\n",
        "        super().__init__()\n",
        "        self.w1 = torch.nn.Parameter(torch.randn(1, 10))\n",
        "        self.b1 = torch.nn.Parameter(torch.randn(10))\n",
        "        self.w2 = torch.nn.Parameter(torch.randn(10, 1))\n",
        "        self.b2 = torch.nn.Parameter(torch.randn(1))\n",
        "  \n",
        "    def forward(self, x):\n",
        "        return torch.tanh(x @ self.w1 + self.b1) @ self.w2 + self.b2\n",
        "\n",
        "model = MyModel()\n",
        "model.to(device=\"cuda\")\n",
        "model.w1"
      ]
    },
    {
      "cell_type": "markdown",
      "metadata": {
        "id": "YWeieqqW7P3R"
      },
      "source": [
        "A rich library of pre-made modules under `torch.nn`.\n",
        "- `torch.nn.Linear`, `Conv2d`, `MaxPool2D`, `Tanh`, ...\n",
        "Also loss functions:\n",
        "- `CrossEntropyLoss`, `MSELoss`, `CTCLoss`...\n",
        "\n",
        "Careful: Naming `CrossEntropyLoss` vs. `NLLLoss` etc. is particular to PyTorch. Check the documentation for PyTorch's expectation of whether input have `softmax` / `log_softmax`  / something else applied."
      ]
    },
    {
      "cell_type": "markdown",
      "metadata": {
        "id": "7OIUsvNB7P3R"
      },
      "source": [
        "We can make our model again with these:"
      ]
    },
    {
      "cell_type": "code",
      "execution_count": 74,
      "metadata": {
        "id": "z5cWZ_6x7P3R",
        "outputId": "2e3d6bcb-b87a-4851-d457-318c2cd02d10",
        "colab": {
          "base_uri": "https://localhost:8080/"
        }
      },
      "outputs": [
        {
          "output_type": "execute_result",
          "data": {
            "text/plain": [
              "MyModel(\n",
              "  (l1): Linear(in_features=1, out_features=10, bias=True)\n",
              "  (l2): Linear(in_features=10, out_features=1, bias=True)\n",
              ")"
            ]
          },
          "metadata": {},
          "execution_count": 74
        }
      ],
      "source": [
        "class MyModel(torch.nn.Module):\n",
        "    def __init__(self):\n",
        "        super().__init__()\n",
        "        self.l1 = torch.nn.Linear(1, 10)\n",
        "        self.l2 = torch.nn.Linear(10, 1)\n",
        "  \n",
        "    def forward(self, x):\n",
        "        x = torch.tanh(self.l1(x))\n",
        "        return self.l2(x)\n",
        "\n",
        "model = MyModel()\n",
        "model"
      ]
    },
    {
      "cell_type": "markdown",
      "metadata": {
        "id": "rjXyt6At7P3S"
      },
      "source": [
        "There also is a `Sequential` class for particularly simple \"chains\" of modules (with only one input/output)."
      ]
    },
    {
      "cell_type": "code",
      "execution_count": 75,
      "metadata": {
        "scrolled": true,
        "id": "ZAmzhonE7P3S",
        "outputId": "e140e403-98bb-48ca-c674-64be7ab3550a",
        "colab": {
          "base_uri": "https://localhost:8080/",
          "height": 464
        }
      },
      "outputs": [
        {
          "output_type": "execute_result",
          "data": {
            "text/plain": [
              "<graphviz.dot.Digraph at 0x7fd9003e0550>"
            ],
            "image/svg+xml": "<?xml version=\"1.0\" encoding=\"UTF-8\" standalone=\"no\"?>\n<!DOCTYPE svg PUBLIC \"-//W3C//DTD SVG 1.1//EN\"\n \"http://www.w3.org/Graphics/SVG/1.1/DTD/svg11.dtd\">\n<!-- Generated by graphviz version 2.40.1 (20161225.0304)\n -->\n<!-- Title: %3 Pages: 1 -->\n<svg width=\"763pt\" height=\"332pt\"\n viewBox=\"0.00 0.00 763.38 332.00\" xmlns=\"http://www.w3.org/2000/svg\" xmlns:xlink=\"http://www.w3.org/1999/xlink\">\n<g id=\"graph0\" class=\"graph\" transform=\"scale(1 1) rotate(0) translate(4 328)\">\n<title>%3</title>\n<polygon fill=\"#ffffff\" stroke=\"transparent\" points=\"-4,4 -4,-328 759.376,-328 759.376,4 -4,4\"/>\n<!-- 140569988783568 -->\n<g id=\"node1\" class=\"node\">\n<title>140569988783568</title>\n<ellipse fill=\"none\" stroke=\"#000000\" cx=\"395.9885\" cy=\"-18\" rx=\"102.8821\" ry=\"18\"/>\n<text text-anchor=\"middle\" x=\"395.9885\" y=\"-14.3\" font-family=\"Times,serif\" font-size=\"14.00\" fill=\"#000000\">res (AddmmBackward0)</text>\n</g>\n<!-- 140569988783280 -->\n<g id=\"node2\" class=\"node\">\n<title>140569988783280</title>\n<ellipse fill=\"none\" stroke=\"#000000\" cx=\"175.9885\" cy=\"-90\" rx=\"129.9769\" ry=\"18\"/>\n<text text-anchor=\"middle\" x=\"175.9885\" y=\"-86.3\" font-family=\"Times,serif\" font-size=\"14.00\" fill=\"#000000\">model:2.bias (AccumulateGrad)</text>\n</g>\n<!-- 140569988783280&#45;&gt;140569988783568 -->\n<g id=\"edge1\" class=\"edge\">\n<title>140569988783280&#45;&gt;140569988783568</title>\n<path fill=\"none\" stroke=\"#000000\" d=\"M226.7371,-73.3913C259.7691,-62.5809 302.9614,-48.4452 337.4449,-37.1597\"/>\n<polygon fill=\"#000000\" stroke=\"#000000\" points=\"338.9687,-40.3438 347.384,-33.9069 336.7914,-33.691 338.9687,-40.3438\"/>\n</g>\n<!-- 8785624293553 -->\n<g id=\"node3\" class=\"node\">\n<title>8785624293553</title>\n<ellipse fill=\"none\" stroke=\"#000000\" cx=\"395.9885\" cy=\"-90\" rx=\"72.2875\" ry=\"18\"/>\n<text text-anchor=\"middle\" x=\"395.9885\" y=\"-86.3\" font-family=\"Times,serif\" font-size=\"14.00\" fill=\"#000000\">TanhBackward0</text>\n</g>\n<!-- 8785624293553&#45;&gt;140569988783568 -->\n<g id=\"edge7\" class=\"edge\">\n<title>8785624293553&#45;&gt;140569988783568</title>\n<path fill=\"none\" stroke=\"#000000\" d=\"M395.9885,-71.8314C395.9885,-64.131 395.9885,-54.9743 395.9885,-46.4166\"/>\n<polygon fill=\"#000000\" stroke=\"#000000\" points=\"399.4886,-46.4132 395.9885,-36.4133 392.4886,-46.4133 399.4886,-46.4132\"/>\n</g>\n<!-- 8785624293561 -->\n<g id=\"node4\" class=\"node\">\n<title>8785624293561</title>\n<ellipse fill=\"none\" stroke=\"#000000\" cx=\"371.9885\" cy=\"-162\" rx=\"84.485\" ry=\"18\"/>\n<text text-anchor=\"middle\" x=\"371.9885\" y=\"-158.3\" font-family=\"Times,serif\" font-size=\"14.00\" fill=\"#000000\">AddmmBackward0</text>\n</g>\n<!-- 8785624293561&#45;&gt;8785624293553 -->\n<g id=\"edge6\" class=\"edge\">\n<title>8785624293561&#45;&gt;8785624293553</title>\n<path fill=\"none\" stroke=\"#000000\" d=\"M378.0447,-143.8314C380.6397,-136.0463 383.7308,-126.7729 386.6102,-118.1347\"/>\n<polygon fill=\"#000000\" stroke=\"#000000\" points=\"390.0088,-119.0069 389.8507,-108.4133 383.368,-116.7933 390.0088,-119.0069\"/>\n</g>\n<!-- 140569988782800 -->\n<g id=\"node5\" class=\"node\">\n<title>140569988782800</title>\n<ellipse fill=\"none\" stroke=\"#000000\" cx=\"129.9885\" cy=\"-234\" rx=\"129.9769\" ry=\"18\"/>\n<text text-anchor=\"middle\" x=\"129.9885\" y=\"-230.3\" font-family=\"Times,serif\" font-size=\"14.00\" fill=\"#000000\">model:0.bias (AccumulateGrad)</text>\n</g>\n<!-- 140569988782800&#45;&gt;8785624293561 -->\n<g id=\"edge2\" class=\"edge\">\n<title>140569988782800&#45;&gt;8785624293561</title>\n<path fill=\"none\" stroke=\"#000000\" d=\"M184.902,-217.6621C223.0839,-206.3022 273.9302,-191.1743 312.9774,-179.557\"/>\n<polygon fill=\"#000000\" stroke=\"#000000\" points=\"314.0488,-182.8899 322.6355,-176.6835 312.0526,-176.1806 314.0488,-182.8899\"/>\n</g>\n<!-- 140569988783088 -->\n<g id=\"node6\" class=\"node\">\n<title>140569988783088</title>\n<ellipse fill=\"none\" stroke=\"#000000\" cx=\"371.9885\" cy=\"-234\" rx=\"94.4839\" ry=\"18\"/>\n<text text-anchor=\"middle\" x=\"371.9885\" y=\"-230.3\" font-family=\"Times,serif\" font-size=\"14.00\" fill=\"#000000\">inp (AccumulateGrad)</text>\n</g>\n<!-- 140569988783088&#45;&gt;8785624293561 -->\n<g id=\"edge3\" class=\"edge\">\n<title>140569988783088&#45;&gt;8785624293561</title>\n<path fill=\"none\" stroke=\"#000000\" d=\"M371.9885,-215.8314C371.9885,-208.131 371.9885,-198.9743 371.9885,-190.4166\"/>\n<polygon fill=\"#000000\" stroke=\"#000000\" points=\"375.4886,-190.4132 371.9885,-180.4133 368.4886,-190.4133 375.4886,-190.4132\"/>\n</g>\n<!-- 8785624358893 -->\n<g id=\"node7\" class=\"node\">\n<title>8785624358893</title>\n<ellipse fill=\"none\" stroke=\"#000000\" cx=\"542.9885\" cy=\"-234\" rx=\"59.2899\" ry=\"18\"/>\n<text text-anchor=\"middle\" x=\"542.9885\" y=\"-230.3\" font-family=\"Times,serif\" font-size=\"14.00\" fill=\"#000000\">TBackward0</text>\n</g>\n<!-- 8785624358893&#45;&gt;8785624293561 -->\n<g id=\"edge5\" class=\"edge\">\n<title>8785624358893&#45;&gt;8785624293561</title>\n<path fill=\"none\" stroke=\"#000000\" d=\"M507.9714,-219.256C482.4252,-208.4997 447.5112,-193.7991 419.4577,-181.987\"/>\n<polygon fill=\"#000000\" stroke=\"#000000\" points=\"420.8049,-178.7567 410.2303,-178.1018 418.0884,-185.2082 420.8049,-178.7567\"/>\n</g>\n<!-- 140569988782416 -->\n<g id=\"node8\" class=\"node\">\n<title>140569988782416</title>\n<ellipse fill=\"none\" stroke=\"#000000\" cx=\"542.9885\" cy=\"-306\" rx=\"140.2752\" ry=\"18\"/>\n<text text-anchor=\"middle\" x=\"542.9885\" y=\"-302.3\" font-family=\"Times,serif\" font-size=\"14.00\" fill=\"#000000\">model:0.weight (AccumulateGrad)</text>\n</g>\n<!-- 140569988782416&#45;&gt;8785624358893 -->\n<g id=\"edge4\" class=\"edge\">\n<title>140569988782416&#45;&gt;8785624358893</title>\n<path fill=\"none\" stroke=\"#000000\" d=\"M542.9885,-287.8314C542.9885,-280.131 542.9885,-270.9743 542.9885,-262.4166\"/>\n<polygon fill=\"#000000\" stroke=\"#000000\" points=\"546.4886,-262.4132 542.9885,-252.4133 539.4886,-262.4133 546.4886,-262.4132\"/>\n</g>\n<!-- 8785624293629 -->\n<g id=\"node9\" class=\"node\">\n<title>8785624293629</title>\n<ellipse fill=\"none\" stroke=\"#000000\" cx=\"591.9885\" cy=\"-90\" rx=\"59.2899\" ry=\"18\"/>\n<text text-anchor=\"middle\" x=\"591.9885\" y=\"-86.3\" font-family=\"Times,serif\" font-size=\"14.00\" fill=\"#000000\">TBackward0</text>\n</g>\n<!-- 8785624293629&#45;&gt;140569988783568 -->\n<g id=\"edge9\" class=\"edge\">\n<title>8785624293629&#45;&gt;140569988783568</title>\n<path fill=\"none\" stroke=\"#000000\" d=\"M554.1977,-76.1177C524.6337,-65.2574 483.134,-50.0126 450.0553,-37.8613\"/>\n<polygon fill=\"#000000\" stroke=\"#000000\" points=\"451.1188,-34.5233 440.5252,-34.3604 448.705,-41.094 451.1188,-34.5233\"/>\n</g>\n<!-- 140569988782896 -->\n<g id=\"node10\" class=\"node\">\n<title>140569988782896</title>\n<ellipse fill=\"none\" stroke=\"#000000\" cx=\"614.9885\" cy=\"-162\" rx=\"140.2752\" ry=\"18\"/>\n<text text-anchor=\"middle\" x=\"614.9885\" y=\"-158.3\" font-family=\"Times,serif\" font-size=\"14.00\" fill=\"#000000\">model:2.weight (AccumulateGrad)</text>\n</g>\n<!-- 140569988782896&#45;&gt;8785624293629 -->\n<g id=\"edge8\" class=\"edge\">\n<title>140569988782896&#45;&gt;8785624293629</title>\n<path fill=\"none\" stroke=\"#000000\" d=\"M609.1846,-143.8314C606.6977,-136.0463 603.7354,-126.7729 600.9759,-118.1347\"/>\n<polygon fill=\"#000000\" stroke=\"#000000\" points=\"604.2475,-116.874 597.8705,-108.4133 597.5795,-119.0041 604.2475,-116.874\"/>\n</g>\n</g>\n</svg>\n"
          },
          "metadata": {},
          "execution_count": 75
        }
      ],
      "source": [
        "model = torch.nn.Sequential(\n",
        "            torch.nn.Linear(1, 10),\n",
        "            torch.nn.Tanh(),\n",
        "            torch.nn.Linear(10, 1))\n",
        "\n",
        "inp = torch.randn(5, 1, requires_grad=True)\n",
        "res = model(inp)\n",
        "ptgraph(res)"
      ]
    },
    {
      "cell_type": "markdown",
      "metadata": {
        "id": "hB-CH-Ln7P3S"
      },
      "source": [
        "Task: Can you subclass sequential to get a model class?"
      ]
    },
    {
      "cell_type": "markdown",
      "metadata": {
        "id": "0KcTKsIw7P3S"
      },
      "source": [
        "### Loading and Saving models\n",
        "\n",
        "While you can save and load models using `torch.save` and `torch.load`, it is generally not recommended.\n",
        "\n",
        "Instead, save the state dict and upon loading instantiate the model and load the state dict. This is much better for forward compatibility.\n"
      ]
    },
    {
      "cell_type": "code",
      "execution_count": 76,
      "metadata": {
        "id": "T6cxQzo07P3S",
        "outputId": "cfb96b22-89f0-4b46-e2fd-63f889e130f7",
        "colab": {
          "base_uri": "https://localhost:8080/"
        }
      },
      "outputs": [
        {
          "output_type": "execute_result",
          "data": {
            "text/plain": [
              "<All keys matched successfully>"
            ]
          },
          "metadata": {},
          "execution_count": 76
        }
      ],
      "source": [
        "torch.save(model.state_dict(), 'saved_model.pt')\n",
        "sd = torch.load('saved_model.pt')\n",
        "model.load_state_dict(sd)\n"
      ]
    },
    {
      "cell_type": "markdown",
      "metadata": {
        "id": "9EEAdpP77P3T"
      },
      "source": [
        "## Some thoughts on functional vs. Module\n",
        "\n",
        "- If you write for re-use, the functional / Module split of PyTorch has turned out to be a good idea.\n",
        "\n",
        "- Use functional for stuff without state (unless you have a quick and dirty Sequential).\n",
        "\n",
        "- Never re-use modules (define one `torch.nn.ReLU` and use it 5 times). It's a trap!\n",
        "\n",
        "  When doing analysis or quantization (when `ReLU` becomes stateful due to quantization params), this will break.\n"
      ]
    },
    {
      "cell_type": "markdown",
      "metadata": {
        "id": "gXm579bs7P3T"
      },
      "source": [
        "# PyTorch has ... optimizers\n",
        "\n",
        "In `torch.optim`.\n",
        "\n",
        "- Most common probably: `torch.optim.SGD`, `torch.optim.Adam`, but also `torch.optim.LBFGS` etc.\n",
        "- Schedules for the learning are also available.\n",
        "\n",
        "Pattern:\n",
        "- `loss = ...`\n",
        "- `opt.zero_grad()`\n",
        "- `loss.backward()`\n",
        "- `opt.step()`\n",
        "\n",
        "Optimizers also have a `state_dict` for saving / restoring."
      ]
    },
    {
      "cell_type": "markdown",
      "metadata": {
        "id": "il86ck7i7P3T"
      },
      "source": [
        "Let's see that in action with our toy model:"
      ]
    },
    {
      "cell_type": "code",
      "execution_count": 77,
      "metadata": {
        "id": "FukjGEnr7P3T"
      },
      "outputs": [],
      "source": [
        "model = torch.nn.Sequential(\n",
        "            torch.nn.Linear(1, 10),\n",
        "            torch.nn.Tanh(),\n",
        "            torch.nn.Linear(10, 1))\n",
        "\n",
        "opt = torch.optim.SGD(model.parameters(), lr=1e-2)\n",
        "\n",
        "for i in range(200):\n",
        "    x = torch.randn(10, 1)    # input  from dataset\n",
        "    target = torch.sin(2 * x) # target from dataset\n",
        "\n",
        "    pred = model(x)\n",
        "    loss = torch.nn.functional.mse_loss(pred, target, reduction='sum')\n",
        "    \n",
        "    opt.zero_grad()\n",
        "    loss.backward()\n",
        "    opt.step()"
      ]
    },
    {
      "cell_type": "code",
      "execution_count": 78,
      "metadata": {
        "id": "hS_evNpr7P3U",
        "outputId": "a3976d03-f21e-417e-b9cd-6e90698cc973",
        "colab": {
          "base_uri": "https://localhost:8080/",
          "height": 264
        }
      },
      "outputs": [
        {
          "output_type": "display_data",
          "data": {
            "image/png": "[encoded data removed]",
            "text/plain": [
              "<Figure size 432x288 with 1 Axes>"
            ]
          },
          "metadata": {
            "needs_background": "light"
          }
        }
      ],
      "source": [
        "with torch.no_grad():\n",
        "    x0 = torch.linspace(-2, 2)\n",
        "    pyplot.plot(x0, model(x0[:, None]).detach(), alpha=0.3)\n",
        "    pyplot.plot(x0, torch.sin(2 * x0), linewidth=5)"
      ]
    },
    {
      "cell_type": "markdown",
      "metadata": {
        "id": "Ko3VYPo07P3U"
      },
      "source": [
        "# PyTorch has ... utilities for data handling\n",
        "\n",
        "PyTorch splits data handling in two parts:\n",
        "- Problem specific (DataSet)\n",
        "- Generic, e.g. Sampling, Batching (DataLoader)\n",
        "\n",
        "User's responsibility: Define `torch.utils.data.DataSet` subclass with\n",
        "- a `__len__` method (how many data points)\n",
        "- a `__getitem__` method to get the `i`th element, returning tuples of numbers and tensors\n",
        "\n",
        "`DataLoader` is more or less universal. In several parallel processes, get items from dataset and assemble\n",
        "them into batches (for numbers, tensors, make tensors, for other things, lists)."
      ]
    },
    {
      "cell_type": "markdown",
      "metadata": {
        "id": "u5wzxImZ7P3U"
      },
      "source": [
        "Let's try that:"
      ]
    },
    {
      "cell_type": "code",
      "execution_count": 79,
      "metadata": {
        "scrolled": true,
        "id": "CVG7RnTZ7P3U",
        "outputId": "2611dc58-ca7b-49a6-b728-8d5661a7572d",
        "colab": {
          "base_uri": "https://localhost:8080/"
        }
      },
      "outputs": [
        {
          "output_type": "stream",
          "name": "stdout",
          "text": [
            "tensor([[-0.2022,  2.2416,  0.1251,  0.2621,  0.5320],\n",
            "        [ 0.9367,  2.1147, -0.7002,  0.2509, -0.1288],\n",
            "        [-0.7184,  0.4036, -0.1235, -0.8031, -0.1278],\n",
            "        [ 9.4360,  8.5479,  7.3266,  6.2172,  8.6385],\n",
            "        [ 5.4307,  5.8623,  4.1867,  5.8453,  7.2855],\n",
            "        [ 3.6541,  5.0526,  3.7699,  2.7450,  3.6536],\n",
            "        [ 5.9539,  5.1134,  6.6551,  7.3278,  4.2912],\n",
            "        [ 7.2366,  6.2857,  6.6693,  6.2150,  6.7238]]) tensor([1, 1, 0, 8, 6, 3, 7, 7])\n"
          ]
        }
      ],
      "source": [
        "import torch.utils.data\n",
        "class DS(torch.utils.data.Dataset):\n",
        "    def __init__(self, shape):\n",
        "        self.shape = shape\n",
        "    def __len__(self):\n",
        "        return 100\n",
        "    def __getitem__(self, i):\n",
        "        return (i % 10 + torch.randn(self.shape), i % 10) # observation and label\n",
        "    \n",
        "ds = DS((5,))\n",
        "dl = torch.utils.data.DataLoader(ds, batch_size=8, shuffle=True)\n",
        "\n",
        "for inp, label in dl:\n",
        "    print(inp, label)\n",
        "    break"
      ]
    },
    {
      "cell_type": "markdown",
      "metadata": {
        "id": "7P6htqYU7P3U"
      },
      "source": [
        "What happened here?\n",
        "\n",
        "The DataLoader provides an iterator and for each iteration\n",
        "\n",
        "- requested elements from the dataset,\n",
        "- took the 1d `5`-tensors and `stack`ed them to a 2d `batchsize x 5` tensor,\n",
        "- took the integers and put them into a 1d `batchsize` tensor.\n",
        "- gives the tuple of input and label to the for loop.\n",
        "\n",
        "**Good to know**: If `batchsize` does not divide `len(ds)`, the last batch will be shorter. This can be troublesome (e.g. batch norm running with a batch size of 1), so you have the `drop_last` optional command to just skip this minibatch."
      ]
    },
    {
      "cell_type": "markdown",
      "metadata": {
        "id": "aYPrtGkY7P3V"
      },
      "source": [
        "## Practical data aquisition\n",
        "\n",
        "Datasets, Dataloaders and utility functions:\n",
        "\n",
        "TorchVision, TorchAudio, TorchIO (medical data)\n",
        "\n",
        "HuggingFace's Transformers for text (at a high level), TorchText, TorchNLP\n",
        "\n",
        "Pretrained models:\n",
        "- Vision: TorchVision, PyTorch Imaging Models (TIMM)\n",
        "- NLP: Transformers library\n",
        "\n",
        "...and on individual projects.\n"
      ]
    },
    {
      "cell_type": "markdown",
      "metadata": {
        "id": "1VDCxvOt7P3V"
      },
      "source": [
        "# Part II: How can we make programs in PyTorch fast?\n",
        "\n",
        "### Model optimization\n",
        "\n",
        "  - Efficient modelling\n",
        "  - Slow things and fast things in GPU computing\n",
        "  - Beyond the model\n",
        "  - Measuring in PyTorch (Benchmarking)\n",
        "  - Fusion and automatic optimization\n",
        "  - Live speedup of a model\n",
        "  "
      ]
    },
    {
      "cell_type": "markdown",
      "metadata": {
        "id": "hwXqJM8x7P3V"
      },
      "source": [
        "# Efficient modelling\n",
        "\n",
        "remember that modelling does have a huge lever regarding efficiency<br/>\n",
        "**if you care about efficiency make your model large but as small as possible**\n",
        "\n",
        "<table>\n",
        "    <tr>\n",
        "        <td>\n",
        "Millions of parameters vs. timeline for the popular transformer models\n",
        "<img src=\"https://github.com/t-vi/lod2021/blob/main/distilbert.png?raw=1\" width=\"80%\" />\n",
        "        </td>\n",
        "        <td><img src=\"https://github.com/t-vi/lod2021/blob/main/efficientnet_flops.png?raw=1\" width=\"80%\" /></td>\n",
        "    </tr>\n",
        "    <tr><td>\n",
        "Source: V. Sanh (Huggingface), DistilBERT\n",
        "        </td><td>Source: M. Tan, Q. Le: EfficientNet: Rethinking Model Scaling for Convolutional Neural Networks</td></tr>\n",
        "</table>\n"
      ]
    },
    {
      "cell_type": "markdown",
      "metadata": {
        "id": "lQa18_f57P3V"
      },
      "source": [
        "### Slow things and fast things in GPU computing\n",
        "\n",
        "The \"what\" typically should be the first optimization target,\n",
        "in terms of overall modelling and also computational algorithms.\n",
        "\n",
        "But when we fix the task (\"what\"), how can we optimize?\n",
        "\n",
        "Conventional wisdom: **Python is slow**\n",
        "\n",
        "- certainly, Python isn't fast (`for` loop vs C++ `for` loop)\n",
        "- in practice, more often than not, Python isn't the bottleneck\n"
      ]
    },
    {
      "cell_type": "markdown",
      "metadata": {
        "id": "LTbabzAl7P3W"
      },
      "source": [
        "### How PyTorch programs spend their time\n",
        "\n",
        "At a very high level, you can divide time spent into these parts:\n",
        "- Python program flow,\n",
        "- Data \"administrative overhead\" (creating `Tensor` data structures, autograd `Node`s etc.),\n",
        "- Data aquisition (I/O),\n",
        "- Computation roughly as\n",
        "  - fixed overhead (kernel launches etc.),\n",
        "  - reading / writing memory,\n",
        "  - \"real computation\",\n",
        "\n",
        "**rule of thumb**: As long as your operands are reasonably large (say 100s of elements, not single elements), Python and Data \"administrative overhead\" probably isn't your main problem."
      ]
    },
    {
      "cell_type": "markdown",
      "metadata": {
        "id": "XLht6F757P3W"
      },
      "source": [
        "### Data aquisition and I/O\n",
        "\n",
        "Using `Dataset` / `DataLoader` is simple, but keep in mind that it can greatly impact performance.\n",
        "\n",
        "How do you detect this? If, during training, your GPU is not constantly fully used (shown by `*smi` tools), you have a CPU bottleneck somewhere, and the data loading is one thing to check.\n",
        "\n",
        "- If more cores help, there is the `num_workers` argument to the dataloader.\n",
        "- Fast hardware helps: SSD vs. HDD.\n",
        "- If you can do preprocessing beforehand (no augmentation), try that. (But careful, I/O is often more expensive than processing.)\n",
        "- If you can do preprocessing on the GPU instead (augmentation in particular), do that.\n",
        "- Sometimes it helps to put tensors into _GPU pinned memory_, with the `pin_memory` argument for the DataLoader."
      ]
    },
    {
      "cell_type": "markdown",
      "metadata": {
        "id": "fcEC2NuC7P3W"
      },
      "source": [
        "### Computation\n",
        "\n",
        "Computation with CPU and GPU includes synchronization\n",
        "- GPU waits for the CPU (i.e. GPU sits idle when it should be used),\n",
        "- CPU waits for the GPU (to get the results) aka synchronization points\n",
        "\n",
        "  - GPU computation is and shold be ansynchronous, but\n",
        "  - Synchronizations can happen because the program needs to know something (e.g. sizes of tensors depending on the input). Often, these are unavoidable.\n",
        "  - Typical sources of spurious synchronizations are too frequent \n",
        "    `.to(device=\"cpu\")`, `.item()`, `.to_list()`, `print`.\n",
        "- in distributed settings synchronization between nodes.\n",
        "\n",
        "Typical indication: GPU utilization is bad. While your program runs, check e.g. `nvidia-smi` (or `rocm-smi`)."
      ]
    },
    {
      "cell_type": "markdown",
      "metadata": {
        "id": "FB5c__2W7P3W"
      },
      "source": [
        "## Your program is more than your model\n",
        "\n",
        "Typical steps:\n",
        "\n",
        "- Data loading / augmentation\n",
        "- Running the models\n",
        "- Processing intermediate results\n",
        "- postprocessing, logging\n",
        "\n",
        "As quite a lot of these do not involve the GPU (before optimization...), again check GPU utilization for first hints."
      ]
    },
    {
      "cell_type": "markdown",
      "metadata": {
        "id": "OdxVc2mz7P3W"
      },
      "source": [
        "# Measurement and benchmarking\n",
        "\n",
        "One of my informal mottos is _It's not optimization until you measure_. \n",
        "\n",
        "When you think about code being slow, it's important to figure out what is slow and why.\n",
        "To my mind, a lot of measurement can be done with very basic tools, e.g. IPython's `%timeit` magic.\n",
        "\n",
        "Important rules when timing:\n",
        "- If we want to time GPU kernels from CPU, we want to be sure to synchronize before taking the start and end times.\n",
        "- Typically, we also want to have some \"warm-up\", i.e. run the measured function\n",
        "  for a few times before timing to avoid measuring one-off overheads.\n",
        "- Always use a mononic clock (`time.perf_counter()` instead of ~~`time.time()`~~).\n",
        "- Try to cover everything of interest (s.t. wall-clock-time ≈ total measured).\n",
        "- Turn off powermanagement and make sure there is no thermal throtteling...\n"
      ]
    },
    {
      "cell_type": "markdown",
      "metadata": {
        "id": "d2DxnV5u7P3W"
      },
      "source": [
        "### First practical example from the wild\n",
        "\n",
        "Here is how one might use `%timeit` for a \"microbenchmark\".\n",
        "Here, we change the computation strategy for a given function.\n",
        "\n",
        "Let's take the uniformity loss from [Wang and Isola: Understanding Contrastive Representation Learning through Alignment and Uniformity on the Hypersphere](https://arxiv.org/abs/2005.10242) (a great paper!).\n",
        "\n",
        "The Uniformity loss is defined as a function of the pairwise distances over a largish set of vectors.\n"
      ]
    },
    {
      "cell_type": "code",
      "execution_count": 98,
      "metadata": {
        "id": "Gu453NeV7P3X",
        "outputId": "fe109368-762d-4db4-c5a4-293ab3ff3957",
        "colab": {
          "base_uri": "https://localhost:8080/"
        }
      },
      "outputs": [
        {
          "output_type": "execute_result",
          "data": {
            "text/plain": [
              "tensor(-3.9378, device='cuda:0', grad_fn=<LogBackward0>)"
            ]
          },
          "metadata": {},
          "execution_count": 98
        }
      ],
      "source": [
        "def lunif(x, t=2): # copied from the paper\n",
        "    sq_pdist = torch.pdist(x, p=2).pow(2)\n",
        "    return sq_pdist.mul(-t).exp().mean().log()\n",
        "\n",
        "x = torch.randn(1024, 128, device=\"cuda\")\n",
        "x /= x.norm(p=2, dim=1, keepdim=True).requires_grad_()\n",
        "\n",
        "lunif(x)"
      ]
    },
    {
      "cell_type": "markdown",
      "metadata": {
        "id": "PFq6NC9r7P3X"
      },
      "source": [
        "One would think that the specialised `pdist` function is the right tool for the job.\n",
        "But is it? Let's time it."
      ]
    },
    {
      "cell_type": "code",
      "execution_count": 99,
      "metadata": {
        "id": "X8qALC8w7P3X",
        "outputId": "bbb3df54-3de4-4670-e0b9-48df449612b4",
        "colab": {
          "base_uri": "https://localhost:8080/"
        }
      },
      "outputs": [
        {
          "output_type": "stream",
          "name": "stdout",
          "text": [
            "10 loops, best of 5: 38.8 ms per loop\n"
          ]
        }
      ],
      "source": [
        "def totime(fn):\n",
        "    l = fn(x)\n",
        "    g, = torch.autograd.grad(l, x)\n",
        "    torch.cuda.synchronize()\n",
        "\n",
        "totime(lunif) # warmup\n",
        "%timeit totime(lunif)"
      ]
    },
    {
      "cell_type": "markdown",
      "metadata": {
        "id": "XdXljTUh7P3X"
      },
      "source": [
        "Let's use $|x-y|^2 = |x|^2 + |y|^2 - 2 <x, y>$ and compare."
      ]
    },
    {
      "cell_type": "code",
      "execution_count": 100,
      "metadata": {
        "id": "z0QCxgV27P3Y",
        "outputId": "80dda712-5f36-429c-da05-bf6d1b020075",
        "colab": {
          "base_uri": "https://localhost:8080/"
        }
      },
      "outputs": [
        {
          "output_type": "stream",
          "name": "stdout",
          "text": [
            "0.0\n",
            "100 loops, best of 5: 2 ms per loop\n"
          ]
        }
      ],
      "source": [
        "def lunif2(x, t=2):\n",
        "    t=2\n",
        "    xnorm = torch.norm(x, p=2, dim=1).pow(2)\n",
        "    sq_pdist = xnorm[None] + xnorm[:, None] - 2 * torch.mm(x, x.t())\n",
        "    exp = sq_pdist.mul(-t).exp().tril(diagonal=-1)\n",
        "    N = x.size(0)\n",
        "    res = exp.sum().mul(2/(N*N-N)).log()\n",
        "    return res\n",
        "\n",
        "print((lunif2(x.to(torch.double)) - lunif(x.to(torch.double))).item())\n",
        "\n",
        "totime(lunif2)\n",
        "%timeit totime(lunif2)"
      ]
    },
    {
      "cell_type": "markdown",
      "metadata": {
        "id": "C363TTiW7P3Y"
      },
      "source": [
        "Even though we have stark inefficiencies (like taking tril and taking a copy to do so), this is almost an order of magnitude faster!\n",
        "\n",
        "In older PyTorch l argely due to backward of `pdist` implementation, now the forward is more expensive (it is very hard to beat the well-tuned matrix multiplaction from libraries)."
      ]
    },
    {
      "cell_type": "markdown",
      "metadata": {
        "id": "L1Skqmma7P3Y"
      },
      "source": [
        "### Profiling in PyTorch\n",
        "\n",
        "Manual instrumentation works great, but to get a thorough view, PyTorch also has a profiler.\n"
      ]
    },
    {
      "cell_type": "code",
      "execution_count": 101,
      "metadata": {
        "id": "17q28n2p7P3Y",
        "outputId": "0fbccfd1-af8d-445a-c7a4-394560eac8c1",
        "colab": {
          "base_uri": "https://localhost:8080/"
        }
      },
      "outputs": [
        {
          "output_type": "stream",
          "name": "stdout",
          "text": [
            "-------------------------------------------------------  ------------  ------------  ------------  ------------  ------------  ------------  ------------  ------------  ------------  ------------  \n",
            "                                                   Name    Self CPU %      Self CPU   CPU total %     CPU total  CPU time avg     Self CUDA   Self CUDA %    CUDA total  CUDA time avg    # of Calls  \n",
            "-------------------------------------------------------  ------------  ------------  ------------  ------------  ------------  ------------  ------------  ------------  ------------  ------------  \n",
            "                                               aten::mm         0.34%       7.561ms         0.52%      11.499ms      38.330us      64.597ms        39.61%      64.597ms     215.323us           300  \n",
            "                                              aten::mul         0.92%      20.175ms         1.47%      32.334ms      29.395us      35.910ms        22.02%      35.910ms      32.645us          1100  \n",
            "void at::native::vectorized_elementwise_kernel<4, at...         0.00%       0.000us         0.00%       0.000us       0.000us      26.281ms        16.12%      26.281ms      32.851us           800  \n",
            "                      sgemm_sm35_ldg_tn_128x8x256x16x32         0.00%       0.000us         0.00%       0.000us       0.000us      23.076ms        14.15%      23.076ms     230.760us           100  \n",
            "                       sgemm_sm35_ldg_nn_64x16x64x16x16         0.00%       0.000us         0.00%       0.000us       0.000us      21.430ms        13.14%      21.430ms     214.300us           100  \n",
            "-------------------------------------------------------  ------------  ------------  ------------  ------------  ------------  ------------  ------------  ------------  ------------  ------------  \n",
            "Self CPU time total: 2.197s\n",
            "Self CUDA time total: 163.078ms\n",
            "\n"
          ]
        }
      ],
      "source": [
        "totime(lunif) # warmup\n",
        "with torch.profiler.profile() as prof:\n",
        "    for i in range(100):\n",
        "        totime(lunif2)\n",
        "\n",
        "print(prof.key_averages().table(sort_by='self_cuda_time_total', row_limit=5))\n"
      ]
    },
    {
      "cell_type": "markdown",
      "metadata": {
        "id": "H3ozR2EU7P3Y"
      },
      "source": [
        "Sometimes just the ops is not enough, but we want to know from where they are called"
      ]
    },
    {
      "cell_type": "code",
      "execution_count": 102,
      "metadata": {
        "id": "8AgVO3IA7P3Z",
        "outputId": "0cea1e19-e942-4ec0-d587-445f7a47f958",
        "colab": {
          "base_uri": "https://localhost:8080/"
        }
      },
      "outputs": [
        {
          "output_type": "stream",
          "name": "stdout",
          "text": [
            "-------------------------------------------------------  ------------  ------------  ------------  ------------  ------------  ------------  ------------  ------------  ------------  ------------  ---------------------------------------------------------------------------  \n",
            "                                                   Name    Self CPU %      Self CPU   CPU total %     CPU total  CPU time avg     Self CUDA   Self CUDA %    CUDA total  CUDA time avg    # of Calls  Source Location                                                              \n",
            "-------------------------------------------------------  ------------  ------------  ------------  ------------  ------------  ------------  ------------  ------------  ------------  ------------  ---------------------------------------------------------------------------  \n",
            "                                               aten::mm         0.35%       6.997ms         0.56%      11.325ms      37.750us      65.087ms        39.80%      65.087ms     216.957us           300  <ipython-input-100-8df660770a3a>(4): lunif2                                  \n",
            "                                                                                                                                                                                                     <ipython-input-99-6fbec65a3ec8>(2): totime                                   \n",
            "                                                                                                                                                                                                                                                                                  \n",
            "void at::native::vectorized_elementwise_kernel<4, at...         0.00%       0.000us         0.00%       0.000us       0.000us      26.131ms        15.98%      26.131ms      32.664us           800                                                                               \n",
            "                                                                                                                                                                                                                                                                                  \n",
            "                      sgemm_sm35_ldg_tn_128x8x256x16x32         0.00%       0.000us         0.00%       0.000us       0.000us      23.345ms        14.27%      23.345ms     233.450us           100                                                                               \n",
            "                                                                                                                                                                                                                                                                                  \n",
            "                       sgemm_sm35_ldg_nn_64x16x64x16x16         0.00%       0.000us         0.00%       0.000us       0.000us      21.575ms        13.19%      21.575ms     215.750us           100                                                                               \n",
            "                                                                                                                                                                                                                                                                                  \n",
            "                       sgemm_sm35_ldg_nt_64x16x64x16x16         0.00%       0.000us         0.00%       0.000us       0.000us      20.167ms        12.33%      20.167ms     201.670us           100                                                                               \n",
            "                                                                                                                                                                                                                                                                                  \n",
            "-------------------------------------------------------  ------------  ------------  ------------  ------------  ------------  ------------  ------------  ------------  ------------  ------------  ---------------------------------------------------------------------------  \n",
            "Self CPU time total: 2.020s\n",
            "Self CUDA time total: 163.538ms\n",
            "\n"
          ]
        }
      ],
      "source": [
        "totime(lunif2) # warmup\n",
        "with torch.profiler.profile(with_stack=True) as prof:\n",
        "    for i in range(100):\n",
        "        totime(lunif2)\n",
        "\n",
        "print(prof.key_averages(group_by_stack_n=2).table(sort_by='self_cuda_time_total', row_limit=5))"
      ]
    },
    {
      "cell_type": "markdown",
      "metadata": {
        "id": "r-GSl4xn7P3a"
      },
      "source": [
        "## Summary of our optimization steps\n",
        "\n",
        "Optimization steps (timings from the rehersal, computer is a Ryzen 5950 w. GTX3090):\n",
        "- Measure (`time.perf_counter`, `torch.profiler.profile`). 3 epochs in approx. 67 seconds\n",
        "- Move to SSD. 65 seconds\n",
        "- num_workers 17.5 seconds\n",
        "- move augmentation to GPU 13.5 seconds\n",
        "- pre-scale images 7.6 seconds\n",
        "- load into memory 5.56 seconds\n",
        "- take away sync points 1.5-3 seconds"
      ]
    },
    {
      "cell_type": "markdown",
      "metadata": {
        "id": "lz7_04Pn7P3a"
      },
      "source": [
        "### Hard Optimization\n",
        "\n",
        "...when your GPU is fully utilized, there might still be optimization potential (similar to the uniformity loss example).\n",
        "\n",
        "Remember that computation is roughly\n",
        "  - fixed overhead (kernel launches etc.),\n",
        "  - reading / writing memory,\n",
        "  - \"real computation\".\n",
        "\n",
        "Now, reading / writing memory typically is much slower than the computation (in registers).\n",
        "But every PyTorch operation loads tensors from memory, processes them, and writes them back.\n",
        "\n",
        "If we can do several operations at once, we can save a lot of time on the memory access!\n",
        "\n",
        "Let's try speeding things up. But if we will define our own kernels, we need to have a way to define the backwards for them, so enter `autograd.Function`s."
      ]
    },
    {
      "cell_type": "markdown",
      "metadata": {
        "id": "cklbpJMc7P3a"
      },
      "source": [
        "## Own Autograd functions\n",
        "\n",
        "Let's consider $f : \\mathbb{R}^n \\rightarrow \\mathbb{R}^m$ implicitly given by $F(x,f(x))=0$ for some function $F : \\mathbb{R}^n \\times \\mathbb{R}^m \\rightarrow \\mathbb{R}$.\n",
        "\n",
        "For nice (smooth, nondegenerate) functions, the [implicit function theorem](https://en.wikipedia.org/wiki/Implicit_function_theorem)\n",
        "gives us:\n",
        "\n",
        "Given $x,y$ such that $F(x,y) = 0$ there is a neighborhood $U\\ni x$ and a function $f$ such that $f(x)=y$ and $F(x,f(x))=0$. And if $F$ is nice enough, we can also compute the derivative of $f$ at $x$, namely  $\\frac{df}{dx}(x) = - (\\frac{dF}{dy}(x,y))^{-1} \\frac{dF}{dx}(x,y)$.\n",
        "\n",
        "Given $F$ in PyTorch, can we define $f$ and backpropagate through the computation?\n",
        "\n",
        "$\\Rightarrow$ Need to extend autograd."
      ]
    },
    {
      "cell_type": "code",
      "execution_count": 104,
      "metadata": {
        "id": "-w7EQEpw7P3a"
      },
      "outputs": [],
      "source": [
        "import torch\n",
        "class Implicit(torch.autograd.Function):  # derive autograd.Function\n",
        "    @staticmethod\n",
        "    def forward(ctx, x, y0, F, max_iter=100):  # Context ctx as special first parameter to static method forward\n",
        "        with torch.enable_grad():\n",
        "            y = y0.clone().detach().requires_grad_()\n",
        "            xv = x.detach()\n",
        "            opt = torch.optim.LBFGS([y], max_iter=max_iter)  # numerical search for y s.t. F(x, y) = 0\n",
        "            def reevaluate():\n",
        "                opt.zero_grad()\n",
        "                z = F(xv,y)**2\n",
        "                z.backward()\n",
        "                return z\n",
        "            opt.step(reevaluate)\n",
        "        ctx._the_function = F                 # save non-tensors\n",
        "        ctx.save_for_backward(x, y)           # safely save tensors\n",
        "        return y\n",
        "    @staticmethod\n",
        "    def backward(ctx, output_grad):          # ouput_grad = dl / dy\n",
        "        x, y = ctx.saved_tensors             # get the saved tensors\n",
        "        F = ctx._the_function                # other arguments\n",
        "        with torch.enable_grad():\n",
        "            xv = x.detach().requires_grad_()\n",
        "            y = y.detach().requires_grad_()\n",
        "            z = F(xv,y)\n",
        "            z.backward()\n",
        "        return -xv.grad/y.grad*output_grad, None, None, None  # return dl / dx and None for all other inputs\n"
      ]
    },
    {
      "cell_type": "markdown",
      "metadata": {
        "id": "XfQqpxlN7P3a"
      },
      "source": [
        "Let's try it on a simple case:"
      ]
    },
    {
      "cell_type": "code",
      "execution_count": 105,
      "metadata": {
        "scrolled": true,
        "id": "7FGPFvx17P3a",
        "outputId": "3ea93e97-fa41-46e7-d91e-eb1ce73425b5",
        "colab": {
          "base_uri": "https://localhost:8080/"
        }
      },
      "outputs": [
        {
          "output_type": "stream",
          "name": "stdout",
          "text": [
            "tensor([0.8660], dtype=torch.float64, grad_fn=<ImplicitBackward>) 0.8660254037844386\n"
          ]
        },
        {
          "output_type": "execute_result",
          "data": {
            "text/plain": [
              "(tensor([-0.5774], dtype=torch.float64),\n",
              " tensor([-0.5774], dtype=torch.float64))"
            ]
          },
          "metadata": {},
          "execution_count": 105
        }
      ],
      "source": [
        "def circle(x,y):\n",
        "    return x**2+y**2-1  # 0-set = unit circle\n",
        "\n",
        "x = torch.tensor([0.5], dtype=torch.double, requires_grad=True)\n",
        "y0 = torch.tensor([0.5], dtype=torch.double) # starting value\n",
        "y= Implicit.apply(x, y0, circle)    # this is how to use our new function\n",
        "print (y, (1-0.5**2)**0.5)\n",
        "gr, = torch.autograd.grad(y, x)\n",
        "gr_exp, = torch.autograd.grad((1-x**2)**0.5, [x])\n",
        "gr, gr_exp"
      ]
    },
    {
      "cell_type": "markdown",
      "metadata": {
        "id": "rYHQw78J7P3b"
      },
      "source": [
        "We could now backpropagate through it, too. And we can focus on the compute for optimization, as we can connect forward and backward now."
      ]
    },
    {
      "cell_type": "markdown",
      "metadata": {
        "id": "Ho2GrEWj7P3b"
      },
      "source": [
        "# Back to optimization\n",
        "\n",
        "## Example: Intersection over Union measure\n",
        "\n",
        "\n",
        "<img src=\"https://github.com/t-vi/lod2021/blob/main/iou.svg?raw=1\" style=\"float: right;\" />\n",
        "\n",
        "...for detection models.\n",
        "\n",
        "Many elementwise operations. Usually PyTorch executes them one by one, reading input from memory and writing back outputs.\n",
        "\n",
        "By fusing this into a single GPU kernel, we can save all that.\n"
      ]
    },
    {
      "cell_type": "code",
      "execution_count": 106,
      "metadata": {
        "id": "1XE7-OdZ7P3b"
      },
      "outputs": [],
      "source": [
        "def ratio_iou(x1, y1, w1, h1, x2, y2, w2, h2):\n",
        "    xi = torch.max(x1, x2)                                # Intersection (yi similarly)\n",
        "    yi = torch.max(y1, y2)                                # Intersection (yi similarly)\n",
        "    wi = torch.clamp(torch.min(x1+w1, x2+w2) - xi, min=0)\n",
        "    hi = torch.clamp(torch.min(y1+h1, y2+h2) - yi, min=0)\n",
        "    area_i = wi * hi                                      # Area Intersection\n",
        "    area_u = w1 * h1 + w2 * h2 - area_i                   # Area Union\n",
        "    return area_i / torch.clamp(area_u, min=1e-5)\n",
        "\n"
      ]
    },
    {
      "cell_type": "markdown",
      "metadata": {
        "id": "c51aMmNm7P3b"
      },
      "source": [
        "# Dropping to C++ as a speedup?\n",
        "\n",
        "You heard my rule of thumb (if your operands are 100s of elements, Python overhead is not you main problem), but here we go."
      ]
    },
    {
      "cell_type": "code",
      "execution_count": 107,
      "metadata": {
        "id": "nJlF3T0o7P3b",
        "outputId": "0412c9ce-42dc-4757-c4f9-32fbf2a35da9",
        "colab": {
          "base_uri": "https://localhost:8080/",
          "height": 381
        }
      },
      "outputs": [
        {
          "output_type": "stream",
          "name": "stdout",
          "text": [
            "Using /root/.cache/torch_extensions/py37_cu111 as PyTorch extensions root...\n",
            "Creating extension directory /root/.cache/torch_extensions/py37_cu111/libsuperiou...\n"
          ]
        },
        {
          "output_type": "error",
          "ename": "RuntimeError",
          "evalue": "ignored",
          "traceback": [
            "\u001b[0;31m---------------------------------------------------------------------------\u001b[0m",
            "\u001b[0;31mRuntimeError\u001b[0m                              Traceback (most recent call last)",
            "\u001b[0;32m<ipython-input-107-92878ac54779>\u001b[0m in \u001b[0;36m<module>\u001b[0;34m()\u001b[0m\n\u001b[1;32m     25\u001b[0m \"\"\"\n\u001b[1;32m     26\u001b[0m \u001b[0;34m\u001b[0m\u001b[0m\n\u001b[0;32m---> 27\u001b[0;31m \u001b[0msuper_iou\u001b[0m \u001b[0;34m=\u001b[0m \u001b[0mtorch\u001b[0m\u001b[0;34m.\u001b[0m\u001b[0mutils\u001b[0m\u001b[0;34m.\u001b[0m\u001b[0mcpp_extension\u001b[0m\u001b[0;34m.\u001b[0m\u001b[0mload_inline\u001b[0m\u001b[0;34m(\u001b[0m\u001b[0;34m\"libsuperiou\"\u001b[0m\u001b[0;34m,\u001b[0m \u001b[0mcsrc\u001b[0m\u001b[0;34m,\u001b[0m \u001b[0mis_python_module\u001b[0m\u001b[0;34m=\u001b[0m\u001b[0;32mTrue\u001b[0m\u001b[0;34m,\u001b[0m \u001b[0mverbose\u001b[0m\u001b[0;34m=\u001b[0m\u001b[0;32mTrue\u001b[0m\u001b[0;34m)\u001b[0m\u001b[0;34m\u001b[0m\u001b[0;34m\u001b[0m\u001b[0m\n\u001b[0m",
            "\u001b[0;32m/usr/local/lib/python3.7/dist-packages/torch/utils/cpp_extension.py\u001b[0m in \u001b[0;36mload_inline\u001b[0;34m(name, cpp_sources, cuda_sources, functions, extra_cflags, extra_cuda_cflags, extra_ldflags, extra_include_paths, build_directory, verbose, with_cuda, is_python_module, with_pytorch_error_handling, keep_intermediates)\u001b[0m\n\u001b[1;32m   1283\u001b[0m         \u001b[0mis_python_module\u001b[0m\u001b[0;34m,\u001b[0m\u001b[0;34m\u001b[0m\u001b[0;34m\u001b[0m\u001b[0m\n\u001b[1;32m   1284\u001b[0m         \u001b[0mis_standalone\u001b[0m\u001b[0;34m=\u001b[0m\u001b[0;32mFalse\u001b[0m\u001b[0;34m,\u001b[0m\u001b[0;34m\u001b[0m\u001b[0;34m\u001b[0m\u001b[0m\n\u001b[0;32m-> 1285\u001b[0;31m         keep_intermediates=keep_intermediates)\n\u001b[0m\u001b[1;32m   1286\u001b[0m \u001b[0;34m\u001b[0m\u001b[0m\n\u001b[1;32m   1287\u001b[0m \u001b[0;34m\u001b[0m\u001b[0m\n",
            "\u001b[0;32m/usr/local/lib/python3.7/dist-packages/torch/utils/cpp_extension.py\u001b[0m in \u001b[0;36m_jit_compile\u001b[0;34m(name, sources, extra_cflags, extra_cuda_cflags, extra_ldflags, extra_include_paths, build_directory, verbose, with_cuda, is_python_module, is_standalone, keep_intermediates)\u001b[0m\n\u001b[1;32m   1345\u001b[0m                         \u001b[0mverbose\u001b[0m\u001b[0;34m=\u001b[0m\u001b[0mverbose\u001b[0m\u001b[0;34m,\u001b[0m\u001b[0;34m\u001b[0m\u001b[0;34m\u001b[0m\u001b[0m\n\u001b[1;32m   1346\u001b[0m                         \u001b[0mwith_cuda\u001b[0m\u001b[0;34m=\u001b[0m\u001b[0mwith_cuda\u001b[0m\u001b[0;34m,\u001b[0m\u001b[0;34m\u001b[0m\u001b[0;34m\u001b[0m\u001b[0m\n\u001b[0;32m-> 1347\u001b[0;31m                         is_standalone=is_standalone)\n\u001b[0m\u001b[1;32m   1348\u001b[0m             \u001b[0;32mfinally\u001b[0m\u001b[0;34m:\u001b[0m\u001b[0;34m\u001b[0m\u001b[0;34m\u001b[0m\u001b[0m\n\u001b[1;32m   1349\u001b[0m                 \u001b[0mbaton\u001b[0m\u001b[0;34m.\u001b[0m\u001b[0mrelease\u001b[0m\u001b[0;34m(\u001b[0m\u001b[0;34m)\u001b[0m\u001b[0;34m\u001b[0m\u001b[0;34m\u001b[0m\u001b[0m\n",
            "\u001b[0;32m/usr/local/lib/python3.7/dist-packages/torch/utils/cpp_extension.py\u001b[0m in \u001b[0;36m_write_ninja_file_and_build_library\u001b[0;34m(name, sources, extra_cflags, extra_cuda_cflags, extra_ldflags, extra_include_paths, build_directory, verbose, with_cuda, is_standalone)\u001b[0m\n\u001b[1;32m   1416\u001b[0m         \u001b[0mwith_cuda\u001b[0m\u001b[0;34m:\u001b[0m \u001b[0mOptional\u001b[0m\u001b[0;34m[\u001b[0m\u001b[0mbool\u001b[0m\u001b[0;34m]\u001b[0m\u001b[0;34m,\u001b[0m\u001b[0;34m\u001b[0m\u001b[0;34m\u001b[0m\u001b[0m\n\u001b[1;32m   1417\u001b[0m         is_standalone: bool = False) -> None:\n\u001b[0;32m-> 1418\u001b[0;31m     \u001b[0mverify_ninja_availability\u001b[0m\u001b[0;34m(\u001b[0m\u001b[0;34m)\u001b[0m\u001b[0;34m\u001b[0m\u001b[0;34m\u001b[0m\u001b[0m\n\u001b[0m\u001b[1;32m   1419\u001b[0m     \u001b[0;32mif\u001b[0m \u001b[0mIS_WINDOWS\u001b[0m\u001b[0;34m:\u001b[0m\u001b[0;34m\u001b[0m\u001b[0;34m\u001b[0m\u001b[0m\n\u001b[1;32m   1420\u001b[0m         \u001b[0mcompiler\u001b[0m \u001b[0;34m=\u001b[0m \u001b[0mos\u001b[0m\u001b[0;34m.\u001b[0m\u001b[0menviron\u001b[0m\u001b[0;34m.\u001b[0m\u001b[0mget\u001b[0m\u001b[0;34m(\u001b[0m\u001b[0;34m'CXX'\u001b[0m\u001b[0;34m,\u001b[0m \u001b[0;34m'cl'\u001b[0m\u001b[0;34m)\u001b[0m\u001b[0;34m\u001b[0m\u001b[0;34m\u001b[0m\u001b[0m\n",
            "\u001b[0;32m/usr/local/lib/python3.7/dist-packages/torch/utils/cpp_extension.py\u001b[0m in \u001b[0;36mverify_ninja_availability\u001b[0;34m()\u001b[0m\n\u001b[1;32m   1472\u001b[0m     '''\n\u001b[1;32m   1473\u001b[0m     \u001b[0;32mif\u001b[0m \u001b[0;32mnot\u001b[0m \u001b[0mis_ninja_available\u001b[0m\u001b[0;34m(\u001b[0m\u001b[0;34m)\u001b[0m\u001b[0;34m:\u001b[0m\u001b[0;34m\u001b[0m\u001b[0;34m\u001b[0m\u001b[0m\n\u001b[0;32m-> 1474\u001b[0;31m         \u001b[0;32mraise\u001b[0m \u001b[0mRuntimeError\u001b[0m\u001b[0;34m(\u001b[0m\u001b[0;34m\"Ninja is required to load C++ extensions\"\u001b[0m\u001b[0;34m)\u001b[0m\u001b[0;34m\u001b[0m\u001b[0;34m\u001b[0m\u001b[0m\n\u001b[0m\u001b[1;32m   1475\u001b[0m \u001b[0;34m\u001b[0m\u001b[0m\n\u001b[1;32m   1476\u001b[0m \u001b[0;34m\u001b[0m\u001b[0m\n",
            "\u001b[0;31mRuntimeError\u001b[0m: Ninja is required to load C++ extensions"
          ]
        }
      ],
      "source": [
        "import torch.utils.cpp_extension\n",
        "\n",
        "csrc = \"\"\"\n",
        "#include <torch/script.h>\n",
        "\n",
        "using namespace torch;\n",
        "\n",
        "Tensor iou_native(const Tensor& x1, const Tensor& y1, const Tensor& w1, const Tensor& h1,\n",
        "                  const Tensor& x2, const Tensor& y2, const Tensor& w2, const Tensor& h2) {\n",
        "\n",
        "    auto xi = torch::max(x1, x2);\n",
        "    auto yi = torch::max(y1, y2);\n",
        "    auto wi = torch::clamp(torch::min(x1+w1, x2+w2) - xi, 0);\n",
        "    auto hi = torch::clamp(torch::min(y1+h1, y2+h2) - yi, 0);\n",
        "    auto area_i = wi * hi;\n",
        "    auto area_u = w1 * h1 + w2 * h2 - area_i;\n",
        "    return area_i / torch::clamp(area_u, 1e-5);\n",
        "}\n",
        "\n",
        "\n",
        "PYBIND11_MODULE(TORCH_EXTENSION_NAME, m) {\n",
        "  m.def(\"iou_native\", &iou_native, \"Intersection over union\");\n",
        "}\n",
        "\n",
        "\"\"\"\n",
        "\n",
        "super_iou = torch.utils.cpp_extension.load_inline(\"libsuperiou\", csrc, is_python_module=True, verbose=True)"
      ]
    },
    {
      "cell_type": "markdown",
      "metadata": {
        "id": "alxuu_6j7P3f"
      },
      "source": [
        "# Let's look at the numbers...\n"
      ]
    },
    {
      "cell_type": "code",
      "execution_count": 108,
      "metadata": {
        "id": "b_i2XF9R7P3f",
        "outputId": "2dcbd87a-4afd-4d3f-9b4e-65b195a747a0",
        "colab": {
          "base_uri": "https://localhost:8080/",
          "height": 235
        }
      },
      "outputs": [
        {
          "output_type": "error",
          "ename": "NameError",
          "evalue": "ignored",
          "traceback": [
            "\u001b[0;31m---------------------------------------------------------------------------\u001b[0m",
            "\u001b[0;31mNameError\u001b[0m                                 Traceback (most recent call last)",
            "\u001b[0;32m<ipython-input-108-7bad181f0455>\u001b[0m in \u001b[0;36m<module>\u001b[0;34m()\u001b[0m\n\u001b[1;32m      1\u001b[0m \u001b[0mx1\u001b[0m\u001b[0;34m,\u001b[0m \u001b[0my1\u001b[0m\u001b[0;34m,\u001b[0m \u001b[0mw1\u001b[0m\u001b[0;34m,\u001b[0m \u001b[0mh1\u001b[0m\u001b[0;34m,\u001b[0m \u001b[0mx2\u001b[0m\u001b[0;34m,\u001b[0m \u001b[0my2\u001b[0m\u001b[0;34m,\u001b[0m \u001b[0mw2\u001b[0m\u001b[0;34m,\u001b[0m \u001b[0mh2\u001b[0m \u001b[0;34m=\u001b[0m \u001b[0mtorch\u001b[0m\u001b[0;34m.\u001b[0m\u001b[0mrandn\u001b[0m\u001b[0;34m(\u001b[0m\u001b[0;36m8\u001b[0m\u001b[0;34m,\u001b[0m \u001b[0;36m100\u001b[0m\u001b[0;34m,\u001b[0m \u001b[0;36m1000\u001b[0m\u001b[0;34m,\u001b[0m \u001b[0mdevice\u001b[0m\u001b[0;34m=\u001b[0m\u001b[0;34m'cuda'\u001b[0m\u001b[0;34m)\u001b[0m\u001b[0;34m.\u001b[0m\u001b[0mexp\u001b[0m\u001b[0;34m(\u001b[0m\u001b[0;34m)\u001b[0m\u001b[0;34m\u001b[0m\u001b[0;34m\u001b[0m\u001b[0m\n\u001b[0;32m----> 2\u001b[0;31m \u001b[0;32massert\u001b[0m \u001b[0;34m(\u001b[0m\u001b[0mratio_iou\u001b[0m\u001b[0;34m(\u001b[0m\u001b[0mx1\u001b[0m\u001b[0;34m,\u001b[0m \u001b[0my1\u001b[0m\u001b[0;34m,\u001b[0m \u001b[0mw1\u001b[0m\u001b[0;34m,\u001b[0m \u001b[0mh1\u001b[0m\u001b[0;34m,\u001b[0m \u001b[0mx2\u001b[0m\u001b[0;34m,\u001b[0m \u001b[0my2\u001b[0m\u001b[0;34m,\u001b[0m \u001b[0mw2\u001b[0m\u001b[0;34m,\u001b[0m \u001b[0mh2\u001b[0m\u001b[0;34m)\u001b[0m\u001b[0;34m==\u001b[0m\u001b[0msuper_iou\u001b[0m\u001b[0;34m.\u001b[0m\u001b[0miou_native\u001b[0m\u001b[0;34m(\u001b[0m\u001b[0mx1\u001b[0m\u001b[0;34m,\u001b[0m \u001b[0my1\u001b[0m\u001b[0;34m,\u001b[0m \u001b[0mw1\u001b[0m\u001b[0;34m,\u001b[0m \u001b[0mh1\u001b[0m\u001b[0;34m,\u001b[0m \u001b[0mx2\u001b[0m\u001b[0;34m,\u001b[0m \u001b[0my2\u001b[0m\u001b[0;34m,\u001b[0m \u001b[0mw2\u001b[0m\u001b[0;34m,\u001b[0m \u001b[0mh2\u001b[0m\u001b[0;34m)\u001b[0m\u001b[0;34m)\u001b[0m\u001b[0;34m.\u001b[0m\u001b[0mall\u001b[0m\u001b[0;34m(\u001b[0m\u001b[0;34m)\u001b[0m\u001b[0;34m.\u001b[0m\u001b[0mitem\u001b[0m\u001b[0;34m(\u001b[0m\u001b[0;34m)\u001b[0m\u001b[0;34m\u001b[0m\u001b[0;34m\u001b[0m\u001b[0m\n\u001b[0m\u001b[1;32m      3\u001b[0m \u001b[0;34m\u001b[0m\u001b[0m\n\u001b[1;32m      4\u001b[0m \u001b[0;32mdef\u001b[0m \u001b[0mtaketime\u001b[0m\u001b[0;34m(\u001b[0m\u001b[0mfn\u001b[0m\u001b[0;34m)\u001b[0m\u001b[0;34m:\u001b[0m\u001b[0;34m\u001b[0m\u001b[0;34m\u001b[0m\u001b[0m\n\u001b[1;32m      5\u001b[0m     \u001b[0m_\u001b[0m \u001b[0;34m=\u001b[0m \u001b[0mfn\u001b[0m\u001b[0;34m(\u001b[0m\u001b[0mx1\u001b[0m\u001b[0;34m,\u001b[0m \u001b[0my1\u001b[0m\u001b[0;34m,\u001b[0m \u001b[0mw1\u001b[0m\u001b[0;34m,\u001b[0m \u001b[0mh1\u001b[0m\u001b[0;34m,\u001b[0m \u001b[0mx2\u001b[0m\u001b[0;34m,\u001b[0m \u001b[0my2\u001b[0m\u001b[0;34m,\u001b[0m \u001b[0mw2\u001b[0m\u001b[0;34m,\u001b[0m \u001b[0mh2\u001b[0m\u001b[0;34m)\u001b[0m\u001b[0;34m\u001b[0m\u001b[0;34m\u001b[0m\u001b[0m\n",
            "\u001b[0;31mNameError\u001b[0m: name 'super_iou' is not defined"
          ]
        }
      ],
      "source": [
        "x1, y1, w1, h1, x2, y2, w2, h2 = torch.randn(8, 100, 1000, device='cuda').exp()\n",
        "assert (ratio_iou(x1, y1, w1, h1, x2, y2, w2, h2)==super_iou.iou_native(x1, y1, w1, h1, x2, y2, w2, h2)).all().item()\n",
        "\n",
        "def taketime(fn):\n",
        "    _ = fn(x1, y1, w1, h1, x2, y2, w2, h2)\n",
        "    torch.cuda.synchronize()\n",
        "\n",
        "torch.cuda.synchronize()\n",
        "%timeit taketime(ratio_iou)\n",
        "%timeit taketime(super_iou.iou_native)\n"
      ]
    },
    {
      "cell_type": "code",
      "execution_count": null,
      "metadata": {
        "id": "HXvV8tDp7P3f"
      },
      "outputs": [],
      "source": [
        "# but if we do our own CUDA kernels...\n",
        "csrc = \"\"\"\n",
        "#include <torch/extension.h>\n",
        "#include <ATen/Parallel.h>\n",
        "#include <ATen/TensorAccessor.h>\n",
        "\n",
        "using namespace torch;\n",
        "\n",
        "// The cuda kernel is easy enough\n",
        "template<typename scalar_t>\n",
        "__global__ void iou_kernel_gpu(PackedTensorAccessor32<scalar_t, 1> result,\n",
        "                          PackedTensorAccessor32<scalar_t, 1> x1,\n",
        "                          PackedTensorAccessor32<scalar_t, 1> y1,\n",
        "                          PackedTensorAccessor32<scalar_t, 1> w1,\n",
        "                          PackedTensorAccessor32<scalar_t, 1> h1,\n",
        "                          PackedTensorAccessor32<scalar_t, 1> x2,\n",
        "                          PackedTensorAccessor32<scalar_t, 1> y2,\n",
        "                          PackedTensorAccessor32<scalar_t, 1> w2,\n",
        "                          PackedTensorAccessor32<scalar_t, 1> h2\n",
        "                          ) {\n",
        "    int i = threadIdx.x + blockDim.x * blockIdx.x;\n",
        "    if (i >= x1.size(0)) // we might have more threads than work to do in the last block\n",
        "      return;\n",
        "    // This should look very familiar. We could try reading each element only once, but let's keep it simple.\n",
        "    scalar_t xi = max(x1[i], x2[i]);\n",
        "    scalar_t yi = max(y1[i], y2[i]);\n",
        "    scalar_t wi = max(min(x1[i]+w1[i], x2[i]+w2[i]) - xi, static_cast<scalar_t>(0));\n",
        "    scalar_t hi = max(min(y1[i]+h1[i], y2[i]+h2[i]) - yi, static_cast<scalar_t>(0));\n",
        "    scalar_t area_i = wi * hi;\n",
        "    scalar_t area_u = w1[i] * h1[i] + w2[i] * h2[i] - area_i;\n",
        "    result[i] = area_i / max(area_u, static_cast<scalar_t>(0.00001f));\n",
        "}\n",
        "\n",
        "// The CPU kernel is looks similar, we could also just put it in the main function...\n",
        "template<typename scalar_t>\n",
        "void iou_kernel_cpu(int64_t size,\n",
        "                    scalar_t* result,\n",
        "                    scalar_t* x1,\n",
        "                    scalar_t* y1,\n",
        "                    scalar_t* w1,\n",
        "                    scalar_t* h1,\n",
        "                    scalar_t* x2,\n",
        "                    scalar_t* y2,\n",
        "                    scalar_t* w2,\n",
        "                    scalar_t* h2) {\n",
        "\n",
        "    // we use CPU parallelization\n",
        "    constexpr int64_t GRAIN_SIZE = 8192; // minimum grain size for parallel execution\n",
        "    at::parallel_for(0, size, GRAIN_SIZE, [&](int64_t i_begin, int64_t i_end) {\n",
        "        for (int64_t i = i_begin; i < i_end; ++i) {\n",
        "            scalar_t xi = max(x1[i], x2[i]);\n",
        "            scalar_t yi = max(y1[i], y2[i]);\n",
        "            scalar_t wi = max(min(x1[i]+w1[i], x2[i]+w2[i]) - xi, static_cast<scalar_t>(0));\n",
        "            scalar_t hi = max(min(y1[i]+h1[i], y2[i]+h2[i]) - yi, static_cast<scalar_t>(0));\n",
        "            scalar_t area_i = wi * hi;\n",
        "            scalar_t area_u = w1[i] * h1[i] + w2[i] * h2[i] - area_i;\n",
        "            result[i] = area_i / max(area_u, static_cast<scalar_t>(0.00001f));\n",
        "        }\n",
        "    });\n",
        "}\n",
        "\n",
        "\n",
        "torch::Tensor iou_forward(const Tensor& x1, const Tensor& y1, const Tensor& w1, const Tensor& h1,\n",
        "                          const Tensor& x2, const Tensor& y2, const Tensor& w2, const Tensor& h2) {\n",
        "  auto res = torch::empty_like(x1);\n",
        "  for (auto& t : {x1, y1, w1, h1, x2, y2, w2, h2}) {\n",
        "     AT_ASSERTM(t.dim()==1 && t.size(0)==x1.size(0) && t.device()==x1.device() && t.dtype()==x1.dtype(),\n",
        "                \"tensors are not of same shape and kind\");\n",
        "  }\n",
        "  if (x1.is_cuda()) {\n",
        "    dim3 block(512);\n",
        "    dim3 grid((x1.size(0)+511)/512);\n",
        "    AT_DISPATCH_FLOATING_TYPES(x1.type(), \"iou\", [&] {\n",
        "      iou_kernel_gpu<scalar_t><<<grid,block>>>(res.packed_accessor32<scalar_t, 1>(),\n",
        "                              x1.packed_accessor32<scalar_t, 1>(),\n",
        "                              y1.packed_accessor32<scalar_t, 1>(),\n",
        "                              w1.packed_accessor32<scalar_t, 1>(),\n",
        "                              h1.packed_accessor32<scalar_t, 1>(),\n",
        "                              x2.packed_accessor32<scalar_t, 1>(),\n",
        "                              y2.packed_accessor32<scalar_t, 1>(),\n",
        "                              w2.packed_accessor32<scalar_t, 1>(),\n",
        "                              h2.packed_accessor32<scalar_t, 1>());\n",
        "    });\n",
        "  } else {\n",
        "    AT_DISPATCH_FLOATING_TYPES(x1.type(), \"iou\", [&] {\n",
        "      iou_kernel_cpu<scalar_t>(x1.size(0),\n",
        "                              res.data_ptr<scalar_t>(),\n",
        "                              x1.data_ptr<scalar_t>(),\n",
        "                              y1.data_ptr<scalar_t>(),\n",
        "                              w1.data_ptr<scalar_t>(),\n",
        "                              h1.data_ptr<scalar_t>(),\n",
        "                              x2.data_ptr<scalar_t>(),\n",
        "                              y2.data_ptr<scalar_t>(),\n",
        "                              w2.data_ptr<scalar_t>(),\n",
        "                              h2.data_ptr<scalar_t>());\n",
        "    });  \n",
        "  }\n",
        "  return res;\n",
        "}\n",
        "\n",
        "PYBIND11_MODULE(TORCH_EXTENSION_NAME, m) {\n",
        "  m.def(\"iou_forward\", &iou_forward, \"Intersection over union\");\n",
        "}\n",
        "\"\"\"\n",
        "\n",
        "iou_kernel = torch.utils.cpp_extension.load_inline(\"iou_kernel\", \"\", csrc, is_python_module=True)#, verbose=True)\n"
      ]
    },
    {
      "cell_type": "markdown",
      "metadata": {
        "id": "gmp4SMyd7P3g"
      },
      "source": [
        "# Ooofff....\n",
        "\n",
        "but it works and now the speed is OK!\n",
        "\n",
        "(By the way: `PackedTensorAccessors` are the closest thing to using tensor indexing in kernels.)\n"
      ]
    },
    {
      "cell_type": "code",
      "execution_count": null,
      "metadata": {
        "id": "glsDiPts7P3g"
      },
      "outputs": [],
      "source": [
        "x1, y1, w1, h1, x2, y2, w2, h2 = [t.view(-1) for t in [x1, y1, w1, h1, x2, y2, w2, h2]]\n",
        "\n",
        "print (\"check gpu\", (ratio_iou(x1, y1, w1, h1, x2, y2, w2, h2)-iou_kernel.iou_forward(x1, y1, w1, h1, x2, y2, w2, h2)).abs().max())\n",
        "print (\"check cpu\", (ratio_iou(x1, y1, w1, h1, x2, y2, w2, h2).cpu()\n",
        "                     -iou_kernel.iou_forward(x1.cpu(), y1.cpu(), w1.cpu(), h1.cpu(),\n",
        "                                             x2.cpu(), y2.cpu(), w2.cpu(), h2.cpu())).abs().max())\n",
        "\n",
        "\n",
        "torch.cuda.synchronize()\n",
        "%timeit taketime(iou_kernel.iou_forward)\n",
        "%timeit taketime(ratio_iou)"
      ]
    },
    {
      "cell_type": "markdown",
      "metadata": {
        "id": "6Vl-dgAT7P3g"
      },
      "source": [
        "And now homework! Do the backward... a lot of work, you say?"
      ]
    },
    {
      "cell_type": "markdown",
      "metadata": {
        "id": "F5AiFYe57P3g"
      },
      "source": [
        "## Holistic Optimizations - JIT fusers\n",
        "\n",
        "So currently the fuser is a hotspot of development, look at the competition. We'll use the default `fuser1` here."
      ]
    },
    {
      "cell_type": "code",
      "execution_count": null,
      "metadata": {
        "id": "bQLXQRXY7P3g"
      },
      "outputs": [],
      "source": [
        "help(torch.jit.fuser)"
      ]
    },
    {
      "cell_type": "markdown",
      "metadata": {
        "id": "BWrbkTQE7P3g"
      },
      "source": [
        "# Intersection over Union with the JIT\n",
        "\n",
        "\n",
        "Can we have this easier?\n",
        "Many elementwise operations. Usually PyTorch executes them one by one, reading input from memory and writing back outputs.\n",
        "\n",
        "We can let PyTorch fuse these into a single GPU kernel, we can save all that."
      ]
    },
    {
      "cell_type": "code",
      "execution_count": null,
      "metadata": {
        "id": "08NS8kuB7P3h"
      },
      "outputs": [],
      "source": [
        "@torch.jit.script\n",
        "def ratio_iou_scripted(x1, y1, w1, h1, x2, y2, w2, h2):\n",
        "    xi = torch.max(x1, x2)                                # Intersection (yi similarly)\n",
        "    yi = torch.max(y1, y2)                                # Intersection (yi similarly)\n",
        "    wi = torch.clamp(torch.min(x1+w1, x2+w2) - xi, min=0)\n",
        "    hi = torch.clamp(torch.min(y1+h1, y2+h2) - yi, min=0)\n",
        "    area_i = wi * hi                                      # Area Intersection\n",
        "    area_u = w1 * h1 + w2 * h2 - wi * hi                  # Area Union\n",
        "    return area_i / torch.clamp(area_u, min=1e-5)\n"
      ]
    },
    {
      "cell_type": "markdown",
      "metadata": {
        "id": "Nw2k1qsc7P3h"
      },
      "source": [
        "This gives us a good speedup:"
      ]
    },
    {
      "cell_type": "code",
      "execution_count": null,
      "metadata": {
        "id": "YLyl9cwl7P3h"
      },
      "outputs": [],
      "source": [
        "x1, y1, w1, h1, x2, y2, w2, h2 = torch.randn(8, 100, 1000, device='cuda').exp()\n",
        "\n",
        "def take_time(fn):\n",
        "    _ = fn(x1, y1, w1, h1, x2, y2, w2, h2)\n",
        "    torch.cuda.synchronize()\n",
        "\n",
        "take_time(ratio_iou) # warmup\n",
        "%timeit take_time(ratio_iou)\n",
        "\n",
        "take_time(ratio_iou_scripted)\n",
        "take_time(ratio_iou_scripted)\n",
        "%timeit take_time(ratio_iou_scripted)"
      ]
    },
    {
      "cell_type": "markdown",
      "metadata": {
        "id": "qg-uHyy97P3h"
      },
      "source": [
        "We can see in the graph specialised for the inputs which operations are fused:"
      ]
    },
    {
      "cell_type": "code",
      "execution_count": null,
      "metadata": {
        "scrolled": true,
        "id": "cuAl3Ppm7P3h"
      },
      "outputs": [],
      "source": [
        "ratio_iou_scripted.graph_for(x1, y1, w1, h1, x2, y2, w2, h2)"
      ]
    },
    {
      "cell_type": "markdown",
      "metadata": {
        "id": "XCGFPiLD7P3i"
      },
      "source": [
        "# Other optimization options\n",
        "\n",
        "We can export to optimized or optimization frameworks\n",
        "  - ONNXRuntime\n",
        "  - Apache TVM\n",
        "  - TensorRT/TRTorch\n",
        "\n",
        "these share some properties:\n",
        "- work best for inference, but increasingly also for training,\n",
        "- often use the JIT representation (TorchScript) as format, with ONNXRuntime using ONNX as an additional step,\n",
        "- there is a push into integrating optimized parts back into PyTorch.\n",
        " \n",
        "Other option: manually implement kernels\n",
        " - a lot of work,\n",
        " - sometimes the most realistic option when you have very complex algorithms."
      ]
    },
    {
      "cell_type": "markdown",
      "metadata": {
        "id": "UW4l_XX_7P3i"
      },
      "source": [
        "# Part III: After training our model, are we done?\n",
        "\n",
        "### Aspects of deployment and the model lifecycle\n",
        "\n",
        "  - The PyTorch JIT for export\n",
        "  - Keeping an eye on your model: Drift detection\n",
        "    - Why, what, how\n",
        "    - Better drift detection\n",
        "\n",
        "  "
      ]
    },
    {
      "cell_type": "markdown",
      "metadata": {
        "id": "Tr8oW0ZC7P3i"
      },
      "source": [
        "# More PyTorch JIT\n",
        "\n",
        "\n",
        "So if we have our model in PyTorch. Can we export it?\n",
        "\n",
        "This is where the PyTorch Just-In-Time compiler comes into play. It provides a graphical representation \n",
        "called _TorchScript_  (used somewhat synonymously for the language and the representation).\n",
        "\n",
        "There are two main ways to get a TorchScript graph:\n",
        "- scripting and\n",
        "- tracing.\n",
        "\n",
        "We'll look at these in some detail."
      ]
    },
    {
      "cell_type": "markdown",
      "metadata": {
        "id": "Ns8KULbD7P3i"
      },
      "source": [
        "## Scripting\n",
        "\n",
        "Scripting compiles (mostly) a subset of Python.\n",
        "It takes the Python source code and transforms it. \n",
        "\"Here is what the function should do\", just like normal programming."
      ]
    },
    {
      "cell_type": "code",
      "execution_count": null,
      "metadata": {
        "id": "YDEG7CAk7P3j"
      },
      "outputs": [],
      "source": [
        "@torch.jit.script\n",
        "def fn(x):\n",
        "    return x * 2"
      ]
    },
    {
      "cell_type": "code",
      "execution_count": null,
      "metadata": {
        "id": "R0R-OsFY7P3j"
      },
      "outputs": [],
      "source": [
        "fn, fn.graph"
      ]
    },
    {
      "cell_type": "markdown",
      "metadata": {
        "id": "EbiNg4_t7P3j"
      },
      "source": [
        "### Tracing\n",
        "\n",
        "Tracing runs the code and observers the calls into PyTorch with some sample input.\n",
        "\"Watch me, now you know how to do the same.\""
      ]
    },
    {
      "cell_type": "code",
      "execution_count": null,
      "metadata": {
        "id": "mgR8X2aU7P3j"
      },
      "outputs": [],
      "source": [
        "def fn(x):\n",
        "    return x * 2\n",
        "fn = torch.jit.trace(fn, [torch.randn(5)])\n",
        "\n",
        "print(fn.graph, fn.code)"
      ]
    },
    {
      "cell_type": "markdown",
      "metadata": {
        "id": "5jiCCl9n7P3j"
      },
      "source": [
        "### TorchScript\n",
        "\n",
        "One important difference between TorchScript and Python is that in TorchScript everything is typed. Important\n",
        "types are\n",
        "- `bool`, `int`, `long`, `double` for numbers (int = 32 bit integer, long = 64 bit integer)\n",
        "- `Tensor` for tensors (of arbitrary shape, dtype, ...)\n",
        "- `List[T]` a list with elements fo type T (one of the above)\n",
        "- Tuples are of fixed size with arbitrary but fixed element type, so e.g. `Tuple(Tensor, int)`.\n",
        "- `Optional[T]` for things that can be `None`\n",
        "\n",
        "`None` always is of type `Optional[T]` for some specific `T` (except in the rarest circumstances).\n",
        "\n",
        "PyTorch will mostly infer the intermediate and return types, but you need to annotate any non-Tensor inputs."
      ]
    },
    {
      "cell_type": "markdown",
      "metadata": {
        "id": "ec3jDx_Y7P3k"
      },
      "source": [
        "### Tracing vs. Scripting\n",
        "\n",
        "Scripting will process all code but may not understand all. This means it captures all constructs (like control flow) it understands, but it will fail if it doesn't understand something.\n",
        "\n",
        "Tracing doesn't see anything not calling into PyTorch and will happily ignore that (e.g. control flow). This is also the reason why it will loudly complain if you have non-tensor inputs.\n"
      ]
    },
    {
      "cell_type": "code",
      "execution_count": null,
      "metadata": {
        "id": "QGVvezL17P3k"
      },
      "outputs": [],
      "source": [
        "def fn(x):\n",
        "    for i in range(x.dim()):\n",
        "        x = x * x\n",
        "    return x\n",
        "\n",
        "script_fn = torch.jit.script(fn)\n",
        "trace_fn = torch.jit.trace(fn, [torch.randn(5, 5)])"
      ]
    },
    {
      "cell_type": "code",
      "execution_count": null,
      "metadata": {
        "id": "5BOjWMxk7P3k"
      },
      "outputs": [],
      "source": [
        "print(script_fn.code)"
      ]
    },
    {
      "cell_type": "code",
      "execution_count": null,
      "metadata": {
        "id": "53mng3hm7P3k"
      },
      "outputs": [],
      "source": [
        "print(trace_fn.code)"
      ]
    },
    {
      "cell_type": "markdown",
      "metadata": {
        "id": "AheifSoX7P3k"
      },
      "source": [
        "## Tracing and Scripting Modules\n",
        "\n",
        "But our models often are not functions. What now?\n",
        "\n",
        "With tracing, we can work just like with functions. We get a `ScriptModule` subclass that behaves much like a\n",
        "`Module` with parameters, state dict etc."
      ]
    },
    {
      "cell_type": "code",
      "execution_count": null,
      "metadata": {
        "id": "z7npFcOS7P3k"
      },
      "outputs": [],
      "source": [
        "traced_model = torch.jit.trace(model, [torch.randn(8, 1)])\n",
        "type(traced_model), traced_model"
      ]
    },
    {
      "cell_type": "markdown",
      "metadata": {
        "id": "8Cod-m8I7P3l"
      },
      "source": [
        "Saving is a bit different, here we include the model on purpose:"
      ]
    },
    {
      "cell_type": "code",
      "execution_count": null,
      "metadata": {
        "id": "97afMz567P3l"
      },
      "outputs": [],
      "source": [
        "traced_model.save('./traced_model.pt')\n",
        "loaded_model = torch.jit.load('./traced_model.pt')\n",
        "\n",
        "loaded_model(torch.randn(8,1))"
      ]
    },
    {
      "cell_type": "markdown",
      "metadata": {
        "id": "bfWBYyuz7P3l"
      },
      "source": [
        "# Scripting Modules\n",
        "\n",
        "Scripting modules is ... a bit tricky. We don't script the class in its entirety but instead take an instance (in particular past `__init__`) and process its data members and methods (the latters work like script functions)."
      ]
    },
    {
      "cell_type": "code",
      "execution_count": null,
      "metadata": {
        "id": "tc3cBgXs7P3l"
      },
      "outputs": [],
      "source": [
        "scripted_model = torch.jit.script(model)\n",
        "print(scripted_model.code)"
      ]
    },
    {
      "cell_type": "markdown",
      "metadata": {
        "id": "KHB9dpNW7P3l"
      },
      "source": [
        "We can also look at the graph including submodules, but it gets unwieldy rather fast:"
      ]
    },
    {
      "cell_type": "code",
      "execution_count": null,
      "metadata": {
        "id": "Y16JgiAH7P3l"
      },
      "outputs": [],
      "source": [
        "scripted_model.forward.inlined_graph"
      ]
    },
    {
      "cell_type": "markdown",
      "metadata": {
        "id": "X4IdmPx87P3l"
      },
      "source": [
        "# What can you do with scripted modules?\n",
        "\n",
        "- Run them as is, bypassing Python.\n",
        "  - not as much speedup as often is expected (maybe 5%-10% for some models I tested),\n",
        "  - but - sometimes crucially - it avoids the dreaded Python Global Interpreter Lock (GIL), so it is useful e.g.\n",
        "    for multithreaded things like serving PyTorch models.\n"
      ]
    },
    {
      "cell_type": "markdown",
      "metadata": {
        "id": "1zehO1wD7P3m"
      },
      "source": [
        "# PyTorch is ... Pythonic, but not Python only\n",
        "\n",
        "\n",
        "<img src=\"https://github.com/t-vi/lod2021/blob/main/Ch15_F4_PyTorch_calling_pytorch.svg?raw=1\" style=\"float: right;\"/>\n",
        "\n",
        "When we looked at _PyTorch is functions_, we actually conflated PyTorch the interface and PyTorch the backend.\n",
        "\n",
        "The JIT was another way of accessing the backend.\n",
        "\n",
        "Looking closer, we have `libtorch` (the C++-implemented autograd-enabled backend) calling down into `ATen` for tensor operations and there the dispatching to ATen's own kernels or libraries.\n",
        "\n"
      ]
    }
  ],
  "metadata": {
    "accelerator": "GPU",
    "celltoolbar": "Slideshow",
    "kernelspec": {
      "display_name": "Python 3",
      "language": "python",
      "name": "python3"
    },
    "language_info": {
      "codemirror_mode": {
        "name": "ipython",
        "version": 3
      },
      "file_extension": ".py",
      "mimetype": "text/x-python",
      "name": "python",
      "nbconvert_exporter": "python",
      "pygments_lexer": "ipython3",
      "version": "3.9.7"
    },
    "rise": {
      "header": "<img id='mathinf-logo-header' src='mathinf_logo.png' />",
      "theme": "white",
      "transition": "off"
    },
    "colab": {
      "name": "pytorch_introduction.ipynb",
      "provenance": []
    }
  },
  "nbformat": 4,
  "nbformat_minor": 0
}
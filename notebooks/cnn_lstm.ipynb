{
 "cells": [
  {
   "cell_type": "code",
   "execution_count": 2,
   "id": "e495b162-ec65-47d3-8920-9ee3e9aa9cb3",
   "metadata": {},
   "outputs": [],
   "source": [
    "%reload_ext autoreload\n",
    "%autoreload 2\n",
    "%matplotlib inline"
   ]
  },
  {
   "cell_type": "code",
   "execution_count": 7,
   "id": "aed1f77f-49b9-4398-9d39-7637eebc7595",
   "metadata": {},
   "outputs": [],
   "source": [
    "import numpy as np\n",
    "import matplotlib.pyplot as plt\n",
    "import torch\n",
    "from torch import nn\n",
    "import torch.nn.functional as F\n",
    "import timm"
   ]
  },
  {
   "cell_type": "code",
   "execution_count": 21,
   "id": "b1eb8d67-0a7c-4de6-b959-296cea41cf23",
   "metadata": {},
   "outputs": [],
   "source": [
    "image_dim   = 512\n",
    "text_dim    = 512\n",
    "decoder_dim = 1024"
   ]
  },
  {
   "cell_type": "code",
   "execution_count": 26,
   "id": "83d918e3-a6d2-4459-b489-6cfcf8fd3680",
   "metadata": {},
   "outputs": [],
   "source": [
    "class Net(nn.Module):\n",
    "    def __init__(self,):\n",
    "        super(Net, self).__init__()\n",
    "        m = timm.create_model('resnet26d')\n",
    "        self.encoder = nn.Sequential(*list(m.children())[:-1], nn.Linear(2048, 512))\n",
    "        self.token_embed = nn.Embedding(vocab_size, text_dim)\n",
    "        self.logit = nn.Linear(decoder_dim, vocab_size)\n",
    "\n",
    "        self.rnn = nn.LSTM(\n",
    "            text_dim,\n",
    "            decoder_dim,\n",
    "            num_layers = 2,\n",
    "            bias = True,\n",
    "            batch_first = True,\n",
    "            dropout = 0.2,\n",
    "            bidirectional = False\n",
    "        )\n",
    "        self.token_embed.weight.data.uniform_(-0.1, 0.1)\n",
    "        self.logit.bias.data.fill_(0)\n",
    "        self.logit.weight.data.uniform_(-0.1, 0.1)\n",
    "\n",
    "\n",
    "    def forward(self, image, token, length):\n",
    "        batch_size,c,h,w  = image.shape\n",
    "\n",
    "        image_embed = self.encoder(image)\n",
    "        text_embed  = self.token_embed(token)\n",
    "\n",
    "        x = torch.cat([image_embed.unsqueeze(1),text_embed],1)\n",
    "        y , (h,c) = self.rnn(x)\n",
    "        logit = self.logit(y[:,1:])\n",
    "        return logit"
   ]
  },
  {
   "cell_type": "code",
   "execution_count": 27,
   "id": "1a96b023-ef8e-4f83-a5b9-8312893d7871",
   "metadata": {},
   "outputs": [],
   "source": [
    "def seq_cross_entropy_loss(logit, token, length):\n",
    "    truth = token[:, 1:]\n",
    "    L = [l - 1 for l in length]\n",
    "    logit = pack_padded_sequence(logit, L, batch_first=True).data\n",
    "    truth = pack_padded_sequence(truth, L, batch_first=True).data\n",
    "    loss = F.cross_entropy(logit, truth, ignore_index=STOI['<pad>'])\n",
    "    return loss"
   ]
  },
  {
   "cell_type": "code",
   "execution_count": 28,
   "id": "b9cdfbf8-5348-449d-b627-9dfb98a2a2c4",
   "metadata": {},
   "outputs": [],
   "source": [
    "def run_check_net():\n",
    "    batch_size = 7\n",
    "    C,H,W = 3, 224, 224\n",
    "    image = torch.randn((batch_size,C,H,W))\n",
    "\n",
    "    token  = np.full((batch_size, max_length), STOI['<pad>'], np.int64) #token\n",
    "    length = np.random.randint(5,max_length-2, batch_size)\n",
    "    length = np.sort(length)[::-1].copy()\n",
    "    for b in range(batch_size):\n",
    "        l = length[b]\n",
    "        t = np.random.choice(vocab_size,l)\n",
    "        t = np.insert(t,0,     0)\n",
    "        t = np.insert(t,len(t),1)\n",
    "        L = len(t)\n",
    "        token[b,:L]=t\n",
    "\n",
    "    token  = torch.from_numpy(token).long()\n",
    "\n",
    "\n",
    "\n",
    "    #---\n",
    "    net = Net()\n",
    "    net.train()\n",
    "\n",
    "    logit = net(image, token, length)\n",
    "    print('vocab_size',vocab_size)\n",
    "    print('max_length',max_length)\n",
    "    print('')\n",
    "    print(length)\n",
    "    print(length.shape)\n",
    "    print(token.shape)\n",
    "    print(image.shape)\n",
    "    print('---')\n",
    "\n",
    "    print(logit.shape)\n",
    "    print('---')"
   ]
  },
  {
   "cell_type": "code",
   "execution_count": 29,
   "id": "4242bd56-113e-40d8-b7d4-de07b812b8de",
   "metadata": {},
   "outputs": [
    {
     "name": "stdout",
     "output_type": "stream",
     "text": [
      "vocab_size 193\n",
      "max_length 300\n",
      "\n",
      "[266 223 175 162 128  91  21]\n",
      "(7,)\n",
      "torch.Size([7, 300])\n",
      "torch.Size([7, 3, 224, 224])\n",
      "---\n",
      "torch.Size([7, 300, 193])\n",
      "---\n"
     ]
    }
   ],
   "source": [
    "run_check_net()"
   ]
  },
  {
   "cell_type": "code",
   "execution_count": null,
   "id": "76f9e485-4326-4225-81e2-0e6f4d1fa6d8",
   "metadata": {},
   "outputs": [],
   "source": []
  }
 ],
 "metadata": {
  "kernelspec": {
   "display_name": "Python 3",
   "language": "python",
   "name": "python3"
  },
  "language_info": {
   "codemirror_mode": {
    "name": "ipython",
    "version": 3
   },
   "file_extension": ".py",
   "mimetype": "text/x-python",
   "name": "python",
   "nbconvert_exporter": "python",
   "pygments_lexer": "ipython3",
   "version": "3.8.10"
  }
 },
 "nbformat": 4,
 "nbformat_minor": 5
}

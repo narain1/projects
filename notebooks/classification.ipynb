{
 "cells": [
  {
   "cell_type": "code",
   "execution_count": 1,
   "id": "f95a175f-4e7f-42c1-97f9-9cceb02ac6c0",
   "metadata": {},
   "outputs": [],
   "source": [
    "from fastai.vision.all import *\n",
    "import timm\n",
    "from torch.utils.data import Dataset\n",
    "import albumentations as A\n",
    "from albumentations.pytorch.transforms import ToTensorV2\n",
    "import cv2\n",
    "from typing import List\n",
    "from sklearn.model_selection import train_test_split\n",
    "import kornia as K\n",
    "import warnings\n",
    "warnings.filterwarnings('ignore')"
   ]
  },
  {
   "cell_type": "code",
   "execution_count": 2,
   "id": "5cb86bfb-a7d9-4606-b79f-bcc4c96b9002",
   "metadata": {},
   "outputs": [],
   "source": [
    "img_dir = '/mnt/data/flowers'"
   ]
  },
  {
   "cell_type": "code",
   "execution_count": 3,
   "id": "a1d91b08-0edf-4d6a-85e1-8e775e98d15c",
   "metadata": {},
   "outputs": [],
   "source": [
    "class ClassificationDataset(Dataset):\n",
    "    def __init__(self, xs, ys, augs):\n",
    "        self.xs = xs\n",
    "        self.ys = L(ys).map(self.enc)\n",
    "        self.augs = augs\n",
    "        \n",
    "    @classmethod    \n",
    "    def from_imagenet(cls, root, augs: List):\n",
    "        fs = get_image_files(img_dir)\n",
    "        ys = fs.map(lambda x: x.parent.name)\n",
    "        cls.c = len(ys.unique())\n",
    "        classes = ys.unique().sorted()\n",
    "        cls.enc = {j:i for i,j in enumerate(classes)}\n",
    "        cls.rev_enc = {j:i for i,j in cls.enc.items()}\n",
    "        x_train, x_val, y_train, y_val = train_test_split(fs, ys, \n",
    "                                                           random_state=2021, test_size=0.2)\n",
    "        return cls(x_train, y_train, augs[0]), cls(x_val, y_val, augs[1])\n",
    "    \n",
    "    def __getitem__(self, idx):\n",
    "        img = np.array(Image.open(self.xs[idx]).convert('RGB'))\n",
    "        img = self.augs(image=img)['image']\n",
    "        return img, torch.tensor(self.ys[idx])\n",
    "    \n",
    "    def __len__(self): return len(self.xs)"
   ]
  },
  {
   "cell_type": "code",
   "execution_count": 4,
   "id": "889bb65a-2919-4e84-9300-f63d2677641a",
   "metadata": {},
   "outputs": [],
   "source": [
    "def get_light_augmentations(img_sz):\n",
    "    return A.Compose([\n",
    "        A.ShiftScaleRotate(shift_limit=0.05, scale_limit=0.1,\n",
    "                           rotate_limit=15,\n",
    "                           border_mode= cv2.BORDER_REFLECT, value=0),\n",
    "        A.RandomResizedCrop(img_sz, img_sz, \n",
    "                            scale = (0.65, 1.1),\n",
    "                            p=1),\n",
    "        A.OneOf([\n",
    "            A.RandomBrightnessContrast(brightness_limit=0.25,\n",
    "                                       contrast_limit=0.2),\n",
    "            A.NoOp()]),\n",
    "        A.HorizontalFlip(p=0.5),\n",
    "        ToTensorV2()\n",
    "    ])\n",
    "\n",
    "def val_augmentations(img_sz):\n",
    "    return A.Compose([A.Resize(img_sz, img_sz, p=1),\n",
    "                      ToTensorV2()])"
   ]
  },
  {
   "cell_type": "code",
   "execution_count": 5,
   "id": "6fc9044f-6e32-4ad8-b094-520c58dc9577",
   "metadata": {},
   "outputs": [],
   "source": [
    "def plot_sample(o, n: int=5):\n",
    "    fig, axes = plt.subplots(n, n, figsize=(10, 10))\n",
    "    for k, ax in enumerate(axes.ravel()):\n",
    "        x, y = random.choice(o)\n",
    "        ax.imshow(x.permute(1, 2, 0))\n",
    "        ax.set_title(o.rev_enc[y.item()])\n",
    "        ax.axis('off')\n",
    "    plt.show()\n",
    "#         ax.subplots_adjust(wspace=None, hspace=None)"
   ]
  },
  {
   "cell_type": "code",
   "execution_count": 6,
   "id": "097f72c0-0f82-403b-85bd-a34636a5b2a2",
   "metadata": {},
   "outputs": [],
   "source": [
    "def get_model(name, c):\n",
    "    return nn.Sequential(*list(timm.create_model(name, pretrained=True, num_classes=c).children()))"
   ]
  },
  {
   "cell_type": "code",
   "execution_count": 7,
   "id": "cbd538f8-195a-45f5-833d-b2c4b8056c76",
   "metadata": {},
   "outputs": [],
   "source": [
    "class ImgProcCB(Callback):\n",
    "    def before_batch(self):\n",
    "        xb = K.normalize(self.xb[0]/255.0, \n",
    "                         mean=torch.tensor((0.485, 0.456, 0.406)), \n",
    "                         std=torch.tensor((0.229, 0.224, 0.225)))\n",
    "        self.learn.xb = (xb,)"
   ]
  },
  {
   "cell_type": "code",
   "execution_count": 19,
   "id": "1f3ba3e8-ba28-4f84-a275-3f1dc346a58a",
   "metadata": {},
   "outputs": [],
   "source": [
    "class PredictionDynamics(Callback):\n",
    "    order, run_valid = 70, True\n",
    "\n",
    "    def __init__(self, show_perc=1., figsize=(6, 6), alpha=.3, size=30, color='lime', cmap='gist_rainbow'):\n",
    "\n",
    "        \"\"\"\n",
    "        Args:\n",
    "            show_perc:  percent of samples from the valid set that will be displayed. Default: 1 (all).\n",
    "                        You can reduce it if the number is too high and the chart is too busy.\n",
    "            alpha:      level of transparency. Default:.3. 1 means no transparency.\n",
    "            figsize:    size of the chart. You may want to expand it if too many classes.\n",
    "            size:       size of each sample in the chart. Default:30. You may need to decrease it a bit if too many classes/ samples.\n",
    "            color:      color used in regression plots.\n",
    "            cmap:       color map used in classification plots.\n",
    "\n",
    "        The red line in classification tasks indicate the average probability of true class.\n",
    "        \"\"\"\n",
    "\n",
    "        store_attr(\"show_perc,figsize,alpha,size,color,cmap\")\n",
    "\n",
    "    def before_fit(self):\n",
    "        self.run = not hasattr(self.learn, 'lr_finder') and not hasattr(self, \"gather_preds\")\n",
    "        if not self.run:\n",
    "            return\n",
    "        self.cat = True if (hasattr(self.dls, \"c\") and self.dls.c > 1) else False\n",
    "        if self.show_perc != 1:\n",
    "            valid_size = len(self.dls.valid.dataset)\n",
    "            self.show_idxs = np.random.choice(valid_size, int(round(self.show_perc * valid_size)), replace=False)\n",
    "\n",
    "        # Prepare ground truth container\n",
    "        self.y_true = []\n",
    "        assert hasattr(self.learn, 'progress')\n",
    "\n",
    "    def before_epoch(self):\n",
    "        # Prepare empty pred container in every epoch\n",
    "        self.y_pred = []\n",
    "\n",
    "    def after_pred(self):\n",
    "        if self.training:\n",
    "            return\n",
    "\n",
    "        # Get y_true in epoch 0\n",
    "        if self.epoch == 0:\n",
    "            self.y_true.extend(self.y.cpu().flatten().numpy())\n",
    "\n",
    "        # Gather y_pred for every batch\n",
    "        if self.cat:\n",
    "            y_pred = torch.gather(F.softmax(self.pred.detach().cpu(), 1), -1, self.y.cpu().reshape(-1, 1).long())\n",
    "        else:\n",
    "            y_pred = self.pred.detach().cpu()\n",
    "        self.y_pred.extend(y_pred.flatten().numpy())\n",
    "\n",
    "    def after_epoch(self):\n",
    "        # Ground truth\n",
    "        if self.epoch == 0:\n",
    "            self.y_true = np.array(self.y_true)\n",
    "            if self.show_perc != 1:\n",
    "                self.y_true = self.y_true[self.show_idxs]\n",
    "            self.y_bounds = (np.min(self.y_true), np.max(self.y_true))\n",
    "            self.min_x_bounds, self.max_x_bounds = np.min(self.y_true), np.max(self.y_true)\n",
    "\n",
    "        self.y_pred = np.array(self.y_pred)\n",
    "        if self.show_perc != 1:\n",
    "            self.y_pred = self.y_pred[self.show_idxs]\n",
    "        if self.cat:\n",
    "            self.update_graph(self.y_pred, self.y_true)\n",
    "        else:\n",
    "            # Adjust bounds during validation\n",
    "            self.min_x_bounds = min(self.min_x_bounds, np.min(self.y_pred))\n",
    "            self.max_x_bounds = max(self.max_x_bounds, np.max(self.y_pred))\n",
    "            x_bounds = (self.min_x_bounds, self.max_x_bounds)\n",
    "            self.update_graph(self.y_pred, self.y_true, x_bounds=x_bounds, y_bounds=self.y_bounds)\n",
    "\n",
    "    def after_fit(self):\n",
    "        plt.close(self.graph_ax.figure)\n",
    "\n",
    "    def update_graph(self, y_pred, y_true, x_bounds=None, y_bounds=None):\n",
    "        if not hasattr(self, 'graph_fig'):\n",
    "            if self.cat:\n",
    "                self._cl_names = self.dls.enc.keys()\n",
    "                self._classes = L(self.dls.enc.values())\n",
    "                self._n_classes = len(self._classes)\n",
    "                self._h_vals = np.linspace(-.5, self._n_classes - .5, self._n_classes + 1)[::-1]\n",
    "                _cm = plt.get_cmap(self.cmap)\n",
    "                self._color = [_cm(1. * c/self._n_classes) for c in range(1, self._n_classes + 1)][::-1]\n",
    "                self._rand = []\n",
    "                for i, c in enumerate(self._classes):\n",
    "                    self._rand.append(.5 * (np.random.rand(np.sum(y_true == c)) - .5))\n",
    "            self.graph_fig, self.graph_ax = plt.subplots(1, figsize=self.figsize)\n",
    "            self.graph_out = display(self.graph_ax.figure, display_id=True)\n",
    "            self.df_out = display(pd.DataFrame(), display_id=True)\n",
    "        self.graph_ax.clear()\n",
    "        if self.cat:\n",
    "            for i, c in enumerate(self._classes):\n",
    "                self.graph_ax.scatter(y_pred[y_true == c], y_true[y_true == c] + self._rand[i],  color=self._color[i],\n",
    "                                      edgecolor='black', alpha=self.alpha, linewidth=.5, s=self.size)\n",
    "                self.graph_ax.vlines(np.mean(y_pred[y_true == c]), i - .5, i + .5, color='r')\n",
    "            self.graph_ax.vlines(.5, min(self._h_vals), max(self._h_vals), linewidth=.5)\n",
    "            self.graph_ax.hlines(self._h_vals, 0, 1, linewidth=.5)\n",
    "            self.graph_ax.set_xlim(0, 1)\n",
    "            self.graph_ax.set_ylim(min(self._h_vals), max(self._h_vals))\n",
    "            self.graph_ax.set_xticks(np.linspace(0, 1, 11))\n",
    "            self.graph_ax.set_yticks(self._classes)\n",
    "            self.graph_ax.set_yticklabels(self._cl_names)\n",
    "            self.graph_ax.set_xlabel('probability of true class', fontsize=12)\n",
    "            self.graph_ax.set_ylabel('true class', fontsize=12)\n",
    "            self.graph_ax.grid(axis='x', color='gainsboro', linewidth=.2)\n",
    "        else:\n",
    "            self.graph_ax.scatter(y_pred, y_true, lw=1, color=self.color,\n",
    "                                  edgecolor='black', alpha=self.alpha, linewidth=.5, s=self.size)\n",
    "            self.graph_ax.set_xlim(*x_bounds)\n",
    "            self.graph_ax.set_ylim(*y_bounds)\n",
    "            self.graph_ax.plot([*x_bounds], [*x_bounds], color='gainsboro')\n",
    "            self.graph_ax.set_xlabel('y_pred', fontsize=12)\n",
    "            self.graph_ax.set_ylabel('y_true', fontsize=12)\n",
    "            self.graph_ax.grid(color='gainsboro', linewidth=.2)\n",
    "        self.graph_ax.set_title(f'Prediction Dynamics \\nepoch: {self.epoch +1}/{self.n_epoch}')\n",
    "        self.graph_out.update(self.graph_ax.figure)\n",
    "        self.df_out.update(pd.DataFrame(np.stack(self.learn.recorder.values)[-1].reshape(1,-1), \n",
    "                                        columns=self.learn.recorder.metric_names[1:-1], index=[self.epoch]))"
   ]
  },
  {
   "cell_type": "code",
   "execution_count": 20,
   "id": "c5a5ecf5-1e20-49ad-8eef-20c84bf0e544",
   "metadata": {},
   "outputs": [
    {
     "data": {
      "text/html": [],
      "text/plain": [
       "<IPython.core.display.HTML object>"
      ]
     },
     "metadata": {},
     "output_type": "display_data"
    },
    {
     "data": {
      "text/html": [
       "<table border=\"1\" class=\"dataframe\">\n",
       "  <thead>\n",
       "    <tr style=\"text-align: left;\">\n",
       "      <th>epoch</th>\n",
       "      <th>train_loss</th>\n",
       "      <th>valid_loss</th>\n",
       "      <th>accuracy</th>\n",
       "      <th>time</th>\n",
       "    </tr>\n",
       "  </thead>\n",
       "  <tbody>\n",
       "    <tr>\n",
       "      <td>0</td>\n",
       "      <td>1.449036</td>\n",
       "      <td>1.150404</td>\n",
       "      <td>0.714120</td>\n",
       "      <td>00:11</td>\n",
       "    </tr>\n",
       "    <tr>\n",
       "      <td>1</td>\n",
       "      <td>0.804529</td>\n",
       "      <td>0.292790</td>\n",
       "      <td>0.902778</td>\n",
       "      <td>00:11</td>\n",
       "    </tr>\n",
       "    <tr>\n",
       "      <td>2</td>\n",
       "      <td>0.411354</td>\n",
       "      <td>0.285364</td>\n",
       "      <td>0.902778</td>\n",
       "      <td>00:11</td>\n",
       "    </tr>\n",
       "    <tr>\n",
       "      <td>3</td>\n",
       "      <td>0.231074</td>\n",
       "      <td>0.214737</td>\n",
       "      <td>0.931713</td>\n",
       "      <td>00:11</td>\n",
       "    </tr>\n",
       "  </tbody>\n",
       "</table>"
      ],
      "text/plain": [
       "<IPython.core.display.HTML object>"
      ]
     },
     "metadata": {},
     "output_type": "display_data"
    },
    {
     "name": "stdout",
     "output_type": "stream",
     "text": [
      "Better model found at epoch 0 with accuracy value: 0.7141203880310059.\n"
     ]
    },
    {
     "data": {
      "image/png": "[encoded data removed]",
      "text/plain": [
       "<Figure size 432x432 with 1 Axes>"
      ]
     },
     "metadata": {},
     "output_type": "display_data"
    },
    {
     "data": {
      "text/html": [
       "<div>\n",
       "<style scoped>\n",
       "    .dataframe tbody tr th:only-of-type {\n",
       "        vertical-align: middle;\n",
       "    }\n",
       "\n",
       "    .dataframe tbody tr th {\n",
       "        vertical-align: top;\n",
       "    }\n",
       "\n",
       "    .dataframe thead th {\n",
       "        text-align: right;\n",
       "    }\n",
       "</style>\n",
       "<table border=\"1\" class=\"dataframe\">\n",
       "  <thead>\n",
       "    <tr style=\"text-align: right;\">\n",
       "      <th></th>\n",
       "      <th>train_loss</th>\n",
       "      <th>valid_loss</th>\n",
       "      <th>accuracy</th>\n",
       "    </tr>\n",
       "  </thead>\n",
       "  <tbody>\n",
       "    <tr>\n",
       "      <th>5</th>\n",
       "      <td>0.032849</td>\n",
       "      <td>0.201895</td>\n",
       "      <td>0.945602</td>\n",
       "    </tr>\n",
       "  </tbody>\n",
       "</table>\n",
       "</div>"
      ],
      "text/plain": [
       "   train_loss  valid_loss  accuracy\n",
       "5    0.032849    0.201895  0.945602"
      ]
     },
     "metadata": {},
     "output_type": "display_data"
    },
    {
     "name": "stdout",
     "output_type": "stream",
     "text": [
      "Better model found at epoch 1 with accuracy value: 0.9027777910232544.\n",
      "Better model found at epoch 3 with accuracy value: 0.9317129850387573.\n"
     ]
    },
    {
     "data": {
      "text/html": [
       "<table border=\"1\" class=\"dataframe\">\n",
       "  <thead>\n",
       "    <tr style=\"text-align: left;\">\n",
       "      <th>epoch</th>\n",
       "      <th>train_loss</th>\n",
       "      <th>valid_loss</th>\n",
       "      <th>accuracy</th>\n",
       "      <th>time</th>\n",
       "    </tr>\n",
       "  </thead>\n",
       "  <tbody>\n",
       "    <tr>\n",
       "      <td>0</td>\n",
       "      <td>0.067603</td>\n",
       "      <td>0.179040</td>\n",
       "      <td>0.942130</td>\n",
       "      <td>00:12</td>\n",
       "    </tr>\n",
       "    <tr>\n",
       "      <td>1</td>\n",
       "      <td>0.056952</td>\n",
       "      <td>0.180992</td>\n",
       "      <td>0.947917</td>\n",
       "      <td>00:12</td>\n",
       "    </tr>\n",
       "    <tr>\n",
       "      <td>2</td>\n",
       "      <td>0.047479</td>\n",
       "      <td>0.184492</td>\n",
       "      <td>0.950231</td>\n",
       "      <td>00:12</td>\n",
       "    </tr>\n",
       "    <tr>\n",
       "      <td>3</td>\n",
       "      <td>0.040138</td>\n",
       "      <td>0.183942</td>\n",
       "      <td>0.950231</td>\n",
       "      <td>00:12</td>\n",
       "    </tr>\n",
       "    <tr>\n",
       "      <td>4</td>\n",
       "      <td>0.037787</td>\n",
       "      <td>0.231897</td>\n",
       "      <td>0.934028</td>\n",
       "      <td>00:12</td>\n",
       "    </tr>\n",
       "    <tr>\n",
       "      <td>5</td>\n",
       "      <td>0.032849</td>\n",
       "      <td>0.201895</td>\n",
       "      <td>0.945602</td>\n",
       "      <td>00:12</td>\n",
       "    </tr>\n",
       "    <tr>\n",
       "      <td>6</td>\n",
       "      <td>0.029196</td>\n",
       "      <td>0.224528</td>\n",
       "      <td>0.938657</td>\n",
       "      <td>00:12</td>\n",
       "    </tr>\n",
       "  </tbody>\n",
       "</table>"
      ],
      "text/plain": [
       "<IPython.core.display.HTML object>"
      ]
     },
     "metadata": {},
     "output_type": "display_data"
    },
    {
     "name": "stdout",
     "output_type": "stream",
     "text": [
      "Better model found at epoch 0 with accuracy value: 0.9421296119689941.\n",
      "Better model found at epoch 1 with accuracy value: 0.9479166865348816.\n",
      "Better model found at epoch 2 with accuracy value: 0.9502314925193787.\n",
      "No improvement since epoch 2: early stopping\n"
     ]
    }
   ],
   "source": [
    "train_ds, val_ds = ClassificationDataset.from_imagenet(img_dir, \n",
    "                                                        [get_light_augmentations(224), val_augmentations(224)])\n",
    "# plot_sample(train_ds, 5)\n",
    "dls = DataLoaders.from_dsets(train_ds, val_ds, batch_size=64).cuda()\n",
    "model = get_model('resnet34d', train_ds.c).cuda()\n",
    "learn = Learner(dls, model, splitter=default_split, metrics=[accuracy], \n",
    "                loss_func=CrossEntropyLossFlat(), cbs=[ImgProcCB()]).to_fp16()\n",
    "learn.freeze()\n",
    "lr = learn.lr_find(show_plot=False)\n",
    "learn.fine_tune(16, base_lr=lr.valley, freeze_epochs=4, \n",
    "                cbs=[EarlyStoppingCallback(monitor='accuracy', comp=np.greater, patience=4),\n",
    "                GradientClip(1.0), PredictionDynamics(),\n",
    "                SaveModelCallback(monitor='accuracy', comp=np.greater)],)"
   ]
  },
  {
   "cell_type": "code",
   "execution_count": 18,
   "id": "c54e44a2-0651-4467-b1ea-2ec2aa11381b",
   "metadata": {},
   "outputs": [
    {
     "data": {
      "text/plain": [
       "(#5) ['epoch','train_loss','valid_loss','accuracy','time']"
      ]
     },
     "execution_count": 18,
     "metadata": {},
     "output_type": "execute_result"
    }
   ],
   "source": [
    "learn.recorder.metric_names"
   ]
  },
  {
   "cell_type": "code",
   "execution_count": 18,
   "id": "11ffe25c-f1f4-446e-af92-780a88a8722b",
   "metadata": {},
   "outputs": [
    {
     "data": {
      "text/plain": [
       "0.9432870149612427"
      ]
     },
     "execution_count": 18,
     "metadata": {},
     "output_type": "execute_result"
    }
   ],
   "source": [
    "learn.metrics[0].value.item()"
   ]
  },
  {
   "cell_type": "code",
   "execution_count": 21,
   "id": "a360a231-c35f-4234-84b4-b417985a1169",
   "metadata": {},
   "outputs": [
    {
     "data": {
      "text/plain": [
       "0.015992293134331703"
      ]
     },
     "execution_count": 21,
     "metadata": {},
     "output_type": "execute_result"
    }
   ],
   "source": [
    "learn.smooth_loss.item()"
   ]
  },
  {
   "cell_type": "code",
   "execution_count": 37,
   "id": "053b4518-7086-4fe1-9d32-0960513d2ae5",
   "metadata": {},
   "outputs": [
    {
     "data": {
      "text/plain": [
       "TensorBase(0.9456)"
      ]
     },
     "execution_count": 37,
     "metadata": {},
     "output_type": "execute_result"
    }
   ],
   "source": [
    "learn._metrics[0].value"
   ]
  },
  {
   "cell_type": "code",
   "execution_count": 16,
   "id": "1d60c853-ebb1-4288-9092-43d8d254b8e2",
   "metadata": {},
   "outputs": [
    {
     "data": {
      "text/plain": [
       "{'daisy': 0, 'dandelion': 1, 'rose': 2, 'sunflower': 3, 'tulip': 4}"
      ]
     },
     "execution_count": 16,
     "metadata": {},
     "output_type": "execute_result"
    }
   ],
   "source": [
    "dls.enc"
   ]
  },
  {
   "cell_type": "code",
   "execution_count": null,
   "id": "26220320-79c2-4fa6-aff8-b4a737fe1fea",
   "metadata": {},
   "outputs": [],
   "source": []
  }
 ],
 "metadata": {
  "kernelspec": {
   "display_name": "python dl0",
   "language": "python",
   "name": "torchdl0"
  },
  "language_info": {
   "codemirror_mode": {
    "name": "ipython",
    "version": 3
   },
   "file_extension": ".py",
   "mimetype": "text/x-python",
   "name": "python",
   "nbconvert_exporter": "python",
   "pygments_lexer": "ipython3",
   "version": "3.8.10"
  }
 },
 "nbformat": 4,
 "nbformat_minor": 5
}

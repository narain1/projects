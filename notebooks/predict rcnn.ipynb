{
 "cells": [
  {
   "cell_type": "code",
   "execution_count": 1,
   "id": "0f19306b-45a9-40e9-83ad-7a1f0f8a9374",
   "metadata": {},
   "outputs": [
    {
     "name": "stderr",
     "output_type": "stream",
     "text": [
      "/home/ubuntu/anaconda3/envs/torchdl0/lib/python3.8/site-packages/numba/core/types/__init__.py:108: DeprecationWarning: `np.long` is a deprecated alias for `np.compat.long`. To silence this warning, use `np.compat.long` by itself. In the likely event your code does not need to work on Python 2 you can use the builtin `int` for which `np.compat.long` is itself an alias. Doing this will not modify any behaviour and is safe. When replacing `np.long`, you may wish to use e.g. `np.int64` or `np.int32` to specify the precision. If you wish to review your current use, check the release note link for additional information.\n",
      "Deprecated in NumPy 1.20; for more details and guidance: https://numpy.org/devdocs/release/1.20.0-notes.html#deprecations\n",
      "  long_ = _make_signed(np.long)\n",
      "/home/ubuntu/anaconda3/envs/torchdl0/lib/python3.8/site-packages/numba/core/types/__init__.py:109: DeprecationWarning: `np.long` is a deprecated alias for `np.compat.long`. To silence this warning, use `np.compat.long` by itself. In the likely event your code does not need to work on Python 2 you can use the builtin `int` for which `np.compat.long` is itself an alias. Doing this will not modify any behaviour and is safe. When replacing `np.long`, you may wish to use e.g. `np.int64` or `np.int32` to specify the precision. If you wish to review your current use, check the release note link for additional information.\n",
      "Deprecated in NumPy 1.20; for more details and guidance: https://numpy.org/devdocs/release/1.20.0-notes.html#deprecations\n",
      "  ulong = _make_unsigned(np.long)\n"
     ]
    }
   ],
   "source": [
    "import effdet, zipfile, json\n",
    "import torch, os, cv2, random\n",
    "from PIL import Image\n",
    "import numpy as np\n",
    "import kornia as K\n",
    "from ensemble_boxes import ensemble_boxes_wbf\n",
    "import matplotlib.pyplot as plt\n",
    "from torch.utils.data import Dataset, DataLoader\n",
    "import fastprogress\n",
    "\n",
    "import torchvision\n",
    "\n",
    "from torchvision.models.detection.faster_rcnn import FastRCNNPredictor\n",
    "from torchvision.models.detection import FasterRCNN\n",
    "from torchvision.models.detection.rpn import AnchorGenerator"
   ]
  },
  {
   "cell_type": "code",
   "execution_count": 2,
   "id": "626573bf-68bd-4585-a630-3976c2a0e466",
   "metadata": {},
   "outputs": [],
   "source": [
    "model_path = 'decrypted_model.mod'\n",
    "conf_path = 'config.json'\n",
    "img_path = '/mnt/data/circuits/images'"
   ]
  },
  {
   "cell_type": "code",
   "execution_count": 3,
   "id": "298037bb-8a2a-4c1f-97c9-bec0fd75a4a7",
   "metadata": {},
   "outputs": [],
   "source": [
    "import os\n",
    "import mimetypes\n",
    "from pathlib import Path\n",
    "from functools import partial\n",
    "\n",
    "get_ext = lambda x: [i for i,j in mimetypes.types_map.items() if j.startswith(x)]\n",
    "\n",
    "image_ext = get_ext('image')\n",
    "video_ext = get_ext('video')\n",
    "text_ext = get_ext('video')\n",
    "audio_ext = get_ext('audio')\n",
    "\n",
    "join_path = lambda x,y: Path(os.path.join(x, y))\n",
    "\n",
    "def get_files(root, file_type=None, recursive=True):\n",
    "    files = []\n",
    "    if file_type: file_type = tuple(file_type)\n",
    "    if not recursive:\n",
    "        files.extend([join_path(root, i) for i in os.listdir(root) if str(i).lower().endswith(file_type)])\n",
    "    else:\n",
    "        for p, d, fs in os.walk(root):\n",
    "            if file_type:\n",
    "                files.extend([join_path(p, f) for f in fs if str(f).lower().endswith(file_type)])\n",
    "            else:\n",
    "                files.extend([join_path(p, f) for f in fs])\n",
    "    return files\n",
    "\n",
    "get_image_files = partial(get_files, file_type = image_ext)\n",
    "get_video_files = partial(get_files, file_type = video_ext)\n",
    "get_text_files = partial(get_files, file_type = text_ext)\n",
    "get_audio_files = partial(get_files, file_type = audio_ext)"
   ]
  },
  {
   "cell_type": "code",
   "execution_count": 4,
   "id": "535202e6-9183-4ca8-8a1d-8817571ad255",
   "metadata": {},
   "outputs": [],
   "source": [
    "def _noop_normalize(image):\n",
    "    return image\n",
    "\n",
    "def _noop_resize(image, target):\n",
    "    return image, target\n",
    "\n",
    "def remove_internal_model_transforms(model):\n",
    "    model.transform.normalize = _noop_normalize\n",
    "    model.transform.resize = _noop_resize\n",
    "    \n",
    "def get_faster_rcnn(nc):\n",
    "    model = torchvision.models.detection.fasterrcnn_resnet50_fpn(pretrained=True)\n",
    "    in_features = model.roi_heads.box_predictor.cls_score.in_features\n",
    "    model.roi_heads.box_predictor = FastRCNNPredictor(in_features, nc)\n",
    "    remove_internal_model_transforms(model)\n",
    "    return model"
   ]
  },
  {
   "cell_type": "code",
   "execution_count": 5,
   "id": "2215ec52-8439-4c63-a282-6c9bc93bdf3c",
   "metadata": {},
   "outputs": [],
   "source": [
    "def normalize(o):\n",
    "    return K.normalize(o/255.0,\n",
    "                        mean=torch.tensor((0.485, 0.456, 0.406)),\n",
    "                        std=torch.tensor((0.229, 0.224, 0.225)))"
   ]
  },
  {
   "cell_type": "code",
   "execution_count": 6,
   "id": "738da8a9-638a-4f88-b18a-7d5694c276b6",
   "metadata": {},
   "outputs": [],
   "source": [
    "class ImageDataset(Dataset):\n",
    "    def __init__(self, fs, img_sz):\n",
    "        self.fs = fs\n",
    "        self.img_sz = img_sz\n",
    "    \n",
    "    def __getitem__(self, idx):\n",
    "        img = Image.open(self.fs[idx]).convert('RGB')\n",
    "        w,h = img.size\n",
    "        img = np.array(img.resize((self.img_sz, self.img_sz)))\n",
    "        return torch.from_numpy(img).permute(2, 0, 1), torch.tensor([w, h]), self.fs[idx].stem\n",
    "    \n",
    "    def __len__(self): return len(self.fs)"
   ]
  },
  {
   "cell_type": "code",
   "execution_count": 15,
   "id": "7b3173ab-4dec-47b2-8fb6-17a863c0ff56",
   "metadata": {},
   "outputs": [],
   "source": [
    "class RCNNPredict:\n",
    "    def __init__(self, model_path, conf_path):\n",
    "        self.load_conf(conf_path)\n",
    "        self.model = self.load_model(model_path)\n",
    "        self.prediction_thres = 0.5\n",
    "        self.img_sz = self.conf['img_sz']\n",
    "        self.enc = {i:j for i,j in enumerate(self.conf['classes'])}\n",
    "        self.f_enc = lambda x: self.enc[x]\n",
    "        \n",
    "    def load_model(self, o):\n",
    "        m = get_faster_rcnn(len(self.conf['classes']))\n",
    "        m = torch.load(o, map_location='cpu')\n",
    "        m = m.float()\n",
    "        m = m.eval()\n",
    "        m = m.cuda()\n",
    "        return m\n",
    "    \n",
    "    def load_conf(self, p):\n",
    "        with open(p, 'r') as f:\n",
    "            self.conf = json.load(f)\n",
    "            \n",
    "    def rescale_bbox(self, bbox, w_scale, h_scale):\n",
    "        bbox = np.array(bbox)\n",
    "        if len(bbox.shape) == 1: return bbox.tolist()\n",
    "        bbox = bbox * [w_scale, h_scale, w_scale, h_scale]\n",
    "        return bbox.tolist()\n",
    "    \n",
    "    def single_predict(self, p):\n",
    "        img = Image.open(p).convert('RGB')\n",
    "        w,h = img.size\n",
    "        img = img.resize((self.img_sz, self.img_sz))\n",
    "        img = torch.from_numpy(np.array(img)).permute(2, 0, 1).cuda().unsqueeze(0)\n",
    "        bbox, conf, classes = self.single_pass(img)\n",
    "        print(bbox, conf, classes)\n",
    "        bbox = self.rescale_bbox(bbox, w/self.img_sz, h/self.img_sz)\n",
    "        return bbox, conf, classes\n",
    "    \n",
    "    def single_pass(self, xb):\n",
    "        with torch.no_grad():\n",
    "            pred = self.model(self.normalize(xb))[0]\n",
    "        bbox, conf, classes = tuple(map(lambda x: x.detach().cpu().numpy(), [pred['boxes'], pred['scores'], pred['labels']]))\n",
    "        if len(classes) != 0 or not isinstance(classes, int): classes = list(map(self.f_enc, classes))\n",
    "        return bbox, conf, classes\n",
    "    \n",
    "    def normalize(self, o):\n",
    "        return K.normalize(o/255.0,\n",
    "                         mean=torch.tensor((0.485, 0.456, 0.406)),\n",
    "                         std=torch.tensor((0.229, 0.224, 0.225)))\n",
    "    \n",
    "    def post_proc_detections(self, detections):\n",
    "        predictions = []\n",
    "        for i in range(detections.shape[0]):\n",
    "            predictions.append(self.post_proc(detections[i]))\n",
    "        predicted_bboxes, predicted_class_confidences, predicted_class_labels = run_wbf(predictions, image_size=512, iou_thr=0.2)\n",
    "        return predicted_bboxes, predicted_class_confidences, predicted_class_labels\n",
    "    \n",
    "    def predict_dl(self, dl):\n",
    "        pred_acc = dict()\n",
    "        with torch.no_grad():\n",
    "            for k, (xb, yb, name) in enumerate(dl):\n",
    "                preds = self.model(list(self.normalize(xb.cuda())))\n",
    "                temp = {n: {'bbox': self.rescale_bbox(p['boxes'].detach().cpu().numpy(), \n",
    "                                                      dims[0].item()/self.img_sz,\n",
    "                                                      dims[1].item()/self.img_sz),\n",
    "                            'conf': p['scores'].detach().cpu().numpy().tolist(),\n",
    "                            'labels': list(map(self.f_enc, p['labels'].detach().cpu().numpy().tolist()))} for n, dims, p in \n",
    "                        zip(name, yb, preds)}\n",
    "                pred_acc.update(temp)\n",
    "        return pred_acc\n",
    "    \n",
    "    def dump_to_zip(self, detections, root='ob_pred.zip'):\n",
    "        with zipfile.ZipFile(root, 'x') as z:\n",
    "            for n, item in detections.items():\n",
    "                if len(item['bbox']) == 0: continue\n",
    "                with z.open(f'{n}.json', 'w') as c:\n",
    "                    c.write(json.dumps(item, indent=2).encode('utf-8'))\n",
    "    \n",
    "    def predict_folder(self, path):\n",
    "        fs = get_image_files(path)\n",
    "        ds = ImageDataset(fs, img_sz = self.img_sz)\n",
    "        dl = DataLoader(ds, batch_size=16, num_workers=2, pin_memory=True)\n",
    "        predictions = self.predict_dl(dl)\n",
    "        predict_path = 'ob_pred.zip'\n",
    "        self.dump_to_zip(predictions, predict_path)\n",
    "        return predict_path"
   ]
  },
  {
   "cell_type": "code",
   "execution_count": 10,
   "id": "7f9470fa-8b9d-40d6-87d5-8435a376a08e",
   "metadata": {},
   "outputs": [],
   "source": [
    "m_predict = RCNNPredict(model_path, conf_path)"
   ]
  },
  {
   "cell_type": "code",
   "execution_count": 11,
   "id": "8f2b8d74-c3df-45df-b2c7-8292300b9ca4",
   "metadata": {},
   "outputs": [],
   "source": [
    "def plot_bboxes(img, bboxes):\n",
    "    for box in bboxes:\n",
    "        cv2.rectangle(img,\n",
    "                      (int(box[0]), int(box[1])),\n",
    "                      (int(box[2]), int(box[3])),\n",
    "                      (220, 0, 0), 3)\n",
    "    return img"
   ]
  },
  {
   "cell_type": "code",
   "execution_count": 13,
   "id": "74b97f15-62b6-483f-a2c2-d68110a4fd1b",
   "metadata": {},
   "outputs": [],
   "source": [
    "fs = get_image_files(img_path)"
   ]
  },
  {
   "cell_type": "code",
   "execution_count": 16,
   "id": "483ecb9b-fc8f-4619-ab87-cb2dd8da16c7",
   "metadata": {},
   "outputs": [
    {
     "ename": "IndexError",
     "evalue": "too many indices for tensor of dimension 1",
     "output_type": "error",
     "traceback": [
      "\u001b[0;31m---------------------------------------------------------------------------\u001b[0m",
      "\u001b[0;31mIndexError\u001b[0m                                Traceback (most recent call last)",
      "\u001b[0;32m/tmp/ipykernel_11240/883283715.py\u001b[0m in \u001b[0;36m<module>\u001b[0;34m\u001b[0m\n\u001b[1;32m      4\u001b[0m     \u001b[0mf\u001b[0m \u001b[0;34m=\u001b[0m \u001b[0mrandom\u001b[0m\u001b[0;34m.\u001b[0m\u001b[0mchoice\u001b[0m\u001b[0;34m(\u001b[0m\u001b[0mfs\u001b[0m\u001b[0;34m)\u001b[0m\u001b[0;34m\u001b[0m\u001b[0;34m\u001b[0m\u001b[0m\n\u001b[1;32m      5\u001b[0m     \u001b[0mimg\u001b[0m \u001b[0;34m=\u001b[0m \u001b[0mnp\u001b[0m\u001b[0;34m.\u001b[0m\u001b[0marray\u001b[0m\u001b[0;34m(\u001b[0m\u001b[0mImage\u001b[0m\u001b[0;34m.\u001b[0m\u001b[0mopen\u001b[0m\u001b[0;34m(\u001b[0m\u001b[0mf\u001b[0m\u001b[0;34m)\u001b[0m\u001b[0;34m)\u001b[0m\u001b[0;34m\u001b[0m\u001b[0;34m\u001b[0m\u001b[0m\n\u001b[0;32m----> 6\u001b[0;31m     \u001b[0mbbox\u001b[0m\u001b[0;34m,\u001b[0m \u001b[0mconf\u001b[0m\u001b[0;34m,\u001b[0m \u001b[0mclasses\u001b[0m \u001b[0;34m=\u001b[0m \u001b[0mm_predict\u001b[0m\u001b[0;34m.\u001b[0m\u001b[0msingle_predict\u001b[0m\u001b[0;34m(\u001b[0m\u001b[0mf\u001b[0m\u001b[0;34m)\u001b[0m\u001b[0;34m\u001b[0m\u001b[0;34m\u001b[0m\u001b[0m\n\u001b[0m\u001b[1;32m      7\u001b[0m     \u001b[0mimg\u001b[0m \u001b[0;34m=\u001b[0m \u001b[0mplot_bboxes\u001b[0m\u001b[0;34m(\u001b[0m\u001b[0mimg\u001b[0m\u001b[0;34m,\u001b[0m \u001b[0mbbox\u001b[0m\u001b[0;34m)\u001b[0m\u001b[0;34m\u001b[0m\u001b[0;34m\u001b[0m\u001b[0m\n\u001b[1;32m      8\u001b[0m     \u001b[0max\u001b[0m\u001b[0;34m.\u001b[0m\u001b[0mimshow\u001b[0m\u001b[0;34m(\u001b[0m\u001b[0mimg\u001b[0m\u001b[0;34m)\u001b[0m\u001b[0;34m\u001b[0m\u001b[0;34m\u001b[0m\u001b[0m\n",
      "\u001b[0;32m/tmp/ipykernel_11240/2059642767.py\u001b[0m in \u001b[0;36msingle_predict\u001b[0;34m(self, p)\u001b[0m\n\u001b[1;32m     31\u001b[0m         \u001b[0mimg\u001b[0m \u001b[0;34m=\u001b[0m \u001b[0mimg\u001b[0m\u001b[0;34m.\u001b[0m\u001b[0mresize\u001b[0m\u001b[0;34m(\u001b[0m\u001b[0;34m(\u001b[0m\u001b[0mself\u001b[0m\u001b[0;34m.\u001b[0m\u001b[0mimg_sz\u001b[0m\u001b[0;34m,\u001b[0m \u001b[0mself\u001b[0m\u001b[0;34m.\u001b[0m\u001b[0mimg_sz\u001b[0m\u001b[0;34m)\u001b[0m\u001b[0;34m)\u001b[0m\u001b[0;34m\u001b[0m\u001b[0;34m\u001b[0m\u001b[0m\n\u001b[1;32m     32\u001b[0m         \u001b[0mimg\u001b[0m \u001b[0;34m=\u001b[0m \u001b[0mtorch\u001b[0m\u001b[0;34m.\u001b[0m\u001b[0mfrom_numpy\u001b[0m\u001b[0;34m(\u001b[0m\u001b[0mnp\u001b[0m\u001b[0;34m.\u001b[0m\u001b[0marray\u001b[0m\u001b[0;34m(\u001b[0m\u001b[0mimg\u001b[0m\u001b[0;34m)\u001b[0m\u001b[0;34m)\u001b[0m\u001b[0;34m.\u001b[0m\u001b[0mpermute\u001b[0m\u001b[0;34m(\u001b[0m\u001b[0;36m2\u001b[0m\u001b[0;34m,\u001b[0m \u001b[0;36m0\u001b[0m\u001b[0;34m,\u001b[0m \u001b[0;36m1\u001b[0m\u001b[0;34m)\u001b[0m\u001b[0;34m.\u001b[0m\u001b[0mcuda\u001b[0m\u001b[0;34m(\u001b[0m\u001b[0;34m)\u001b[0m\u001b[0;34m.\u001b[0m\u001b[0munsqueeze\u001b[0m\u001b[0;34m(\u001b[0m\u001b[0;36m0\u001b[0m\u001b[0;34m)\u001b[0m\u001b[0;34m\u001b[0m\u001b[0;34m\u001b[0m\u001b[0m\n\u001b[0;32m---> 33\u001b[0;31m         \u001b[0mbbox\u001b[0m\u001b[0;34m,\u001b[0m \u001b[0mconf\u001b[0m\u001b[0;34m,\u001b[0m \u001b[0mclasses\u001b[0m \u001b[0;34m=\u001b[0m \u001b[0mself\u001b[0m\u001b[0;34m.\u001b[0m\u001b[0msingle_pass\u001b[0m\u001b[0;34m(\u001b[0m\u001b[0mimg\u001b[0m\u001b[0;34m)\u001b[0m\u001b[0;34m\u001b[0m\u001b[0;34m\u001b[0m\u001b[0m\n\u001b[0m\u001b[1;32m     34\u001b[0m         \u001b[0mbbox\u001b[0m \u001b[0;34m=\u001b[0m \u001b[0mself\u001b[0m\u001b[0;34m.\u001b[0m\u001b[0mrescale_bbox\u001b[0m\u001b[0;34m(\u001b[0m\u001b[0mbbox\u001b[0m\u001b[0;34m,\u001b[0m \u001b[0mw\u001b[0m\u001b[0;34m/\u001b[0m\u001b[0mself\u001b[0m\u001b[0;34m.\u001b[0m\u001b[0mimg_sz\u001b[0m\u001b[0;34m,\u001b[0m \u001b[0mh\u001b[0m\u001b[0;34m/\u001b[0m\u001b[0mself\u001b[0m\u001b[0;34m.\u001b[0m\u001b[0mimg_sz\u001b[0m\u001b[0;34m)\u001b[0m\u001b[0;34m\u001b[0m\u001b[0;34m\u001b[0m\u001b[0m\n\u001b[1;32m     35\u001b[0m         \u001b[0;32mreturn\u001b[0m \u001b[0mbbox\u001b[0m\u001b[0;34m,\u001b[0m \u001b[0mconf\u001b[0m\u001b[0;34m,\u001b[0m \u001b[0mclasses\u001b[0m\u001b[0;34m\u001b[0m\u001b[0;34m\u001b[0m\u001b[0m\n",
      "\u001b[0;32m/tmp/ipykernel_11240/2059642767.py\u001b[0m in \u001b[0;36msingle_pass\u001b[0;34m(self, xb)\u001b[0m\n\u001b[1;32m     38\u001b[0m         \u001b[0;32mwith\u001b[0m \u001b[0mtorch\u001b[0m\u001b[0;34m.\u001b[0m\u001b[0mno_grad\u001b[0m\u001b[0;34m(\u001b[0m\u001b[0;34m)\u001b[0m\u001b[0;34m:\u001b[0m\u001b[0;34m\u001b[0m\u001b[0;34m\u001b[0m\u001b[0m\n\u001b[1;32m     39\u001b[0m             \u001b[0mpred\u001b[0m \u001b[0;34m=\u001b[0m \u001b[0mself\u001b[0m\u001b[0;34m.\u001b[0m\u001b[0mmodel\u001b[0m\u001b[0;34m(\u001b[0m\u001b[0mself\u001b[0m\u001b[0;34m.\u001b[0m\u001b[0mnormalize\u001b[0m\u001b[0;34m(\u001b[0m\u001b[0mxb\u001b[0m\u001b[0;34m)\u001b[0m\u001b[0;34m)\u001b[0m\u001b[0;34m[\u001b[0m\u001b[0;36m0\u001b[0m\u001b[0;34m]\u001b[0m\u001b[0;34m\u001b[0m\u001b[0;34m\u001b[0m\u001b[0m\n\u001b[0;32m---> 40\u001b[0;31m         \u001b[0mbbox\u001b[0m\u001b[0;34m,\u001b[0m \u001b[0mconf\u001b[0m\u001b[0;34m,\u001b[0m \u001b[0mclasses\u001b[0m \u001b[0;34m=\u001b[0m \u001b[0mtuple\u001b[0m\u001b[0;34m(\u001b[0m\u001b[0mmap\u001b[0m\u001b[0;34m(\u001b[0m\u001b[0;32mlambda\u001b[0m \u001b[0mx\u001b[0m\u001b[0;34m:\u001b[0m \u001b[0mx\u001b[0m\u001b[0;34m.\u001b[0m\u001b[0mdetach\u001b[0m\u001b[0;34m(\u001b[0m\u001b[0;34m)\u001b[0m\u001b[0;34m.\u001b[0m\u001b[0mcpu\u001b[0m\u001b[0;34m(\u001b[0m\u001b[0;34m)\u001b[0m\u001b[0;34m.\u001b[0m\u001b[0mnumpy\u001b[0m\u001b[0;34m(\u001b[0m\u001b[0;34m)\u001b[0m\u001b[0;34m,\u001b[0m \u001b[0;34m[\u001b[0m\u001b[0mpred\u001b[0m\u001b[0;34m[\u001b[0m\u001b[0;34m'boxes'\u001b[0m\u001b[0;34m]\u001b[0m\u001b[0;34m,\u001b[0m \u001b[0mpred\u001b[0m\u001b[0;34m[\u001b[0m\u001b[0;34m'scores'\u001b[0m\u001b[0;34m]\u001b[0m\u001b[0;34m,\u001b[0m \u001b[0mpred\u001b[0m\u001b[0;34m[\u001b[0m\u001b[0;34m'labels'\u001b[0m\u001b[0;34m]\u001b[0m\u001b[0;34m]\u001b[0m\u001b[0;34m)\u001b[0m\u001b[0;34m)\u001b[0m\u001b[0;34m\u001b[0m\u001b[0;34m\u001b[0m\u001b[0m\n\u001b[0m\u001b[1;32m     41\u001b[0m         \u001b[0;32mif\u001b[0m \u001b[0mlen\u001b[0m\u001b[0;34m(\u001b[0m\u001b[0mclasses\u001b[0m\u001b[0;34m)\u001b[0m \u001b[0;34m!=\u001b[0m \u001b[0;36m0\u001b[0m \u001b[0;32mor\u001b[0m \u001b[0;32mnot\u001b[0m \u001b[0misinstance\u001b[0m\u001b[0;34m(\u001b[0m\u001b[0mclasses\u001b[0m\u001b[0;34m,\u001b[0m \u001b[0mint\u001b[0m\u001b[0;34m)\u001b[0m\u001b[0;34m:\u001b[0m \u001b[0mclasses\u001b[0m \u001b[0;34m=\u001b[0m \u001b[0mlist\u001b[0m\u001b[0;34m(\u001b[0m\u001b[0mmap\u001b[0m\u001b[0;34m(\u001b[0m\u001b[0mself\u001b[0m\u001b[0;34m.\u001b[0m\u001b[0mf_enc\u001b[0m\u001b[0;34m,\u001b[0m \u001b[0mclasses\u001b[0m\u001b[0;34m)\u001b[0m\u001b[0;34m)\u001b[0m\u001b[0;34m\u001b[0m\u001b[0;34m\u001b[0m\u001b[0m\n\u001b[1;32m     42\u001b[0m         \u001b[0;32mreturn\u001b[0m \u001b[0mbbox\u001b[0m\u001b[0;34m,\u001b[0m \u001b[0mconf\u001b[0m\u001b[0;34m,\u001b[0m \u001b[0mclasses\u001b[0m\u001b[0;34m\u001b[0m\u001b[0;34m\u001b[0m\u001b[0m\n",
      "\u001b[0;31mIndexError\u001b[0m: too many indices for tensor of dimension 1"
     ]
    },
    {
     "data": {
      "image/png": "[encoded data removed]",
      "text/plain": [
       "<Figure size 1152x1152 with 16 Axes>"
      ]
     },
     "metadata": {
      "needs_background": "light"
     },
     "output_type": "display_data"
    }
   ],
   "source": [
    "fig, axes = plt.subplots(4, 4, figsize=(16,16))\n",
    "\n",
    "for k, ax in enumerate(axes.ravel()):\n",
    "    f = random.choice(fs)\n",
    "    img = np.array(Image.open(f))\n",
    "    bbox, conf, classes = m_predict.single_predict(f)\n",
    "    img = plot_bboxes(img, bbox)\n",
    "    ax.imshow(img)\n",
    "    ax.axis('off')"
   ]
  },
  {
   "cell_type": "code",
   "execution_count": 21,
   "id": "4b4d2b99-5ab4-4511-8e4a-4f644e28cb20",
   "metadata": {},
   "outputs": [
    {
     "name": "stderr",
     "output_type": "stream",
     "text": [
      "[W pthreadpool-cpp.cc:90] Warning: Leaking Caffe2 thread-pool after fork. (function pthreadpool)\n",
      "[W pthreadpool-cpp.cc:90] Warning: Leaking Caffe2 thread-pool after fork. (function pthreadpool)\n"
     ]
    }
   ],
   "source": [
    "predictions = m_predict.predict_folder('/mnt/data/circuits/images')"
   ]
  },
  {
   "cell_type": "code",
   "execution_count": null,
   "id": "591b3cb9-692d-4fa4-9f01-d5d9524d85d2",
   "metadata": {},
   "outputs": [],
   "source": []
  }
 ],
 "metadata": {
  "kernelspec": {
   "display_name": "python dl0",
   "language": "python",
   "name": "torchdl0"
  },
  "language_info": {
   "codemirror_mode": {
    "name": "ipython",
    "version": 3
   },
   "file_extension": ".py",
   "mimetype": "text/x-python",
   "name": "python",
   "nbconvert_exporter": "python",
   "pygments_lexer": "ipython3",
   "version": "3.8.10"
  }
 },
 "nbformat": 4,
 "nbformat_minor": 5
}

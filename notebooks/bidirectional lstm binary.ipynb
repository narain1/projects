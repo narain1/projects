{
 "cells": [
  {
   "cell_type": "code",
   "execution_count": 1,
   "id": "e81a4431",
   "metadata": {
    "_cell_guid": "b1076dfc-b9ad-4769-8c92-a6c4dae69d19",
    "_uuid": "8f2839f25d086af736a60e9eeb907d3b93b6e0e5",
    "execution": {
     "iopub.execute_input": "2021-09-15T15:50:44.664143Z",
     "iopub.status.busy": "2021-09-15T15:50:44.662676Z",
     "iopub.status.idle": "2021-09-15T15:51:00.339974Z",
     "shell.execute_reply": "2021-09-15T15:51:00.338805Z",
     "shell.execute_reply.started": "2021-09-15T15:37:45.253992Z"
    },
    "papermill": {
     "duration": 15.696778,
     "end_time": "2021-09-15T15:51:00.340190",
     "exception": false,
     "start_time": "2021-09-15T15:50:44.643412",
     "status": "completed"
    },
    "tags": []
   },
   "outputs": [
    {
     "name": "stdout",
     "output_type": "stream",
     "text": [
      "\u001b[33mWARNING: Running pip as the 'root' user can result in broken permissions and conflicting behaviour with the system package manager. It is recommended to use a virtual environment instead: https://pip.pypa.io/warnings/venv\u001b[0m\r\n",
      "\u001b[33mWARNING: Running pip as the 'root' user can result in broken permissions and conflicting behaviour with the system package manager. It is recommended to use a virtual environment instead: https://pip.pypa.io/warnings/venv\u001b[0m\r\n"
     ]
    }
   ],
   "source": [
    "!pip install -q xlrd\n",
    "!pip install -q openpyxl"
   ]
  },
  {
   "cell_type": "code",
   "execution_count": 2,
   "id": "dcba7a49",
   "metadata": {
    "execution": {
     "iopub.execute_input": "2021-09-15T15:51:00.410307Z",
     "iopub.status.busy": "2021-09-15T15:51:00.407960Z",
     "iopub.status.idle": "2021-09-15T15:51:01.209752Z",
     "shell.execute_reply": "2021-09-15T15:51:01.209108Z",
     "shell.execute_reply.started": "2021-09-15T15:38:01.061475Z"
    },
    "papermill": {
     "duration": 0.8391,
     "end_time": "2021-09-15T15:51:01.209883",
     "exception": false,
     "start_time": "2021-09-15T15:51:00.370783",
     "status": "completed"
    },
    "tags": []
   },
   "outputs": [],
   "source": [
    "import numpy as np\n",
    "import pandas as pd\n",
    "import re, string\n",
    "from wordcloud import WordCloud, STOPWORDS\n",
    "import matplotlib.pyplot as plt\n",
    "from sklearn.model_selection import train_test_split\n",
    "import fastprogress\n",
    "from collections import Counter"
   ]
  },
  {
   "cell_type": "code",
   "execution_count": 3,
   "id": "06e01afc",
   "metadata": {
    "execution": {
     "iopub.execute_input": "2021-09-15T15:51:01.246387Z",
     "iopub.status.busy": "2021-09-15T15:51:01.245320Z",
     "iopub.status.idle": "2021-09-15T15:51:02.868738Z",
     "shell.execute_reply": "2021-09-15T15:51:02.867805Z",
     "shell.execute_reply.started": "2021-09-15T15:38:01.786104Z"
    },
    "papermill": {
     "duration": 1.643376,
     "end_time": "2021-09-15T15:51:02.868880",
     "exception": false,
     "start_time": "2021-09-15T15:51:01.225504",
     "status": "completed"
    },
    "tags": []
   },
   "outputs": [],
   "source": [
    "df = pd.read_excel('../input/learning/input_data-1.xlsx')\n",
    "df['Description'] = df['Description'].str.replace(r'(_x000D_\\n)+', ' ', regex=True)\n",
    "df['Description'] = df['Description'].str.replace('(employee# &', 'employee_num', regex=False)\n",
    "df['combined desc'] = df['Short description'] + ' ' + df['Description']\n",
    "df = df.dropna().reset_index(drop=True)"
   ]
  },
  {
   "cell_type": "code",
   "execution_count": 4,
   "id": "5a7dc16f",
   "metadata": {
    "execution": {
     "iopub.execute_input": "2021-09-15T15:51:02.914337Z",
     "iopub.status.busy": "2021-09-15T15:51:02.913347Z",
     "iopub.status.idle": "2021-09-15T15:51:02.917572Z",
     "shell.execute_reply": "2021-09-15T15:51:02.917972Z",
     "shell.execute_reply.started": "2021-09-15T15:38:05.982118Z"
    },
    "papermill": {
     "duration": 0.032958,
     "end_time": "2021-09-15T15:51:02.918108",
     "exception": false,
     "start_time": "2021-09-15T15:51:02.885150",
     "status": "completed"
    },
    "tags": []
   },
   "outputs": [],
   "source": [
    "label_dist = df['Assignment group'].value_counts().reset_index()\n",
    "drop_classes = label_dist[label_dist['Assignment group'] == 1]['index'].values\n",
    "df = df[~df['Assignment group'].isin(drop_classes)].reset_index(drop=True)"
   ]
  },
  {
   "cell_type": "code",
   "execution_count": 5,
   "id": "8f3df6bf",
   "metadata": {
    "execution": {
     "iopub.execute_input": "2021-09-15T15:51:03.059355Z",
     "iopub.status.busy": "2021-09-15T15:51:03.033070Z",
     "iopub.status.idle": "2021-09-15T15:51:05.988437Z",
     "shell.execute_reply": "2021-09-15T15:51:05.987954Z",
     "shell.execute_reply.started": "2021-09-15T15:38:13.888453Z"
    },
    "papermill": {
     "duration": 3.054148,
     "end_time": "2021-09-15T15:51:05.988566",
     "exception": false,
     "start_time": "2021-09-15T15:51:02.934418",
     "status": "completed"
    },
    "tags": []
   },
   "outputs": [],
   "source": [
    "for k, item in df.iterrows():\n",
    "    df.loc[k, 'combined desc'] = item['combined desc'].replace('.'.join(item['Caller'].split()), 'ename')\n",
    "    df.loc[k, 'combined desc'] = item['combined desc'].replace(item['Caller'].split()[0], 'first_name')\n",
    "    df.loc[k, 'combined desc'] = item['combined desc'].replace(item['Caller'].split()[1], 'second_name')"
   ]
  },
  {
   "cell_type": "code",
   "execution_count": 6,
   "id": "fd0826bc",
   "metadata": {
    "execution": {
     "iopub.execute_input": "2021-09-15T15:51:06.027311Z",
     "iopub.status.busy": "2021-09-15T15:51:06.026688Z",
     "iopub.status.idle": "2021-09-15T15:51:06.030722Z",
     "shell.execute_reply": "2021-09-15T15:51:06.030300Z",
     "shell.execute_reply.started": "2021-09-15T15:38:23.433256Z"
    },
    "papermill": {
     "duration": 0.024296,
     "end_time": "2021-09-15T15:51:06.030829",
     "exception": false,
     "start_time": "2021-09-15T15:51:06.006533",
     "status": "completed"
    },
    "tags": []
   },
   "outputs": [],
   "source": [
    "def clean_numbers(x):\n",
    "    return re.sub(r'\\d+', ' ', x)"
   ]
  },
  {
   "cell_type": "code",
   "execution_count": 7,
   "id": "c0b774d3",
   "metadata": {
    "execution": {
     "iopub.execute_input": "2021-09-15T15:51:06.097253Z",
     "iopub.status.busy": "2021-09-15T15:51:06.069131Z",
     "iopub.status.idle": "2021-09-15T15:51:06.180511Z",
     "shell.execute_reply": "2021-09-15T15:51:06.179664Z",
     "shell.execute_reply.started": "2021-09-15T15:38:31.404950Z"
    },
    "papermill": {
     "duration": 0.134063,
     "end_time": "2021-09-15T15:51:06.180643",
     "exception": false,
     "start_time": "2021-09-15T15:51:06.046580",
     "status": "completed"
    },
    "tags": []
   },
   "outputs": [],
   "source": [
    "df['combined desc'] = df['combined desc'].str.lower()\n",
    "df['combined desc'] = df['combined desc'].apply(clean_numbers)\n",
    "df['combined desc'] = df['combined desc'].str.replace('(ticket_no)', 'ticket_no', regex=False)\n",
    "df['combined desc'] = df['combined desc'].str.strip()"
   ]
  },
  {
   "cell_type": "code",
   "execution_count": 8,
   "id": "c9f849c5",
   "metadata": {
    "execution": {
     "iopub.execute_input": "2021-09-15T15:51:06.220627Z",
     "iopub.status.busy": "2021-09-15T15:51:06.219830Z",
     "iopub.status.idle": "2021-09-15T15:51:19.343212Z",
     "shell.execute_reply": "2021-09-15T15:51:19.342720Z",
     "shell.execute_reply.started": "2021-09-15T15:38:38.800246Z"
    },
    "papermill": {
     "duration": 13.147242,
     "end_time": "2021-09-15T15:51:19.343337",
     "exception": false,
     "start_time": "2021-09-15T15:51:06.196095",
     "status": "completed"
    },
    "tags": []
   },
   "outputs": [
    {
     "name": "stdout",
     "output_type": "stream",
     "text": [
      "Collecting xx_ent_wiki_sm==2.3.0\r\n",
      "  Downloading https://github.com/explosion/spacy-models/releases/download/xx_ent_wiki_sm-2.3.0/xx_ent_wiki_sm-2.3.0.tar.gz (3.7 MB)\r\n",
      "\u001b[K     |████████████████████████████████| 3.7 MB 5.0 MB/s \r\n",
      "\u001b[?25hRequirement already satisfied: spacy<2.4.0,>=2.3.0 in /opt/conda/lib/python3.7/site-packages (from xx_ent_wiki_sm==2.3.0) (2.3.7)\r\n",
      "Requirement already satisfied: thinc<7.5.0,>=7.4.1 in /opt/conda/lib/python3.7/site-packages (from spacy<2.4.0,>=2.3.0->xx_ent_wiki_sm==2.3.0) (7.4.5)\r\n",
      "Requirement already satisfied: wasabi<1.1.0,>=0.4.0 in /opt/conda/lib/python3.7/site-packages (from spacy<2.4.0,>=2.3.0->xx_ent_wiki_sm==2.3.0) (0.8.2)\r\n",
      "Requirement already satisfied: srsly<1.1.0,>=1.0.2 in /opt/conda/lib/python3.7/site-packages (from spacy<2.4.0,>=2.3.0->xx_ent_wiki_sm==2.3.0) (1.0.5)\r\n",
      "Requirement already satisfied: setuptools in /opt/conda/lib/python3.7/site-packages (from spacy<2.4.0,>=2.3.0->xx_ent_wiki_sm==2.3.0) (57.4.0)\r\n",
      "Requirement already satisfied: requests<3.0.0,>=2.13.0 in /opt/conda/lib/python3.7/site-packages (from spacy<2.4.0,>=2.3.0->xx_ent_wiki_sm==2.3.0) (2.25.1)\r\n",
      "Requirement already satisfied: numpy>=1.15.0 in /opt/conda/lib/python3.7/site-packages (from spacy<2.4.0,>=2.3.0->xx_ent_wiki_sm==2.3.0) (1.19.5)\r\n",
      "Requirement already satisfied: blis<0.8.0,>=0.4.0 in /opt/conda/lib/python3.7/site-packages (from spacy<2.4.0,>=2.3.0->xx_ent_wiki_sm==2.3.0) (0.7.4)\r\n",
      "Requirement already satisfied: murmurhash<1.1.0,>=0.28.0 in /opt/conda/lib/python3.7/site-packages (from spacy<2.4.0,>=2.3.0->xx_ent_wiki_sm==2.3.0) (1.0.5)\r\n",
      "Requirement already satisfied: plac<1.2.0,>=0.9.6 in /opt/conda/lib/python3.7/site-packages (from spacy<2.4.0,>=2.3.0->xx_ent_wiki_sm==2.3.0) (1.1.3)\r\n",
      "Requirement already satisfied: tqdm<5.0.0,>=4.38.0 in /opt/conda/lib/python3.7/site-packages (from spacy<2.4.0,>=2.3.0->xx_ent_wiki_sm==2.3.0) (4.62.1)\r\n",
      "Requirement already satisfied: cymem<2.1.0,>=2.0.2 in /opt/conda/lib/python3.7/site-packages (from spacy<2.4.0,>=2.3.0->xx_ent_wiki_sm==2.3.0) (2.0.5)\r\n",
      "Requirement already satisfied: catalogue<1.1.0,>=0.0.7 in /opt/conda/lib/python3.7/site-packages (from spacy<2.4.0,>=2.3.0->xx_ent_wiki_sm==2.3.0) (1.0.0)\r\n",
      "Requirement already satisfied: preshed<3.1.0,>=3.0.2 in /opt/conda/lib/python3.7/site-packages (from spacy<2.4.0,>=2.3.0->xx_ent_wiki_sm==2.3.0) (3.0.5)\r\n",
      "Requirement already satisfied: importlib-metadata>=0.20 in /opt/conda/lib/python3.7/site-packages (from catalogue<1.1.0,>=0.0.7->spacy<2.4.0,>=2.3.0->xx_ent_wiki_sm==2.3.0) (3.4.0)\r\n",
      "Requirement already satisfied: typing-extensions>=3.6.4 in /opt/conda/lib/python3.7/site-packages (from importlib-metadata>=0.20->catalogue<1.1.0,>=0.0.7->spacy<2.4.0,>=2.3.0->xx_ent_wiki_sm==2.3.0) (3.7.4.3)\r\n",
      "Requirement already satisfied: zipp>=0.5 in /opt/conda/lib/python3.7/site-packages (from importlib-metadata>=0.20->catalogue<1.1.0,>=0.0.7->spacy<2.4.0,>=2.3.0->xx_ent_wiki_sm==2.3.0) (3.5.0)\r\n",
      "Requirement already satisfied: urllib3<1.27,>=1.21.1 in /opt/conda/lib/python3.7/site-packages (from requests<3.0.0,>=2.13.0->spacy<2.4.0,>=2.3.0->xx_ent_wiki_sm==2.3.0) (1.26.6)\r\n",
      "Requirement already satisfied: chardet<5,>=3.0.2 in /opt/conda/lib/python3.7/site-packages (from requests<3.0.0,>=2.13.0->spacy<2.4.0,>=2.3.0->xx_ent_wiki_sm==2.3.0) (4.0.0)\r\n",
      "Requirement already satisfied: certifi>=2017.4.17 in /opt/conda/lib/python3.7/site-packages (from requests<3.0.0,>=2.13.0->spacy<2.4.0,>=2.3.0->xx_ent_wiki_sm==2.3.0) (2021.5.30)\r\n",
      "Requirement already satisfied: idna<3,>=2.5 in /opt/conda/lib/python3.7/site-packages (from requests<3.0.0,>=2.13.0->spacy<2.4.0,>=2.3.0->xx_ent_wiki_sm==2.3.0) (2.10)\r\n",
      "Building wheels for collected packages: xx-ent-wiki-sm\r\n",
      "  Building wheel for xx-ent-wiki-sm (setup.py) ... \u001b[?25l-\b \b\\\b \b|\b \bdone\r\n",
      "\u001b[?25h  Created wheel for xx-ent-wiki-sm: filename=xx_ent_wiki_sm-2.3.0-py3-none-any.whl size=3741307 sha256=df65326d570460bfc147624309e445079ab2ad8bb404e9e5fee64f95abf470e6\r\n",
      "  Stored in directory: /root/.cache/pip/wheels/6d/3a/e2/6f3c30d9b864273b5c88e6cf82e83bdafff5296cd949915598\r\n",
      "Successfully built xx-ent-wiki-sm\r\n",
      "Installing collected packages: xx-ent-wiki-sm\r\n",
      "Successfully installed xx-ent-wiki-sm-2.3.0\r\n",
      "\u001b[33mWARNING: Running pip as the 'root' user can result in broken permissions and conflicting behaviour with the system package manager. It is recommended to use a virtual environment instead: https://pip.pypa.io/warnings/venv\u001b[0m\r\n",
      "\u001b[38;5;2m✔ Download and installation successful\u001b[0m\r\n",
      "You can now load the model via spacy.load('xx_ent_wiki_sm')\r\n"
     ]
    }
   ],
   "source": [
    "!python -m spacy download xx_ent_wiki_sm"
   ]
  },
  {
   "cell_type": "code",
   "execution_count": 9,
   "id": "24d08ce4",
   "metadata": {
    "execution": {
     "iopub.execute_input": "2021-09-15T15:51:19.389313Z",
     "iopub.status.busy": "2021-09-15T15:51:19.388547Z",
     "iopub.status.idle": "2021-09-15T15:51:20.356320Z",
     "shell.execute_reply": "2021-09-15T15:51:20.355848Z",
     "shell.execute_reply.started": "2021-09-15T15:38:52.327921Z"
    },
    "papermill": {
     "duration": 0.992033,
     "end_time": "2021-09-15T15:51:20.356461",
     "exception": false,
     "start_time": "2021-09-15T15:51:19.364428",
     "status": "completed"
    },
    "tags": []
   },
   "outputs": [],
   "source": [
    "from spacy.tokenizer import Tokenizer\n",
    "import xx_ent_wiki_sm\n",
    "nlp = xx_ent_wiki_sm.load()"
   ]
  },
  {
   "cell_type": "code",
   "execution_count": 10,
   "id": "fea4cc69",
   "metadata": {
    "execution": {
     "iopub.execute_input": "2021-09-15T15:51:20.462198Z",
     "iopub.status.busy": "2021-09-15T15:51:20.441515Z",
     "iopub.status.idle": "2021-09-15T15:51:22.026527Z",
     "shell.execute_reply": "2021-09-15T15:51:22.025618Z",
     "shell.execute_reply.started": "2021-09-15T15:38:54.787218Z"
    },
    "papermill": {
     "duration": 1.650222,
     "end_time": "2021-09-15T15:51:22.026669",
     "exception": false,
     "start_time": "2021-09-15T15:51:20.376447",
     "status": "completed"
    },
    "tags": []
   },
   "outputs": [],
   "source": [
    "tokenizer = Tokenizer(nlp.vocab)\n",
    "df['combined desc'] = df['combined desc'].map(tokenizer).map(lambda x: ' '.join(x.text.split()))"
   ]
  },
  {
   "cell_type": "code",
   "execution_count": 11,
   "id": "ad794693",
   "metadata": {
    "execution": {
     "iopub.execute_input": "2021-09-15T15:51:22.077145Z",
     "iopub.status.busy": "2021-09-15T15:51:22.075761Z",
     "iopub.status.idle": "2021-09-15T15:51:26.137963Z",
     "shell.execute_reply": "2021-09-15T15:51:26.137498Z",
     "shell.execute_reply.started": "2021-09-15T15:39:01.841570Z"
    },
    "papermill": {
     "duration": 4.091119,
     "end_time": "2021-09-15T15:51:26.138101",
     "exception": false,
     "start_time": "2021-09-15T15:51:22.046982",
     "status": "completed"
    },
    "tags": []
   },
   "outputs": [
    {
     "name": "stderr",
     "output_type": "stream",
     "text": [
      "2021-09-15 15:51:22.634525: I tensorflow/stream_executor/platform/default/dso_loader.cc:49] Successfully opened dynamic library libcudart.so.11.0\n"
     ]
    }
   ],
   "source": [
    "import tensorflow as tf\n",
    "from tensorflow.keras.preprocessing.text import Tokenizer\n",
    "from tensorflow.keras.preprocessing.sequence import pad_sequences\n",
    "from tensorflow.keras.layers import Dense, Input, LSTM, Embedding, Dropout, Activation\n",
    "from tensorflow.keras.layers import Bidirectional, GlobalMaxPool1D\n",
    "from tensorflow.keras.models import Model\n",
    "from tensorflow.keras import initializers, regularizers, constraints, optimizers, layers"
   ]
  },
  {
   "cell_type": "code",
   "execution_count": 12,
   "id": "5319d6b6",
   "metadata": {
    "execution": {
     "iopub.execute_input": "2021-09-15T15:51:26.182545Z",
     "iopub.status.busy": "2021-09-15T15:51:26.181976Z",
     "iopub.status.idle": "2021-09-15T15:51:26.185782Z",
     "shell.execute_reply": "2021-09-15T15:51:26.185388Z",
     "shell.execute_reply.started": "2021-09-15T15:47:58.139677Z"
    },
    "papermill": {
     "duration": 0.027206,
     "end_time": "2021-09-15T15:51:26.185900",
     "exception": false,
     "start_time": "2021-09-15T15:51:26.158694",
     "status": "completed"
    },
    "tags": []
   },
   "outputs": [],
   "source": [
    "# cats = df['Assignment group'].unique().tolist()\n",
    "# cat_dict = {j:i for i,j in enumerate(sorted(cats))}"
   ]
  },
  {
   "cell_type": "code",
   "execution_count": 13,
   "id": "a015a4a2",
   "metadata": {
    "execution": {
     "iopub.execute_input": "2021-09-15T15:51:26.237355Z",
     "iopub.status.busy": "2021-09-15T15:51:26.236731Z",
     "iopub.status.idle": "2021-09-15T15:51:26.239730Z",
     "shell.execute_reply": "2021-09-15T15:51:26.239310Z",
     "shell.execute_reply.started": "2021-09-15T15:49:10.660555Z"
    },
    "papermill": {
     "duration": 0.033723,
     "end_time": "2021-09-15T15:51:26.239836",
     "exception": false,
     "start_time": "2021-09-15T15:51:26.206113",
     "status": "completed"
    },
    "tags": []
   },
   "outputs": [],
   "source": [
    "x_train, x_val, y_train, y_val = train_test_split(df['combined desc'], df['Assignment group'].map(lambda x: x!='GRP_0').astype(float), random_state=2021, shuffle=True)"
   ]
  },
  {
   "cell_type": "code",
   "execution_count": 14,
   "id": "20d74c12",
   "metadata": {
    "execution": {
     "iopub.execute_input": "2021-09-15T15:51:26.284012Z",
     "iopub.status.busy": "2021-09-15T15:51:26.283509Z",
     "iopub.status.idle": "2021-09-15T15:51:26.287175Z",
     "shell.execute_reply": "2021-09-15T15:51:26.286735Z",
     "shell.execute_reply.started": "2021-09-15T15:39:23.938012Z"
    },
    "papermill": {
     "duration": 0.026932,
     "end_time": "2021-09-15T15:51:26.287298",
     "exception": false,
     "start_time": "2021-09-15T15:51:26.260366",
     "status": "completed"
    },
    "tags": []
   },
   "outputs": [],
   "source": [
    "embed_size = 200\n",
    "max_features = 10000 # how many unique words to use (i.e num rows in embedding vector)\n",
    "maxlen = 100 # max number of words in a comment to use\n",
    "EMBEDDING_FILE='../input/glove6b/glove.6B.200d.txt'"
   ]
  },
  {
   "cell_type": "code",
   "execution_count": 15,
   "id": "81e3dbe7",
   "metadata": {
    "execution": {
     "iopub.execute_input": "2021-09-15T15:51:26.335626Z",
     "iopub.status.busy": "2021-09-15T15:51:26.334873Z",
     "iopub.status.idle": "2021-09-15T15:51:26.887356Z",
     "shell.execute_reply": "2021-09-15T15:51:26.886871Z",
     "shell.execute_reply.started": "2021-09-15T15:39:36.747311Z"
    },
    "papermill": {
     "duration": 0.579984,
     "end_time": "2021-09-15T15:51:26.887485",
     "exception": false,
     "start_time": "2021-09-15T15:51:26.307501",
     "status": "completed"
    },
    "tags": []
   },
   "outputs": [],
   "source": [
    "tokenizer = Tokenizer(num_words=max_features)\n",
    "tokenizer.fit_on_texts(list(x_train))\n",
    "list_tokenized_train = tokenizer.texts_to_sequences(x_train)\n",
    "list_tokenized_test = tokenizer.texts_to_sequences(x_val)\n",
    "X_t = pad_sequences(list_tokenized_train, maxlen=maxlen)\n",
    "X_te = pad_sequences(list_tokenized_test, maxlen=maxlen)"
   ]
  },
  {
   "cell_type": "code",
   "execution_count": 16,
   "id": "d7ff153f",
   "metadata": {
    "execution": {
     "iopub.execute_input": "2021-09-15T15:51:26.932111Z",
     "iopub.status.busy": "2021-09-15T15:51:26.931599Z",
     "iopub.status.idle": "2021-09-15T15:51:59.169903Z",
     "shell.execute_reply": "2021-09-15T15:51:59.169400Z",
     "shell.execute_reply.started": "2021-09-15T15:39:44.865462Z"
    },
    "papermill": {
     "duration": 32.262321,
     "end_time": "2021-09-15T15:51:59.170049",
     "exception": false,
     "start_time": "2021-09-15T15:51:26.907728",
     "status": "completed"
    },
    "tags": []
   },
   "outputs": [],
   "source": [
    "def get_coefs(word,*arr): return word, np.asarray(arr, dtype='float32')\n",
    "embeddings_index = dict(get_coefs(*o.strip().split()) for o in open(EMBEDDING_FILE))"
   ]
  },
  {
   "cell_type": "code",
   "execution_count": 17,
   "id": "0e60292f",
   "metadata": {
    "execution": {
     "iopub.execute_input": "2021-09-15T15:51:59.215980Z",
     "iopub.status.busy": "2021-09-15T15:51:59.215426Z",
     "iopub.status.idle": "2021-09-15T15:52:00.095103Z",
     "shell.execute_reply": "2021-09-15T15:52:00.095578Z",
     "shell.execute_reply.started": "2021-09-15T15:40:16.996742Z"
    },
    "papermill": {
     "duration": 0.904271,
     "end_time": "2021-09-15T15:52:00.095725",
     "exception": false,
     "start_time": "2021-09-15T15:51:59.191454",
     "status": "completed"
    },
    "tags": []
   },
   "outputs": [
    {
     "name": "stderr",
     "output_type": "stream",
     "text": [
      "/opt/conda/lib/python3.7/site-packages/IPython/core/interactiveshell.py:3361: FutureWarning: arrays to stack must be passed as a \"sequence\" type such as list or tuple. Support for non-sequence iterables such as generators is deprecated as of NumPy 1.16 and will raise an error in the future.\n",
      "  if (await self.run_code(code, result,  async_=asy)):\n"
     ]
    },
    {
     "data": {
      "text/plain": [
       "(-0.008671864, 0.38186216)"
      ]
     },
     "execution_count": 17,
     "metadata": {},
     "output_type": "execute_result"
    }
   ],
   "source": [
    "all_embs = np.stack(embeddings_index.values())\n",
    "emb_mean,emb_std = all_embs.mean(), all_embs.std()\n",
    "emb_mean,emb_std"
   ]
  },
  {
   "cell_type": "code",
   "execution_count": 18,
   "id": "fa52f47c",
   "metadata": {
    "execution": {
     "iopub.execute_input": "2021-09-15T15:52:00.143270Z",
     "iopub.status.busy": "2021-09-15T15:52:00.142360Z",
     "iopub.status.idle": "2021-09-15T15:52:00.236900Z",
     "shell.execute_reply": "2021-09-15T15:52:00.236449Z",
     "shell.execute_reply.started": "2021-09-15T15:40:17.867334Z"
    },
    "papermill": {
     "duration": 0.120156,
     "end_time": "2021-09-15T15:52:00.237036",
     "exception": false,
     "start_time": "2021-09-15T15:52:00.116880",
     "status": "completed"
    },
    "tags": []
   },
   "outputs": [],
   "source": [
    "word_index = tokenizer.word_index\n",
    "nb_words = min(max_features, len(word_index))\n",
    "embedding_matrix = np.random.normal(emb_mean, emb_std, (nb_words, embed_size))\n",
    "for word, i in word_index.items():\n",
    "    if i >= max_features: continue\n",
    "    embedding_vector = embeddings_index.get(word)\n",
    "    if embedding_vector is not None: embedding_matrix[i] = embedding_vector"
   ]
  },
  {
   "cell_type": "code",
   "execution_count": 19,
   "id": "70e1b22c",
   "metadata": {
    "execution": {
     "iopub.execute_input": "2021-09-15T15:52:00.285835Z",
     "iopub.status.busy": "2021-09-15T15:52:00.285087Z",
     "iopub.status.idle": "2021-09-15T15:52:02.954415Z",
     "shell.execute_reply": "2021-09-15T15:52:02.953401Z",
     "shell.execute_reply.started": "2021-09-15T15:46:05.399367Z"
    },
    "papermill": {
     "duration": 2.696776,
     "end_time": "2021-09-15T15:52:02.954576",
     "exception": false,
     "start_time": "2021-09-15T15:52:00.257800",
     "status": "completed"
    },
    "tags": []
   },
   "outputs": [
    {
     "name": "stderr",
     "output_type": "stream",
     "text": [
      "2021-09-15 15:52:00.304608: I tensorflow/compiler/jit/xla_cpu_device.cc:41] Not creating XLA devices, tf_xla_enable_xla_devices not set\n",
      "2021-09-15 15:52:00.307189: I tensorflow/stream_executor/platform/default/dso_loader.cc:49] Successfully opened dynamic library libcuda.so.1\n",
      "2021-09-15 15:52:00.346251: I tensorflow/stream_executor/cuda/cuda_gpu_executor.cc:941] successful NUMA node read from SysFS had negative value (-1), but there must be at least one NUMA node, so returning NUMA node zero\n",
      "2021-09-15 15:52:00.346870: I tensorflow/core/common_runtime/gpu/gpu_device.cc:1720] Found device 0 with properties: \n",
      "pciBusID: 0000:00:04.0 name: Tesla P100-PCIE-16GB computeCapability: 6.0\n",
      "coreClock: 1.3285GHz coreCount: 56 deviceMemorySize: 15.90GiB deviceMemoryBandwidth: 681.88GiB/s\n",
      "2021-09-15 15:52:00.346946: I tensorflow/stream_executor/platform/default/dso_loader.cc:49] Successfully opened dynamic library libcudart.so.11.0\n",
      "2021-09-15 15:52:00.347003: I tensorflow/stream_executor/platform/default/dso_loader.cc:49] Successfully opened dynamic library libcublas.so.11\n",
      "2021-09-15 15:52:00.347032: I tensorflow/stream_executor/platform/default/dso_loader.cc:49] Successfully opened dynamic library libcublasLt.so.11\n",
      "2021-09-15 15:52:00.347071: I tensorflow/stream_executor/platform/default/dso_loader.cc:49] Successfully opened dynamic library libcufft.so.10\n",
      "2021-09-15 15:52:00.347117: I tensorflow/stream_executor/platform/default/dso_loader.cc:49] Successfully opened dynamic library libcurand.so.10\n",
      "2021-09-15 15:52:00.347148: I tensorflow/stream_executor/platform/default/dso_loader.cc:49] Successfully opened dynamic library libcusolver.so.10\n",
      "2021-09-15 15:52:00.347210: I tensorflow/stream_executor/platform/default/dso_loader.cc:49] Successfully opened dynamic library libcusparse.so.11\n",
      "2021-09-15 15:52:00.347249: I tensorflow/stream_executor/platform/default/dso_loader.cc:49] Successfully opened dynamic library libcudnn.so.8\n",
      "2021-09-15 15:52:00.347349: I tensorflow/stream_executor/cuda/cuda_gpu_executor.cc:941] successful NUMA node read from SysFS had negative value (-1), but there must be at least one NUMA node, so returning NUMA node zero\n",
      "2021-09-15 15:52:00.348015: I tensorflow/stream_executor/cuda/cuda_gpu_executor.cc:941] successful NUMA node read from SysFS had negative value (-1), but there must be at least one NUMA node, so returning NUMA node zero\n",
      "2021-09-15 15:52:00.349535: I tensorflow/core/common_runtime/gpu/gpu_device.cc:1862] Adding visible gpu devices: 0\n",
      "2021-09-15 15:52:00.350030: I tensorflow/core/platform/cpu_feature_guard.cc:142] This TensorFlow binary is optimized with oneAPI Deep Neural Network Library (oneDNN) to use the following CPU instructions in performance-critical operations:  AVX2 AVX512F FMA\n",
      "To enable them in other operations, rebuild TensorFlow with the appropriate compiler flags.\n",
      "2021-09-15 15:52:00.350253: I tensorflow/compiler/jit/xla_gpu_device.cc:99] Not creating XLA devices, tf_xla_enable_xla_devices not set\n",
      "2021-09-15 15:52:00.350459: I tensorflow/stream_executor/cuda/cuda_gpu_executor.cc:941] successful NUMA node read from SysFS had negative value (-1), but there must be at least one NUMA node, so returning NUMA node zero\n",
      "2021-09-15 15:52:00.351028: I tensorflow/core/common_runtime/gpu/gpu_device.cc:1720] Found device 0 with properties: \n",
      "pciBusID: 0000:00:04.0 name: Tesla P100-PCIE-16GB computeCapability: 6.0\n",
      "coreClock: 1.3285GHz coreCount: 56 deviceMemorySize: 15.90GiB deviceMemoryBandwidth: 681.88GiB/s\n",
      "2021-09-15 15:52:00.351095: I tensorflow/stream_executor/platform/default/dso_loader.cc:49] Successfully opened dynamic library libcudart.so.11.0\n",
      "2021-09-15 15:52:00.351117: I tensorflow/stream_executor/platform/default/dso_loader.cc:49] Successfully opened dynamic library libcublas.so.11\n",
      "2021-09-15 15:52:00.351149: I tensorflow/stream_executor/platform/default/dso_loader.cc:49] Successfully opened dynamic library libcublasLt.so.11\n",
      "2021-09-15 15:52:00.351207: I tensorflow/stream_executor/platform/default/dso_loader.cc:49] Successfully opened dynamic library libcufft.so.10\n",
      "2021-09-15 15:52:00.351236: I tensorflow/stream_executor/platform/default/dso_loader.cc:49] Successfully opened dynamic library libcurand.so.10\n",
      "2021-09-15 15:52:00.351254: I tensorflow/stream_executor/platform/default/dso_loader.cc:49] Successfully opened dynamic library libcusolver.so.10\n",
      "2021-09-15 15:52:00.351273: I tensorflow/stream_executor/platform/default/dso_loader.cc:49] Successfully opened dynamic library libcusparse.so.11\n",
      "2021-09-15 15:52:00.351292: I tensorflow/stream_executor/platform/default/dso_loader.cc:49] Successfully opened dynamic library libcudnn.so.8\n",
      "2021-09-15 15:52:00.351393: I tensorflow/stream_executor/cuda/cuda_gpu_executor.cc:941] successful NUMA node read from SysFS had negative value (-1), but there must be at least one NUMA node, so returning NUMA node zero\n",
      "2021-09-15 15:52:00.352056: I tensorflow/stream_executor/cuda/cuda_gpu_executor.cc:941] successful NUMA node read from SysFS had negative value (-1), but there must be at least one NUMA node, so returning NUMA node zero\n",
      "2021-09-15 15:52:00.352596: I tensorflow/core/common_runtime/gpu/gpu_device.cc:1862] Adding visible gpu devices: 0\n",
      "2021-09-15 15:52:00.353988: I tensorflow/stream_executor/platform/default/dso_loader.cc:49] Successfully opened dynamic library libcudart.so.11.0\n",
      "2021-09-15 15:52:02.079342: I tensorflow/core/common_runtime/gpu/gpu_device.cc:1261] Device interconnect StreamExecutor with strength 1 edge matrix:\n",
      "2021-09-15 15:52:02.079389: I tensorflow/core/common_runtime/gpu/gpu_device.cc:1267]      0 \n",
      "2021-09-15 15:52:02.079400: I tensorflow/core/common_runtime/gpu/gpu_device.cc:1280] 0:   N \n",
      "2021-09-15 15:52:02.081705: I tensorflow/stream_executor/cuda/cuda_gpu_executor.cc:941] successful NUMA node read from SysFS had negative value (-1), but there must be at least one NUMA node, so returning NUMA node zero\n",
      "2021-09-15 15:52:02.082435: I tensorflow/stream_executor/cuda/cuda_gpu_executor.cc:941] successful NUMA node read from SysFS had negative value (-1), but there must be at least one NUMA node, so returning NUMA node zero\n",
      "2021-09-15 15:52:02.083100: I tensorflow/stream_executor/cuda/cuda_gpu_executor.cc:941] successful NUMA node read from SysFS had negative value (-1), but there must be at least one NUMA node, so returning NUMA node zero\n",
      "2021-09-15 15:52:02.083707: I tensorflow/core/common_runtime/gpu/gpu_device.cc:1406] Created TensorFlow device (/job:localhost/replica:0/task:0/device:GPU:0 with 14915 MB memory) -> physical GPU (device: 0, name: Tesla P100-PCIE-16GB, pci bus id: 0000:00:04.0, compute capability: 6.0)\n"
     ]
    }
   ],
   "source": [
    "inp = Input(shape=(maxlen,))\n",
    "x = Embedding(max_features, embed_size, weights=[embedding_matrix])(inp)\n",
    "x = Bidirectional(LSTM(50, return_sequences=True, dropout=0.1, recurrent_dropout=0.1))(x)\n",
    "x = Bidirectional(LSTM(50, return_sequences=True, dropout=0.1, recurrent_dropout=0.1))(x)\n",
    "x = GlobalMaxPool1D()(x)\n",
    "x = Dense(128, activation=\"relu\")(x)\n",
    "x = Dropout(0.1)(x)\n",
    "x = Dense(1, activation=\"sigmoid\")(x)\n",
    "model = Model(inputs=inp, outputs=x)\n",
    "opt = tf.keras.optimizers.Adam(learning_rate=1e-3)\n",
    "model.compile(loss='binary_crossentropy', optimizer=opt, metrics=['binary_accuracy'])"
   ]
  },
  {
   "cell_type": "code",
   "execution_count": 20,
   "id": "61681dc4",
   "metadata": {
    "execution": {
     "iopub.execute_input": "2021-09-15T15:52:03.005986Z",
     "iopub.status.busy": "2021-09-15T15:52:03.005376Z",
     "iopub.status.idle": "2021-09-15T16:33:53.380562Z",
     "shell.execute_reply": "2021-09-15T16:33:53.381036Z"
    },
    "papermill": {
     "duration": 2510.401887,
     "end_time": "2021-09-15T16:33:53.381242",
     "exception": false,
     "start_time": "2021-09-15T15:52:02.979355",
     "status": "completed"
    },
    "tags": []
   },
   "outputs": [
    {
     "name": "stderr",
     "output_type": "stream",
     "text": [
      "2021-09-15 15:52:03.051220: I tensorflow/compiler/mlir/mlir_graph_optimization_pass.cc:116] None of the MLIR optimization passes are enabled (registered 2)\n",
      "2021-09-15 15:52:03.062258: I tensorflow/core/platform/profile_utils/cpu_utils.cc:112] CPU Frequency: 2000179999 Hz\n"
     ]
    },
    {
     "name": "stdout",
     "output_type": "stream",
     "text": [
      "Epoch 1/8\n"
     ]
    },
    {
     "name": "stderr",
     "output_type": "stream",
     "text": [
      "2021-09-15 15:52:12.268599: I tensorflow/stream_executor/platform/default/dso_loader.cc:49] Successfully opened dynamic library libcublas.so.11\n",
      "2021-09-15 15:52:13.094609: I tensorflow/stream_executor/platform/default/dso_loader.cc:49] Successfully opened dynamic library libcublasLt.so.11\n"
     ]
    },
    {
     "name": "stdout",
     "output_type": "stream",
     "text": [
      "199/199 [==============================] - 319s 2s/step - loss: 0.5306 - binary_accuracy: 0.7198 - val_loss: 0.3480 - val_binary_accuracy: 0.8435\n",
      "Epoch 2/8\n",
      "199/199 [==============================] - 309s 2s/step - loss: 0.2894 - binary_accuracy: 0.8809 - val_loss: 0.3255 - val_binary_accuracy: 0.8520\n",
      "Epoch 3/8\n",
      "199/199 [==============================] - 312s 2s/step - loss: 0.2208 - binary_accuracy: 0.9105 - val_loss: 0.3707 - val_binary_accuracy: 0.8426\n",
      "Epoch 4/8\n",
      "199/199 [==============================] - 310s 2s/step - loss: 0.1553 - binary_accuracy: 0.9451 - val_loss: 0.3962 - val_binary_accuracy: 0.8478\n",
      "Epoch 5/8\n",
      "199/199 [==============================] - 313s 2s/step - loss: 0.1044 - binary_accuracy: 0.9634 - val_loss: 0.4357 - val_binary_accuracy: 0.8478\n",
      "Epoch 6/8\n",
      "199/199 [==============================] - 314s 2s/step - loss: 0.0789 - binary_accuracy: 0.9742 - val_loss: 0.5771 - val_binary_accuracy: 0.8421\n",
      "Epoch 7/8\n",
      "199/199 [==============================] - 315s 2s/step - loss: 0.0590 - binary_accuracy: 0.9794 - val_loss: 0.5242 - val_binary_accuracy: 0.8426\n",
      "Epoch 8/8\n",
      "199/199 [==============================] - 317s 2s/step - loss: 0.0604 - binary_accuracy: 0.9815 - val_loss: 0.6289 - val_binary_accuracy: 0.8341\n"
     ]
    }
   ],
   "source": [
    "model.fit(X_t, y_train, validation_data=(X_te, y_val), batch_size=32, epochs=8);"
   ]
  },
  {
   "cell_type": "code",
   "execution_count": null,
   "id": "51549541",
   "metadata": {
    "papermill": {
     "duration": 0.585434,
     "end_time": "2021-09-15T16:33:54.418164",
     "exception": false,
     "start_time": "2021-09-15T16:33:53.832730",
     "status": "completed"
    },
    "tags": []
   },
   "outputs": [],
   "source": []
  }
 ],
 "metadata": {
  "kernelspec": {
   "display_name": "Python 3",
   "language": "python",
   "name": "python3"
  },
  "language_info": {
   "codemirror_mode": {
    "name": "ipython",
    "version": 3
   },
   "file_extension": ".py",
   "mimetype": "text/x-python",
   "name": "python",
   "nbconvert_exporter": "python",
   "pygments_lexer": "ipython3",
   "version": "3.7.10"
  },
  "papermill": {
   "default_parameters": {},
   "duration": 2599.567944,
   "end_time": "2021-09-15T16:33:58.257400",
   "environment_variables": {},
   "exception": null,
   "input_path": "__notebook__.ipynb",
   "output_path": "__notebook__.ipynb",
   "parameters": {},
   "start_time": "2021-09-15T15:50:38.689456",
   "version": "2.3.3"
  }
 },
 "nbformat": 4,
 "nbformat_minor": 5
}

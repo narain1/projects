{
 "cells": [
  {
   "cell_type": "code",
   "execution_count": 1,
   "id": "found-defense",
   "metadata": {
    "execution": {
     "iopub.execute_input": "2021-06-19T08:30:35.333633Z",
     "iopub.status.busy": "2021-06-19T08:30:35.332128Z",
     "iopub.status.idle": "2021-06-19T08:30:45.818771Z",
     "shell.execute_reply": "2021-06-19T08:30:45.819372Z",
     "shell.execute_reply.started": "2021-06-19T08:20:31.547254Z"
    },
    "papermill": {
     "duration": 10.504596,
     "end_time": "2021-06-19T08:30:45.819630",
     "exception": false,
     "start_time": "2021-06-19T08:30:35.315034",
     "status": "completed"
    },
    "tags": []
   },
   "outputs": [
    {
     "name": "stdout",
     "output_type": "stream",
     "text": [
      "Cloning into 'yolov5'...\r\n",
      "remote: Enumerating objects: 7284, done.\u001b[K\r\n",
      "remote: Counting objects: 100% (390/390), done.\u001b[K\r\n",
      "remote: Compressing objects: 100% (228/228), done.\u001b[K\r\n",
      "remote: Total 7284 (delta 245), reused 273 (delta 162), pack-reused 6894\u001b[K\r\n",
      "Receiving objects: 100% (7284/7284), 9.19 MiB | 20.55 MiB/s, done.\r\n",
      "Resolving deltas: 100% (4984/4984), done.\r\n"
     ]
    }
   ],
   "source": [
    "!pip install -r https://raw.githubusercontent.com/ultralytics/yolov5/master/requirements.txt -q\n",
    "!git clone https://github.com/ultralytics/yolov5.git"
   ]
  },
  {
   "cell_type": "code",
   "execution_count": 2,
   "id": "lyric-sponsorship",
   "metadata": {
    "_cell_guid": "b1076dfc-b9ad-4769-8c92-a6c4dae69d19",
    "_uuid": "8f2839f25d086af736a60e9eeb907d3b93b6e0e5",
    "execution": {
     "iopub.execute_input": "2021-06-19T08:30:45.857983Z",
     "iopub.status.busy": "2021-06-19T08:30:45.857219Z",
     "iopub.status.idle": "2021-06-19T08:30:46.645911Z",
     "shell.execute_reply": "2021-06-19T08:30:46.645418Z",
     "shell.execute_reply.started": "2021-06-19T08:20:37.796070Z"
    },
    "papermill": {
     "duration": 0.809126,
     "end_time": "2021-06-19T08:30:46.646033",
     "exception": false,
     "start_time": "2021-06-19T08:30:45.836907",
     "status": "completed"
    },
    "tags": []
   },
   "outputs": [],
   "source": [
    "import numpy as np # linear algebra\n",
    "import pandas as pd # data processing, CSV file I/O (e.g. pd.read_csv)\n",
    "import os\n",
    "from sklearn.model_selection import train_test_split, StratifiedKFold, GroupKFold\n",
    "import fastprogress\n",
    "import shutil\n",
    "import ast"
   ]
  },
  {
   "cell_type": "code",
   "execution_count": 3,
   "id": "educated-nursery",
   "metadata": {
    "execution": {
     "iopub.execute_input": "2021-06-19T08:30:46.685077Z",
     "iopub.status.busy": "2021-06-19T08:30:46.684307Z",
     "iopub.status.idle": "2021-06-19T08:30:46.687066Z",
     "shell.execute_reply": "2021-06-19T08:30:46.686625Z",
     "shell.execute_reply.started": "2021-06-19T08:20:37.802266Z"
    },
    "papermill": {
     "duration": 0.024242,
     "end_time": "2021-06-19T08:30:46.687169",
     "exception": false,
     "start_time": "2021-06-19T08:30:46.662927",
     "status": "completed"
    },
    "tags": []
   },
   "outputs": [],
   "source": [
    "def decodeString(BoxesString):\n",
    "    if BoxesString == \"no_box\":\n",
    "        return np.zeros((0,4))\n",
    "    else:\n",
    "        try:\n",
    "            boxes =  np.array([np.array([int(i) for i in box.split(\" \")])\n",
    "                              for box in BoxesString.split(\";\")])\n",
    "            return boxes\n",
    "        except:\n",
    "            print(BoxesString)\n",
    "            print(\"Submission is not well formatted. empty boxes will be returned\")\n",
    "            return np.zeros((0,4))"
   ]
  },
  {
   "cell_type": "code",
   "execution_count": 4,
   "id": "modified-punch",
   "metadata": {
    "execution": {
     "iopub.execute_input": "2021-06-19T08:30:46.730592Z",
     "iopub.status.busy": "2021-06-19T08:30:46.729967Z",
     "iopub.status.idle": "2021-06-19T08:30:50.963961Z",
     "shell.execute_reply": "2021-06-19T08:30:50.963522Z",
     "shell.execute_reply.started": "2021-06-19T08:20:37.820807Z"
    },
    "papermill": {
     "duration": 4.260694,
     "end_time": "2021-06-19T08:30:50.964107",
     "exception": false,
     "start_time": "2021-06-19T08:30:46.703413",
     "status": "completed"
    },
    "tags": []
   },
   "outputs": [
    {
     "data": {
      "text/html": [
       "\n",
       "    <div>\n",
       "        <style>\n",
       "            /* Turns off some styling */\n",
       "            progress {\n",
       "                /* gets rid of default border in Firefox and Opera. */\n",
       "                border: none;\n",
       "                /* Needs to be in here for Safari polyfill so background images work as expected. */\n",
       "                background-size: auto;\n",
       "            }\n",
       "            .progress-bar-interrupted, .progress-bar-interrupted::-webkit-progress-bar {\n",
       "                background: #F44336;\n",
       "            }\n",
       "        </style>\n",
       "      <progress value='3657' class='' max='3657' style='width:300px; height:20px; vertical-align: middle;'></progress>\n",
       "      100.00% [3657/3657 00:03<00:00]\n",
       "    </div>\n",
       "    "
      ],
      "text/plain": [
       "<IPython.core.display.HTML object>"
      ]
     },
     "metadata": {},
     "output_type": "display_data"
    }
   ],
   "source": [
    "df = pd.read_csv('../input/wheat-x0/train.csv')\n",
    "bboxs = df['BoxesString'].apply(decodeString)\n",
    "dfs = []\n",
    "for i in fastprogress.progress_bar(range(len(df))):\n",
    "    temp = pd.DataFrame(bboxs[i], columns=['x', 'y', 'x2', 'y2'])\n",
    "    temp['image_id'] = df.loc[i, 'image_name']\n",
    "    temp.rename(columns={'x': 'x1', 'y': 'y1'}, inplace=True)\n",
    "    dfs.append(temp)"
   ]
  },
  {
   "cell_type": "code",
   "execution_count": 5,
   "id": "minus-fundamentals",
   "metadata": {
    "execution": {
     "iopub.execute_input": "2021-06-19T08:30:51.007549Z",
     "iopub.status.busy": "2021-06-19T08:30:51.006991Z",
     "iopub.status.idle": "2021-06-19T08:30:53.268198Z",
     "shell.execute_reply": "2021-06-19T08:30:53.267269Z",
     "shell.execute_reply.started": "2021-06-19T08:20:41.759332Z"
    },
    "papermill": {
     "duration": 2.286561,
     "end_time": "2021-06-19T08:30:53.268339",
     "exception": false,
     "start_time": "2021-06-19T08:30:50.981778",
     "status": "completed"
    },
    "tags": []
   },
   "outputs": [],
   "source": [
    "df = pd.read_csv('../input/global-wheat-detection/train.csv')\n",
    "df.drop(columns=['width', 'height', 'source'], inplace=True)\n",
    "df['bbox'] = df['bbox'].apply(ast.literal_eval)\n",
    "df['x1'] = df['bbox'].apply(lambda x: x[0]).astype(np.int32)\n",
    "df['y1'] = df['bbox'].apply(lambda x: x[1]).astype(np.int32)\n",
    "df['x2'] = df['x1'] + df['bbox'].apply(lambda x: x[2]).astype(np.int32)\n",
    "df['y2'] = df['y1'] + df['bbox'].apply(lambda x: x[3]).astype(np.int32)\n",
    "df.drop(columns='bbox', inplace=True)"
   ]
  },
  {
   "cell_type": "code",
   "execution_count": 6,
   "id": "figured-characterization",
   "metadata": {
    "execution": {
     "iopub.execute_input": "2021-06-19T08:30:53.340516Z",
     "iopub.status.busy": "2021-06-19T08:30:53.335337Z",
     "iopub.status.idle": "2021-06-19T08:30:57.488186Z",
     "shell.execute_reply": "2021-06-19T08:30:57.487304Z",
     "shell.execute_reply.started": "2021-06-19T08:20:43.996612Z"
    },
    "papermill": {
     "duration": 4.202839,
     "end_time": "2021-06-19T08:30:57.488331",
     "exception": false,
     "start_time": "2021-06-19T08:30:53.285492",
     "status": "completed"
    },
    "tags": []
   },
   "outputs": [],
   "source": [
    "df = pd.concat([*dfs, df], ignore_index=True)\n",
    "df.rename(columns={'x1': 'x', 'y1': 'y'}, inplace=True)\n",
    "df['x_center'] = (df['x'] + df['x2'])/2\n",
    "df['y_center'] = (df['y'] + df['y2'])/2\n",
    "df['w'] = df['x2'] - df['x']\n",
    "df['h'] = df['y2'] - df['y']\n",
    "df['classes'] = 0\n",
    "df = df[['image_id','x', 'y', 'w', 'h','x_center','y_center']]\n",
    "df = df.sort_values('image_id').reset_index(drop=True)\n",
    "df.to_csv('train.csv', index=False)"
   ]
  },
  {
   "cell_type": "code",
   "execution_count": 7,
   "id": "expected-weekly",
   "metadata": {
    "execution": {
     "iopub.execute_input": "2021-06-19T08:30:57.527451Z",
     "iopub.status.busy": "2021-06-19T08:30:57.526410Z",
     "iopub.status.idle": "2021-06-19T08:30:57.529936Z",
     "shell.execute_reply": "2021-06-19T08:30:57.529525Z",
     "shell.execute_reply.started": "2021-06-19T08:20:47.982826Z"
    },
    "papermill": {
     "duration": 0.024682,
     "end_time": "2021-06-19T08:30:57.530059",
     "exception": false,
     "start_time": "2021-06-19T08:30:57.505377",
     "status": "completed"
    },
    "tags": []
   },
   "outputs": [],
   "source": [
    "img_dir = '../input/wheat-x0/train'\n",
    "temp_img_dir = '/tmp/wheat/images'\n",
    "temp_label_dir = '/tmp/wheat/labels'\n",
    "os.makedirs(f'{temp_img_dir}/train', exist_ok=True)\n",
    "os.makedirs(f'{temp_img_dir}/valid', exist_ok=True)\n",
    "os.makedirs(f'{temp_label_dir}/train', exist_ok=True)\n",
    "os.makedirs(f'{temp_label_dir}/valid', exist_ok=True)"
   ]
  },
  {
   "cell_type": "code",
   "execution_count": 8,
   "id": "frank-telling",
   "metadata": {
    "execution": {
     "iopub.execute_input": "2021-06-19T08:30:57.567589Z",
     "iopub.status.busy": "2021-06-19T08:30:57.567093Z",
     "iopub.status.idle": "2021-06-19T08:30:57.864856Z",
     "shell.execute_reply": "2021-06-19T08:30:57.864344Z",
     "shell.execute_reply.started": "2021-06-19T08:20:47.991686Z"
    },
    "papermill": {
     "duration": 0.318206,
     "end_time": "2021-06-19T08:30:57.864979",
     "exception": false,
     "start_time": "2021-06-19T08:30:57.546773",
     "status": "completed"
    },
    "tags": []
   },
   "outputs": [],
   "source": [
    "gfs = GroupKFold(5)\n",
    "df['fold'] = 0\n",
    "for k, (train_ids, val_ids) in enumerate(gfs.split(df, groups=df['image_id'])):\n",
    "    df.loc[val_ids, 'fold'] = k"
   ]
  },
  {
   "cell_type": "code",
   "execution_count": 9,
   "id": "unlikely-print",
   "metadata": {
    "execution": {
     "iopub.execute_input": "2021-06-19T08:30:57.911284Z",
     "iopub.status.busy": "2021-06-19T08:30:57.903696Z",
     "iopub.status.idle": "2021-06-19T08:30:57.947496Z",
     "shell.execute_reply": "2021-06-19T08:30:57.947877Z",
     "shell.execute_reply.started": "2021-06-19T08:20:48.303240Z"
    },
    "papermill": {
     "duration": 0.065424,
     "end_time": "2021-06-19T08:30:57.948018",
     "exception": false,
     "start_time": "2021-06-19T08:30:57.882594",
     "status": "completed"
    },
    "tags": []
   },
   "outputs": [],
   "source": [
    "temp_df = df['image_id,fold'.split(',')].drop_duplicates().reset_index(drop=True)"
   ]
  },
  {
   "cell_type": "code",
   "execution_count": 10,
   "id": "present-slave",
   "metadata": {
    "execution": {
     "iopub.execute_input": "2021-06-19T08:30:57.986204Z",
     "iopub.status.busy": "2021-06-19T08:30:57.985665Z",
     "iopub.status.idle": "2021-06-19T08:30:57.990887Z",
     "shell.execute_reply": "2021-06-19T08:30:57.990464Z",
     "shell.execute_reply.started": "2021-06-19T08:20:48.353773Z"
    },
    "papermill": {
     "duration": 0.026223,
     "end_time": "2021-06-19T08:30:57.990991",
     "exception": false,
     "start_time": "2021-06-19T08:30:57.964768",
     "status": "completed"
    },
    "tags": []
   },
   "outputs": [],
   "source": [
    "fold = 0\n",
    "train_ids = temp_df.loc[temp_df['fold']!=fold, 'image_id'].reset_index(drop=True).values.tolist()\n",
    "val_ids = temp_df.loc[temp_df['fold']==fold, 'image_id'].reset_index(drop=True).values.tolist()"
   ]
  },
  {
   "cell_type": "code",
   "execution_count": 11,
   "id": "thousand-shepherd",
   "metadata": {
    "execution": {
     "iopub.execute_input": "2021-06-19T08:30:58.028755Z",
     "iopub.status.busy": "2021-06-19T08:30:58.028254Z",
     "iopub.status.idle": "2021-06-19T08:30:58.461387Z",
     "shell.execute_reply": "2021-06-19T08:30:58.460882Z",
     "shell.execute_reply.started": "2021-06-19T08:20:48.363146Z"
    },
    "papermill": {
     "duration": 0.45389,
     "end_time": "2021-06-19T08:30:58.461512",
     "exception": false,
     "start_time": "2021-06-19T08:30:58.007622",
     "status": "completed"
    },
    "tags": []
   },
   "outputs": [],
   "source": [
    "train_ids.extend(list(set(map(lambda x: x[:-4], os.listdir('../input/wheat-x0/train'))) - set(df['image_id'].unique())))\n",
    "train_ids.extend(list(set(map(lambda x: x[:-4], os.listdir('../input/global-wheat-detection/train'))) - set(df['image_id'].unique())))"
   ]
  },
  {
   "cell_type": "code",
   "execution_count": 12,
   "id": "appropriate-youth",
   "metadata": {
    "execution": {
     "iopub.execute_input": "2021-06-19T08:30:58.501337Z",
     "iopub.status.busy": "2021-06-19T08:30:58.500657Z",
     "iopub.status.idle": "2021-06-19T08:32:55.963106Z",
     "shell.execute_reply": "2021-06-19T08:32:55.962633Z",
     "shell.execute_reply.started": "2021-06-19T08:20:48.666237Z"
    },
    "papermill": {
     "duration": 117.48475,
     "end_time": "2021-06-19T08:32:55.963249",
     "exception": false,
     "start_time": "2021-06-19T08:30:58.478499",
     "status": "completed"
    },
    "tags": []
   },
   "outputs": [
    {
     "data": {
      "text/html": [
       "\n",
       "    <div>\n",
       "        <style>\n",
       "            /* Turns off some styling */\n",
       "            progress {\n",
       "                /* gets rid of default border in Firefox and Opera. */\n",
       "                border: none;\n",
       "                /* Needs to be in here for Safari polyfill so background images work as expected. */\n",
       "                background-size: auto;\n",
       "            }\n",
       "            .progress-bar-interrupted, .progress-bar-interrupted::-webkit-progress-bar {\n",
       "                background: #F44336;\n",
       "            }\n",
       "        </style>\n",
       "      <progress value='5681' class='' max='5681' style='width:300px; height:20px; vertical-align: middle;'></progress>\n",
       "      100.00% [5681/5681 01:34<00:00]\n",
       "    </div>\n",
       "    "
      ],
      "text/plain": [
       "<IPython.core.display.HTML object>"
      ]
     },
     "metadata": {},
     "output_type": "display_data"
    },
    {
     "data": {
      "text/html": [
       "\n",
       "    <div>\n",
       "        <style>\n",
       "            /* Turns off some styling */\n",
       "            progress {\n",
       "                /* gets rid of default border in Firefox and Opera. */\n",
       "                border: none;\n",
       "                /* Needs to be in here for Safari polyfill so background images work as expected. */\n",
       "                background-size: auto;\n",
       "            }\n",
       "            .progress-bar-interrupted, .progress-bar-interrupted::-webkit-progress-bar {\n",
       "                background: #F44336;\n",
       "            }\n",
       "        </style>\n",
       "      <progress value='1396' class='' max='1396' style='width:300px; height:20px; vertical-align: middle;'></progress>\n",
       "      100.00% [1396/1396 00:23<00:00]\n",
       "    </div>\n",
       "    "
      ],
      "text/plain": [
       "<IPython.core.display.HTML object>"
      ]
     },
     "metadata": {},
     "output_type": "display_data"
    }
   ],
   "source": [
    "for f in fastprogress.progress_bar(train_ids): \n",
    "    img_dir = '../input/global-wheat-detection/train' if len(f) == 9 else '../input/wheat-x0/train'\n",
    "    ext = 'png' if len(f) != 9 else 'jpg'\n",
    "    shutil.copyfile(f'{img_dir}/{f}.{ext}', f'{temp_img_dir}/train/{f}.{ext}')\n",
    "    \n",
    "for f in fastprogress.progress_bar(val_ids): \n",
    "    img_dir = '../input/global-wheat-detection/train' if len(f) == 9 else '../input/wheat-x0/train'\n",
    "    ext = 'png' if len(f) != 9 else 'jpg'\n",
    "    shutil.copyfile(f'{img_dir}/{f}.{ext}', f'{temp_img_dir}/valid/{f}.{ext}')"
   ]
  },
  {
   "cell_type": "code",
   "execution_count": 13,
   "id": "yellow-thong",
   "metadata": {
    "execution": {
     "iopub.execute_input": "2021-06-19T08:32:56.004713Z",
     "iopub.status.busy": "2021-06-19T08:32:56.004205Z",
     "iopub.status.idle": "2021-06-19T08:32:56.706891Z",
     "shell.execute_reply": "2021-06-19T08:32:56.706393Z",
     "shell.execute_reply.started": "2021-06-19T08:22:30.353284Z"
    },
    "papermill": {
     "duration": 0.725446,
     "end_time": "2021-06-19T08:32:56.707014",
     "exception": false,
     "start_time": "2021-06-19T08:32:55.981568",
     "status": "completed"
    },
    "tags": []
   },
   "outputs": [
    {
     "name": "stdout",
     "output_type": "stream",
     "text": [
      "{names: [none, wheat_head], nc: 2, train: /tmp/wheat/images/train, val: /tmp/wheat/images/valid}\r\n"
     ]
    }
   ],
   "source": [
    "# Create .yaml file \n",
    "import yaml\n",
    "\n",
    "data_yaml = dict(\n",
    "    train = '/tmp/wheat/images/train',\n",
    "    val = '/tmp/wheat/images/valid',\n",
    "    nc = 2,\n",
    "    names = ['none', 'wheat_head']\n",
    ")\n",
    "\n",
    "with open('data.yaml', 'w') as outfile:\n",
    "    yaml.dump(data_yaml, outfile, default_flow_style=True)\n",
    "    \n",
    "%cat data.yaml"
   ]
  },
  {
   "cell_type": "code",
   "execution_count": 14,
   "id": "known-stick",
   "metadata": {
    "execution": {
     "iopub.execute_input": "2021-06-19T08:32:56.750555Z",
     "iopub.status.busy": "2021-06-19T08:32:56.748381Z",
     "iopub.status.idle": "2021-06-19T08:32:56.754341Z",
     "shell.execute_reply": "2021-06-19T08:32:56.753873Z",
     "shell.execute_reply.started": "2021-06-19T08:22:31.025263Z"
    },
    "papermill": {
     "duration": 0.028501,
     "end_time": "2021-06-19T08:32:56.754449",
     "exception": false,
     "start_time": "2021-06-19T08:32:56.725948",
     "status": "completed"
    },
    "tags": []
   },
   "outputs": [],
   "source": [
    "import pickle\n",
    "\n",
    "with open('train.pkl', 'wb') as f:\n",
    "    pickle.dump(train_ids, f)\n",
    "    \n",
    "with open('val.pkl', 'wb') as f:\n",
    "    pickle.dump(val_ids, f)"
   ]
  },
  {
   "cell_type": "code",
   "execution_count": 15,
   "id": "emerging-piano",
   "metadata": {
    "execution": {
     "iopub.execute_input": "2021-06-19T08:32:56.799694Z",
     "iopub.status.busy": "2021-06-19T08:32:56.798908Z",
     "iopub.status.idle": "2021-06-19T08:33:15.498459Z",
     "shell.execute_reply": "2021-06-19T08:33:15.497457Z",
     "shell.execute_reply.started": "2021-06-19T08:22:31.037917Z"
    },
    "papermill": {
     "duration": 18.725691,
     "end_time": "2021-06-19T08:33:15.498610",
     "exception": false,
     "start_time": "2021-06-19T08:32:56.772919",
     "status": "completed"
    },
    "tags": []
   },
   "outputs": [],
   "source": [
    "df['domain'] = 1\n",
    "for name, temp_df in df[df['image_id'].isin(train_ids)].groupby('image_id'):\n",
    "    temp_df['x_center,y_center,w,h'.split(',')] = temp_df['x_center,y_center,w,h'.split(',')]/1024\n",
    "    cont = temp_df[['domain', 'x_center', 'y_center', 'w', 'h']].astype(np.float32).values.astype(str)\n",
    "    with open(f'{temp_label_dir}/train/{name}.txt', 'w+') as file_in:\n",
    "        for j in range(len(cont)):\n",
    "            text = ' '.join(cont[j])\n",
    "            file_in.write(text)\n",
    "            file_in.write(\"\\n\")\n",
    "            \n",
    "for name, temp_df in df[df['image_id'].isin(val_ids)].groupby('image_id'):\n",
    "    temp_df['x_center,y_center,w,h'.split(',')] = temp_df['x_center,y_center,w,h'.split(',')]/1024\n",
    "    cont = temp_df[['domain', 'x_center', 'y_center', 'w', 'h']].astype(np.float32).values.astype(str)\n",
    "    with open(f'{temp_label_dir}/valid/{name}.txt', 'w+') as file_in:\n",
    "        for j in range(len(cont)):\n",
    "            text = ' '.join(cont[j])\n",
    "            file_in.write(text)\n",
    "            file_in.write(\"\\n\")"
   ]
  },
  {
   "cell_type": "code",
   "execution_count": 16,
   "id": "colonial-breed",
   "metadata": {
    "execution": {
     "iopub.execute_input": "2021-06-19T08:33:15.545213Z",
     "iopub.status.busy": "2021-06-19T08:33:15.540537Z",
     "iopub.status.idle": "2021-06-19T13:16:06.881023Z",
     "shell.execute_reply": "2021-06-19T13:16:06.880481Z"
    },
    "papermill": {
     "duration": 16971.363582,
     "end_time": "2021-06-19T13:16:06.881238",
     "exception": false,
     "start_time": "2021-06-19T08:33:15.517656",
     "status": "completed"
    },
    "tags": []
   },
   "outputs": [
    {
     "name": "stdout",
     "output_type": "stream",
     "text": [
      "\u001b[34m\u001b[1mgithub: \u001b[0mskipping check (not a git repository), for updates see https://github.com/ultralytics/yolov5\r\n",
      "\u001b[31m\u001b[1mrequirements:\u001b[0m /kaggle/working/requirements.txt not found, check failed.\r\n",
      "2021-06-19 08:33:22.025748: I tensorflow/stream_executor/platform/default/dso_loader.cc:49] Successfully opened dynamic library libcudart.so.11.0\r\n",
      "2021-06-19 08:33:27.143249: I tensorflow/stream_executor/platform/default/dso_loader.cc:49] Successfully opened dynamic library libcudart.so.11.0\r\n",
      "2021-06-19 08:33:27.145591: I tensorflow/stream_executor/platform/default/dso_loader.cc:49] Successfully opened dynamic library libcudart.so.11.0\r\n",
      "\u001b[34m\u001b[1mwandb\u001b[0m: W&B syncing is set to `offline` in this directory.  Run `wandb online` or set WANDB_MODE=online to enable cloud syncing.\r\n",
      "\r\n",
      "\r\n",
      "\r\n",
      "\r\n",
      "\r\n",
      "\r\n",
      "\r\n",
      "\r\n",
      "\r\n",
      "\r\n",
      "\r\n",
      "\r\n",
      "\r\n",
      "\r\n",
      "\r\n",
      "\r\n",
      "\r\n",
      "\r\n",
      "\r\n",
      "\r\n",
      "\r\n",
      "\r\n",
      "\r\n",
      "\r\n",
      "\r\n",
      "\r\n",
      "\r\n",
      "\r\n",
      "\r\n",
      "\r\n",
      "\r\n",
      "\r\n",
      "\r\n",
      "\r\n",
      "\r\n",
      "\r\n",
      "\r\n",
      "\r\n",
      "\r\n",
      "\r\n",
      "\r\n",
      "\r\n",
      "\u001b[34m\u001b[1mwandb\u001b[0m: Waiting for W&B process to finish, PID 185\r\n",
      "\u001b[34m\u001b[1mwandb\u001b[0m: Program ended successfully.\r\n",
      "\u001b[34m\u001b[1mwandb\u001b[0m: Find user logs for this run at: /kaggle/working/wandb/offline-run-20210619_083326-1gf2buw7/logs/debug.log\r\n",
      "\u001b[34m\u001b[1mwandb\u001b[0m: Find internal logs for this run at: /kaggle/working/wandb/offline-run-20210619_083326-1gf2buw7/logs/debug-internal.log\r\n",
      "\u001b[34m\u001b[1mwandb\u001b[0m: Run summary:\r\n",
      "\u001b[34m\u001b[1mwandb\u001b[0m:                 train/box_loss 0.02852\r\n",
      "\u001b[34m\u001b[1mwandb\u001b[0m:                 train/obj_loss 0.20047\r\n",
      "\u001b[34m\u001b[1mwandb\u001b[0m:                 train/cls_loss 0.00019\r\n",
      "\u001b[34m\u001b[1mwandb\u001b[0m:              metrics/precision 0.93708\r\n",
      "\u001b[34m\u001b[1mwandb\u001b[0m:                 metrics/recall 0.91185\r\n",
      "\u001b[34m\u001b[1mwandb\u001b[0m:                metrics/mAP_0.5 0.95771\r\n",
      "\u001b[34m\u001b[1mwandb\u001b[0m:           metrics/mAP_0.5:0.95 0.56153\r\n",
      "\u001b[34m\u001b[1mwandb\u001b[0m:                   val/box_loss 0.02816\r\n",
      "\u001b[34m\u001b[1mwandb\u001b[0m:                   val/obj_loss 0.15412\r\n",
      "\u001b[34m\u001b[1mwandb\u001b[0m:                   val/cls_loss 0.00019\r\n",
      "\u001b[34m\u001b[1mwandb\u001b[0m:                          x/lr0 0.00276\r\n",
      "\u001b[34m\u001b[1mwandb\u001b[0m:                          x/lr1 0.00276\r\n",
      "\u001b[34m\u001b[1mwandb\u001b[0m:                          x/lr2 0.00276\r\n",
      "\u001b[34m\u001b[1mwandb\u001b[0m:                       _runtime 16946\r\n",
      "\u001b[34m\u001b[1mwandb\u001b[0m:                     _timestamp 1624108552\r\n",
      "\u001b[34m\u001b[1mwandb\u001b[0m:                          _step 10\r\n",
      "\u001b[34m\u001b[1mwandb\u001b[0m: Run history:\r\n",
      "\u001b[34m\u001b[1mwandb\u001b[0m:         train/box_loss █▄▄▃▂▂▂▁▁▁\r\n",
      "\u001b[34m\u001b[1mwandb\u001b[0m:         train/obj_loss █▅▅▄▃▃▂▂▁▁\r\n",
      "\u001b[34m\u001b[1mwandb\u001b[0m:         train/cls_loss █▃▂▂▂▁▁▁▁▁\r\n",
      "\u001b[34m\u001b[1mwandb\u001b[0m:      metrics/precision ▁▆▆▇▇▇▇▇██\r\n",
      "\u001b[34m\u001b[1mwandb\u001b[0m:         metrics/recall ▁▃▅▆▇▇▇███\r\n",
      "\u001b[34m\u001b[1mwandb\u001b[0m:        metrics/mAP_0.5 ▁▅▆▇▇█▇███\r\n",
      "\u001b[34m\u001b[1mwandb\u001b[0m:   metrics/mAP_0.5:0.95 ▁▄▄▆▆▇▇███\r\n",
      "\u001b[34m\u001b[1mwandb\u001b[0m:           val/box_loss █▅▄▃▃▂▂▁▁▁\r\n",
      "\u001b[34m\u001b[1mwandb\u001b[0m:           val/obj_loss ▆▄█▄▄▃▂▂▁▁\r\n",
      "\u001b[34m\u001b[1mwandb\u001b[0m:           val/cls_loss █▇▅▄▃▂▂▁▁▁\r\n",
      "\u001b[34m\u001b[1mwandb\u001b[0m:                  x/lr0 ▂▅█▇▇▆▅▃▂▁\r\n",
      "\u001b[34m\u001b[1mwandb\u001b[0m:                  x/lr1 ▂▅█▇▇▆▅▃▂▁\r\n",
      "\u001b[34m\u001b[1mwandb\u001b[0m:                  x/lr2 █▅▂▂▂▁▁▁▁▁\r\n",
      "\u001b[34m\u001b[1mwandb\u001b[0m:               _runtime ▁▂▃▃▄▅▆▆▇██\r\n",
      "\u001b[34m\u001b[1mwandb\u001b[0m:             _timestamp ▁▂▃▃▄▅▆▆▇██\r\n",
      "\u001b[34m\u001b[1mwandb\u001b[0m:                  _step ▁▂▂▃▄▅▅▆▇▇█\r\n",
      "\u001b[34m\u001b[1mwandb\u001b[0m: \r\n",
      "\u001b[34m\u001b[1mwandb\u001b[0m: You can sync this run to the cloud by running:\r\n",
      "\u001b[34m\u001b[1mwandb\u001b[0m: \u001b[33mwandb sync /kaggle/working/wandb/offline-run-20210619_083326-1gf2buw7\u001b[0m\r\n"
     ]
    }
   ],
   "source": [
    "!WANDB_MODE=\"dryrun\" python yolov5/train.py --img 1024 --batch 5 --epochs 10 --data data.yaml --weights yolov5x6.pt"
   ]
  },
  {
   "cell_type": "code",
   "execution_count": 17,
   "id": "running-terry",
   "metadata": {
    "execution": {
     "iopub.execute_input": "2021-06-19T13:16:14.237521Z",
     "iopub.status.busy": "2021-06-19T13:16:14.236802Z",
     "iopub.status.idle": "2021-06-19T13:16:15.618199Z",
     "shell.execute_reply": "2021-06-19T13:16:15.618682Z"
    },
    "papermill": {
     "duration": 4.947027,
     "end_time": "2021-06-19T13:16:15.618835",
     "exception": false,
     "start_time": "2021-06-19T13:16:10.671808",
     "status": "completed"
    },
    "tags": []
   },
   "outputs": [],
   "source": [
    "!rm -rf yolov5\n",
    "!rm -rf wandb"
   ]
  },
  {
   "cell_type": "code",
   "execution_count": null,
   "id": "agreed-librarian",
   "metadata": {
    "papermill": {
     "duration": 3.672308,
     "end_time": "2021-06-19T13:16:23.565298",
     "exception": false,
     "start_time": "2021-06-19T13:16:19.892990",
     "status": "completed"
    },
    "tags": []
   },
   "outputs": [],
   "source": []
  }
 ],
 "metadata": {
  "kernelspec": {
   "display_name": "Python 3",
   "language": "python",
   "name": "python3"
  },
  "language_info": {
   "codemirror_mode": {
    "name": "ipython",
    "version": 3
   },
   "file_extension": ".py",
   "mimetype": "text/x-python",
   "name": "python",
   "nbconvert_exporter": "python",
   "pygments_lexer": "ipython3",
   "version": "3.7.10"
  },
  "papermill": {
   "default_parameters": {},
   "duration": 17160.319337,
   "end_time": "2021-06-19T13:16:29.022212",
   "environment_variables": {},
   "exception": null,
   "input_path": "__notebook__.ipynb",
   "output_path": "__notebook__.ipynb",
   "parameters": {},
   "start_time": "2021-06-19T08:30:28.702875",
   "version": "2.3.3"
  }
 },
 "nbformat": 4,
 "nbformat_minor": 5
}

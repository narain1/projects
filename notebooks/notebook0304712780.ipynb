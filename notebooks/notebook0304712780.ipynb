{
 "cells": [
  {
   "cell_type": "code",
   "execution_count": 1,
   "id": "hungry-beach",
   "metadata": {
    "execution": {
     "iopub.execute_input": "2021-06-24T10:01:22.297333Z",
     "iopub.status.busy": "2021-06-24T10:01:22.296698Z",
     "iopub.status.idle": "2021-06-24T10:01:51.157472Z",
     "shell.execute_reply": "2021-06-24T10:01:51.156147Z",
     "shell.execute_reply.started": "2021-06-24T09:58:06.980767Z"
    },
    "papermill": {
     "duration": 28.880035,
     "end_time": "2021-06-24T10:01:51.157635",
     "exception": false,
     "start_time": "2021-06-24T10:01:22.277600",
     "status": "completed"
    },
    "tags": []
   },
   "outputs": [
    {
     "name": "stdout",
     "output_type": "stream",
     "text": [
      "Collecting ensemble-boxes\r\n",
      "  Downloading ensemble_boxes-1.0.6-py3-none-any.whl (20 kB)\r\n",
      "Requirement already satisfied: numba in /opt/conda/lib/python3.7/site-packages (from ensemble-boxes) (0.53.1)\r\n",
      "Requirement already satisfied: numpy in /opt/conda/lib/python3.7/site-packages (from ensemble-boxes) (1.19.5)\r\n",
      "Requirement already satisfied: pandas in /opt/conda/lib/python3.7/site-packages (from ensemble-boxes) (1.1.5)\r\n",
      "Requirement already satisfied: llvmlite<0.37,>=0.36.0rc1 in /opt/conda/lib/python3.7/site-packages (from numba->ensemble-boxes) (0.36.0)\r\n",
      "Requirement already satisfied: setuptools in /opt/conda/lib/python3.7/site-packages (from numba->ensemble-boxes) (49.6.0.post20210108)\r\n",
      "Requirement already satisfied: python-dateutil>=2.7.3 in /opt/conda/lib/python3.7/site-packages (from pandas->ensemble-boxes) (2.8.1)\r\n",
      "Requirement already satisfied: pytz>=2017.2 in /opt/conda/lib/python3.7/site-packages (from pandas->ensemble-boxes) (2021.1)\r\n",
      "Requirement already satisfied: six>=1.5 in /opt/conda/lib/python3.7/site-packages (from python-dateutil>=2.7.3->pandas->ensemble-boxes) (1.15.0)\r\n",
      "Installing collected packages: ensemble-boxes\r\n",
      "Successfully installed ensemble-boxes-1.0.6\r\n",
      "Cloning into 'yolov5'...\r\n",
      "remote: Enumerating objects: 7301, done.\u001b[K\r\n",
      "remote: Counting objects: 100% (423/423), done.\u001b[K\r\n",
      "remote: Compressing objects: 100% (274/274), done.\u001b[K\r\n",
      "remote: Total 7301 (delta 265), reused 269 (delta 149), pack-reused 6878\u001b[K\r\n",
      "Receiving objects: 100% (7301/7301), 9.19 MiB | 7.42 MiB/s, done.\r\n",
      "Resolving deltas: 100% (4990/4990), done.\r\n"
     ]
    }
   ],
   "source": [
    "!pip install ensemble-boxes\n",
    "!git clone https://github.com/ultralytics/yolov5.git\n",
    "!pip install -q yolov5"
   ]
  },
  {
   "cell_type": "code",
   "execution_count": 2,
   "id": "disciplinary-greeting",
   "metadata": {
    "_cell_guid": "b1076dfc-b9ad-4769-8c92-a6c4dae69d19",
    "_uuid": "8f2839f25d086af736a60e9eeb907d3b93b6e0e5",
    "execution": {
     "iopub.execute_input": "2021-06-24T10:01:51.191342Z",
     "iopub.status.busy": "2021-06-24T10:01:51.190783Z",
     "iopub.status.idle": "2021-06-24T10:01:52.601604Z",
     "shell.execute_reply": "2021-06-24T10:01:52.600636Z",
     "shell.execute_reply.started": "2021-06-24T09:58:30.895757Z"
    },
    "papermill": {
     "duration": 1.428914,
     "end_time": "2021-06-24T10:01:52.601764",
     "exception": false,
     "start_time": "2021-06-24T10:01:51.172850",
     "status": "completed"
    },
    "tags": []
   },
   "outputs": [],
   "source": [
    "import numpy as np \n",
    "import pandas as pd \n",
    "import os, cv2, torch\n",
    "import fastprogress\n",
    "import shutil as sh"
   ]
  },
  {
   "cell_type": "code",
   "execution_count": 3,
   "id": "hybrid-classics",
   "metadata": {
    "execution": {
     "iopub.execute_input": "2021-06-24T10:01:52.652803Z",
     "iopub.status.busy": "2021-06-24T10:01:52.652009Z",
     "iopub.status.idle": "2021-06-24T10:01:53.520129Z",
     "shell.execute_reply": "2021-06-24T10:01:53.519635Z",
     "shell.execute_reply.started": "2021-06-24T09:58:32.425933Z"
    },
    "papermill": {
     "duration": 0.902646,
     "end_time": "2021-06-24T10:01:53.520300",
     "exception": false,
     "start_time": "2021-06-24T10:01:52.617654",
     "status": "completed"
    },
    "tags": []
   },
   "outputs": [],
   "source": [
    "from ensemble_boxes import *\n",
    "\n",
    "def run_wbf(boxes, scores, image_size=1023, iou_thr=0.5, skip_box_thr=0.7, weights=None):\n",
    "    labels = [np.zeros(score.shape[0]) for score in scores]\n",
    "    boxes = [box/(image_size) for box in boxes]\n",
    "    boxes, scores, labels = weighted_boxes_fusion(boxes, scores, labels, weights=None, iou_thr=iou_thr, skip_box_thr=skip_box_thr)\n",
    "    boxes = boxes*(image_size)\n",
    "    return boxes, scores, labels\n",
    "\n",
    "def TTAImage(image, index):\n",
    "    image1 = image.copy()\n",
    "    if index==0: \n",
    "        rotated_image = cv2.rotate(image1, cv2.ROTATE_90_CLOCKWISE)\n",
    "        return rotated_image\n",
    "    elif index==1:\n",
    "        rotated_image2 = cv2.rotate(image1, cv2.ROTATE_90_CLOCKWISE)\n",
    "        rotated_image2 = cv2.rotate(rotated_image2, cv2.ROTATE_90_CLOCKWISE)\n",
    "        return rotated_image2\n",
    "    elif index==2:\n",
    "        rotated_image3 = cv2.rotate(image1, cv2.ROTATE_90_CLOCKWISE)\n",
    "        rotated_image3 = cv2.rotate(rotated_image3, cv2.ROTATE_90_CLOCKWISE)\n",
    "        rotated_image3 = cv2.rotate(rotated_image3, cv2.ROTATE_90_CLOCKWISE)\n",
    "        return rotated_image3\n",
    "    elif index == 3:\n",
    "        return image1\n",
    "    \n",
    "def rotBoxes90(boxes, im_w, im_h):\n",
    "    ret_boxes =[]\n",
    "    for box in boxes:\n",
    "        x1, y1, x2, y2 = box\n",
    "        x1, y1, x2, y2 = x1-im_w//2, im_h//2 - y1, x2-im_w//2, im_h//2 - y2\n",
    "        x1, y1, x2, y2 = y1, -x1, y2, -x2\n",
    "        x1, y1, x2, y2 = int(x1+im_w//2), int(im_h//2 - y1), int(x2+im_w//2), int(im_h//2 - y2)\n",
    "        x1a, y1a, x2a, y2a = min(x1, x2), min(y1, y2), max(x1, x2), max(y1, y2)\n",
    "        ret_boxes.append([x1a, y1a, x2a, y2a])\n",
    "    return np.array(ret_boxes)\n",
    "\n",
    "def detect1Image(im0, imgsz, model, device, conf_thres, iou_thres):\n",
    "    img = letterbox(im0, new_shape=imgsz)[0]\n",
    "    img = img.transpose(2, 0, 1)  \n",
    "    img = np.ascontiguousarray(img)\n",
    "\n",
    "    img = torch.from_numpy(img).to(device)\n",
    "    img =  img.float()  \n",
    "    img /= 255.0   \n",
    "    if img.ndimension() == 3:\n",
    "        img = img.unsqueeze(0)\n",
    "\n",
    "    pred = model(img, augment=False)[0]\n",
    "\n",
    "    pred = non_max_suppression(pred, conf_thres, iou_thres)\n",
    "\n",
    "    boxes = []\n",
    "    scores = []\n",
    "    for i, det in enumerate(pred):\n",
    "        if det is not None and len(det):\n",
    "            det[:, :4] = scale_coords(img.shape[2:], det[:, :4], im0.shape).round()\n",
    "            for *xyxy, conf, cls in det:\n",
    "                boxes.append([int(xyxy[0]), int(xyxy[1]), int(xyxy[2]), int(xyxy[3])])\n",
    "                scores.append(conf)\n",
    "\n",
    "    return np.array(boxes), np.array(scores) "
   ]
  },
  {
   "cell_type": "code",
   "execution_count": 4,
   "id": "chicken-enclosure",
   "metadata": {
    "execution": {
     "iopub.execute_input": "2021-06-24T10:01:53.556042Z",
     "iopub.status.busy": "2021-06-24T10:01:53.555204Z",
     "iopub.status.idle": "2021-06-24T10:01:53.558304Z",
     "shell.execute_reply": "2021-06-24T10:01:53.557816Z",
     "shell.execute_reply.started": "2021-06-24T09:58:33.344655Z"
    },
    "papermill": {
     "duration": 0.022211,
     "end_time": "2021-06-24T10:01:53.558436",
     "exception": false,
     "start_time": "2021-06-24T10:01:53.536225",
     "status": "completed"
    },
    "tags": []
   },
   "outputs": [],
   "source": [
    "paths = [f'../input/wheat-yolo-data-2/best ({i}).pt' for i in range(1, 5)] + ['../input/wheat-yolo-data-2/best.pt']"
   ]
  },
  {
   "cell_type": "code",
   "execution_count": 5,
   "id": "hundred-tampa",
   "metadata": {
    "execution": {
     "iopub.execute_input": "2021-06-24T10:01:53.592711Z",
     "iopub.status.busy": "2021-06-24T10:01:53.591800Z",
     "iopub.status.idle": "2021-06-24T10:01:54.406554Z",
     "shell.execute_reply": "2021-06-24T10:01:54.405027Z",
     "shell.execute_reply.started": "2021-06-24T09:58:33.353789Z"
    },
    "papermill": {
     "duration": 0.83349,
     "end_time": "2021-06-24T10:01:54.406745",
     "exception": false,
     "start_time": "2021-06-24T10:01:53.573255",
     "status": "completed"
    },
    "tags": []
   },
   "outputs": [],
   "source": [
    "import yolov5\n",
    "from yolov5.utils.datasets import *\n",
    "from yolov5.utils.general import *"
   ]
  },
  {
   "cell_type": "code",
   "execution_count": 6,
   "id": "exact-jewel",
   "metadata": {
    "execution": {
     "iopub.execute_input": "2021-06-24T10:01:54.452988Z",
     "iopub.status.busy": "2021-06-24T10:01:54.452301Z",
     "iopub.status.idle": "2021-06-24T12:42:12.762446Z",
     "shell.execute_reply": "2021-06-24T12:42:12.762867Z"
    },
    "papermill": {
     "duration": 9618.340019,
     "end_time": "2021-06-24T12:42:12.763057",
     "exception": false,
     "start_time": "2021-06-24T10:01:54.423038",
     "status": "completed"
    },
    "tags": []
   },
   "outputs": [
    {
     "name": "stdout",
     "output_type": "stream",
     "text": [
      "models loaded\n"
     ]
    },
    {
     "data": {
      "text/html": [
       "\n",
       "    <div>\n",
       "        <style>\n",
       "            /* Turns off some styling */\n",
       "            progress {\n",
       "                /* gets rid of default border in Firefox and Opera. */\n",
       "                border: none;\n",
       "                /* Needs to be in here for Safari polyfill so background images work as expected. */\n",
       "                background-size: auto;\n",
       "            }\n",
       "            .progress-bar-interrupted, .progress-bar-interrupted::-webkit-progress-bar {\n",
       "                background: #F44336;\n",
       "            }\n",
       "        </style>\n",
       "      <progress value='2856' class='' max='2856' style='width:300px; height:20px; vertical-align: middle;'></progress>\n",
       "      100.00% [2856/2856 2:39:39<00:00]\n",
       "    </div>\n",
       "    "
      ],
      "text/plain": [
       "<IPython.core.display.HTML object>"
      ]
     },
     "metadata": {},
     "output_type": "display_data"
    }
   ],
   "source": [
    "source = '../input/aicrowdwheatdata/test/'\n",
    "imgsz = 1024\n",
    "conf_thres = 0.5\n",
    "iou_thres = 0.6\n",
    "    \n",
    "fs =  os.listdir(source)\n",
    "    \n",
    "device = torch.device('cuda') if torch.cuda.is_available() else torch.device('cpu')\n",
    "\n",
    "models = []\n",
    "for p in paths:\n",
    "    model = torch.hub.load('yolov5', 'custom', path=p, source='local')\n",
    "    model.to(device).eval()\n",
    "    models.append(model)\n",
    "    \n",
    "print('models loaded')\n",
    "    \n",
    "for f in fastprogress.progress_bar(fs):\n",
    "    image_id = f[:-4]\n",
    "    img = cv2.cvtColor(cv2.imread(os.path.join(source, image_id +'.png')), cv2.COLOR_BGR2RGB)\n",
    "    im_w, im_h = img.shape[:2]\n",
    "    enboxes = []\n",
    "    enscores = []\n",
    "    for model in models:\n",
    "        for i in range(4):\n",
    "            im0 = TTAImage(img, i)\n",
    "            boxes, scores = detect1Image(im0, imgsz, model, device, conf_thres, iou_thres)\n",
    "            for _ in range(3-i):\n",
    "                boxes = rotBoxes90(boxes, im_w, im_h)\n",
    "                    \n",
    "            enboxes.append(boxes)\n",
    "            enscores.append(scores) \n",
    "\n",
    "        boxes, scores, labels = run_wbf(enboxes, enscores, image_size = im_w, iou_thr=0.6, skip_box_thr=0.43)\n",
    "        boxes = boxes.astype(np.int32).clip(min=0, max=im_w)\n",
    "        \n",
    "    boxes[:, 2] = boxes[:, 2] - boxes[:, 0]\n",
    "    boxes[:, 3] = boxes[:, 3] - boxes[:, 1]\n",
    "        \n",
    "    boxes = boxes[scores >= 0.05].astype(np.int32)\n",
    "    scores = scores[scores >=float(0.05)]\n",
    "        \n",
    "    lineo = ''\n",
    "    for box in boxes:\n",
    "        x1, y1, w, h = box\n",
    "        xc, yc, w, h = (x1+w/2)/1024, (y1+h/2)/1024, w/1024, h/1024\n",
    "        lineo += '0 %f %f %f %f\\n'%(xc, yc, w, h)\n",
    "            \n",
    "    fileo = open(image_id+\".txt\", 'w+')\n",
    "    fileo.write(lineo)\n",
    "    fileo.close()"
   ]
  },
  {
   "cell_type": "code",
   "execution_count": null,
   "id": "initial-bubble",
   "metadata": {
    "papermill": {
     "duration": 0.015287,
     "end_time": "2021-06-24T12:42:12.794131",
     "exception": false,
     "start_time": "2021-06-24T12:42:12.778844",
     "status": "completed"
    },
    "tags": []
   },
   "outputs": [],
   "source": []
  }
 ],
 "metadata": {
  "kernelspec": {
   "display_name": "Python 3",
   "language": "python",
   "name": "python3"
  },
  "language_info": {
   "codemirror_mode": {
    "name": "ipython",
    "version": 3
   },
   "file_extension": ".py",
   "mimetype": "text/x-python",
   "name": "python",
   "nbconvert_exporter": "python",
   "pygments_lexer": "ipython3",
   "version": "3.7.10"
  },
  "papermill": {
   "default_parameters": {},
   "duration": 9660.289987,
   "end_time": "2021-06-24T12:42:15.286142",
   "environment_variables": {},
   "exception": null,
   "input_path": "__notebook__.ipynb",
   "output_path": "__notebook__.ipynb",
   "parameters": {},
   "start_time": "2021-06-24T10:01:14.996155",
   "version": "2.3.3"
  }
 },
 "nbformat": 4,
 "nbformat_minor": 5
}

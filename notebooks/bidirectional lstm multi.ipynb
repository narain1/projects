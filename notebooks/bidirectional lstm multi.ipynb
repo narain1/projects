{
 "cells": [
  {
   "cell_type": "code",
   "execution_count": 1,
   "id": "7aa90e87",
   "metadata": {
    "_cell_guid": "b1076dfc-b9ad-4769-8c92-a6c4dae69d19",
    "_uuid": "8f2839f25d086af736a60e9eeb907d3b93b6e0e5",
    "execution": {
     "iopub.execute_input": "2021-09-15T15:37:05.160312Z",
     "iopub.status.busy": "2021-09-15T15:37:05.159531Z",
     "iopub.status.idle": "2021-09-15T15:37:22.124146Z",
     "shell.execute_reply": "2021-09-15T15:37:22.124583Z",
     "shell.execute_reply.started": "2021-09-15T15:28:24.615519Z"
    },
    "papermill": {
     "duration": 17.070466,
     "end_time": "2021-09-15T15:37:22.124897",
     "exception": false,
     "start_time": "2021-09-15T15:37:05.054431",
     "status": "completed"
    },
    "tags": []
   },
   "outputs": [
    {
     "name": "stdout",
     "output_type": "stream",
     "text": [
      "\u001b[33mWARNING: Running pip as the 'root' user can result in broken permissions and conflicting behaviour with the system package manager. It is recommended to use a virtual environment instead: https://pip.pypa.io/warnings/venv\u001b[0m\r\n",
      "\u001b[33mWARNING: Running pip as the 'root' user can result in broken permissions and conflicting behaviour with the system package manager. It is recommended to use a virtual environment instead: https://pip.pypa.io/warnings/venv\u001b[0m\r\n"
     ]
    }
   ],
   "source": [
    "!pip install -q xlrd\n",
    "!pip install -q openpyxl"
   ]
  },
  {
   "cell_type": "code",
   "execution_count": 2,
   "id": "b5a4c98c",
   "metadata": {
    "execution": {
     "iopub.execute_input": "2021-09-15T15:37:22.164877Z",
     "iopub.status.busy": "2021-09-15T15:37:22.164080Z",
     "iopub.status.idle": "2021-09-15T15:37:22.939772Z",
     "shell.execute_reply": "2021-09-15T15:37:22.939248Z",
     "shell.execute_reply.started": "2021-09-15T15:28:39.988215Z"
    },
    "papermill": {
     "duration": 0.79715,
     "end_time": "2021-09-15T15:37:22.939932",
     "exception": false,
     "start_time": "2021-09-15T15:37:22.142782",
     "status": "completed"
    },
    "tags": []
   },
   "outputs": [],
   "source": [
    "import numpy as np\n",
    "import pandas as pd\n",
    "import re, string\n",
    "from wordcloud import WordCloud, STOPWORDS\n",
    "import matplotlib.pyplot as plt\n",
    "from sklearn.model_selection import train_test_split\n",
    "import fastprogress\n",
    "from collections import Counter"
   ]
  },
  {
   "cell_type": "code",
   "execution_count": 3,
   "id": "d22ba6ed",
   "metadata": {
    "execution": {
     "iopub.execute_input": "2021-09-15T15:37:22.983432Z",
     "iopub.status.busy": "2021-09-15T15:37:22.982494Z",
     "iopub.status.idle": "2021-09-15T15:37:24.601621Z",
     "shell.execute_reply": "2021-09-15T15:37:24.601131Z",
     "shell.execute_reply.started": "2021-09-15T15:28:40.777535Z"
    },
    "papermill": {
     "duration": 1.645583,
     "end_time": "2021-09-15T15:37:24.601770",
     "exception": false,
     "start_time": "2021-09-15T15:37:22.956187",
     "status": "completed"
    },
    "tags": []
   },
   "outputs": [],
   "source": [
    "df = pd.read_excel('../input/learning/input_data-1.xlsx')\n",
    "df['Description'] = df['Description'].str.replace(r'(_x000D_\\n)+', ' ', regex=True)\n",
    "df['Description'] = df['Description'].str.replace('(employee# &', 'employee_num', regex=False)\n",
    "df['combined desc'] = df['Short description'] + ' ' + df['Description']\n",
    "df = df.dropna().reset_index(drop=True)"
   ]
  },
  {
   "cell_type": "code",
   "execution_count": 4,
   "id": "ba51126c",
   "metadata": {
    "execution": {
     "iopub.execute_input": "2021-09-15T15:37:24.649254Z",
     "iopub.status.busy": "2021-09-15T15:37:24.646337Z",
     "iopub.status.idle": "2021-09-15T15:37:24.651694Z",
     "shell.execute_reply": "2021-09-15T15:37:24.651157Z",
     "shell.execute_reply.started": "2021-09-15T15:28:42.336137Z"
    },
    "papermill": {
     "duration": 0.03279,
     "end_time": "2021-09-15T15:37:24.651835",
     "exception": false,
     "start_time": "2021-09-15T15:37:24.619045",
     "status": "completed"
    },
    "tags": []
   },
   "outputs": [],
   "source": [
    "label_dist = df['Assignment group'].value_counts().reset_index()\n",
    "drop_classes = label_dist[label_dist['Assignment group'] == 1]['index'].values\n",
    "df = df[~df['Assignment group'].isin(drop_classes)].reset_index(drop=True)"
   ]
  },
  {
   "cell_type": "code",
   "execution_count": 5,
   "id": "8a2f6215",
   "metadata": {
    "execution": {
     "iopub.execute_input": "2021-09-15T15:37:24.945892Z",
     "iopub.status.busy": "2021-09-15T15:37:24.780887Z",
     "iopub.status.idle": "2021-09-15T15:37:28.475204Z",
     "shell.execute_reply": "2021-09-15T15:37:28.474179Z",
     "shell.execute_reply.started": "2021-09-15T15:29:14.570072Z"
    },
    "papermill": {
     "duration": 3.807288,
     "end_time": "2021-09-15T15:37:28.475363",
     "exception": false,
     "start_time": "2021-09-15T15:37:24.668075",
     "status": "completed"
    },
    "tags": []
   },
   "outputs": [],
   "source": [
    "for k, item in df.iterrows():\n",
    "    df.loc[k, 'combined desc'] = item['combined desc'].replace('.'.join(item['Caller'].split()), 'ename')\n",
    "    df.loc[k, 'combined desc'] = item['combined desc'].replace(item['Caller'].split()[0], 'first_name')\n",
    "    df.loc[k, 'combined desc'] = item['combined desc'].replace(item['Caller'].split()[1], 'second_name')"
   ]
  },
  {
   "cell_type": "code",
   "execution_count": 6,
   "id": "6d9404e9",
   "metadata": {
    "execution": {
     "iopub.execute_input": "2021-09-15T15:37:28.523188Z",
     "iopub.status.busy": "2021-09-15T15:37:28.521357Z",
     "iopub.status.idle": "2021-09-15T15:37:28.523885Z",
     "shell.execute_reply": "2021-09-15T15:37:28.524345Z",
     "shell.execute_reply.started": "2021-09-15T15:29:17.474327Z"
    },
    "papermill": {
     "duration": 0.028791,
     "end_time": "2021-09-15T15:37:28.524486",
     "exception": false,
     "start_time": "2021-09-15T15:37:28.495695",
     "status": "completed"
    },
    "tags": []
   },
   "outputs": [],
   "source": [
    "def clean_numbers(x):\n",
    "    return re.sub(r'\\d+', ' ', x)"
   ]
  },
  {
   "cell_type": "code",
   "execution_count": 7,
   "id": "eddc5925",
   "metadata": {
    "execution": {
     "iopub.execute_input": "2021-09-15T15:37:28.608376Z",
     "iopub.status.busy": "2021-09-15T15:37:28.587666Z",
     "iopub.status.idle": "2021-09-15T15:37:28.695795Z",
     "shell.execute_reply": "2021-09-15T15:37:28.696272Z",
     "shell.execute_reply.started": "2021-09-15T15:29:17.480457Z"
    },
    "papermill": {
     "duration": 0.15321,
     "end_time": "2021-09-15T15:37:28.696427",
     "exception": false,
     "start_time": "2021-09-15T15:37:28.543217",
     "status": "completed"
    },
    "tags": []
   },
   "outputs": [],
   "source": [
    "df['combined desc'] = df['combined desc'].str.lower()\n",
    "df['combined desc'] = df['combined desc'].apply(clean_numbers)\n",
    "df['combined desc'] = df['combined desc'].str.replace('(ticket_no)', 'ticket_no', regex=False)\n",
    "df['combined desc'] = df['combined desc'].str.strip()"
   ]
  },
  {
   "cell_type": "code",
   "execution_count": 8,
   "id": "9778faf0",
   "metadata": {
    "execution": {
     "iopub.execute_input": "2021-09-15T15:37:28.739095Z",
     "iopub.status.busy": "2021-09-15T15:37:28.738251Z",
     "iopub.status.idle": "2021-09-15T15:37:42.715603Z",
     "shell.execute_reply": "2021-09-15T15:37:42.715107Z",
     "shell.execute_reply.started": "2021-09-15T15:29:17.602331Z"
    },
    "papermill": {
     "duration": 14.000506,
     "end_time": "2021-09-15T15:37:42.715718",
     "exception": false,
     "start_time": "2021-09-15T15:37:28.715212",
     "status": "completed"
    },
    "tags": []
   },
   "outputs": [
    {
     "name": "stdout",
     "output_type": "stream",
     "text": [
      "Collecting xx_ent_wiki_sm==2.3.0\r\n",
      "  Downloading https://github.com/explosion/spacy-models/releases/download/xx_ent_wiki_sm-2.3.0/xx_ent_wiki_sm-2.3.0.tar.gz (3.7 MB)\r\n",
      "\u001b[K     |████████████████████████████████| 3.7 MB 5.4 MB/s \r\n",
      "\u001b[?25hRequirement already satisfied: spacy<2.4.0,>=2.3.0 in /opt/conda/lib/python3.7/site-packages (from xx_ent_wiki_sm==2.3.0) (2.3.7)\r\n",
      "Requirement already satisfied: plac<1.2.0,>=0.9.6 in /opt/conda/lib/python3.7/site-packages (from spacy<2.4.0,>=2.3.0->xx_ent_wiki_sm==2.3.0) (1.1.3)\r\n",
      "Requirement already satisfied: preshed<3.1.0,>=3.0.2 in /opt/conda/lib/python3.7/site-packages (from spacy<2.4.0,>=2.3.0->xx_ent_wiki_sm==2.3.0) (3.0.5)\r\n",
      "Requirement already satisfied: blis<0.8.0,>=0.4.0 in /opt/conda/lib/python3.7/site-packages (from spacy<2.4.0,>=2.3.0->xx_ent_wiki_sm==2.3.0) (0.7.4)\r\n",
      "Requirement already satisfied: wasabi<1.1.0,>=0.4.0 in /opt/conda/lib/python3.7/site-packages (from spacy<2.4.0,>=2.3.0->xx_ent_wiki_sm==2.3.0) (0.8.2)\r\n",
      "Requirement already satisfied: cymem<2.1.0,>=2.0.2 in /opt/conda/lib/python3.7/site-packages (from spacy<2.4.0,>=2.3.0->xx_ent_wiki_sm==2.3.0) (2.0.5)\r\n",
      "Requirement already satisfied: srsly<1.1.0,>=1.0.2 in /opt/conda/lib/python3.7/site-packages (from spacy<2.4.0,>=2.3.0->xx_ent_wiki_sm==2.3.0) (1.0.5)\r\n",
      "Requirement already satisfied: thinc<7.5.0,>=7.4.1 in /opt/conda/lib/python3.7/site-packages (from spacy<2.4.0,>=2.3.0->xx_ent_wiki_sm==2.3.0) (7.4.5)\r\n",
      "Requirement already satisfied: catalogue<1.1.0,>=0.0.7 in /opt/conda/lib/python3.7/site-packages (from spacy<2.4.0,>=2.3.0->xx_ent_wiki_sm==2.3.0) (1.0.0)\r\n",
      "Requirement already satisfied: murmurhash<1.1.0,>=0.28.0 in /opt/conda/lib/python3.7/site-packages (from spacy<2.4.0,>=2.3.0->xx_ent_wiki_sm==2.3.0) (1.0.5)\r\n",
      "Requirement already satisfied: tqdm<5.0.0,>=4.38.0 in /opt/conda/lib/python3.7/site-packages (from spacy<2.4.0,>=2.3.0->xx_ent_wiki_sm==2.3.0) (4.62.1)\r\n",
      "Requirement already satisfied: setuptools in /opt/conda/lib/python3.7/site-packages (from spacy<2.4.0,>=2.3.0->xx_ent_wiki_sm==2.3.0) (57.4.0)\r\n",
      "Requirement already satisfied: requests<3.0.0,>=2.13.0 in /opt/conda/lib/python3.7/site-packages (from spacy<2.4.0,>=2.3.0->xx_ent_wiki_sm==2.3.0) (2.25.1)\r\n",
      "Requirement already satisfied: numpy>=1.15.0 in /opt/conda/lib/python3.7/site-packages (from spacy<2.4.0,>=2.3.0->xx_ent_wiki_sm==2.3.0) (1.19.5)\r\n",
      "Requirement already satisfied: importlib-metadata>=0.20 in /opt/conda/lib/python3.7/site-packages (from catalogue<1.1.0,>=0.0.7->spacy<2.4.0,>=2.3.0->xx_ent_wiki_sm==2.3.0) (3.4.0)\r\n",
      "Requirement already satisfied: zipp>=0.5 in /opt/conda/lib/python3.7/site-packages (from importlib-metadata>=0.20->catalogue<1.1.0,>=0.0.7->spacy<2.4.0,>=2.3.0->xx_ent_wiki_sm==2.3.0) (3.5.0)\r\n",
      "Requirement already satisfied: typing-extensions>=3.6.4 in /opt/conda/lib/python3.7/site-packages (from importlib-metadata>=0.20->catalogue<1.1.0,>=0.0.7->spacy<2.4.0,>=2.3.0->xx_ent_wiki_sm==2.3.0) (3.7.4.3)\r\n",
      "Requirement already satisfied: chardet<5,>=3.0.2 in /opt/conda/lib/python3.7/site-packages (from requests<3.0.0,>=2.13.0->spacy<2.4.0,>=2.3.0->xx_ent_wiki_sm==2.3.0) (4.0.0)\r\n",
      "Requirement already satisfied: idna<3,>=2.5 in /opt/conda/lib/python3.7/site-packages (from requests<3.0.0,>=2.13.0->spacy<2.4.0,>=2.3.0->xx_ent_wiki_sm==2.3.0) (2.10)\r\n",
      "Requirement already satisfied: certifi>=2017.4.17 in /opt/conda/lib/python3.7/site-packages (from requests<3.0.0,>=2.13.0->spacy<2.4.0,>=2.3.0->xx_ent_wiki_sm==2.3.0) (2021.5.30)\r\n",
      "Requirement already satisfied: urllib3<1.27,>=1.21.1 in /opt/conda/lib/python3.7/site-packages (from requests<3.0.0,>=2.13.0->spacy<2.4.0,>=2.3.0->xx_ent_wiki_sm==2.3.0) (1.26.6)\r\n",
      "Building wheels for collected packages: xx-ent-wiki-sm\r\n",
      "  Building wheel for xx-ent-wiki-sm (setup.py) ... \u001b[?25l-\b \b\\\b \b|\b \bdone\r\n",
      "\u001b[?25h  Created wheel for xx-ent-wiki-sm: filename=xx_ent_wiki_sm-2.3.0-py3-none-any.whl size=3741307 sha256=85ab1796e57dd68889f94688974d04170ada1af8ecfb07debca53ca6f802e557\r\n",
      "  Stored in directory: /root/.cache/pip/wheels/6d/3a/e2/6f3c30d9b864273b5c88e6cf82e83bdafff5296cd949915598\r\n",
      "Successfully built xx-ent-wiki-sm\r\n",
      "Installing collected packages: xx-ent-wiki-sm\r\n",
      "Successfully installed xx-ent-wiki-sm-2.3.0\r\n",
      "\u001b[33mWARNING: Running pip as the 'root' user can result in broken permissions and conflicting behaviour with the system package manager. It is recommended to use a virtual environment instead: https://pip.pypa.io/warnings/venv\u001b[0m\r\n",
      "\u001b[38;5;2m✔ Download and installation successful\u001b[0m\r\n",
      "You can now load the model via spacy.load('xx_ent_wiki_sm')\r\n"
     ]
    }
   ],
   "source": [
    "!python -m spacy download xx_ent_wiki_sm"
   ]
  },
  {
   "cell_type": "code",
   "execution_count": 9,
   "id": "6ffe1733",
   "metadata": {
    "execution": {
     "iopub.execute_input": "2021-09-15T15:37:42.770815Z",
     "iopub.status.busy": "2021-09-15T15:37:42.764788Z",
     "iopub.status.idle": "2021-09-15T15:37:43.734563Z",
     "shell.execute_reply": "2021-09-15T15:37:43.734046Z",
     "shell.execute_reply.started": "2021-09-15T15:29:30.852772Z"
    },
    "papermill": {
     "duration": 0.996435,
     "end_time": "2021-09-15T15:37:43.734711",
     "exception": false,
     "start_time": "2021-09-15T15:37:42.738276",
     "status": "completed"
    },
    "tags": []
   },
   "outputs": [],
   "source": [
    "from spacy.tokenizer import Tokenizer\n",
    "import xx_ent_wiki_sm\n",
    "nlp = xx_ent_wiki_sm.load()"
   ]
  },
  {
   "cell_type": "code",
   "execution_count": 10,
   "id": "2952b4bc",
   "metadata": {
    "execution": {
     "iopub.execute_input": "2021-09-15T15:37:43.824871Z",
     "iopub.status.busy": "2021-09-15T15:37:43.814563Z",
     "iopub.status.idle": "2021-09-15T15:37:45.443330Z",
     "shell.execute_reply": "2021-09-15T15:37:45.443731Z",
     "shell.execute_reply.started": "2021-09-15T15:29:31.818493Z"
    },
    "papermill": {
     "duration": 1.686184,
     "end_time": "2021-09-15T15:37:45.443911",
     "exception": false,
     "start_time": "2021-09-15T15:37:43.757727",
     "status": "completed"
    },
    "tags": []
   },
   "outputs": [],
   "source": [
    "tokenizer = Tokenizer(nlp.vocab)\n",
    "df['combined desc'] = df['combined desc'].map(tokenizer).map(lambda x: ' '.join(x.text.split()))"
   ]
  },
  {
   "cell_type": "code",
   "execution_count": 11,
   "id": "54c784fc",
   "metadata": {
    "execution": {
     "iopub.execute_input": "2021-09-15T15:37:45.492566Z",
     "iopub.status.busy": "2021-09-15T15:37:45.492061Z",
     "iopub.status.idle": "2021-09-15T15:37:49.541955Z",
     "shell.execute_reply": "2021-09-15T15:37:49.541002Z",
     "shell.execute_reply.started": "2021-09-15T15:29:33.550393Z"
    },
    "papermill": {
     "duration": 4.076433,
     "end_time": "2021-09-15T15:37:49.542102",
     "exception": false,
     "start_time": "2021-09-15T15:37:45.465669",
     "status": "completed"
    },
    "tags": []
   },
   "outputs": [
    {
     "name": "stderr",
     "output_type": "stream",
     "text": [
      "2021-09-15 15:37:45.978652: I tensorflow/stream_executor/platform/default/dso_loader.cc:49] Successfully opened dynamic library libcudart.so.11.0\n"
     ]
    }
   ],
   "source": [
    "import tensorflow as tf\n",
    "from tensorflow.keras.preprocessing.text import Tokenizer\n",
    "from tensorflow.keras.preprocessing.sequence import pad_sequences\n",
    "from tensorflow.keras.layers import Dense, Input, LSTM, Embedding, Dropout, Activation\n",
    "from tensorflow.keras.layers import Bidirectional, GlobalMaxPool1D\n",
    "from tensorflow.keras.models import Model\n",
    "from tensorflow.keras import initializers, regularizers, constraints, optimizers, layers"
   ]
  },
  {
   "cell_type": "code",
   "execution_count": 12,
   "id": "595a2895",
   "metadata": {
    "execution": {
     "iopub.execute_input": "2021-09-15T15:37:49.592961Z",
     "iopub.status.busy": "2021-09-15T15:37:49.592202Z",
     "iopub.status.idle": "2021-09-15T15:37:49.594818Z",
     "shell.execute_reply": "2021-09-15T15:37:49.594385Z",
     "shell.execute_reply.started": "2021-09-15T15:29:37.829667Z"
    },
    "papermill": {
     "duration": 0.030423,
     "end_time": "2021-09-15T15:37:49.594929",
     "exception": false,
     "start_time": "2021-09-15T15:37:49.564506",
     "status": "completed"
    },
    "tags": []
   },
   "outputs": [],
   "source": [
    "cats = df['Assignment group'].unique().tolist()\n",
    "cat_dict = {j:i for i,j in enumerate(sorted(cats))}"
   ]
  },
  {
   "cell_type": "code",
   "execution_count": 13,
   "id": "147c9e91",
   "metadata": {
    "execution": {
     "iopub.execute_input": "2021-09-15T15:37:49.645431Z",
     "iopub.status.busy": "2021-09-15T15:37:49.644609Z",
     "iopub.status.idle": "2021-09-15T15:37:49.649684Z",
     "shell.execute_reply": "2021-09-15T15:37:49.650183Z",
     "shell.execute_reply.started": "2021-09-15T15:29:37.837411Z"
    },
    "papermill": {
     "duration": 0.033609,
     "end_time": "2021-09-15T15:37:49.650320",
     "exception": false,
     "start_time": "2021-09-15T15:37:49.616711",
     "status": "completed"
    },
    "tags": []
   },
   "outputs": [],
   "source": [
    "x_train, x_val, y_train, y_val = train_test_split(df['combined desc'], df['Assignment group'].map(cat_dict), random_state=2021, shuffle=True)"
   ]
  },
  {
   "cell_type": "code",
   "execution_count": 14,
   "id": "9fe26db9",
   "metadata": {
    "execution": {
     "iopub.execute_input": "2021-09-15T15:37:49.697121Z",
     "iopub.status.busy": "2021-09-15T15:37:49.696292Z",
     "iopub.status.idle": "2021-09-15T15:37:49.698334Z",
     "shell.execute_reply": "2021-09-15T15:37:49.698764Z",
     "shell.execute_reply.started": "2021-09-15T15:29:37.852482Z"
    },
    "papermill": {
     "duration": 0.027229,
     "end_time": "2021-09-15T15:37:49.698887",
     "exception": false,
     "start_time": "2021-09-15T15:37:49.671658",
     "status": "completed"
    },
    "tags": []
   },
   "outputs": [],
   "source": [
    "embed_size = 200\n",
    "max_features = 10000 # how many unique words to use (i.e num rows in embedding vector)\n",
    "maxlen = 100 # max number of words in a comment to use\n",
    "EMBEDDING_FILE='../input/glove6b/glove.6B.200d.txt'"
   ]
  },
  {
   "cell_type": "code",
   "execution_count": 15,
   "id": "97edbeb9",
   "metadata": {
    "execution": {
     "iopub.execute_input": "2021-09-15T15:37:49.780613Z",
     "iopub.status.busy": "2021-09-15T15:37:49.769838Z",
     "iopub.status.idle": "2021-09-15T15:37:50.317680Z",
     "shell.execute_reply": "2021-09-15T15:37:50.317229Z",
     "shell.execute_reply.started": "2021-09-15T15:29:37.860317Z"
    },
    "papermill": {
     "duration": 0.597453,
     "end_time": "2021-09-15T15:37:50.317830",
     "exception": false,
     "start_time": "2021-09-15T15:37:49.720377",
     "status": "completed"
    },
    "tags": []
   },
   "outputs": [],
   "source": [
    "tokenizer = Tokenizer(num_words=max_features)\n",
    "tokenizer.fit_on_texts(list(x_train))\n",
    "list_tokenized_train = tokenizer.texts_to_sequences(x_train)\n",
    "list_tokenized_test = tokenizer.texts_to_sequences(x_val)\n",
    "X_t = pad_sequences(list_tokenized_train, maxlen=maxlen)\n",
    "X_te = pad_sequences(list_tokenized_test, maxlen=maxlen)"
   ]
  },
  {
   "cell_type": "code",
   "execution_count": 16,
   "id": "7f9390ba",
   "metadata": {
    "execution": {
     "iopub.execute_input": "2021-09-15T15:37:50.365760Z",
     "iopub.status.busy": "2021-09-15T15:37:50.365227Z",
     "iopub.status.idle": "2021-09-15T15:38:23.857585Z",
     "shell.execute_reply": "2021-09-15T15:38:23.857087Z",
     "shell.execute_reply.started": "2021-09-15T15:29:38.424946Z"
    },
    "papermill": {
     "duration": 33.518019,
     "end_time": "2021-09-15T15:38:23.857727",
     "exception": false,
     "start_time": "2021-09-15T15:37:50.339708",
     "status": "completed"
    },
    "tags": []
   },
   "outputs": [],
   "source": [
    "def get_coefs(word,*arr): return word, np.asarray(arr, dtype='float32')\n",
    "embeddings_index = dict(get_coefs(*o.strip().split()) for o in open(EMBEDDING_FILE))"
   ]
  },
  {
   "cell_type": "code",
   "execution_count": 17,
   "id": "8f200fcf",
   "metadata": {
    "execution": {
     "iopub.execute_input": "2021-09-15T15:38:23.905410Z",
     "iopub.status.busy": "2021-09-15T15:38:23.904753Z",
     "iopub.status.idle": "2021-09-15T15:38:24.887309Z",
     "shell.execute_reply": "2021-09-15T15:38:24.888268Z",
     "shell.execute_reply.started": "2021-09-15T15:30:10.761626Z"
    },
    "papermill": {
     "duration": 1.008806,
     "end_time": "2021-09-15T15:38:24.888484",
     "exception": false,
     "start_time": "2021-09-15T15:38:23.879678",
     "status": "completed"
    },
    "tags": []
   },
   "outputs": [
    {
     "name": "stderr",
     "output_type": "stream",
     "text": [
      "/opt/conda/lib/python3.7/site-packages/IPython/core/interactiveshell.py:3361: FutureWarning: arrays to stack must be passed as a \"sequence\" type such as list or tuple. Support for non-sequence iterables such as generators is deprecated as of NumPy 1.16 and will raise an error in the future.\n",
      "  if (await self.run_code(code, result,  async_=asy)):\n"
     ]
    },
    {
     "data": {
      "text/plain": [
       "(-0.008671864, 0.38186216)"
      ]
     },
     "execution_count": 17,
     "metadata": {},
     "output_type": "execute_result"
    }
   ],
   "source": [
    "all_embs = np.stack(embeddings_index.values())\n",
    "emb_mean,emb_std = all_embs.mean(), all_embs.std()\n",
    "emb_mean,emb_std"
   ]
  },
  {
   "cell_type": "code",
   "execution_count": 18,
   "id": "cdcc1535",
   "metadata": {
    "execution": {
     "iopub.execute_input": "2021-09-15T15:38:24.972629Z",
     "iopub.status.busy": "2021-09-15T15:38:24.971796Z",
     "iopub.status.idle": "2021-09-15T15:38:25.112451Z",
     "shell.execute_reply": "2021-09-15T15:38:25.111275Z",
     "shell.execute_reply.started": "2021-09-15T15:30:11.655459Z"
    },
    "papermill": {
     "duration": 0.186192,
     "end_time": "2021-09-15T15:38:25.112592",
     "exception": false,
     "start_time": "2021-09-15T15:38:24.926400",
     "status": "completed"
    },
    "tags": []
   },
   "outputs": [],
   "source": [
    "word_index = tokenizer.word_index\n",
    "nb_words = min(max_features, len(word_index))\n",
    "embedding_matrix = np.random.normal(emb_mean, emb_std, (nb_words, embed_size))\n",
    "for word, i in word_index.items():\n",
    "    if i >= max_features: continue\n",
    "    embedding_vector = embeddings_index.get(word)\n",
    "    if embedding_vector is not None: embedding_matrix[i] = embedding_vector"
   ]
  },
  {
   "cell_type": "code",
   "execution_count": 19,
   "id": "fc4ca8eb",
   "metadata": {
    "execution": {
     "iopub.execute_input": "2021-09-15T15:38:25.163739Z",
     "iopub.status.busy": "2021-09-15T15:38:25.163217Z",
     "iopub.status.idle": "2021-09-15T15:38:27.775567Z",
     "shell.execute_reply": "2021-09-15T15:38:27.774572Z",
     "shell.execute_reply.started": "2021-09-15T15:32:02.623608Z"
    },
    "papermill": {
     "duration": 2.640683,
     "end_time": "2021-09-15T15:38:27.775709",
     "exception": false,
     "start_time": "2021-09-15T15:38:25.135026",
     "status": "completed"
    },
    "tags": []
   },
   "outputs": [
    {
     "name": "stderr",
     "output_type": "stream",
     "text": [
      "2021-09-15 15:38:25.186375: I tensorflow/compiler/jit/xla_cpu_device.cc:41] Not creating XLA devices, tf_xla_enable_xla_devices not set\n",
      "2021-09-15 15:38:25.188667: I tensorflow/stream_executor/platform/default/dso_loader.cc:49] Successfully opened dynamic library libcuda.so.1\n",
      "2021-09-15 15:38:25.227815: I tensorflow/stream_executor/cuda/cuda_gpu_executor.cc:941] successful NUMA node read from SysFS had negative value (-1), but there must be at least one NUMA node, so returning NUMA node zero\n",
      "2021-09-15 15:38:25.228440: I tensorflow/core/common_runtime/gpu/gpu_device.cc:1720] Found device 0 with properties: \n",
      "pciBusID: 0000:00:04.0 name: Tesla P100-PCIE-16GB computeCapability: 6.0\n",
      "coreClock: 1.3285GHz coreCount: 56 deviceMemorySize: 15.90GiB deviceMemoryBandwidth: 681.88GiB/s\n",
      "2021-09-15 15:38:25.228502: I tensorflow/stream_executor/platform/default/dso_loader.cc:49] Successfully opened dynamic library libcudart.so.11.0\n",
      "2021-09-15 15:38:25.228555: I tensorflow/stream_executor/platform/default/dso_loader.cc:49] Successfully opened dynamic library libcublas.so.11\n",
      "2021-09-15 15:38:25.228584: I tensorflow/stream_executor/platform/default/dso_loader.cc:49] Successfully opened dynamic library libcublasLt.so.11\n",
      "2021-09-15 15:38:25.228626: I tensorflow/stream_executor/platform/default/dso_loader.cc:49] Successfully opened dynamic library libcufft.so.10\n",
      "2021-09-15 15:38:25.228655: I tensorflow/stream_executor/platform/default/dso_loader.cc:49] Successfully opened dynamic library libcurand.so.10\n",
      "2021-09-15 15:38:25.228683: I tensorflow/stream_executor/platform/default/dso_loader.cc:49] Successfully opened dynamic library libcusolver.so.10\n",
      "2021-09-15 15:38:25.228710: I tensorflow/stream_executor/platform/default/dso_loader.cc:49] Successfully opened dynamic library libcusparse.so.11\n",
      "2021-09-15 15:38:25.228760: I tensorflow/stream_executor/platform/default/dso_loader.cc:49] Successfully opened dynamic library libcudnn.so.8\n",
      "2021-09-15 15:38:25.228885: I tensorflow/stream_executor/cuda/cuda_gpu_executor.cc:941] successful NUMA node read from SysFS had negative value (-1), but there must be at least one NUMA node, so returning NUMA node zero\n",
      "2021-09-15 15:38:25.229489: I tensorflow/stream_executor/cuda/cuda_gpu_executor.cc:941] successful NUMA node read from SysFS had negative value (-1), but there must be at least one NUMA node, so returning NUMA node zero\n",
      "2021-09-15 15:38:25.231154: I tensorflow/core/common_runtime/gpu/gpu_device.cc:1862] Adding visible gpu devices: 0\n",
      "2021-09-15 15:38:25.231567: I tensorflow/core/platform/cpu_feature_guard.cc:142] This TensorFlow binary is optimized with oneAPI Deep Neural Network Library (oneDNN) to use the following CPU instructions in performance-critical operations:  AVX2 AVX512F FMA\n",
      "To enable them in other operations, rebuild TensorFlow with the appropriate compiler flags.\n",
      "2021-09-15 15:38:25.231801: I tensorflow/compiler/jit/xla_gpu_device.cc:99] Not creating XLA devices, tf_xla_enable_xla_devices not set\n",
      "2021-09-15 15:38:25.231954: I tensorflow/stream_executor/cuda/cuda_gpu_executor.cc:941] successful NUMA node read from SysFS had negative value (-1), but there must be at least one NUMA node, so returning NUMA node zero\n",
      "2021-09-15 15:38:25.232599: I tensorflow/core/common_runtime/gpu/gpu_device.cc:1720] Found device 0 with properties: \n",
      "pciBusID: 0000:00:04.0 name: Tesla P100-PCIE-16GB computeCapability: 6.0\n",
      "coreClock: 1.3285GHz coreCount: 56 deviceMemorySize: 15.90GiB deviceMemoryBandwidth: 681.88GiB/s\n",
      "2021-09-15 15:38:25.232665: I tensorflow/stream_executor/platform/default/dso_loader.cc:49] Successfully opened dynamic library libcudart.so.11.0\n",
      "2021-09-15 15:38:25.232688: I tensorflow/stream_executor/platform/default/dso_loader.cc:49] Successfully opened dynamic library libcublas.so.11\n",
      "2021-09-15 15:38:25.232709: I tensorflow/stream_executor/platform/default/dso_loader.cc:49] Successfully opened dynamic library libcublasLt.so.11\n",
      "2021-09-15 15:38:25.232738: I tensorflow/stream_executor/platform/default/dso_loader.cc:49] Successfully opened dynamic library libcufft.so.10\n",
      "2021-09-15 15:38:25.232759: I tensorflow/stream_executor/platform/default/dso_loader.cc:49] Successfully opened dynamic library libcurand.so.10\n",
      "2021-09-15 15:38:25.232822: I tensorflow/stream_executor/platform/default/dso_loader.cc:49] Successfully opened dynamic library libcusolver.so.10\n",
      "2021-09-15 15:38:25.232850: I tensorflow/stream_executor/platform/default/dso_loader.cc:49] Successfully opened dynamic library libcusparse.so.11\n",
      "2021-09-15 15:38:25.232873: I tensorflow/stream_executor/platform/default/dso_loader.cc:49] Successfully opened dynamic library libcudnn.so.8\n",
      "2021-09-15 15:38:25.232945: I tensorflow/stream_executor/cuda/cuda_gpu_executor.cc:941] successful NUMA node read from SysFS had negative value (-1), but there must be at least one NUMA node, so returning NUMA node zero\n",
      "2021-09-15 15:38:25.233533: I tensorflow/stream_executor/cuda/cuda_gpu_executor.cc:941] successful NUMA node read from SysFS had negative value (-1), but there must be at least one NUMA node, so returning NUMA node zero\n",
      "2021-09-15 15:38:25.234128: I tensorflow/core/common_runtime/gpu/gpu_device.cc:1862] Adding visible gpu devices: 0\n",
      "2021-09-15 15:38:25.235278: I tensorflow/stream_executor/platform/default/dso_loader.cc:49] Successfully opened dynamic library libcudart.so.11.0\n",
      "2021-09-15 15:38:26.923036: I tensorflow/core/common_runtime/gpu/gpu_device.cc:1261] Device interconnect StreamExecutor with strength 1 edge matrix:\n",
      "2021-09-15 15:38:26.923090: I tensorflow/core/common_runtime/gpu/gpu_device.cc:1267]      0 \n",
      "2021-09-15 15:38:26.923102: I tensorflow/core/common_runtime/gpu/gpu_device.cc:1280] 0:   N \n",
      "2021-09-15 15:38:26.925138: I tensorflow/stream_executor/cuda/cuda_gpu_executor.cc:941] successful NUMA node read from SysFS had negative value (-1), but there must be at least one NUMA node, so returning NUMA node zero\n",
      "2021-09-15 15:38:26.925920: I tensorflow/stream_executor/cuda/cuda_gpu_executor.cc:941] successful NUMA node read from SysFS had negative value (-1), but there must be at least one NUMA node, so returning NUMA node zero\n",
      "2021-09-15 15:38:26.926591: I tensorflow/stream_executor/cuda/cuda_gpu_executor.cc:941] successful NUMA node read from SysFS had negative value (-1), but there must be at least one NUMA node, so returning NUMA node zero\n",
      "2021-09-15 15:38:26.927175: I tensorflow/core/common_runtime/gpu/gpu_device.cc:1406] Created TensorFlow device (/job:localhost/replica:0/task:0/device:GPU:0 with 14915 MB memory) -> physical GPU (device: 0, name: Tesla P100-PCIE-16GB, pci bus id: 0000:00:04.0, compute capability: 6.0)\n"
     ]
    }
   ],
   "source": [
    "inp = Input(shape=(maxlen,))\n",
    "x = Embedding(max_features, embed_size, weights=[embedding_matrix])(inp)\n",
    "x = Bidirectional(LSTM(50, return_sequences=True, dropout=0.1, recurrent_dropout=0.1))(x)\n",
    "x = Bidirectional(LSTM(50, return_sequences=True, dropout=0.1, recurrent_dropout=0.1))(x)\n",
    "x = GlobalMaxPool1D()(x)\n",
    "x = Dense(128, activation=\"relu\")(x)\n",
    "x = Dropout(0.1)(x)\n",
    "x = Dense(68, activation=\"softmax\")(x)\n",
    "model = Model(inputs=inp, outputs=x)\n",
    "model.compile(loss='sparse_categorical_crossentropy', optimizer='adam', metrics=['accuracy'])"
   ]
  },
  {
   "cell_type": "code",
   "execution_count": 20,
   "id": "d344f857",
   "metadata": {
    "execution": {
     "iopub.execute_input": "2021-09-15T15:38:27.825509Z",
     "iopub.status.busy": "2021-09-15T15:38:27.824856Z",
     "iopub.status.idle": "2021-09-15T16:20:37.666497Z",
     "shell.execute_reply": "2021-09-15T16:20:37.667609Z"
    },
    "papermill": {
     "duration": 2529.869383,
     "end_time": "2021-09-15T16:20:37.667947",
     "exception": false,
     "start_time": "2021-09-15T15:38:27.798564",
     "status": "completed"
    },
    "tags": []
   },
   "outputs": [
    {
     "name": "stderr",
     "output_type": "stream",
     "text": [
      "2021-09-15 15:38:27.866682: I tensorflow/compiler/mlir/mlir_graph_optimization_pass.cc:116] None of the MLIR optimization passes are enabled (registered 2)\n",
      "2021-09-15 15:38:27.876811: I tensorflow/core/platform/profile_utils/cpu_utils.cc:112] CPU Frequency: 2000179999 Hz\n"
     ]
    },
    {
     "name": "stdout",
     "output_type": "stream",
     "text": [
      "Epoch 1/8\n"
     ]
    },
    {
     "name": "stderr",
     "output_type": "stream",
     "text": [
      "2021-09-15 15:38:36.601049: I tensorflow/stream_executor/platform/default/dso_loader.cc:49] Successfully opened dynamic library libcublas.so.11\n",
      "2021-09-15 15:38:37.312413: I tensorflow/stream_executor/platform/default/dso_loader.cc:49] Successfully opened dynamic library libcublasLt.so.11\n"
     ]
    },
    {
     "name": "stdout",
     "output_type": "stream",
     "text": [
      "199/199 [==============================] - 326s 2s/step - loss: 2.7330 - accuracy: 0.4613 - val_loss: 1.8651 - val_accuracy: 0.5858\n",
      "Epoch 2/8\n",
      "199/199 [==============================] - 316s 2s/step - loss: 1.8176 - accuracy: 0.5768 - val_loss: 1.6700 - val_accuracy: 0.6032\n",
      "Epoch 3/8\n",
      "199/199 [==============================] - 314s 2s/step - loss: 1.5541 - accuracy: 0.6095 - val_loss: 1.4910 - val_accuracy: 0.6244\n",
      "Epoch 4/8\n",
      "199/199 [==============================] - 309s 2s/step - loss: 1.2831 - accuracy: 0.6589 - val_loss: 1.4782 - val_accuracy: 0.6225\n",
      "Epoch 5/8\n",
      "199/199 [==============================] - 314s 2s/step - loss: 1.1228 - accuracy: 0.6871 - val_loss: 1.4389 - val_accuracy: 0.6447\n",
      "Epoch 6/8\n",
      "199/199 [==============================] - 315s 2s/step - loss: 0.9632 - accuracy: 0.7220 - val_loss: 1.4507 - val_accuracy: 0.6541\n",
      "Epoch 7/8\n",
      "199/199 [==============================] - 318s 2s/step - loss: 0.7904 - accuracy: 0.7648 - val_loss: 1.5403 - val_accuracy: 0.6513\n",
      "Epoch 8/8\n",
      "199/199 [==============================] - 319s 2s/step - loss: 0.6617 - accuracy: 0.8095 - val_loss: 1.6251 - val_accuracy: 0.6381\n"
     ]
    }
   ],
   "source": [
    "model.fit(X_t, y_train, validation_data=(X_te, y_val), batch_size=32, epochs=8);"
   ]
  },
  {
   "cell_type": "code",
   "execution_count": null,
   "id": "04bba9c9",
   "metadata": {
    "papermill": {
     "duration": 0.435793,
     "end_time": "2021-09-15T16:20:38.541015",
     "exception": false,
     "start_time": "2021-09-15T16:20:38.105222",
     "status": "completed"
    },
    "tags": []
   },
   "outputs": [],
   "source": []
  },
  {
   "cell_type": "code",
   "execution_count": null,
   "id": "ac6200cf",
   "metadata": {
    "papermill": {
     "duration": 0.435696,
     "end_time": "2021-09-15T16:20:39.423445",
     "exception": false,
     "start_time": "2021-09-15T16:20:38.987749",
     "status": "completed"
    },
    "tags": []
   },
   "outputs": [],
   "source": []
  },
  {
   "cell_type": "code",
   "execution_count": null,
   "id": "05a46491",
   "metadata": {
    "papermill": {
     "duration": 0.43942,
     "end_time": "2021-09-15T16:20:40.299983",
     "exception": false,
     "start_time": "2021-09-15T16:20:39.860563",
     "status": "completed"
    },
    "tags": []
   },
   "outputs": [],
   "source": []
  }
 ],
 "metadata": {
  "kernelspec": {
   "display_name": "Python 3",
   "language": "python",
   "name": "python3"
  },
  "language_info": {
   "codemirror_mode": {
    "name": "ipython",
    "version": 3
   },
   "file_extension": ".py",
   "mimetype": "text/x-python",
   "name": "python",
   "nbconvert_exporter": "python",
   "pygments_lexer": "ipython3",
   "version": "3.7.10"
  },
  "papermill": {
   "default_parameters": {},
   "duration": 2625.642138,
   "end_time": "2021-09-15T16:20:43.784687",
   "environment_variables": {},
   "exception": null,
   "input_path": "__notebook__.ipynb",
   "output_path": "__notebook__.ipynb",
   "parameters": {},
   "start_time": "2021-09-15T15:36:58.142549",
   "version": "2.3.3"
  }
 },
 "nbformat": 4,
 "nbformat_minor": 5
}

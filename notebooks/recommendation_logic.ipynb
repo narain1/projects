{
  "nbformat": 4,
  "nbformat_minor": 0,
  "metadata": {
    "colab": {
      "provenance": []
    },
    "kernelspec": {
      "name": "python3",
      "display_name": "Python 3"
    },
    "language_info": {
      "name": "python"
    }
  },
  "cells": [
    {
      "cell_type": "code",
      "source": [
        "!wget https://github.com/narain1/dotfiles/releases/download/v1.0.5/Test.zip -q"
      ],
      "metadata": {
        "id": "DTF1BOx02rKD"
      },
      "execution_count": 1,
      "outputs": []
    },
    {
      "cell_type": "code",
      "source": [
        "!unzip -q Test.zip"
      ],
      "metadata": {
        "id": "7if_JXdt2wYa"
      },
      "execution_count": 2,
      "outputs": []
    },
    {
      "cell_type": "code",
      "execution_count": 3,
      "metadata": {
        "id": "38XYelkGhSue"
      },
      "outputs": [],
      "source": [
        "import os\n",
        "import pandas as pd\n",
        "import json\n",
        "import warnings\n",
        "from sklearn.feature_extraction.text import TfidfVectorizer\n",
        "import numpy as np\n",
        "\n",
        "warnings.filterwarnings('ignore')"
      ]
    },
    {
      "cell_type": "code",
      "source": [
        "xl_fs = list(map(lambda x: os.path.join('Test', x), os.listdir('Test')))"
      ],
      "metadata": {
        "id": "wva6pgJ4H5lp"
      },
      "execution_count": 4,
      "outputs": []
    },
    {
      "cell_type": "code",
      "source": [
        "def filter_nulls(o):\n",
        "    d1 = dict()\n",
        "    for k, v in d.items():\n",
        "        d2 = dict()\n",
        "        for k1, v1 in v.items():\n",
        "            if v1 != None:\n",
        "                d2[k1] = v1\n",
        "        d1[k] = d2\n",
        "    return d1"
      ],
      "metadata": {
        "id": "eQ_49cTp5V7S"
      },
      "execution_count": 5,
      "outputs": []
    },
    {
      "cell_type": "code",
      "source": [
        "os.makedirs('json_files', exist_ok=True)\n",
        "for f in xl_fs:\n",
        "    sheet_names = pd.ExcelFile(f).sheet_names\n",
        "    for s in sheet_names:\n",
        "        df = pd.read_excel(f, sheet_name=s).dropna(how='all')\n",
        "        d = json.loads(df.to_json())\n",
        "        d = filter_nulls(d)\n",
        "        with open(f'json_files/{os.path.basename(f)}_{s}.json', 'w') as f_write:\n",
        "            json.dump(d, f_write, indent=4)"
      ],
      "metadata": {
        "id": "gnVqKCJhaTLu"
      },
      "execution_count": 6,
      "outputs": []
    },
    {
      "cell_type": "code",
      "source": [
        "json_files = xl_fs = list(map(lambda x: os.path.join('json_files', x), os.listdir('json_files')))\n",
        "len(json_files)"
      ],
      "metadata": {
        "colab": {
          "base_uri": "https://localhost:8080/"
        },
        "id": "GheuqBQSwwdj",
        "outputId": "d1a7722f-0206-4c91-a2a5-d96e1fef9234"
      },
      "execution_count": 7,
      "outputs": [
        {
          "output_type": "execute_result",
          "data": {
            "text/plain": [
              "512"
            ]
          },
          "metadata": {},
          "execution_count": 7
        }
      ]
    },
    {
      "cell_type": "code",
      "source": [
        "acc = []\n",
        "for f in json_files:\n",
        "    acc1 = []\n",
        "    with open(f) as f_read:\n",
        "        o = json.load(f_read)\n",
        "    assert o['SIEMENS']['9'] in ['Menge', 'Quantity']\n",
        "    assert len(o) == 11\n",
        "    headers = [o[k].get('9', '') for k in o]\n",
        "    keys = o[list(o.keys())[0]].keys()\n",
        "    for k in keys:\n",
        "        if int(k) > 9:\n",
        "            acc1.append({i:o[j].get(k, '') for i,j in zip(headers, o.keys())})\n",
        "    acc.append(acc1)"
      ],
      "metadata": {
        "id": "-D_cUaBdx8d6"
      },
      "execution_count": 8,
      "outputs": []
    },
    {
      "cell_type": "code",
      "source": [
        "def stringify_sheet(a):\n",
        "    acc = []\n",
        "    for b in a:\n",
        "        for k,v in b.items():\n",
        "            if '' in [k,v]: continue\n",
        "            acc.append(f\"{str(k).replace(' ', '-')}__{str(v).replace(' ', '-')}\")\n",
        "    return ' '.join(acc)"
      ],
      "metadata": {
        "id": "0WLgkYIzeJt7"
      },
      "execution_count": 9,
      "outputs": []
    },
    {
      "cell_type": "code",
      "source": [
        "tfidf = TfidfVectorizer()\n",
        "query_matrix = tfidf.fit_transform(list(map(stringify_sheet, acc)))"
      ],
      "metadata": {
        "id": "iDp1efZfFhEP"
      },
      "execution_count": 10,
      "outputs": []
    },
    {
      "cell_type": "code",
      "source": [
        "query_matrix.shape"
      ],
      "metadata": {
        "colab": {
          "base_uri": "https://localhost:8080/"
        },
        "id": "c176n91ZhJcb",
        "outputId": "c4f9f877-619d-4284-fc9e-646adef70d5b"
      },
      "execution_count": 11,
      "outputs": [
        {
          "output_type": "execute_result",
          "data": {
            "text/plain": [
              "(512, 5868)"
            ]
          },
          "metadata": {},
          "execution_count": 11
        }
      ]
    },
    {
      "cell_type": "code",
      "source": [
        "rank_values = query_matrix @ tfidf.transform([stringify_sheet(acc[0])]).T\n",
        "rank_values = np.array(rank_values.todense()).squeeze()\n",
        "# rank_values = rank_values"
      ],
      "metadata": {
        "id": "tLt8D9nwhMft"
      },
      "execution_count": 23,
      "outputs": []
    },
    {
      "cell_type": "code",
      "source": [
        "top_5 = np.argsort(rank_values)[-5:]"
      ],
      "metadata": {
        "id": "vnWA3kIixu01"
      },
      "execution_count": 41,
      "outputs": []
    },
    {
      "cell_type": "code",
      "source": [
        "acc[top_5[0]]"
      ],
      "metadata": {
        "colab": {
          "base_uri": "https://localhost:8080/"
        },
        "id": "MZac9qwdC5Hp",
        "outputId": "9a38ccf1-3997-4267-cbfc-196d730be937"
      },
      "execution_count": 42,
      "outputs": [
        {
          "output_type": "execute_result",
          "data": {
            "text/plain": [
              "[{'Menge': 1,\n",
              "  'Bestell-Nr.': '3AX4206',\n",
              "  'Kurztext': 'klein-Positionsschalter',\n",
              "  '': '',\n",
              "  'BMKZ': '-S80',\n",
              "  'Ort': '+.B',\n",
              "  'Bem.': '',\n",
              "  'Whrg.': 'EUR',\n",
              "  'L-Preis Gerät\\n(einzel)': 2,\n",
              "  'L-Preis E&V\\n(einzel)': 81.6165536,\n",
              "  'L-Preis Summe\\n(gesamt)': 83.6165536},\n",
              " {'Menge': 1,\n",
              "  'Bestell-Nr.': '3RH2440-1BF40',\n",
              "  'Kurztext': 'HILFSSCHUETZ VERKL,4S,DC110V',\n",
              "  '': '',\n",
              "  'BMKZ': '-K1',\n",
              "  'Ort': '+.B',\n",
              "  'Bem.': 'CONT.RELAY LATCHED,4NO,DC110V',\n",
              "  'Whrg.': 'EUR',\n",
              "  'L-Preis Gerät\\n(einzel)': 78.54,\n",
              "  'L-Preis E&V\\n(einzel)': 155.456384,\n",
              "  'L-Preis Summe\\n(gesamt)': 233.996384},\n",
              " {'Menge': 1,\n",
              "  'Bestell-Nr.': '3RT2916-1DG00',\n",
              "  'Kurztext': 'ENTSTOERDIODE DC12-250V (F. S00)',\n",
              "  '': '',\n",
              "  'BMKZ': '-K1',\n",
              "  'Ort': '+.B',\n",
              "  'Bem.': 'SIRIUS NG CONTACTORS ACCESSORY',\n",
              "  'Whrg.': 'EUR',\n",
              "  'L-Preis Gerät\\n(einzel)': 7.43,\n",
              "  'L-Preis E&V\\n(einzel)': 0,\n",
              "  'L-Preis Summe\\n(gesamt)': 7.43},\n",
              " {'Menge': 1,\n",
              "  'Bestell-Nr.': '3SU1000-0AB20-0AA0',\n",
              "  'Kurztext': 'DRUCKTASTER, ROT',\n",
              "  '': '',\n",
              "  'BMKZ': '-S0E',\n",
              "  'Ort': '+.T',\n",
              "  'Bem.': 'Pushbutton, red',\n",
              "  'Whrg.': 'EUR',\n",
              "  'L-Preis Gerät\\n(einzel)': 2.72,\n",
              "  'L-Preis E&V\\n(einzel)': 0,\n",
              "  'L-Preis Summe\\n(gesamt)': 2.72},\n",
              " {'Menge': 1,\n",
              "  'Bestell-Nr.': '3SU1000-0AB40-0AA0',\n",
              "  'Kurztext': 'DRUCKTASTER, GRUEN',\n",
              "  '': '',\n",
              "  'BMKZ': '-S0A',\n",
              "  'Ort': '+.T',\n",
              "  'Bem.': 'Pushbutton, green',\n",
              "  'Whrg.': 'EUR',\n",
              "  'L-Preis Gerät\\n(einzel)': 2.72,\n",
              "  'L-Preis E&V\\n(einzel)': 0,\n",
              "  'L-Preis Summe\\n(gesamt)': 2.72},\n",
              " {'Menge': 1,\n",
              "  'Bestell-Nr.': '3SU1400-1AA10-1DA0',\n",
              "  'Kurztext': 'KONTAKTMODUL 2S',\n",
              "  '': '',\n",
              "  'BMKZ': '-S0A',\n",
              "  'Ort': '+.T',\n",
              "  'Bem.': 'Contact module 2NO',\n",
              "  'Whrg.': 'EUR',\n",
              "  'L-Preis Gerät\\n(einzel)': 6.12,\n",
              "  'L-Preis E&V\\n(einzel)': 49.2265536,\n",
              "  'L-Preis Summe\\n(gesamt)': 55.3465536},\n",
              " {'Menge': 1,\n",
              "  'Bestell-Nr.': '3SU1400-1AA10-1DA0',\n",
              "  'Kurztext': 'KONTAKTMODUL 2S',\n",
              "  '': '',\n",
              "  'BMKZ': '-S0E',\n",
              "  'Ort': '+.T',\n",
              "  'Bem.': 'Contact module 2NO',\n",
              "  'Whrg.': 'EUR',\n",
              "  'L-Preis Gerät\\n(einzel)': 6.12,\n",
              "  'L-Preis E&V\\n(einzel)': 49.2265536,\n",
              "  'L-Preis Summe\\n(gesamt)': 55.3465536},\n",
              " {'Menge': 1,\n",
              "  'Bestell-Nr.': '3SU1500-0AA10-0AA0',\n",
              "  'Kurztext': 'HALTER',\n",
              "  '': '',\n",
              "  'BMKZ': '-S0A',\n",
              "  'Ort': '+.T',\n",
              "  'Bem.': 'Holder',\n",
              "  'Whrg.': 'EUR',\n",
              "  'L-Preis Gerät\\n(einzel)': 1.05,\n",
              "  'L-Preis E&V\\n(einzel)': 32.39,\n",
              "  'L-Preis Summe\\n(gesamt)': 33.44},\n",
              " {'Menge': 1,\n",
              "  'Bestell-Nr.': '3SU1500-0AA10-0AA0',\n",
              "  'Kurztext': 'HALTER',\n",
              "  '': '',\n",
              "  'BMKZ': '-S0E',\n",
              "  'Ort': '+.T',\n",
              "  'Bem.': 'Holder',\n",
              "  'Whrg.': 'EUR',\n",
              "  'L-Preis Gerät\\n(einzel)': 1.05,\n",
              "  'L-Preis E&V\\n(einzel)': 32.39,\n",
              "  'L-Preis Summe\\n(gesamt)': 33.44},\n",
              " {'Menge': 1,\n",
              "  'Bestell-Nr.': '3SU1900-0AN10-0AA0',\n",
              "  'Kurztext': 'SCHILDTRAEGER',\n",
              "  '': '',\n",
              "  'BMKZ': '-S0A',\n",
              "  'Ort': '+.T',\n",
              "  'Bem.': 'Label holder',\n",
              "  'Whrg.': 'EUR',\n",
              "  'L-Preis Gerät\\n(einzel)': 1.6,\n",
              "  'L-Preis E&V\\n(einzel)': 0,\n",
              "  'L-Preis Summe\\n(gesamt)': 1.6},\n",
              " {'Menge': 1,\n",
              "  'Bestell-Nr.': '3SU1900-0AN10-0AA0',\n",
              "  'Kurztext': 'SCHILDTRAEGER',\n",
              "  '': '',\n",
              "  'BMKZ': '-S0E',\n",
              "  'Ort': '+.T',\n",
              "  'Bem.': 'Label holder',\n",
              "  'Whrg.': 'EUR',\n",
              "  'L-Preis Gerät\\n(einzel)': 1.6,\n",
              "  'L-Preis E&V\\n(einzel)': 0,\n",
              "  'L-Preis Summe\\n(gesamt)': 1.6},\n",
              " {'Menge': 1,\n",
              "  'Bestell-Nr.': '5ST3010',\n",
              "  'Kurztext': 'HILFSSTROMSCHALTER 1S1OE',\n",
              "  '': '',\n",
              "  'BMKZ': '-F10',\n",
              "  'Ort': '+.B',\n",
              "  'Bem.': 'AUXILIARY SWITCH 1S1OE',\n",
              "  'Whrg.': 'EUR',\n",
              "  'L-Preis Gerät\\n(einzel)': 22.21,\n",
              "  'L-Preis E&V\\n(einzel)': 49.2265536,\n",
              "  'L-Preis Summe\\n(gesamt)': 71.4365536},\n",
              " {'Menge': 1,\n",
              "  'Bestell-Nr.': '5ST3010',\n",
              "  'Kurztext': 'HILFSSTROMSCHALTER 1S1OE',\n",
              "  '': '',\n",
              "  'BMKZ': '-F20',\n",
              "  'Ort': '+.B',\n",
              "  'Bem.': 'AUXILIARY SWITCH 1S1OE',\n",
              "  'Whrg.': 'EUR',\n",
              "  'L-Preis Gerät\\n(einzel)': 22.21,\n",
              "  'L-Preis E&V\\n(einzel)': 49.2265536,\n",
              "  'L-Preis Summe\\n(gesamt)': 71.4365536},\n",
              " {'Menge': 1,\n",
              "  'Bestell-Nr.': '5ST3010',\n",
              "  'Kurztext': 'HILFSSTROMSCHALTER 1S1OE',\n",
              "  '': '',\n",
              "  'BMKZ': '-F63',\n",
              "  'Ort': '+.B',\n",
              "  'Bem.': 'AUXILIARY SWITCH 1S1OE',\n",
              "  'Whrg.': 'EUR',\n",
              "  'L-Preis Gerät\\n(einzel)': 22.21,\n",
              "  'L-Preis E&V\\n(einzel)': 49.2265536,\n",
              "  'L-Preis Summe\\n(gesamt)': 71.4365536},\n",
              " {'Menge': 1,\n",
              "  'Bestell-Nr.': '5ST3010',\n",
              "  'Kurztext': 'HILFSSTROMSCHALTER 1S1OE',\n",
              "  '': '',\n",
              "  'BMKZ': '-F90',\n",
              "  'Ort': '+.B',\n",
              "  'Bem.': 'AUXILIARY SWITCH 1S1OE',\n",
              "  'Whrg.': 'EUR',\n",
              "  'L-Preis Gerät\\n(einzel)': 22.21,\n",
              "  'L-Preis E&V\\n(einzel)': 49.2265536,\n",
              "  'L-Preis Summe\\n(gesamt)': 71.4365536},\n",
              " {'Menge': 1,\n",
              "  'Bestell-Nr.': '5SY4201-5',\n",
              "  'Kurztext': 'LS-SCHALTER 10KA 2POL A1',\n",
              "  '': '',\n",
              "  'BMKZ': '-F63',\n",
              "  'Ort': '+.B',\n",
              "  'Bem.': 'CIRCUIT BREAKER 10KA 2POL A1',\n",
              "  'Whrg.': 'EUR',\n",
              "  'L-Preis Gerät\\n(einzel)': 68.78,\n",
              "  'L-Preis E&V\\n(einzel)': 81.6165536,\n",
              "  'L-Preis Summe\\n(gesamt)': 150.3965536},\n",
              " {'Menge': 1,\n",
              "  'Bestell-Nr.': '5SY4506-7',\n",
              "  'Kurztext': 'Leitungsschutzschalter 1+N-polig, 6A',\n",
              "  '': '',\n",
              "  'BMKZ': '-F90',\n",
              "  'Ort': '+.B',\n",
              "  'Bem.': '',\n",
              "  'Whrg.': 'EUR',\n",
              "  'L-Preis Gerät\\n(einzel)': 40.42,\n",
              "  'L-Preis E&V\\n(einzel)': 81.6165536,\n",
              "  'L-Preis Summe\\n(gesamt)': 122.0365536},\n",
              " {'Menge': 1,\n",
              "  'Bestell-Nr.': '5SY5204-7',\n",
              "  'Kurztext': 'LS-SCHALTER ALLSTR. 10KA 2P C04',\n",
              "  '': '',\n",
              "  'BMKZ': '-F10',\n",
              "  'Ort': '+.B',\n",
              "  'Bem.': 'CIRCUIT BREAKER UC 10KA 2P C04',\n",
              "  'Whrg.': 'EUR',\n",
              "  'L-Preis Gerät\\n(einzel)': 53.22,\n",
              "  'L-Preis E&V\\n(einzel)': 81.6165536,\n",
              "  'L-Preis Summe\\n(gesamt)': 134.8365536},\n",
              " {'Menge': 1,\n",
              "  'Bestell-Nr.': '5SY5206-7',\n",
              "  'Kurztext': 'LS-SCHALTER ALLSTR. 10KA 2P C6',\n",
              "  '': '',\n",
              "  'BMKZ': '-F20',\n",
              "  'Ort': '+.B',\n",
              "  'Bem.': 'CIRCUIT BREAKER UC 10KA 2P C6',\n",
              "  'Whrg.': 'EUR',\n",
              "  'L-Preis Gerät\\n(einzel)': 53.22,\n",
              "  'L-Preis E&V\\n(einzel)': 81.6165536,\n",
              "  'L-Preis Summe\\n(gesamt)': 134.8365536},\n",
              " {'Menge': 1,\n",
              "  'Bestell-Nr.': 'ABB:REF615_HBFNAEAGNHALBMG11G',\n",
              "  'Kurztext': 'Überstromzeitschutz REF615\\nBeistellung:\\n- Beistellung zur Baustelle, ohne Einbau, Verdrahtung vorbereitet',\n",
              "  '': '',\n",
              "  'BMKZ': '-A21',\n",
              "  'Ort': '+.T',\n",
              "  'Bem.': '',\n",
              "  'Whrg.': 'EUR',\n",
              "  'L-Preis Gerät\\n(einzel)': 0,\n",
              "  'L-Preis E&V\\n(einzel)': 996.8377104,\n",
              "  'L-Preis Summe\\n(gesamt)': 996.8377104},\n",
              " {'Menge': 1,\n",
              "  'Bestell-Nr.': 'FQB:010001102-SE01',\n",
              "  'Kurztext': 'Schaltschrankheizung 20W',\n",
              "  '': '',\n",
              "  'BMKZ': '-R91',\n",
              "  'Ort': '+.B',\n",
              "  'Bem.': '',\n",
              "  'Whrg.': 'EUR',\n",
              "  'L-Preis Gerät\\n(einzel)': 34.1,\n",
              "  'L-Preis E&V\\n(einzel)': 57.0032768,\n",
              "  'L-Preis Summe\\n(gesamt)': 91.1032768},\n",
              " {'Menge': 1,\n",
              "  'Bestell-Nr.': 'JWI:MPR-63-42',\n",
              "  'Kurztext': 'Electronic Network Analyzer *Kundenbeistellung*\\nBeistellung:\\n- Beistellung zur Baustelle, ohne Einbau, Verdrahtung vorbereitet',\n",
              "  '': '',\n",
              "  'BMKZ': '-U63',\n",
              "  'Ort': '+.T',\n",
              "  'Bem.': 'For Germany only as Customer Supply availabale !!!',\n",
              "  'Whrg.': 'EUR',\n",
              "  'L-Preis Gerät\\n(einzel)': 0,\n",
              "  'L-Preis E&V\\n(einzel)': 0,\n",
              "  'L-Preis Summe\\n(gesamt)': 0},\n",
              " {'Menge': 1,\n",
              "  'Bestell-Nr.': 'KNS:CA10A222-600E+F758',\n",
              "  'Kurztext': 'Double-throw selector switch without off pos.',\n",
              "  '': '',\n",
              "  'BMKZ': '-S01',\n",
              "  'Ort': '+.T',\n",
              "  'Bem.': 'Reactivated SQL // Deactivated! Device expired //',\n",
              "  'Whrg.': 'EUR',\n",
              "  'L-Preis Gerät\\n(einzel)': 49.93,\n",
              "  'L-Preis E&V\\n(einzel)': 143.1497456,\n",
              "  'L-Preis Summe\\n(gesamt)': 193.0797456},\n",
              " {'Menge': 1,\n",
              "  'Bestell-Nr.': 'PRINT-3SU-27-12-01-04',\n",
              "  'Kurztext': 'Print-3SU Schild',\n",
              "  '': '',\n",
              "  'BMKZ': '-S0A',\n",
              "  'Ort': '+.T',\n",
              "  'Bem.': '',\n",
              "  'Whrg.': 'EUR',\n",
              "  'L-Preis Gerät\\n(einzel)': 1.05,\n",
              "  'L-Preis E&V\\n(einzel)': 32.39,\n",
              "  'L-Preis Summe\\n(gesamt)': 33.44},\n",
              " {'Menge': 1,\n",
              "  'Bestell-Nr.': 'PRINT-3SU-27-12-01-04',\n",
              "  'Kurztext': 'Print-3SU Schild',\n",
              "  '': '',\n",
              "  'BMKZ': '-S0E',\n",
              "  'Ort': '+.T',\n",
              "  'Bem.': '',\n",
              "  'Whrg.': 'EUR',\n",
              "  'L-Preis Gerät\\n(einzel)': 1.05,\n",
              "  'L-Preis E&V\\n(einzel)': 32.39,\n",
              "  'L-Preis Summe\\n(gesamt)': 33.44},\n",
              " {'Menge': 1,\n",
              "  'Bestell-Nr.': 'RZH:TH-H',\n",
              "  'Kurztext': 'Thermostat 10A/250V AC, 1 Öffner',\n",
              "  '': '',\n",
              "  'BMKZ': '-B91',\n",
              "  'Ort': '+.B',\n",
              "  'Bem.': '',\n",
              "  'Whrg.': 'EUR',\n",
              "  'L-Preis Gerät\\n(einzel)': 13.11,\n",
              "  'L-Preis E&V\\n(einzel)': 57.0032768,\n",
              "  'L-Preis Summe\\n(gesamt)': 70.1132768},\n",
              " {'Menge': 1,\n",
              "  'Bestell-Nr.': 'SGO:02542.3-11',\n",
              "  'Kurztext': 'Leuchte 400Lm - LED 025 (AC/DC)',\n",
              "  '': '',\n",
              "  'BMKZ': '-H80',\n",
              "  'Ort': '+.B',\n",
              "  'Bem.': '',\n",
              "  'Whrg.': 'EUR',\n",
              "  'L-Preis Gerät\\n(einzel)': 60.03,\n",
              "  'L-Preis E&V\\n(einzel)': 69.3099152,\n",
              "  'L-Preis Summe\\n(gesamt)': 129.3399152},\n",
              " {'Menge': 1,\n",
              "  'Bestell-Nr.': 'WIE:90.100.1654.0',\n",
              "  'Kurztext': 'Feldkennzeichnung 140x55mm',\n",
              "  '': '',\n",
              "  'BMKZ': '-',\n",
              "  'Ort': '+.T',\n",
              "  'Bem.': '',\n",
              "  'Whrg.': 'EUR',\n",
              "  'L-Preis Gerät\\n(einzel)': 3.84,\n",
              "  'L-Preis E&V\\n(einzel)': 0,\n",
              "  'L-Preis Summe\\n(gesamt)': 3.84}]"
            ]
          },
          "metadata": {},
          "execution_count": 42
        }
      ]
    },
    {
      "cell_type": "code",
      "source": [
        "top_5"
      ],
      "metadata": {
        "colab": {
          "base_uri": "https://localhost:8080/"
        },
        "id": "Il-RQZqiDd41",
        "outputId": "2da0af37-e257-45ff-97c0-c08ff64dbc9b"
      },
      "execution_count": 40,
      "outputs": [
        {
          "output_type": "execute_result",
          "data": {
            "text/plain": [
              "array([151, 487,  91, 268, 196, 444, 190, 468, 342, 388, 350, 144, 312,\n",
              "       445, 500, 480, 240, 153, 116, 218, 474, 282, 192, 502, 220, 258,\n",
              "       506, 407, 149, 292,  89, 239, 140, 274, 290,  72,  51, 458, 461,\n",
              "       377, 464, 408, 247, 352, 121, 198,   3, 194, 302, 254, 317, 493,\n",
              "       167, 343, 504, 313, 234, 230, 354, 181, 365, 346, 509, 404,  33,\n",
              "       508,  88, 393, 358, 199, 131, 104, 215, 148, 242, 310, 384, 494,\n",
              "       224,   6,  36, 156, 206, 439, 138, 492, 443, 277, 486,  87,  20,\n",
              "       102, 321, 347, 150, 460, 415, 398, 436, 334, 134, 477, 256, 366,\n",
              "       505,  70,  86,  53,  79, 376, 471, 428, 111, 390,  44,  38, 241,\n",
              "        90, 332, 434,   2, 289, 449, 205, 298, 467, 291, 184,  68,  29,\n",
              "        55, 470, 276,   4, 371, 296, 314,  93, 231, 147,  76, 106, 397,\n",
              "       204, 187, 341,  26, 490, 214, 392, 163, 269, 511,  43, 381, 232,\n",
              "       109, 133, 223, 356,  48, 433,  50,  95, 278, 279, 395, 161, 425,\n",
              "       237, 119, 336, 462, 263, 172,  74, 331, 359, 202, 319, 355, 107,\n",
              "       257, 208, 137, 182, 108, 399, 382,  61, 273, 248, 286,  30, 450,\n",
              "       325, 324, 287, 495, 170, 362,  37, 316, 373, 191, 329, 451,   9,\n",
              "       105, 283,  62,  98, 431, 213,  66, 227, 327, 387, 271,  31, 344,\n",
              "       157, 126, 160, 469, 448, 447, 375, 437, 417, 281, 300,  42,  27,\n",
              "       429, 193, 364, 361, 168,  14,  39, 135, 301, 374, 488,  28,  34,\n",
              "       307, 219,   1, 489, 275, 484,  59, 210, 100,  23, 179, 245, 180,\n",
              "        40, 454, 118,  49,  85, 368, 165, 348, 146, 442, 216, 497,  21,\n",
              "       338,  16, 482, 173,  99, 318, 379, 128, 183,  82, 178, 309,  78,\n",
              "       411,  58, 412, 297, 430, 473,  77, 186, 330, 339, 212, 363, 369,\n",
              "       440, 328,   7, 255, 262, 435, 211, 441, 403, 265, 124, 353,  18,\n",
              "       385, 383, 129, 426, 122, 455, 285, 378, 391, 226, 260, 185, 201,\n",
              "       452, 501, 259, 189, 169,  24, 112,  52, 322, 251, 123, 125,  22,\n",
              "       159,  92,  25, 288, 410, 463, 370, 498, 162, 141, 315, 402, 335,\n",
              "       209, 308, 503,  54,  13, 389, 459, 499, 270, 252, 228, 155, 432,\n",
              "       261, 357, 405, 175, 143, 235, 485, 294, 171,  41, 299,  45,  10,\n",
              "        73, 139, 483, 337,  11,   5, 345, 481, 457, 280, 225, 207, 311,\n",
              "       420, 295, 110,  47, 229, 176,  32, 478, 351, 386, 422, 406, 414,\n",
              "         8, 158, 396,  12, 491, 114,  15, 136, 221, 222, 117,  84,  57,\n",
              "       154, 446, 472, 197, 349,  80,  83, 367, 152, 253, 340,  19, 401,\n",
              "        35, 264,  81, 284, 236, 507, 267,  63, 424, 188, 266, 303, 130,\n",
              "       421, 132, 101,  94, 419, 246, 305, 233,  46, 418, 200, 203, 120,\n",
              "       456,  97, 127, 174,  64, 113, 400, 475, 438, 103, 217, 394, 465,\n",
              "       164, 243, 496, 323, 416, 177, 238, 423, 372,  60,  56, 145, 166,\n",
              "        71, 293, 409,  65, 304, 244,  69, 306,  17,  75, 250, 195, 380,\n",
              "       272, 453, 360,  67, 413, 479,  96, 115, 333, 326, 249, 476, 142])"
            ]
          },
          "metadata": {},
          "execution_count": 40
        }
      ]
    },
    {
      "cell_type": "code",
      "source": [],
      "metadata": {
        "id": "9Onc21HgDl8d"
      },
      "execution_count": null,
      "outputs": []
    }
  ]
}
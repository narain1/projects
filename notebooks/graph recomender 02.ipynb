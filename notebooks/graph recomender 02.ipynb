{
 "cells": [
  {
   "cell_type": "code",
   "execution_count": 1,
   "id": "8386b02e-ffa0-483c-8035-1264aca9feee",
   "metadata": {},
   "outputs": [],
   "source": [
    "import requests, json, re, os\n",
    "import xmltodict\n",
    "import fastprogress\n",
    "import zipfile\n",
    "from pathlib import Path\n",
    "from collections import Counter\n",
    "from sklearn.feature_extraction.text import TfidfVectorizer\n",
    "import networkx as nx\n",
    "from sklearn.metrics.pairwise import cosine_similarity\n",
    "import numpy as np\n",
    "import fastprogress"
   ]
  },
  {
   "cell_type": "code",
   "execution_count": 8,
   "id": "1a6a4544-312e-4fc6-bc16-b9edd8d60bc4",
   "metadata": {},
   "outputs": [
    {
     "name": "stdout",
     "output_type": "stream",
     "text": [
      "  % Total    % Received % Xferd  Average Speed   Time    Time     Time  Current\n",
      "                                 Dload  Upload   Total   Spent    Left  Speed\n",
      "100   651  100   651    0     0  40687      0 --:--:-- --:--:-- --:--:-- 40687\n",
      "100  138M  100  138M    0     0  11.2M      0  0:00:12  0:00:12 --:--:-- 13.3M\n"
     ]
    }
   ],
   "source": [
    "# !curl -L https://github.com/narain1/dotfiles/releases/download/data/JsonData.zip -o json_data.zip\n",
    "# !unzip -q json_data.zip"
   ]
  },
  {
   "cell_type": "code",
   "execution_count": 10,
   "id": "c7c3326d-f8ed-4026-8896-0e0cdc93ae5b",
   "metadata": {},
   "outputs": [
    {
     "name": "stdout",
     "output_type": "stream",
     "text": [
      "  % Total    % Received % Xferd  Average Speed   Time    Time     Time  Current\n",
      "                                 Dload  Upload   Total   Spent    Left  Speed\n",
      "100   662  100   662    0     0   2267      0 --:--:-- --:--:-- --:--:--  2267\n",
      "100  302M  100  302M    0     0  5713k      0  0:00:54  0:00:54 --:--:-- 9637k\n",
      "replace JsonData/ALDRBA_0X32E87E1615152D1A21B2EA40.json? [y]es, [n]o, [A]ll, [N]one, [r]ename: ^C\n"
     ]
    }
   ],
   "source": [
    "!curl -L https://github.com/narain1/dotfiles/releases/download/data/JsonData-2831.files.zip -o json_data_2831.zip\n",
    "!unzip -q json_data_2831.zip"
   ]
  },
  {
   "cell_type": "code",
   "execution_count": 12,
   "id": "64272ae9-e9c5-4dc1-baaf-71f0ac93bc19",
   "metadata": {},
   "outputs": [
    {
     "name": "stdout",
     "output_type": "stream",
     "text": [
      "  % Total    % Received % Xferd  Average Speed   Time    Time     Time  Current\n",
      "                                 Dload  Upload   Total   Spent    Left  Speed\n",
      "100   662  100   662    0     0   2081      0 --:--:-- --:--:-- --:--:--  2081\n",
      "100  533M  100  533M    0     0  8173k      0  0:01:06  0:01:06 --:--:-- 7199k\n"
     ]
    }
   ],
   "source": [
    "!curl -L https://github.com/narain1/dotfiles/releases/download/data/JsonData-4874.files.zip -o json_data_4874.zip"
   ]
  },
  {
   "cell_type": "code",
   "execution_count": 2,
   "id": "92d14274-dc28-4e7c-9eeb-5e7c51db86a2",
   "metadata": {},
   "outputs": [],
   "source": [
    "json_path = 'JsonData'\n",
    "fs = list(map(lambda y: os.path.join(json_path, y), filter(lambda x: x.endswith('.json'), os.listdir(json_path))))"
   ]
  },
  {
   "cell_type": "code",
   "execution_count": 3,
   "id": "6f5808d6-ad5b-46e5-957c-86befdd973f1",
   "metadata": {},
   "outputs": [
    {
     "data": {
      "text/html": [
       "\n",
       "    <div>\n",
       "        <style>\n",
       "            /* Turns off some styling */\n",
       "            progress {\n",
       "                /* gets rid of default border in Firefox and Opera. */\n",
       "                border: none;\n",
       "                /* Needs to be in here for Safari polyfill so background images work as expected. */\n",
       "                background-size: auto;\n",
       "            }\n",
       "            .progress-bar-interrupted, .progress-bar-interrupted::-webkit-progress-bar {\n",
       "                background: #F44336;\n",
       "            }\n",
       "        </style>\n",
       "      <progress value='4873' class='' max='4873' style='width:300px; height:20px; vertical-align: middle;'></progress>\n",
       "      100.00% [4873/4873 01:44<00:00]\n",
       "    </div>\n",
       "    "
      ],
      "text/plain": [
       "<IPython.core.display.HTML object>"
      ]
     },
     "metadata": {},
     "output_type": "display_data"
    }
   ],
   "source": [
    "required_fields = ['isComplete', 'isConflicted',\n",
    "         'isCopyable', 'isDeletable', 'instType', 'parent',\n",
    "        'isPart', 'type', 'number', 'description', 'name']\n",
    "\n",
    "filter_items = ()\n",
    "\n",
    "os.makedirs('filtered_jsons', exist_ok=True)\n",
    "\n",
    "for k, file in enumerate(fastprogress.progress_bar(fs)):\n",
    "    if os.path.isdir(file): continue\n",
    "    with open(file, 'r') as f: o = json.load(f)\n",
    "    acc_dict = []\n",
    "    if o['MODEL']['ELECTRICAL']['CREATED'] == None: continue\n",
    "    for item in o['MODEL']['ELECTRICAL']['CREATED']['INSTANCE']:\n",
    "        d = dict()\n",
    "        for r in required_fields:\n",
    "            d[r] = item[f'{r}']\n",
    "        d['CSTIC'] = list(filter(lambda x: x['isRequired'] == 'Y' or x['number'] in filter_items, item['CSTIC']))\n",
    "        acc_dict.append(d)\n",
    "    json_out = json.dumps({'content': acc_dict})\n",
    "    with open(f'filtered_jsons/{Path(file).name}', 'w') as out_file:\n",
    "        out_file.write(json_out)"
   ]
  },
  {
   "cell_type": "code",
   "execution_count": 4,
   "id": "f6aec51f-1021-4251-855f-bbc6c2d85df7",
   "metadata": {},
   "outputs": [],
   "source": [
    "filtered_files = list(map(lambda y: os.path.join('filtered_jsons', y), filter(lambda x: x.endswith('.json'), os.listdir('filtered_jsons'))))"
   ]
  },
  {
   "cell_type": "code",
   "execution_count": 5,
   "id": "ec6e9a80-3d62-4e48-8d45-0e0d8b02c4d9",
   "metadata": {},
   "outputs": [
    {
     "data": {
      "text/html": [
       "\n",
       "    <div>\n",
       "        <style>\n",
       "            /* Turns off some styling */\n",
       "            progress {\n",
       "                /* gets rid of default border in Firefox and Opera. */\n",
       "                border: none;\n",
       "                /* Needs to be in here for Safari polyfill so background images work as expected. */\n",
       "                background-size: auto;\n",
       "            }\n",
       "            .progress-bar-interrupted, .progress-bar-interrupted::-webkit-progress-bar {\n",
       "                background: #F44336;\n",
       "            }\n",
       "        </style>\n",
       "      <progress value='4873' class='' max='4873' style='width:300px; height:20px; vertical-align: middle;'></progress>\n",
       "      100.00% [4873/4873 00:01<00:00]\n",
       "    </div>\n",
       "    "
      ],
      "text/plain": [
       "<IPython.core.display.HTML object>"
      ]
     },
     "metadata": {},
     "output_type": "display_data"
    }
   ],
   "source": [
    "acc = []\n",
    "for file in fastprogress.progress_bar(filtered_files):\n",
    "    with open(file, 'r') as f: o = json.load(f)\n",
    "    for item in o['content']:\n",
    "        acc.append(' '.join(list(map(lambda x: x['name'] + '_' + x['value'], item['CSTIC']))))"
   ]
  },
  {
   "cell_type": "code",
   "execution_count": 6,
   "id": "e6413103-bdef-468c-ac85-2e4da9faaa28",
   "metadata": {},
   "outputs": [],
   "source": [
    "def process_json(file):\n",
    "    with open(file, 'r') as f: o = json.load(f)\n",
    "    dict_acc = dict()\n",
    "    for item in o['content']:\n",
    "        name = item['name']\n",
    "        dict_acc[(item['parent'], item['number'])] = ' '.join(list(map(lambda x: name+ '__' + '_'.join(x['name'].split(' ')) + '__' + '_'.join(x['value'].split()), item['CSTIC'])))\n",
    "    return dict_acc"
   ]
  },
  {
   "cell_type": "code",
   "execution_count": 7,
   "id": "b559a42c-d473-482b-8eec-1f3b7f82d878",
   "metadata": {},
   "outputs": [],
   "source": [
    "corpus = []\n",
    "for file in filtered_files:\n",
    "    # with open(file, 'r') as f: json.load(f)\n",
    "    o = process_json(file)\n",
    "    for i in range(len(o)):\n",
    "        if i == o: continue\n",
    "        G = nx.DiGraph()\n",
    "        G.add_edges_from(o.keys())\n",
    "        corpus.append(' '.join(o[sent] for sent in list(filter(lambda x: x[1] in nx.shortest_path(G, '1', str(i+1)), o.keys()))))"
   ]
  },
  {
   "cell_type": "code",
   "execution_count": 8,
   "id": "c0b2d835-9e57-4968-91f6-4068f2075992",
   "metadata": {},
   "outputs": [],
   "source": [
    "tfidf = TfidfVectorizer()\n",
    "query_matrix = tfidf.fit_transform(corpus)"
   ]
  },
  {
   "cell_type": "code",
   "execution_count": 9,
   "id": "fde3da71-09c8-40a2-8a8a-70c2a16f9538",
   "metadata": {},
   "outputs": [
    {
     "data": {
      "text/plain": [
       "<38488x5654 sparse matrix of type '<class 'numpy.float64'>'\n",
       "\twith 2584652 stored elements in Compressed Sparse Row format>"
      ]
     },
     "execution_count": 9,
     "metadata": {},
     "output_type": "execute_result"
    }
   ],
   "source": [
    "query_matrix"
   ]
  },
  {
   "cell_type": "code",
   "execution_count": 10,
   "id": "6feeae09-7ff1-40e8-bd49-9d6da4f94cf0",
   "metadata": {},
   "outputs": [
    {
     "data": {
      "text/html": [
       "\n",
       "    <div>\n",
       "        <style>\n",
       "            /* Turns off some styling */\n",
       "            progress {\n",
       "                /* gets rid of default border in Firefox and Opera. */\n",
       "                border: none;\n",
       "                /* Needs to be in here for Safari polyfill so background images work as expected. */\n",
       "                background-size: auto;\n",
       "            }\n",
       "            .progress-bar-interrupted, .progress-bar-interrupted::-webkit-progress-bar {\n",
       "                background: #F44336;\n",
       "            }\n",
       "        </style>\n",
       "      <progress value='4873' class='' max='4873' style='width:300px; height:20px; vertical-align: middle;'></progress>\n",
       "      100.00% [4873/4873 01:19<00:00]\n",
       "    </div>\n",
       "    "
      ],
      "text/plain": [
       "<IPython.core.display.HTML object>"
      ]
     },
     "metadata": {},
     "output_type": "display_data"
    }
   ],
   "source": [
    "classes = []\n",
    "for file in fastprogress.progress_bar(fs):\n",
    "    if os.path.isdir(file): continue\n",
    "    with open(file, 'r') as f: o = json.load(f)\n",
    "    if o['MODEL']['ELECTRICAL']['CREATED'] is None: continue\n",
    "    for item in o['MODEL']['ELECTRICAL']['CREATED']['INSTANCE']:\n",
    "        if item['name'] not in classes: classes.append(item['name'])"
   ]
  },
  {
   "cell_type": "code",
   "execution_count": 24,
   "id": "0f806b3a-c367-4a42-a8bc-e82844577ad6",
   "metadata": {},
   "outputs": [],
   "source": [
    "# from fastprogress.fastprogress import master_bar, progress_bar\n",
    "\n",
    "# acc_dict = dict()\n",
    "# parent_bar = master_bar(classes)\n",
    "# for c in parent_bar:\n",
    "#     d = dict()\n",
    "#     for file in progress_bar(fs, parent=parent_bar):\n",
    "#         if os.path.isdir(file): continue\n",
    "#         with open(file, 'r') as f: o = json.load(f)\n",
    "#         if o['MODEL']['ELECTRICAL']['CREATED'] is None: continue\n",
    "#         for item in o['MODEL']['ELECTRICAL']['CREATED']['INSTANCE']:\n",
    "#             if item['name'] == c:\n",
    "#                 for item1 in item['CSTIC']:\n",
    "#                     if item1['name'] not in d: \n",
    "#                         d[item1['name']] = list(set(map(lambda x: '_'.join(x.lower().split()), item1['options'].split('|'))))\n",
    "#     acc_dict[c] = d"
   ]
  },
  {
   "cell_type": "code",
   "execution_count": 12,
   "id": "9801a0b3-96b3-4683-93f3-9ac1e0600d14",
   "metadata": {},
   "outputs": [
    {
     "data": {
      "text/html": [
       "\n",
       "    <div>\n",
       "        <style>\n",
       "            /* Turns off some styling */\n",
       "            progress {\n",
       "                /* gets rid of default border in Firefox and Opera. */\n",
       "                border: none;\n",
       "                /* Needs to be in here for Safari polyfill so background images work as expected. */\n",
       "                background-size: auto;\n",
       "            }\n",
       "            .progress-bar-interrupted, .progress-bar-interrupted::-webkit-progress-bar {\n",
       "                background: #F44336;\n",
       "            }\n",
       "        </style>\n",
       "      <progress value='4873' class='' max='4873' style='width:300px; height:20px; vertical-align: middle;'></progress>\n",
       "      100.00% [4873/4873 01:20<00:00]\n",
       "    </div>\n",
       "    "
      ],
      "text/plain": [
       "<IPython.core.display.HTML object>"
      ]
     },
     "metadata": {},
     "output_type": "display_data"
    }
   ],
   "source": [
    "acc_dict = dict()\n",
    "\n",
    "for file in fastprogress.progress_bar(fs):\n",
    "    with open(file, 'r') as f: o = json.load(f)\n",
    "    if o['MODEL']['ELECTRICAL']['CREATED']['INSTANCE'] is None: continue\n",
    "    for item in o['MODEL']['ELECTRICAL']['CREATED']['INSTANCE']:\n",
    "        name = item['name']\n",
    "        for item1 in item['CSTIC']:\n",
    "            if item1['isRequired'] == 'N': continue\n",
    "            if name in acc_dict:\n",
    "                if item1['name'] in acc_dict[name]:\n",
    "                    v = '_'.join(item1['value'].split()).lower()\n",
    "                    if v not in acc_dict[name][item1['name']] and item1['value'] != '': acc_dict[name][item1['name']].append(v)\n",
    "                else: acc_dict[name][item1['name']] = []\n",
    "            else:\n",
    "                acc_dict[name] = {item1['name']: [item1['value']]}"
   ]
  },
  {
   "cell_type": "code",
   "execution_count": 14,
   "id": "484bd576-204e-48bb-a618-78862dc7b2fc",
   "metadata": {},
   "outputs": [],
   "source": [
    "# acc_dict"
   ]
  },
  {
   "cell_type": "code",
   "execution_count": 60,
   "id": "bf3a5899-974f-4d24-8a92-e401ae865a50",
   "metadata": {},
   "outputs": [],
   "source": [
    "def generate_combinations(o1):\n",
    "    acc = []\n",
    "    for k, v in o1.items():\n",
    "        dict_acc = []\n",
    "        for item in acc_dict[k[0]][k[1]]:\n",
    "            if k[1] == item: continue\n",
    "            d = dict()\n",
    "            for k1, v1 in o1.items():\n",
    "                d[(k1[0], k1[1], item if k1 == k else k1[2])] = v1\n",
    "            dict_acc.append(d)\n",
    "        acc.extend(dict_acc)\n",
    "    return acc\n",
    "\n",
    "make_sentence = lambda x: ' '.join(reduce(lambda x,y: x+y, [[i[-1]]*j for i,j in x.items()]))"
   ]
  },
  {
   "cell_type": "code",
   "execution_count": 61,
   "id": "6851c5f6-8f6d-4ad9-bf95-e308eced9df8",
   "metadata": {},
   "outputs": [],
   "source": [
    "def generate_combinations(o):\n",
    "    G = nx.DiGraph()\n",
    "    G.add_edges_from(list(o.keys()))\n",
    "    d_acc = dict()\n",
    "    for n in o:\n",
    "        if n[0] == '-1': continue\n",
    "        path = nx.shortest_path(G, '-1', n[1])\n",
    "        path.remove(n[1])\n",
    "        parent_sents = [o[ll] for ll in o.keys() if ll[1] in path]\n",
    "        items = o[n].split()\n",
    "        d_acc_1 = [' '.join([*parent_sents, o[n]])]\n",
    "        for i in items:\n",
    "            temp = i.split('__')\n",
    "            for i1 in acc_dict[temp[0]][temp[1]]:\n",
    "                sent_acc = []\n",
    "                for i3 in items:\n",
    "                    if i3 == i: sent_acc.append('__'.join([*i.split('__')[:-1], i1]))\n",
    "                    else: sent_acc.append(i3)\n",
    "                d_acc_1.append('  '.join(parent_sents + sent_acc))\n",
    "        d_acc[n] = d_acc_1\n",
    "    return d_acc"
   ]
  },
  {
   "cell_type": "code",
   "execution_count": 62,
   "id": "1a26941d-36c3-44f2-9503-677bb5e8938e",
   "metadata": {},
   "outputs": [],
   "source": [
    "def generate_combinations_3(o):\n",
    "    G = nx.DiGraph()\n",
    "    G.add_edges_from(list(o.keys()))\n",
    "    sents = []\n",
    "    for k, v in o.items():\n",
    "        sent = [f'{k[0]}_{k[1]}__{v1}' for v1 in v.split()]\n",
    "        sents.append(' '.join(sent))\n",
    "        \n",
    "    acc = [' '.join(sents)]\n",
    "    for o1 in ' '.join(sents).split():\n",
    "        acc1 = []\n",
    "        a1 = o1.split('__')\n",
    "        for o2 in acc_dict[a1[1]][a1[2]]:\n",
    "            # if a1[-1].lower() == o2.lower(): continue\n",
    "            if a1[-1].lower() == '_'.join(o2.split()).lower(): continue\n",
    "            # if re.match('^[0-9]*$', o2) and eval(o2) == eval(a1[-1]): continue\n",
    "            comb = []\n",
    "            for o3 in ' '.join(sents).split():\n",
    "                if o1.lower() == o3.lower(): comb.append('__'.join(o3.split('__')[:-1] + [o2]))\n",
    "                else: comb.append(o3)\n",
    "            acc.append(' '.join(comb))\n",
    "    return acc"
   ]
  },
  {
   "cell_type": "code",
   "execution_count": 112,
   "id": "c2eb88f0-b0f7-4267-b003-2d223615786f",
   "metadata": {},
   "outputs": [],
   "source": [
    "o = process_json(filtered_files[5])\n",
    "out = generate_combinations_3(o)"
   ]
  },
  {
   "cell_type": "code",
   "execution_count": 113,
   "id": "b82a2114-ccc9-4aff-898c-32fabdaefd4a",
   "metadata": {},
   "outputs": [],
   "source": [
    "preprocess_sentence = lambda y: ' '.join(map(lambda x: '__'.join(x.split('__')[1:]), y.split()))"
   ]
  },
  {
   "cell_type": "code",
   "execution_count": 114,
   "id": "2902f43f-8e4b-4e8c-b9b4-b5fca41c0c08",
   "metadata": {},
   "outputs": [],
   "source": [
    "sims = cosine_similarity(query_matrix, tfidf.transform(map(preprocess_sentence, out))).max(axis=0)"
   ]
  },
  {
   "cell_type": "code",
   "execution_count": 100,
   "id": "96a64e16-bac5-4072-b508-067a2d05a838",
   "metadata": {},
   "outputs": [],
   "source": [
    "def format_out(o):\n",
    "    d = dict()\n",
    "    for i in o.split():\n",
    "        a = i.split('__')\n",
    "        node = tuple(a[0].split('_'))\n",
    "        if node in d: d[node].append(tuple(a[1:]))\n",
    "        else: d[node] = [tuple(a[1:])]\n",
    "    return d\n",
    "\n",
    "def flatten_sentence(o):\n",
    "    sents = []\n",
    "    for k, v in o.items():\n",
    "        sent = [f'{k[0]}_{k[1]}__{v1}' for v1 in v.split()]\n",
    "        sents.append(' '.join(sent))\n",
    "    return ' '.join(sents)"
   ]
  },
  {
   "cell_type": "code",
   "execution_count": 115,
   "id": "49256bda-9523-4477-88b7-36035af971d2",
   "metadata": {},
   "outputs": [],
   "source": [
    "k = 5\n",
    "idx = np.argpartition(sims[1:], -k)[-k:]"
   ]
  },
  {
   "cell_type": "code",
   "execution_count": 116,
   "id": "a881acf9-75d4-40e8-9793-2e46b22d2fb1",
   "metadata": {},
   "outputs": [],
   "source": [
    "ooo = [out[i+1] for i in idx]"
   ]
  },
  {
   "cell_type": "code",
   "execution_count": 118,
   "id": "46a7944f-f725-48db-89ec-cabfbcd1e167",
   "metadata": {},
   "outputs": [
    {
     "name": "stdout",
     "output_type": "stream",
     "text": [
      "0 {('2', '6'): [('TYZ:PB_VL_MCCB', 'A7JPB_LUG_WIRE_RANGE', '(1)#14-#10_CU_/_#12-#10_AL'), ('TYZ:PB_VL_MCCB', 'A7JPB_LUG_WIRE_RANGE', '(2)3/0-250kcmil_cu/al')]}\n",
      "1 {('2', '8'): [('TYZ:PB_VL_MCCB', 'A7JPB_LUG_WIRE_RANGE', '(3)1/0-500kcmil'), ('TYZ:PB_VL_MCCB', 'A7JPB_LUG_WIRE_RANGE', '(1)#14-#10_CU_/_#12-#10_AL')]}\n",
      "2 {('2', '8'): [('TYZ:PB_VL_MCCB', 'A7JPB_LUG_WIRE_RANGE', '(1)#3-300kcmil_cu/al'), ('TYZ:PB_VL_MCCB', 'A7JPB_LUG_WIRE_RANGE', '(1)#14-#10_CU_/_#12-#10_AL')]}\n",
      "3 {('2', '6'): [('TYZ:PB_VL_MCCB', 'A7JPB_LUG_WIRE_RANGE', '(1)#14-#10_CU_/_#12-#10_AL'), ('TYZ:PB_VL_MCCB', 'A7JPB_LUG_WIRE_RANGE', '(3)1/0-500kcmil')]}\n",
      "4 {('2', '6'): [('TYZ:PB_VL_MCCB', 'A7JPB_LUG_WIRE_RANGE', '(1)#3-300kcmil_cu/al'), ('TYZ:PB_VL_MCCB', 'A7JPB_LUG_WIRE_RANGE', '(1)#14-#10_CU_/_#12-#10_AL')]}\n"
     ]
    }
   ],
   "source": [
    "for i in range(5):\n",
    "    print(i, format_out(' '.join(list(set(flatten_sentence(o).split()).symmetric_difference(ooo[i].split())))))"
   ]
  },
  {
   "cell_type": "code",
   "execution_count": 125,
   "id": "3541a06a-1b5d-4155-bc58-6ff24d197737",
   "metadata": {},
   "outputs": [],
   "source": [
    "def get_recomendations(file, k=5):\n",
    "    o = process_json(file)\n",
    "    out = generate_combinations_3(o)\n",
    "    preprocess_sentence = lambda y: ' '.join(map(lambda x: '__'.join(x.split('__')[1:]), y.split()))\n",
    "    sims = cosine_similarity(query_matrix, tfidf.transform(map(preprocess_sentence, out))).max(axis=0)\n",
    "    idx = np.argpartition(sims[1:], -k)[-k:]\n",
    "    ooo = [out[i+1] for i in idx]\n",
    "    return [format_out(' '.join(list(set(flatten_sentence(o).split()).symmetric_difference(ooo[i].split())))) for i in range(k)]"
   ]
  },
  {
   "cell_type": "code",
   "execution_count": 127,
   "id": "dcd8b91f-d912-4205-9d76-12c5adc5179d",
   "metadata": {},
   "outputs": [
    {
     "data": {
      "text/plain": [
       "'filtered_jsons/TANKGX00C_0X411F7E2841E15E17.json'"
      ]
     },
     "execution_count": 127,
     "metadata": {},
     "output_type": "execute_result"
    }
   ],
   "source": [
    "filtered_files[0]\n"
   ]
  },
  {
   "cell_type": "code",
   "execution_count": 132,
   "id": "9fca595c-3e5f-425a-916e-52b0f8e893ed",
   "metadata": {},
   "outputs": [
    {
     "data": {
      "text/plain": [
       "[{('-1', '1'): [('TYZ:PANELBOARD', 'A7J_DESCRIPTION', 'panelboard_p2'),\n",
       "   ('TYZ:PANELBOARD', 'A7J_DESCRIPTION', 'PANELBOARD_P1')]},\n",
       " {('-1', '1'): [('TYZ:PANELBOARD', 'A7JPB_ENGRAV_SIZE_MASTER_NP', '3/8'),\n",
       "   ('TYZ:PANELBOARD', 'A7JPB_ENGRAV_SIZE_MASTER_NP', '3/16')]},\n",
       " {('-1', '1'): [('TYZ:PANELBOARD', 'A7JPB_ENCLOSURE_FRONT', 'special'),\n",
       "   ('TYZ:PANELBOARD', 'A7JPB_ENCLOSURE_FRONT', 'STANDARD')]},\n",
       " {('-1', '1'): [('TYZ:PANELBOARD', 'A7JPB_BUS_MATERIAL', 'copper'),\n",
       "   ('TYZ:PANELBOARD', 'A7JPB_BUS_MATERIAL', 'ALUM')]},\n",
       " {('-1', '1'): [('TYZ:PANELBOARD', 'A7JPB_FEED', 'bottom'),\n",
       "   ('TYZ:PANELBOARD', 'A7JPB_FEED', 'TOP')]},\n",
       " {('-1', '1'): [('TYZ:PANELBOARD', 'A7JPB_SEISMICALLY_QUALIFIED', 'TRUE'),\n",
       "   ('TYZ:PANELBOARD', 'A7JPB_SEISMICALLY_QUALIFIED', 'false')]},\n",
       " {('1', '2'): [('TYZ:PB_MAINS', 'A7JPB_FEED', 'TOP'),\n",
       "   ('TYZ:PB_MAINS', 'A7JPB_FEED', 'bottom')]},\n",
       " {('1', '2'): [('TYZ:PB_MAINS', 'A7JPB_LUG_WIRE_RANGE', '(1)#12-1/0'),\n",
       "   ('TYZ:PB_MAINS', 'A7JPB_LUG_WIRE_RANGE', '(1)#6-350KCMIL')]},\n",
       " {('1', '2'): [('TYZ:PB_MAINS', 'A7JPB_LUG_WIRE_RANGE', '(2)3/0-350kcmil'),\n",
       "   ('TYZ:PB_MAINS', 'A7JPB_LUG_WIRE_RANGE', '(1)#6-350KCMIL')]},\n",
       " {('-1', '1'): [('TYZ:PANELBOARD', 'A7JPB_PANEL_TYPE', 'p2'),\n",
       "   ('TYZ:PANELBOARD', 'A7JPB_PANEL_TYPE', 'P1')]}]"
      ]
     },
     "execution_count": 132,
     "metadata": {},
     "output_type": "execute_result"
    }
   ],
   "source": [
    "get_recomendations(filtered_files[0], k=10)"
   ]
  },
  {
   "cell_type": "code",
   "execution_count": 124,
   "id": "5d95a411-895b-4a69-bdc7-998f20f3c826",
   "metadata": {},
   "outputs": [
    {
     "data": {
      "text/plain": [
       "'filtered_jsons/SCOTJX20C_0X77D37E3711101536.json'"
      ]
     },
     "execution_count": 124,
     "metadata": {},
     "output_type": "execute_result"
    }
   ],
   "source": [
    "filtered_files[5]"
   ]
  },
  {
   "cell_type": "code",
   "execution_count": 129,
   "id": "06374c07-7e79-4baf-abc5-945904a0201c",
   "metadata": {},
   "outputs": [
    {
     "data": {
      "text/plain": [
       "72"
      ]
     },
     "execution_count": 129,
     "metadata": {},
     "output_type": "execute_result"
    }
   ],
   "source": [
    "len(acc_dict)"
   ]
  },
  {
   "cell_type": "code",
   "execution_count": 130,
   "id": "139bbf34-3bdf-413b-adb1-dcc748dec2f8",
   "metadata": {},
   "outputs": [
    {
     "data": {
      "text/plain": [
       "dict_keys(['TYZ:PANELBOARD', 'TYZ:PB_MAINS', 'TYZ:PB_VL_MCCB', 'TYZ:PB_VL', 'TYZ:PB_BL', 'TYZ:PB_CUST_MTR', 'TYZ:PB_DIGT_MTR', 'TYZ:PB_FD', 'TYZ:PB_SPCL_MOD', 'TYZ:PB_JD', 'TYZ:PB_3V_3VAU', 'TYZ:PB_SPD_TPS3', 'TYZ:PB_QJ', 'TYZ:PB_ED', 'TYZ:PB_LD', 'TYZ:PB_TIMECLOCK', 'TYZ:PB_SLD', 'TYZ:PB_QP', 'TYZ:PB_SND', 'TYZ:PB_BFDR_CNT', 'TYZ:PB_RCS', 'TYZ:PB_BFDR_VBS', 'TYZ:PB_BFDR_HCP', 'TYZ:PB_SJD', 'TYZ:SB_SWITCHBOARD', 'TYZ:SB_INCOMING', 'TYZ:SB_UTIL_MTR', 'TYZ:SB_VLMCCB', 'TYZ:SB_FD', 'TYZ:SB_VL', 'TYZ:SB_BQD', 'TYZ:SB_FD_PNL_BD', 'TYZ:SB_FACT_OPT', 'TYZ:MS_MCC', 'TYZ:MC_MCB', 'TYZ:MC_SPECIAL', 'TYZ:MC_PILOTLIT', 'TYZ:MC_PLC', 'TYZ:MC_ANG_METR', 'TYZ:MC_PBD', 'TYZ:MC_FCB', 'TYZ:MC_ED_PO', 'TYZ:MC_LD_PO', 'TYZ:MCC', 'TYZ:MC_INC_MLO', 'TYZ:MC_FCB_DL', 'TYZ:MC_LEFT_FCB', 'TYZ:MC_RIGT_FCB', 'TYZ:MC_FVNR', 'TYZ:MC_FD_PO', 'TYZ:MC_METERUNI', 'TYZ:MC_DIG_METR', 'TYZ:MC_VFD', 'TYZ:MC_DLFDXFMR', 'TYZ:MC_DL_XFMR', 'TYZ:MC_XFMR_UNI', 'TYZ:PB_BQD', 'TYZ:SB_FDR_HCP', 'TYZ:SB_HCP', 'TYZ:SB_RD', 'TYZ:PB_MD', 'TYZ:MC_FVC', 'TYZ:MC_2S1W', 'TYZ:MC_SPACE', 'TYZ:MC_FVR', 'TYZ:SB_FDR_XFMR', 'TYZ:MC_RELAY', 'TYZ:MC_CNT_FUSE', 'TYZ:MC_ND_PO', 'TYZ:MC_TIMER', 'TYZ:SB_JD', 'TYZ:PB_SMD'])"
      ]
     },
     "execution_count": 130,
     "metadata": {},
     "output_type": "execute_result"
    }
   ],
   "source": [
    "acc_dict.keys()"
   ]
  },
  {
   "cell_type": "code",
   "execution_count": 131,
   "id": "de236f52-2498-4207-a89c-1269fe5d1ab2",
   "metadata": {},
   "outputs": [
    {
     "data": {
      "text/plain": [
       "<38488x5654 sparse matrix of type '<class 'numpy.float64'>'\n",
       "\twith 2584652 stored elements in Compressed Sparse Row format>"
      ]
     },
     "execution_count": 131,
     "metadata": {},
     "output_type": "execute_result"
    }
   ],
   "source": [
    "query_matrix"
   ]
  },
  {
   "cell_type": "code",
   "execution_count": null,
   "id": "e75ae217-cfbf-44dc-9157-bd147f0c3eb3",
   "metadata": {},
   "outputs": [],
   "source": []
  }
 ],
 "metadata": {
  "kernelspec": {
   "display_name": "Python 3",
   "language": "python",
   "name": "python3"
  },
  "language_info": {
   "codemirror_mode": {
    "name": "ipython",
    "version": 3
   },
   "file_extension": ".py",
   "mimetype": "text/x-python",
   "name": "python",
   "nbconvert_exporter": "python",
   "pygments_lexer": "ipython3",
   "version": "3.9.7"
  }
 },
 "nbformat": 4,
 "nbformat_minor": 5
}

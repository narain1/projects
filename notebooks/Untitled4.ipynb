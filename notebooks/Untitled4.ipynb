{
 "cells": [
  {
   "cell_type": "code",
   "execution_count": 85,
   "id": "5e5f4233-32b4-4eb3-9cf4-6419ddaaca17",
   "metadata": {},
   "outputs": [],
   "source": [
    "import requests, json, re, os\n",
    "import xmltodict\n",
    "import fastprogress\n",
    "import zipfile\n",
    "from pathlib import Path\n",
    "from collections import Counter\n",
    "from sklearn.feature_extraction.text import TfidfVectorizer\n",
    "import networkx as nx"
   ]
  },
  {
   "cell_type": "code",
   "execution_count": 46,
   "id": "8611aea0-df6a-4f31-85a7-d083bb89adf9",
   "metadata": {},
   "outputs": [],
   "source": [
    "with open('ConfigIds for panelboard.txt', 'r') as f:\n",
    "    configs = f.read().split('\\n')"
   ]
  },
  {
   "cell_type": "code",
   "execution_count": 73,
   "id": "bf28d0e9-0f69-4879-9398-4883faf270ca",
   "metadata": {},
   "outputs": [],
   "source": [
    "conf =  {\"command\":\"reconfigurationTemplate\",\n",
    "         \"modelName\":\"TYZ:PANELBOARD\",\n",
    "         \"name\":\"GenGbl011922_0x43282961fpp53b6h\",\n",
    "         \"userid\":\"ftqt08\"}\n",
    "\n",
    "header = {\"key\": \"st_token\",\n",
    "          \"value\": \"ST-8-iC2npNjIeOPBL1CLbu2U-compasd01\",\n",
    "          \"type\": \"application/json\"}"
   ]
  },
  {
   "cell_type": "code",
   "execution_count": 37,
   "id": "1c643282-cd7e-4e1e-843f-08d9804ddb93",
   "metadata": {},
   "outputs": [],
   "source": [
    "os.makedirs('jsons', exist_ok=True)\n",
    "os.makedirs('jsons/filtered_jsons', exist_ok=True)"
   ]
  },
  {
   "cell_type": "code",
   "execution_count": 150,
   "id": "2ebfd20f-b419-4fb2-9246-8f761e84040b",
   "metadata": {},
   "outputs": [
    {
     "data": {
      "text/plain": [
       "<Response [403]>"
      ]
     },
     "execution_count": 150,
     "metadata": {},
     "output_type": "execute_result"
    }
   ],
   "source": [
    "requests.post('https://q02.compasquality.siemens-info.com/mconfigserver/template', conf)"
   ]
  },
  {
   "cell_type": "code",
   "execution_count": 66,
   "id": "8d54881f-c35a-46e3-aa7d-b8bd490d81f3",
   "metadata": {},
   "outputs": [
    {
     "data": {
      "text/html": [
       "\n",
       "    <div>\n",
       "        <style>\n",
       "            /* Turns off some styling */\n",
       "            progress {\n",
       "                /* gets rid of default border in Firefox and Opera. */\n",
       "                border: none;\n",
       "                /* Needs to be in here for Safari polyfill so background images work as expected. */\n",
       "                background-size: auto;\n",
       "            }\n",
       "            .progress-bar-interrupted, .progress-bar-interrupted::-webkit-progress-bar {\n",
       "                background: #F44336;\n",
       "            }\n",
       "        </style>\n",
       "      <progress value='100' class='' max='100' style='width:300px; height:20px; vertical-align: middle;'></progress>\n",
       "      100.00% [100/100 00:02<00:00]\n",
       "    </div>\n",
       "    "
      ],
      "text/plain": [
       "<IPython.core.display.HTML object>"
      ]
     },
     "metadata": {},
     "output_type": "display_data"
    }
   ],
   "source": [
    "for cid in fastprogress.progress_bar(configs):\n",
    "    conf['name'] = cid\n",
    "    if f'{cid}.json' in os.listdir('jsons'): continue\n",
    "    o = requests.post('https://q02.compasquality.siemens-info.com/mconfigserver/template', conf)\n",
    "    if o.status_code == 200:\n",
    "        o = json.dumps(xmltodict.parse(o.text))\n",
    "        with open(f'jsons/{cid}.json', 'w') as f:\n",
    "            f.write(o)"
   ]
  },
  {
   "cell_type": "code",
   "execution_count": 2,
   "id": "9d98d05f-2b64-4810-878c-b04db58325f8",
   "metadata": {},
   "outputs": [],
   "source": [
    "fs = list(map(lambda x: os.path.join('jsons', x), os.listdir('jsons')))"
   ]
  },
  {
   "cell_type": "code",
   "execution_count": 67,
   "id": "1af58306-ec0d-41e6-b6fe-63c9bebd820c",
   "metadata": {},
   "outputs": [],
   "source": [
    "required_fields = ['isComplete', 'isConflicted',\n",
    "         'isCopyable', 'isDeletable', 'instType', 'parent',\n",
    "        'isPart', 'type', 'number', 'description', 'name']\n",
    "\n",
    "filter_items = ()\n",
    "\n",
    "for k, file in enumerate(fs):\n",
    "    if os.path.isdir(file): continue\n",
    "    with open(file, 'r') as f: o = json.load(f)\n",
    "    acc_dict = []\n",
    "    if o['IPC']['MODEL']['ELECTRICAL']['CREATED'] == None: continue\n",
    "    for item in o['IPC']['MODEL']['ELECTRICAL']['CREATED']['INSTANCE']:\n",
    "        d = dict()\n",
    "        for r in required_fields:\n",
    "            d[r] = item[f'@{r}']\n",
    "        d['CSTIC'] = list(filter(lambda x: x['@isRequired'] == 'Y' or x['@number'] in filter_items, item['CSTIC']))\n",
    "        acc_dict.append(d)\n",
    "    json_out = json.dumps({'content': acc_dict})\n",
    "    with open(f'jsons/filtered_jsons/{Path(file).name}', 'w') as out_file:\n",
    "        out_file.write(json_out)"
   ]
  },
  {
   "cell_type": "code",
   "execution_count": 68,
   "id": "f7e058d2-5aee-413e-b3ab-bfad1e4fb4ca",
   "metadata": {},
   "outputs": [],
   "source": [
    "filtered_files = list(map(lambda x: os.path.join('jsons/filtered_jsons', x), os.listdir('jsons/filtered_jsons')))"
   ]
  },
  {
   "cell_type": "code",
   "execution_count": 69,
   "id": "9027724c-c224-409e-99fd-b1a3a9dd670f",
   "metadata": {},
   "outputs": [],
   "source": [
    "with open(filtered_files[0], 'r') as f:\n",
    "    o = json.load(f)"
   ]
  },
  {
   "cell_type": "code",
   "execution_count": 70,
   "id": "29599a06-ca95-431d-9a85-50c1a5416035",
   "metadata": {},
   "outputs": [],
   "source": [
    "acc = []\n",
    "for file in filtered_files:\n",
    "    with open(file, 'r') as f: o = json.load(f)\n",
    "    for item in o['content']:\n",
    "        acc.append(' '.join(list(map(lambda x: x['@name'] + '_' + x['@value'], item['CSTIC']))))"
   ]
  },
  {
   "cell_type": "code",
   "execution_count": 23,
   "id": "f74308df-6274-4cd8-b533-6a5fda4c0105",
   "metadata": {},
   "outputs": [
    {
     "data": {
      "text/plain": [
       "<704x497 sparse matrix of type '<class 'numpy.float64'>'\n",
       "\twith 9314 stored elements in Compressed Sparse Row format>"
      ]
     },
     "execution_count": 23,
     "metadata": {},
     "output_type": "execute_result"
    }
   ],
   "source": [
    "tfidf = TfidfVectorizer()\n",
    "tfidf.fit_transform(acc)"
   ]
  },
  {
   "cell_type": "code",
   "execution_count": 122,
   "id": "6fbfc9db-7c93-4c0b-8162-7c3cfd119a39",
   "metadata": {},
   "outputs": [
    {
     "data": {
      "text/plain": [
       "{'HERMBR_0X74837E1338121F14.json',\n",
       " 'HERMBR_0X7AE47E1338122728.json',\n",
       " 'YOVARA_0X11727E122EB3BB1A.json',\n",
       " 'ZACCTG1_0X12CA7E2C46113825.json',\n",
       " 'ZACCTG1_0X13D97E2C46113A02.json',\n",
       " 'ZAJTRX00C_0X40897E3214E1827C.json',\n",
       " 'ZAJTRX00C_0X55C07E2811413B1F.json',\n",
       " 'zvonjx1121719_0x22915841dsamghqv.json',\n",
       " 'zvonjx1121719_0x64730421dsami0fr.json',\n",
       " 'zvonjx1121719_0x78209341dsamh5kg.json'}"
      ]
     },
     "execution_count": 122,
     "metadata": {},
     "output_type": "execute_result"
    }
   ],
   "source": [
    "set(list(filter(lambda x: x.endswith('.json'), os.listdir('jsons')))) - set(list(filter(lambda x: x.endswith('.json'), os.listdir('jsons/filtered_jsons'))))"
   ]
  },
  {
   "cell_type": "code",
   "execution_count": 133,
   "id": "47d186e8-fb1e-4942-bb50-f88554e9c34c",
   "metadata": {},
   "outputs": [],
   "source": [
    "def process_json(file):\n",
    "    with open(file, 'r') as f: o = json.load(f)\n",
    "    dict_acc = dict()\n",
    "    for item in o['content']:\n",
    "        dict_acc[(item['parent'], item['number'])] = ' '.join(list(map(lambda x: x['@name'] + '_' + x['@value'], item['CSTIC'])))\n",
    "    return dict_acc"
   ]
  },
  {
   "cell_type": "code",
   "execution_count": 147,
   "id": "4628291a-c7dc-44fc-8351-9919dddb4669",
   "metadata": {},
   "outputs": [
    {
     "data": {
      "text/plain": [
       "{('-1',\n",
       "  '1'): 'A7J_DESCRIPTION_PANELBOARD\\xa0P1 A7JPB_SYSTEM_VOLTAGE_208Y/120 3Ø 4W WYE AC A7JPB_SYSTEM_IR_65000.0 A7JPB_CERTIFICATION_UL A7JPB_PANEL_TYPE_P1 A7JPB_SERVICE_ENTRANCE_FALSE A7JPB_ENCLOSURE_TYPE_1 INDOOR A7JPB_BUS_MATERIAL_COPPER A7JPB_BUS_PLATING_TIN A7JPB_CAPACITY_100#perc; NEUTRAL A7JPB_GROUND_CONNECTOR_TRUE A7JPB_GND_CONN_OPTIONS_AL/CU A7JPB_GND_CONN_MOUNTING_SHIPPED W/ INTERIOR A7JPB_ADDITIONAL_GND_CONNECTOR_FALSE A7JPB_BRANCH_CONNECTOR_AL/CU A7JPB_SEISMIC_ZONE_NONE A7JPB_ENCLOSURE_PAINT_FALSE A7JPB_ENDWALL_WITH_KNOCKOUTS_FALSE A7JPB_ENCLOSURE_FRONT_STANDARD A7JPB_ENCLOSURE_LOCK_STANDARD A7JPB_TRIM_MOUNTING_SURFACE A7JPB_PNBD_LEAST_PANEL_TYPE_1.0 A7JPB_FRONT_GAGE_STANDARD A7J_DESIGNATION_EMC A7JPB_LIGHTING_PANEL_18 CIRCUITS A7JPB_DEFAULT_LIGHTING_PANEL_18 CIRCUITS A7JPB_FEED_TOP A7JPB_NAMEPLATE_LOCATION_TRIM A7JPB_PLANT_ROUTING_AUTO A7JPB_SEISMICALLY_QUALIFIED_FALSE A7JPB_BCM_FALSE',\n",
       " ('1',\n",
       "  '2'): 'A7JPB_MAIN_AMPERE_125.0 A7J_IS_CUSTOM_FALSE A7JPB_SERVICE_ENTRANCE_FALSE A7JPB_LUG_MATERIAL_AL/CU A7JPB_LUG_TYPE_MECHANICAL A7JPB_FEED_TOP A7JPB_LUG_WIRE_RANGE_(1)#6-350KCMIL A7JPB_TOGGLE_SWITCH_FALSE A7JPB_PILOT_LIGHT_FALSE A7JPB_PUSH_BUTTON_FALSE A7JPB_LEFT_GUTTER_0.0 A7JPB_RIGHT_GUTTER_0.0 A7JPB_EXTRA_DEPTH_0.0 A7JPB_BOTTOM_GUTTER_0.0 A7JPB_TOP_GUTTER_0.0 A7JPB_CABLE_MATERIAL_ALUMINUM',\n",
       " ('2',\n",
       "  '3'): 'A7JPB_LUG_MATERIAL_AL/CU A7JPB_LUG_TYPE_MECHANICAL A7JPB_LUG_WIRE_RANGE_(1)#14-#10 CU / #12-#10 AL A7JPB_DEVICE_INSTALLATION_INSTALLED A7JPB_INTERRUPT_RATING_65000.0 A7JPB_INTERCHANGEABLE_TRIP_NO',\n",
       " ('3', '4'): 'A7J01_MCCB_MARINE_50C_CALIB_NO A7J01_MCCB_400HZ_CALIBRATION_NO'}"
      ]
     },
     "execution_count": 147,
     "metadata": {},
     "output_type": "execute_result"
    }
   ],
   "source": [
    "process_json(filtered_files[0])"
   ]
  },
  {
   "cell_type": "code",
   "execution_count": 138,
   "id": "3bee354e-7572-4894-8f3d-d5ec49243449",
   "metadata": {},
   "outputs": [
    {
     "data": {
      "text/plain": [
       "<4x497 sparse matrix of type '<class 'numpy.float64'>'\n",
       "\twith 74 stored elements in Compressed Sparse Row format>"
      ]
     },
     "execution_count": 138,
     "metadata": {},
     "output_type": "execute_result"
    }
   ],
   "source": [
    "tfidf.transform(process_json(filtered_files[0]).values())"
   ]
  },
  {
   "cell_type": "code",
   "execution_count": 139,
   "id": "1fbdeaec-da84-410c-8565-e7309faf5bc6",
   "metadata": {},
   "outputs": [],
   "source": [
    "G = nx.Graph()"
   ]
  },
  {
   "cell_type": "code",
   "execution_count": 140,
   "id": "c3bcf2f1-c223-4ad3-854e-9d3fc4d6c4c4",
   "metadata": {},
   "outputs": [],
   "source": [
    "G.add_nodes_from([x['number'] for x in o['content']])\n",
    "G.add_edges_from(list(map(lambda x: (x['parent'], x['number']), o['content'])))"
   ]
  },
  {
   "cell_type": "code",
   "execution_count": 141,
   "id": "7467ca31-38b4-4e6e-a60b-cced2bc39154",
   "metadata": {},
   "outputs": [
    {
     "data": {
      "image/png": "[encoded data removed]",
      "text/plain": [
       "<Figure size 432x288 with 1 Axes>"
      ]
     },
     "metadata": {},
     "output_type": "display_data"
    }
   ],
   "source": [
    "nx.draw(G)"
   ]
  },
  {
   "cell_type": "code",
   "execution_count": 145,
   "id": "0da04695-960f-439b-ab6c-7cb474b8f7ed",
   "metadata": {},
   "outputs": [
    {
     "data": {
      "text/plain": [
       "['-1', '1', '2', '3']"
      ]
     },
     "execution_count": 145,
     "metadata": {},
     "output_type": "execute_result"
    }
   ],
   "source": [
    "nx.shortest_path(G, '-1', '3')"
   ]
  },
  {
   "cell_type": "code",
   "execution_count": 142,
   "id": "74fedc2c-d597-4bab-9924-63019aa0fdd8",
   "metadata": {},
   "outputs": [
    {
     "data": {
      "text/plain": [
       "NodeView(('1', '2', '3', '4', '-1'))"
      ]
     },
     "execution_count": 142,
     "metadata": {},
     "output_type": "execute_result"
    }
   ],
   "source": [
    "G.nodes"
   ]
  },
  {
   "cell_type": "code",
   "execution_count": 143,
   "id": "2fd0f693-950d-4641-bebb-73d2c7b25e99",
   "metadata": {},
   "outputs": [
    {
     "data": {
      "text/plain": [
       "EdgeView([('1', '-1'), ('1', '2'), ('2', '3'), ('3', '4')])"
      ]
     },
     "execution_count": 143,
     "metadata": {},
     "output_type": "execute_result"
    }
   ],
   "source": [
    "G.edges"
   ]
  },
  {
   "cell_type": "code",
   "execution_count": 121,
   "id": "5fc6fdc4-9984-49ae-bddf-e9af50c44d57",
   "metadata": {},
   "outputs": [
    {
     "data": {
      "text/plain": [
       "['-1', '2']"
      ]
     },
     "execution_count": 121,
     "metadata": {},
     "output_type": "execute_result"
    }
   ],
   "source": [
    "list(G.neighbors(str(1)))"
   ]
  },
  {
   "cell_type": "code",
   "execution_count": 149,
   "id": "e1a02012-7837-45fe-9734-1e895f967fda",
   "metadata": {},
   "outputs": [],
   "source": [
    "# o"
   ]
  },
  {
   "cell_type": "code",
   "execution_count": null,
   "id": "f75cd24a-fd81-4eec-8d90-5a0e9c6beb8b",
   "metadata": {},
   "outputs": [],
   "source": []
  }
 ],
 "metadata": {
  "kernelspec": {
   "display_name": "Python 3",
   "language": "python",
   "name": "python3"
  },
  "language_info": {
   "codemirror_mode": {
    "name": "ipython",
    "version": 3
   },
   "file_extension": ".py",
   "mimetype": "text/x-python",
   "name": "python",
   "nbconvert_exporter": "python",
   "pygments_lexer": "ipython3",
   "version": "3.9.7"
  }
 },
 "nbformat": 4,
 "nbformat_minor": 5
}

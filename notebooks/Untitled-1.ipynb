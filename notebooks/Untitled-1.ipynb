{
 "cells": [
  {
   "cell_type": "code",
   "execution_count": 2,
   "metadata": {},
   "outputs": [],
   "source": [
    "from neo4j import GraphDatabase\n",
    "\n",
    "URI = 'neo4j://localhost'\n",
    "AUTH = (\"neo4j\", \"password\")\n",
    "\n",
    "with GraphDatabase.driver(URI, auth=AUTH) as driver:\n",
    "    driver.verify_connectivity()\n",
    "\n",
    "db_driver = GraphDatabase.driver(URI, auth=AUTH)"
   ]
  },
  {
   "cell_type": "code",
   "execution_count": 3,
   "metadata": {},
   "outputs": [
    {
     "data": {
      "text/plain": [
       "3765"
      ]
     },
     "execution_count": 3,
     "metadata": {},
     "output_type": "execute_result"
    }
   ],
   "source": [
    "import os\n",
    "config_paths = '/home/narain/data/config_jsons/JsonData'\n",
    "config_fs = list(filter(lambda x: x.endswith('.json'), \n",
    "        map(lambda x: os.path.join(config_paths, x), os.listdir(config_paths))))\n",
    "len(os.listdir(config_paths))"
   ]
  },
  {
   "cell_type": "code",
   "execution_count": 4,
   "metadata": {},
   "outputs": [],
   "source": [
    "import json, re, fastprogress\n",
    "from pathlib import Path"
   ]
  },
  {
   "cell_type": "code",
   "execution_count": 6,
   "metadata": {},
   "outputs": [],
   "source": [
    "with open('acc_dict.json') as f:\n",
    "    acc_dict = json.load(f)"
   ]
  },
  {
   "attachments": {},
   "cell_type": "markdown",
   "metadata": {},
   "source": [
    "### Delete all notes and connections"
   ]
  },
  {
   "cell_type": "code",
   "execution_count": 16,
   "metadata": {},
   "outputs": [],
   "source": [
    "with db_driver.session() as db_session:\n",
    "    db_session.run('match (a) -[r] -> () delete a, r')\n",
    "    db_session.run('match (a) delete a')"
   ]
  },
  {
   "attachments": {},
   "cell_type": "markdown",
   "metadata": {},
   "source": [
    "### Create Nodes boards panel board vlmccb"
   ]
  },
  {
   "cell_type": "code",
   "execution_count": 17,
   "metadata": {},
   "outputs": [],
   "source": [
    "with db_driver.session() as db_session:\n",
    "    for k in acc_dict.keys():\n",
    "        board = k.split(\":\")[1]\n",
    "        db_session.run(f'CREATE (n:TYZ {{name: \"{board}\"}})')"
   ]
  },
  {
   "attachments": {},
   "cell_type": "markdown",
   "metadata": {},
   "source": [
    "### Create Component Nodes"
   ]
  },
  {
   "cell_type": "code",
   "execution_count": 18,
   "metadata": {},
   "outputs": [],
   "source": [
    "components = []\n",
    "for k,v in acc_dict.items():\n",
    "    components.extend(list(v.keys()))\n",
    "\n",
    "with db_driver.session() as db_session:\n",
    "    for k in set(components):\n",
    "        db_session.run(f'CREATE ({k}:COMP {{name: \"{k}\"}})')"
   ]
  },
  {
   "attachments": {},
   "cell_type": "markdown",
   "metadata": {},
   "source": [
    "### Create CSTIC values nodes"
   ]
  },
  {
   "cell_type": "code",
   "execution_count": 19,
   "metadata": {},
   "outputs": [],
   "source": [
    "with db_driver.session() as db_session:\n",
    "    for k,v in  acc_dict.items():\n",
    "        for k1, v1 in v.items():\n",
    "            for v2 in v1:\n",
    "                db_session.run(f'CREATE ({k1}:VAL {{value: \"{v2}\", category: \"{k1}\"}})')"
   ]
  },
  {
   "cell_type": "code",
   "execution_count": 20,
   "metadata": {},
   "outputs": [
    {
     "data": {
      "text/plain": [
       "'RAMOCD1_0X37877E1C25116C19.json'"
      ]
     },
     "execution_count": 20,
     "metadata": {},
     "output_type": "execute_result"
    }
   ],
   "source": [
    "Path(config_fs[0]).name"
   ]
  },
  {
   "attachments": {},
   "cell_type": "markdown",
   "metadata": {},
   "source": [
    "### Create Induvidual graphs"
   ]
  },
  {
   "cell_type": "code",
   "execution_count": 21,
   "metadata": {},
   "outputs": [],
   "source": [
    "with db_driver.session() as db_session:\n",
    "    for f in config_fs:\n",
    "        f_name = Path(f).name[:-5]\n",
    "        db_session.run(f'CREATE (n:G {{name: \"{f_name}\"}})')"
   ]
  },
  {
   "cell_type": "code",
   "execution_count": 22,
   "metadata": {},
   "outputs": [],
   "source": [
    "# with db_driver.session() as db_session:\n",
    "#     o = db_session.run(f'MATCH (n:TYZ) \\nRETURN *')\n",
    "#     print(o.values())"
   ]
  },
  {
   "cell_type": "code",
   "execution_count": 24,
   "metadata": {},
   "outputs": [],
   "source": [
    "def read_config(file):\n",
    "    with open(file) as f:\n",
    "        o = json.load(f)\n",
    "    return o"
   ]
  },
  {
   "attachments": {},
   "cell_type": "markdown",
   "metadata": {},
   "source": [
    "## Create Connnections"
   ]
  },
  {
   "cell_type": "code",
   "execution_count": 65,
   "metadata": {},
   "outputs": [
    {
     "data": {
      "text/html": [
       "\n",
       "    <div>\n",
       "      <progress value='858' class='' max='3764' style='width:300px; height:20px; vertical-align: middle;'></progress>\n",
       "      22.79% [858/3764 10:56:50&lt;37:04:39]\n",
       "    </div>\n",
       "    "
      ],
      "text/plain": [
       "<IPython.core.display.HTML object>"
      ]
     },
     "metadata": {},
     "output_type": "display_data"
    },
    {
     "ename": "KeyboardInterrupt",
     "evalue": "",
     "output_type": "error",
     "traceback": [
      "\u001b[0;31m---------------------------------------------------------------------------\u001b[0m",
      "\u001b[0;31mKeyboardInterrupt\u001b[0m                         Traceback (most recent call last)",
      "Cell \u001b[0;32mIn[65], line 12\u001b[0m\n\u001b[1;32m     10\u001b[0m parent_node \u001b[39m=\u001b[39m \u001b[39mf\u001b[39m\u001b[39m'\u001b[39m\u001b[39mn:G \u001b[39m\u001b[39m{{\u001b[39;00m\u001b[39mname: \u001b[39m\u001b[39m\"\u001b[39m\u001b[39m{\u001b[39;00mf_name[:\u001b[39m-\u001b[39m\u001b[39m5\u001b[39m]\u001b[39m}\u001b[39;00m\u001b[39m\"\u001b[39m\u001b[39m}}\u001b[39;00m\u001b[39m'\u001b[39m \u001b[39mif\u001b[39;00m ele[\u001b[39m'\u001b[39m\u001b[39mparent\u001b[39m\u001b[39m'\u001b[39m] \u001b[39m==\u001b[39m \u001b[39m'\u001b[39m\u001b[39m-1\u001b[39m\u001b[39m'\u001b[39m \u001b[39melse\u001b[39;00m \u001b[39mf\u001b[39m\u001b[39m'\u001b[39m\u001b[39mn:TYZ \u001b[39m\u001b[39m{{\u001b[39;00m\u001b[39mname: \u001b[39m\u001b[39m\"\u001b[39m\u001b[39m{\u001b[39;00mnode_dict[ele[\u001b[39m\"\u001b[39m\u001b[39mparent\u001b[39m\u001b[39m\"\u001b[39m]]\u001b[39m.\u001b[39msplit(\u001b[39m\"\u001b[39m\u001b[39m:\u001b[39m\u001b[39m\"\u001b[39m)[\u001b[39m-\u001b[39m\u001b[39m1\u001b[39m]\u001b[39m}\u001b[39;00m\u001b[39m\"\u001b[39m\u001b[39m}}\u001b[39;00m\u001b[39m'\u001b[39m \n\u001b[1;32m     11\u001b[0m current_node \u001b[39m=\u001b[39m \u001b[39mf\u001b[39m\u001b[39m'\u001b[39m\u001b[39mm:TYZ \u001b[39m\u001b[39m{{\u001b[39;00m\u001b[39mname: \u001b[39m\u001b[39m\"\u001b[39m\u001b[39m{\u001b[39;00mele[\u001b[39m\"\u001b[39m\u001b[39mname\u001b[39m\u001b[39m\"\u001b[39m]\u001b[39m.\u001b[39msplit(\u001b[39m\"\u001b[39m\u001b[39m:\u001b[39m\u001b[39m\"\u001b[39m)[\u001b[39m-\u001b[39m\u001b[39m1\u001b[39m]\u001b[39m}\u001b[39;00m\u001b[39m\"\u001b[39m\u001b[39m}}\u001b[39;00m\u001b[39m'\u001b[39m\n\u001b[0;32m---> 12\u001b[0m db_session\u001b[39m.\u001b[39;49mrun(\u001b[39mf\u001b[39;49m\u001b[39m'\u001b[39;49m\u001b[39mMATCH (\u001b[39;49m\u001b[39m{\u001b[39;49;00mparent_node\u001b[39m}\u001b[39;49;00m\u001b[39m), (\u001b[39;49m\u001b[39m{\u001b[39;49;00mcurrent_node\u001b[39m}\u001b[39;49;00m\u001b[39m) CREATE (n)-[:CHILD_\u001b[39;49m\u001b[39m{\u001b[39;49;00mf_name\u001b[39m}\u001b[39;49;00m\u001b[39m_\u001b[39;49m\u001b[39m{\u001b[39;49;00mele_number\u001b[39m}\u001b[39;49;00m\u001b[39m]->(m)\u001b[39;49m\u001b[39m'\u001b[39;49m)\n\u001b[1;32m     13\u001b[0m \u001b[39mfor\u001b[39;00m item \u001b[39min\u001b[39;00m ele[\u001b[39m'\u001b[39m\u001b[39mCSTIC\u001b[39m\u001b[39m'\u001b[39m]:\n\u001b[1;32m     14\u001b[0m     item_name, item_value \u001b[39m=\u001b[39m item[\u001b[39m'\u001b[39m\u001b[39mname\u001b[39m\u001b[39m'\u001b[39m], item[\u001b[39m'\u001b[39m\u001b[39mvalue\u001b[39m\u001b[39m'\u001b[39m]\n",
      "File \u001b[0;32m~/.local/lib/python3.10/site-packages/neo4j/_sync/work/session.py:294\u001b[0m, in \u001b[0;36mSession.run\u001b[0;34m(self, query, parameters, **kwargs)\u001b[0m\n\u001b[1;32m    292\u001b[0m bookmarks \u001b[39m=\u001b[39m \u001b[39mself\u001b[39m\u001b[39m.\u001b[39m_get_all_bookmarks()\n\u001b[1;32m    293\u001b[0m parameters \u001b[39m=\u001b[39m \u001b[39mdict\u001b[39m(parameters \u001b[39mor\u001b[39;00m {}, \u001b[39m*\u001b[39m\u001b[39m*\u001b[39mkwargs)\n\u001b[0;32m--> 294\u001b[0m \u001b[39mself\u001b[39;49m\u001b[39m.\u001b[39;49m_auto_result\u001b[39m.\u001b[39;49m_run(\n\u001b[1;32m    295\u001b[0m     query, parameters, \u001b[39mself\u001b[39;49m\u001b[39m.\u001b[39;49m_config\u001b[39m.\u001b[39;49mdatabase,\n\u001b[1;32m    296\u001b[0m     \u001b[39mself\u001b[39;49m\u001b[39m.\u001b[39;49m_config\u001b[39m.\u001b[39;49mimpersonated_user, \u001b[39mself\u001b[39;49m\u001b[39m.\u001b[39;49m_config\u001b[39m.\u001b[39;49mdefault_access_mode,\n\u001b[1;32m    297\u001b[0m     bookmarks\n\u001b[1;32m    298\u001b[0m )\n\u001b[1;32m    300\u001b[0m \u001b[39mreturn\u001b[39;00m \u001b[39mself\u001b[39m\u001b[39m.\u001b[39m_auto_result\n",
      "File \u001b[0;32m~/.local/lib/python3.10/site-packages/neo4j/_sync/work/result.py:161\u001b[0m, in \u001b[0;36mResult._run\u001b[0;34m(self, query, parameters, db, imp_user, access_mode, bookmarks)\u001b[0m\n\u001b[1;32m    159\u001b[0m \u001b[39mself\u001b[39m\u001b[39m.\u001b[39m_pull()\n\u001b[1;32m    160\u001b[0m \u001b[39mself\u001b[39m\u001b[39m.\u001b[39m_connection\u001b[39m.\u001b[39msend_all()\n\u001b[0;32m--> 161\u001b[0m \u001b[39mself\u001b[39;49m\u001b[39m.\u001b[39;49m_attach()\n",
      "File \u001b[0;32m~/.local/lib/python3.10/site-packages/neo4j/_sync/work/result.py:269\u001b[0m, in \u001b[0;36mResult._attach\u001b[0;34m(self)\u001b[0m\n\u001b[1;32m    267\u001b[0m \u001b[39mif\u001b[39;00m \u001b[39mself\u001b[39m\u001b[39m.\u001b[39m_exhausted \u001b[39mis\u001b[39;00m \u001b[39mFalse\u001b[39;00m:\n\u001b[1;32m    268\u001b[0m     \u001b[39mwhile\u001b[39;00m \u001b[39mself\u001b[39m\u001b[39m.\u001b[39m_attached \u001b[39mis\u001b[39;00m \u001b[39mFalse\u001b[39;00m:\n\u001b[0;32m--> 269\u001b[0m         \u001b[39mself\u001b[39;49m\u001b[39m.\u001b[39;49m_connection\u001b[39m.\u001b[39;49mfetch_message()\n",
      "File \u001b[0;32m~/.local/lib/python3.10/site-packages/neo4j/_sync/io/_common.py:180\u001b[0m, in \u001b[0;36mConnectionErrorHandler.__getattr__.<locals>.outer.<locals>.inner\u001b[0;34m(*args, **kwargs)\u001b[0m\n\u001b[1;32m    178\u001b[0m \u001b[39mdef\u001b[39;00m \u001b[39minner\u001b[39m(\u001b[39m*\u001b[39margs, \u001b[39m*\u001b[39m\u001b[39m*\u001b[39mkwargs):\n\u001b[1;32m    179\u001b[0m     \u001b[39mtry\u001b[39;00m:\n\u001b[0;32m--> 180\u001b[0m         func(\u001b[39m*\u001b[39;49margs, \u001b[39m*\u001b[39;49m\u001b[39m*\u001b[39;49mkwargs)\n\u001b[1;32m    181\u001b[0m     \u001b[39mexcept\u001b[39;00m (Neo4jError, ServiceUnavailable, SessionExpired) \u001b[39mas\u001b[39;00m exc:\n\u001b[1;32m    182\u001b[0m         \u001b[39massert\u001b[39;00m \u001b[39mnot\u001b[39;00m asyncio\u001b[39m.\u001b[39miscoroutinefunction(\u001b[39mself\u001b[39m\u001b[39m.\u001b[39m__on_error)\n",
      "File \u001b[0;32m~/.local/lib/python3.10/site-packages/neo4j/_sync/io/_bolt.py:656\u001b[0m, in \u001b[0;36mBolt.fetch_message\u001b[0;34m(self)\u001b[0m\n\u001b[1;32m    653\u001b[0m     \u001b[39mreturn\u001b[39;00m \u001b[39m0\u001b[39m, \u001b[39m0\u001b[39m\n\u001b[1;32m    655\u001b[0m \u001b[39m# Receive exactly one message\u001b[39;00m\n\u001b[0;32m--> 656\u001b[0m tag, fields \u001b[39m=\u001b[39m \u001b[39mself\u001b[39;49m\u001b[39m.\u001b[39;49minbox\u001b[39m.\u001b[39;49mpop(\n\u001b[1;32m    657\u001b[0m     hydration_hooks\u001b[39m=\u001b[39;49m\u001b[39mself\u001b[39;49m\u001b[39m.\u001b[39;49mresponses[\u001b[39m0\u001b[39;49m]\u001b[39m.\u001b[39;49mhydration_hooks\n\u001b[1;32m    658\u001b[0m )\n\u001b[1;32m    659\u001b[0m res \u001b[39m=\u001b[39m \u001b[39mself\u001b[39m\u001b[39m.\u001b[39m_process_message(tag, fields)\n\u001b[1;32m    660\u001b[0m \u001b[39mself\u001b[39m\u001b[39m.\u001b[39midle_since \u001b[39m=\u001b[39m perf_counter()\n",
      "File \u001b[0;32m~/.local/lib/python3.10/site-packages/neo4j/_sync/io/_common.py:74\u001b[0m, in \u001b[0;36mInbox.pop\u001b[0;34m(self, hydration_hooks)\u001b[0m\n\u001b[1;32m     73\u001b[0m \u001b[39mdef\u001b[39;00m \u001b[39mpop\u001b[39m(\u001b[39mself\u001b[39m, hydration_hooks):\n\u001b[0;32m---> 74\u001b[0m     \u001b[39mself\u001b[39;49m\u001b[39m.\u001b[39;49m_buffer_one_chunk()\n\u001b[1;32m     75\u001b[0m     \u001b[39mtry\u001b[39;00m:\n\u001b[1;32m     76\u001b[0m         size, tag \u001b[39m=\u001b[39m \u001b[39mself\u001b[39m\u001b[39m.\u001b[39m_unpacker\u001b[39m.\u001b[39munpack_structure_header()\n",
      "File \u001b[0;32m~/.local/lib/python3.10/site-packages/neo4j/_sync/io/_common.py:53\u001b[0m, in \u001b[0;36mInbox._buffer_one_chunk\u001b[0;34m(self)\u001b[0m\n\u001b[1;32m     50\u001b[0m \u001b[39mwhile\u001b[39;00m \u001b[39mTrue\u001b[39;00m:\n\u001b[1;32m     51\u001b[0m     \u001b[39mwhile\u001b[39;00m chunk_size \u001b[39m==\u001b[39m \u001b[39m0\u001b[39m:\n\u001b[1;32m     52\u001b[0m         \u001b[39m# Determine the chunk size and skip noop\u001b[39;00m\n\u001b[0;32m---> 53\u001b[0m         receive_into_buffer(\u001b[39mself\u001b[39;49m\u001b[39m.\u001b[39;49m_socket, \u001b[39mself\u001b[39;49m\u001b[39m.\u001b[39;49m_buffer, \u001b[39m2\u001b[39;49m)\n\u001b[1;32m     54\u001b[0m         chunk_size \u001b[39m=\u001b[39m \u001b[39mself\u001b[39m\u001b[39m.\u001b[39m_buffer\u001b[39m.\u001b[39mpop_u16()\n\u001b[1;32m     55\u001b[0m         \u001b[39mif\u001b[39;00m chunk_size \u001b[39m==\u001b[39m \u001b[39m0\u001b[39m:\n",
      "File \u001b[0;32m~/.local/lib/python3.10/site-packages/neo4j/_sync/io/_common.py:292\u001b[0m, in \u001b[0;36mreceive_into_buffer\u001b[0;34m(sock, buffer, n_bytes)\u001b[0m\n\u001b[1;32m    290\u001b[0m \u001b[39mwith\u001b[39;00m \u001b[39mmemoryview\u001b[39m(buffer\u001b[39m.\u001b[39mdata) \u001b[39mas\u001b[39;00m view:\n\u001b[1;32m    291\u001b[0m     \u001b[39mwhile\u001b[39;00m buffer\u001b[39m.\u001b[39mused \u001b[39m<\u001b[39m end:\n\u001b[0;32m--> 292\u001b[0m         n \u001b[39m=\u001b[39m sock\u001b[39m.\u001b[39;49mrecv_into(view[buffer\u001b[39m.\u001b[39;49mused:end], end \u001b[39m-\u001b[39;49m buffer\u001b[39m.\u001b[39;49mused)\n\u001b[1;32m    293\u001b[0m         \u001b[39mif\u001b[39;00m n \u001b[39m==\u001b[39m \u001b[39m0\u001b[39m:\n\u001b[1;32m    294\u001b[0m             \u001b[39mraise\u001b[39;00m \u001b[39mOSError\u001b[39;00m(\u001b[39m\"\u001b[39m\u001b[39mNo data\u001b[39m\u001b[39m\"\u001b[39m)\n",
      "File \u001b[0;32m~/.local/lib/python3.10/site-packages/neo4j/_async_compat/network/_bolt_socket.py:469\u001b[0m, in \u001b[0;36mBoltSocket.recv_into\u001b[0;34m(self, buffer, nbytes)\u001b[0m\n\u001b[1;32m    468\u001b[0m \u001b[39mdef\u001b[39;00m \u001b[39mrecv_into\u001b[39m(\u001b[39mself\u001b[39m, buffer, nbytes):\n\u001b[0;32m--> 469\u001b[0m     \u001b[39mreturn\u001b[39;00m \u001b[39mself\u001b[39;49m\u001b[39m.\u001b[39;49m_wait_for_io(\u001b[39mself\u001b[39;49m\u001b[39m.\u001b[39;49m_socket\u001b[39m.\u001b[39;49mrecv_into, buffer, nbytes)\n",
      "File \u001b[0;32m~/.local/lib/python3.10/site-packages/neo4j/_async_compat/network/_bolt_socket.py:444\u001b[0m, in \u001b[0;36mBoltSocket._wait_for_io\u001b[0;34m(self, func, *args, **kwargs)\u001b[0m\n\u001b[1;32m    442\u001b[0m \u001b[39mdef\u001b[39;00m \u001b[39m_wait_for_io\u001b[39m(\u001b[39mself\u001b[39m, func, \u001b[39m*\u001b[39margs, \u001b[39m*\u001b[39m\u001b[39m*\u001b[39mkwargs):\n\u001b[1;32m    443\u001b[0m     \u001b[39mif\u001b[39;00m \u001b[39mself\u001b[39m\u001b[39m.\u001b[39m_deadline \u001b[39mis\u001b[39;00m \u001b[39mNone\u001b[39;00m:\n\u001b[0;32m--> 444\u001b[0m         \u001b[39mreturn\u001b[39;00m func(\u001b[39m*\u001b[39;49margs, \u001b[39m*\u001b[39;49m\u001b[39m*\u001b[39;49mkwargs)\n\u001b[1;32m    445\u001b[0m     timeout \u001b[39m=\u001b[39m \u001b[39mself\u001b[39m\u001b[39m.\u001b[39m_socket\u001b[39m.\u001b[39mgettimeout()\n\u001b[1;32m    446\u001b[0m     deadline_timeout \u001b[39m=\u001b[39m \u001b[39mself\u001b[39m\u001b[39m.\u001b[39m_deadline\u001b[39m.\u001b[39mto_timeout()\n",
      "\u001b[0;31mKeyboardInterrupt\u001b[0m: "
     ]
    }
   ],
   "source": [
    "with db_driver.session() as db_session:\n",
    "    for file in fastprogress.progress_bar(config_fs, total=len(config_fs)):\n",
    "        f_name = Path(file).name[:-5\n",
    "        content = read_config(file)\n",
    "        node_dict = dict()\n",
    "        for ele in o['MODEL']['ELECTRICAL']['CREATED']['INSTANCE']:\n",
    "            ele_number = 'parent' if ele['parent'] == '-1' else ele['parent']\n",
    "            node_dict[ele['number']] = ele['name']\n",
    "            name = node_dict[ele['parent']] if ele['parent'] in node_dict else ele['parent']\n",
    "            parent_node = f'n:G {{name: \"{f_name[:-5]}\"}}' if ele['parent'] == '-1' else f'n:TYZ {{name: \"{node_dict[ele[\"parent\"]].split(\":\")[-1]}\"}}' \n",
    "            current_node = f'm:TYZ {{name: \"{ele[\"name\"].split(\":\")[-1]}\"}}'\n",
    "            db_session.run(f'MATCH ({parent_node}), ({current_node}) CREATE (n)-[:CHILD_{f_name}_{ele_number}]->(m)')\n",
    "            for item in ele['CSTIC']:\n",
    "                item_name, item_value = itesm['name'], item['value']\n",
    "                comp_node = f'c:COMP {{name: \"{item[\"name\"]}\"}}'\n",
    "                db_session.run(f\"MATCH ({current_node}), ({comp_node}) CREATE (m)-[:COMP_{f_name}_{ele['number']}]->(c)\")\n",
    "                value_node = f'v:VAL {{name: \"{item_value}\", category: \"{item_name}\"}}'\n",
    "                db_session.run(f\"MATCH ({comp_node}), ({value_node}) CREATE (c)-[:VALUE_{f_name}_{ele['number']}]->(v)\")"
   ]
  },
  {
   "cell_type": "code",
   "execution_count": 64,
   "metadata": {},
   "outputs": [
    {
     "data": {
      "text/plain": [
       "'-1'"
      ]
     },
     "execution_count": 64,
     "metadata": {},
     "output_type": "execute_result"
    }
   ],
   "source": [
    "'parent' if ele['parent'] == '-1'"
   ]
  },
  {
   "cell_type": "code",
   "execution_count": 63,
   "metadata": {},
   "outputs": [
    {
     "data": {
      "text/plain": [
       "'-1'"
      ]
     },
     "execution_count": 63,
     "metadata": {},
     "output_type": "execute_result"
    }
   ],
   "source": [
    "ele_number"
   ]
  },
  {
   "cell_type": "code",
   "execution_count": 54,
   "metadata": {},
   "outputs": [
    {
     "name": "stdout",
     "output_type": "stream",
     "text": [
      "MATCH m:TYZ {name: PB_VL}, c:COMP {name: \"A7J_CATALOG_NUMBER\"} CREATE (m)-[:COMP_RAMOCD1_0X37877E1C25116C19_22]->(c)\n",
      "MATCH c:COMP {name: \"A7J_CATALOG_NUMBER\"}, v:VAL {name: \"LGB3B100B\", category: \"A7J_CATALOG_NUMBER\"} CREATE (c)-[:VALUE_RAMOCD1_0X37877E1C25116C19_22]->(v)\n",
      "MATCH m:TYZ {name: PB_VL}, c:COMP {name: \"A7J04_ELECTRONIC_TRIP_VERSION\"} CREATE (m)-[:COMP_RAMOCD1_0X37877E1C25116C19_22]->(c)\n",
      "MATCH c:COMP {name: \"A7J04_ELECTRONIC_TRIP_VERSION\"}, v:VAL {name: \"\", category: \"A7J04_ELECTRONIC_TRIP_VERSION\"} CREATE (c)-[:VALUE_RAMOCD1_0X37877E1C25116C19_22]->(v)\n",
      "MATCH m:TYZ {name: PB_VL}, c:COMP {name: \"A7J04_MARINE_50C_CALIBRATION\"} CREATE (m)-[:COMP_RAMOCD1_0X37877E1C25116C19_22]->(c)\n",
      "MATCH c:COMP {name: \"A7J04_MARINE_50C_CALIBRATION\"}, v:VAL {name: \"NO\", category: \"A7J04_MARINE_50C_CALIBRATION\"} CREATE (c)-[:VALUE_RAMOCD1_0X37877E1C25116C19_22]->(v)\n",
      "MATCH m:TYZ {name: PB_VL}, c:COMP {name: \"A7J04_LONG_TIME\"} CREATE (m)-[:COMP_RAMOCD1_0X37877E1C25116C19_22]->(c)\n",
      "MATCH c:COMP {name: \"A7J04_LONG_TIME\"}, v:VAL {name: \"NO\", category: \"A7J04_LONG_TIME\"} CREATE (c)-[:VALUE_RAMOCD1_0X37877E1C25116C19_22]->(v)\n",
      "MATCH m:TYZ {name: PB_VL}, c:COMP {name: \"A7J04_SHORT_TIME\"} CREATE (m)-[:COMP_RAMOCD1_0X37877E1C25116C19_22]->(c)\n",
      "MATCH c:COMP {name: \"A7J04_SHORT_TIME\"}, v:VAL {name: \"NO\", category: \"A7J04_SHORT_TIME\"} CREATE (c)-[:VALUE_RAMOCD1_0X37877E1C25116C19_22]->(v)\n",
      "MATCH m:TYZ {name: PB_VL}, c:COMP {name: \"A7J04_INSTANTANEOUS_SETTING\"} CREATE (m)-[:COMP_RAMOCD1_0X37877E1C25116C19_22]->(c)\n",
      "MATCH c:COMP {name: \"A7J04_INSTANTANEOUS_SETTING\"}, v:VAL {name: \"NO\", category: \"A7J04_INSTANTANEOUS_SETTING\"} CREATE (c)-[:VALUE_RAMOCD1_0X37877E1C25116C19_22]->(v)\n",
      "MATCH m:TYZ {name: PB_VL}, c:COMP {name: \"A7J04_GROUND_FAULT\"} CREATE (m)-[:COMP_RAMOCD1_0X37877E1C25116C19_22]->(c)\n",
      "MATCH c:COMP {name: \"A7J04_GROUND_FAULT\"}, v:VAL {name: \"NO\", category: \"A7J04_GROUND_FAULT\"} CREATE (c)-[:VALUE_RAMOCD1_0X37877E1C25116C19_22]->(v)\n",
      "MATCH m:TYZ {name: PB_VL}, c:COMP {name: \"A7J04_LCD_DISPLAY\"} CREATE (m)-[:COMP_RAMOCD1_0X37877E1C25116C19_22]->(c)\n",
      "MATCH c:COMP {name: \"A7J04_LCD_DISPLAY\"}, v:VAL {name: \"NO\", category: \"A7J04_LCD_DISPLAY\"} CREATE (c)-[:VALUE_RAMOCD1_0X37877E1C25116C19_22]->(v)\n",
      "MATCH m:TYZ {name: PB_VL}, c:COMP {name: \"A7J04_AUX_ALARM_SWITCH_KIT\"} CREATE (m)-[:COMP_RAMOCD1_0X37877E1C25116C19_22]->(c)\n",
      "MATCH c:COMP {name: \"A7J04_AUX_ALARM_SWITCH_KIT\"}, v:VAL {name: \"NO\", category: \"A7J04_AUX_ALARM_SWITCH_KIT\"} CREATE (c)-[:VALUE_RAMOCD1_0X37877E1C25116C19_22]->(v)\n",
      "MATCH m:TYZ {name: PB_VL}, c:COMP {name: \"A7J04_AUX_ALR_SW_KIT_CONTENTS\"} CREATE (m)-[:COMP_RAMOCD1_0X37877E1C25116C19_22]->(c)\n",
      "MATCH c:COMP {name: \"A7J04_AUX_ALR_SW_KIT_CONTENTS\"}, v:VAL {name: \"N/A\", category: \"A7J04_AUX_ALR_SW_KIT_CONTENTS\"} CREATE (c)-[:VALUE_RAMOCD1_0X37877E1C25116C19_22]->(v)\n",
      "MATCH m:TYZ {name: PB_VL}, c:COMP {name: \"A7J04_SHUNT_TRIP\"} CREATE (m)-[:COMP_RAMOCD1_0X37877E1C25116C19_22]->(c)\n",
      "MATCH c:COMP {name: \"A7J04_SHUNT_TRIP\"}, v:VAL {name: \"NO\", category: \"A7J04_SHUNT_TRIP\"} CREATE (c)-[:VALUE_RAMOCD1_0X37877E1C25116C19_22]->(v)\n",
      "MATCH m:TYZ {name: PB_VL}, c:COMP {name: \"A7J04_SHUNT_TRIP_CONTROL_VLT\"} CREATE (m)-[:COMP_RAMOCD1_0X37877E1C25116C19_22]->(c)\n",
      "MATCH c:COMP {name: \"A7J04_SHUNT_TRIP_CONTROL_VLT\"}, v:VAL {name: \"\", category: \"A7J04_SHUNT_TRIP_CONTROL_VLT\"} CREATE (c)-[:VALUE_RAMOCD1_0X37877E1C25116C19_22]->(v)\n",
      "MATCH m:TYZ {name: PB_VL}, c:COMP {name: \"A7J04_UNDERVOLTAGE_TRIP\"} CREATE (m)-[:COMP_RAMOCD1_0X37877E1C25116C19_22]->(c)\n",
      "MATCH c:COMP {name: \"A7J04_UNDERVOLTAGE_TRIP\"}, v:VAL {name: \"NO\", category: \"A7J04_UNDERVOLTAGE_TRIP\"} CREATE (c)-[:VALUE_RAMOCD1_0X37877E1C25116C19_22]->(v)\n",
      "MATCH m:TYZ {name: PB_VL}, c:COMP {name: \"A7J04_UVLT_TRIP_CONTROL_VLT\"} CREATE (m)-[:COMP_RAMOCD1_0X37877E1C25116C19_22]->(c)\n",
      "MATCH c:COMP {name: \"A7J04_UVLT_TRIP_CONTROL_VLT\"}, v:VAL {name: \"\", category: \"A7J04_UVLT_TRIP_CONTROL_VLT\"} CREATE (c)-[:VALUE_RAMOCD1_0X37877E1C25116C19_22]->(v)\n",
      "MATCH m:TYZ {name: PB_VL}, c:COMP {name: \"A7JPB_POWER_STICK\"} CREATE (m)-[:COMP_RAMOCD1_0X37877E1C25116C19_22]->(c)\n",
      "MATCH c:COMP {name: \"A7JPB_POWER_STICK\"}, v:VAL {name: \"FALSE\", category: \"A7JPB_POWER_STICK\"} CREATE (c)-[:VALUE_RAMOCD1_0X37877E1C25116C19_22]->(v)\n",
      "MATCH m:TYZ {name: PB_VL}, c:COMP {name: \"A7JPB_ETU545_CONFIGURATOR\"} CREATE (m)-[:COMP_RAMOCD1_0X37877E1C25116C19_22]->(c)\n",
      "MATCH c:COMP {name: \"A7JPB_ETU545_CONFIGURATOR\"}, v:VAL {name: \"FALSE\", category: \"A7JPB_ETU545_CONFIGURATOR\"} CREATE (c)-[:VALUE_RAMOCD1_0X37877E1C25116C19_22]->(v)\n",
      "MATCH m:TYZ {name: PB_VL}, c:COMP {name: \"A7JPB_ETU_MODEL_545_DIAL\"} CREATE (m)-[:COMP_RAMOCD1_0X37877E1C25116C19_22]->(c)\n",
      "MATCH c:COMP {name: \"A7JPB_ETU_MODEL_545_DIAL\"}, v:VAL {name: \"\", category: \"A7JPB_ETU_MODEL_545_DIAL\"} CREATE (c)-[:VALUE_RAMOCD1_0X37877E1C25116C19_22]->(v)\n",
      "MATCH m:TYZ {name: PB_VL}, c:COMP {name: \"A7JPB_ETU_MODEL_576_LCD_DISP\"} CREATE (m)-[:COMP_RAMOCD1_0X37877E1C25116C19_22]->(c)\n",
      "MATCH c:COMP {name: \"A7JPB_ETU_MODEL_576_LCD_DISP\"}, v:VAL {name: \"\", category: \"A7JPB_ETU_MODEL_576_LCD_DISP\"} CREATE (c)-[:VALUE_RAMOCD1_0X37877E1C25116C19_22]->(v)\n",
      "MATCH m:TYZ {name: PB_VL}, c:COMP {name: \"A7JPB_MODBUS_COMM_MODULE\"} CREATE (m)-[:COMP_RAMOCD1_0X37877E1C25116C19_22]->(c)\n",
      "MATCH c:COMP {name: \"A7JPB_MODBUS_COMM_MODULE\"}, v:VAL {name: \"FALSE\", category: \"A7JPB_MODBUS_COMM_MODULE\"} CREATE (c)-[:VALUE_RAMOCD1_0X37877E1C25116C19_22]->(v)\n",
      "MATCH m:TYZ {name: PB_VL}, c:COMP {name: \"A7JPB_PROFIBUS_COMM_MODULE\"} CREATE (m)-[:COMP_RAMOCD1_0X37877E1C25116C19_22]->(c)\n",
      "MATCH c:COMP {name: \"A7JPB_PROFIBUS_COMM_MODULE\"}, v:VAL {name: \"FALSE\", category: \"A7JPB_PROFIBUS_COMM_MODULE\"} CREATE (c)-[:VALUE_RAMOCD1_0X37877E1C25116C19_22]->(v)\n",
      "MATCH m:TYZ {name: PB_VL}, c:COMP {name: \"A7JPB_ZONE_SELECTIVE_INTERLOCK\"} CREATE (m)-[:COMP_RAMOCD1_0X37877E1C25116C19_22]->(c)\n",
      "MATCH c:COMP {name: \"A7JPB_ZONE_SELECTIVE_INTERLOCK\"}, v:VAL {name: \"FALSE\", category: \"A7JPB_ZONE_SELECTIVE_INTERLOCK\"} CREATE (c)-[:VALUE_RAMOCD1_0X37877E1C25116C19_22]->(v)\n",
      "MATCH m:TYZ {name: PB_VL}, c:COMP {name: \"A7JPB_HANDLE_PADLOCKING_DEVICE\"} CREATE (m)-[:COMP_RAMOCD1_0X37877E1C25116C19_22]->(c)\n",
      "MATCH c:COMP {name: \"A7JPB_HANDLE_PADLOCKING_DEVICE\"}, v:VAL {name: \"FALSE\", category: \"A7JPB_HANDLE_PADLOCKING_DEVICE\"} CREATE (c)-[:VALUE_RAMOCD1_0X37877E1C25116C19_22]->(v)\n",
      "MATCH m:TYZ {name: PB_VL}, c:COMP {name: \"A7JPB_HANDLE_BLOCKING_DEVICE\"} CREATE (m)-[:COMP_RAMOCD1_0X37877E1C25116C19_22]->(c)\n",
      "MATCH c:COMP {name: \"A7JPB_HANDLE_BLOCKING_DEVICE\"}, v:VAL {name: \"FALSE\", category: \"A7JPB_HANDLE_BLOCKING_DEVICE\"} CREATE (c)-[:VALUE_RAMOCD1_0X37877E1C25116C19_22]->(v)\n",
      "MATCH m:TYZ {name: PB_VL}, c:COMP {name: \"A7J_DESCRIPTION\"} CREATE (m)-[:COMP_RAMOCD1_0X37877E1C25116C19_22]->(c)\n",
      "MATCH c:COMP {name: \"A7J_DESCRIPTION\"}, v:VAL {name: \"ACCESSORIES\", category: \"A7J_DESCRIPTION\"} CREATE (c)-[:VALUE_RAMOCD1_0X37877E1C25116C19_22]->(v)\n",
      "MATCH m:TYZ {name: PB_VL}, c:COMP {name: \"A7JPB_GROUND_FAULT_PROTECTION\"} CREATE (m)-[:COMP_RAMOCD1_0X37877E1C25116C19_22]->(c)\n",
      "MATCH c:COMP {name: \"A7JPB_GROUND_FAULT_PROTECTION\"}, v:VAL {name: \"NONE\", category: \"A7JPB_GROUND_FAULT_PROTECTION\"} CREATE (c)-[:VALUE_RAMOCD1_0X37877E1C25116C19_22]->(v)\n",
      "MATCH m:TYZ {name: PB_VL}, c:COMP {name: \"A7JPB_TM_MODEL_525\"} CREATE (m)-[:COMP_RAMOCD1_0X37877E1C25116C19_22]->(c)\n",
      "MATCH c:COMP {name: \"A7JPB_TM_MODEL_525\"}, v:VAL {name: \"TRUE\", category: \"A7JPB_TM_MODEL_525\"} CREATE (c)-[:VALUE_RAMOCD1_0X37877E1C25116C19_22]->(v)\n",
      "MATCH m:TYZ {name: PB_VL}, c:COMP {name: \"A7JPB_POWER_STICK_NOTE\"} CREATE (m)-[:COMP_RAMOCD1_0X37877E1C25116C19_22]->(c)\n",
      "MATCH c:COMP {name: \"A7JPB_POWER_STICK_NOTE\"}, v:VAL {name: \"\", category: \"A7JPB_POWER_STICK_NOTE\"} CREATE (c)-[:VALUE_RAMOCD1_0X37877E1C25116C19_22]->(v)\n",
      "MATCH m:TYZ {name: PB_VL}, c:COMP {name: \"A7JPB_PROG_SUFFIX\"} CREATE (m)-[:COMP_RAMOCD1_0X37877E1C25116C19_22]->(c)\n",
      "MATCH c:COMP {name: \"A7JPB_PROG_SUFFIX\"}, v:VAL {name: \"\", category: \"A7JPB_PROG_SUFFIX\"} CREATE (c)-[:VALUE_RAMOCD1_0X37877E1C25116C19_22]->(v)\n",
      "MATCH m:TYZ {name: PB_VL}, c:COMP {name: \"A7JPB_NEUTRAL_SENSOR\"} CREATE (m)-[:COMP_RAMOCD1_0X37877E1C25116C19_22]->(c)\n",
      "MATCH c:COMP {name: \"A7JPB_NEUTRAL_SENSOR\"}, v:VAL {name: \"FALSE\", category: \"A7JPB_NEUTRAL_SENSOR\"} CREATE (c)-[:VALUE_RAMOCD1_0X37877E1C25116C19_22]->(v)\n",
      "MATCH m:TYZ {name: PB_VL}, c:COMP {name: \"A7JPB_POWER_SUPPLY_NOTE\"} CREATE (m)-[:COMP_RAMOCD1_0X37877E1C25116C19_22]->(c)\n",
      "MATCH c:COMP {name: \"A7JPB_POWER_SUPPLY_NOTE\"}, v:VAL {name: \"One 24VDC Power Supply per lineup is required for VL ZSI/Communications. Please provide your selection to the external 24VDC power supply at the Main Section level\", category: \"A7JPB_POWER_SUPPLY_NOTE\"} CREATE (c)-[:VALUE_RAMOCD1_0X37877E1C25116C19_22]->(v)\n",
      "MATCH m:TYZ {name: PB_VL}, c:COMP {name: \"A7JPB_SMART_DAS\"} CREATE (m)-[:COMP_RAMOCD1_0X37877E1C25116C19_22]->(c)\n",
      "MATCH c:COMP {name: \"A7JPB_SMART_DAS\"}, v:VAL {name: \"FALSE\", category: \"A7JPB_SMART_DAS\"} CREATE (c)-[:VALUE_RAMOCD1_0X37877E1C25116C19_22]->(v)\n",
      "MATCH m:TYZ {name: PB_VL}, c:COMP {name: \"A7J_DEVICE_CATALOG_NUMBER\"} CREATE (m)-[:COMP_RAMOCD1_0X37877E1C25116C19_22]->(c)\n",
      "MATCH c:COMP {name: \"A7J_DEVICE_CATALOG_NUMBER\"}, v:VAL {name: \"LGB3B100B\", category: \"A7J_DEVICE_CATALOG_NUMBER\"} CREATE (c)-[:VALUE_RAMOCD1_0X37877E1C25116C19_22]->(v)\n",
      "MATCH m:TYZ {name: PB_VL}, c:COMP {name: \"A7J_DEVICE_ACC_CATALOG_NUMBER\"} CREATE (m)-[:COMP_RAMOCD1_0X37877E1C25116C19_22]->(c)\n",
      "MATCH c:COMP {name: \"A7J_DEVICE_ACC_CATALOG_NUMBER\"}, v:VAL {name: \"\", category: \"A7J_DEVICE_ACC_CATALOG_NUMBER\"} CREATE (c)-[:VALUE_RAMOCD1_0X37877E1C25116C19_22]->(v)\n",
      "MATCH m:TYZ {name: PB_VL}, c:COMP {name: \"A7J_DEVICE_FAMILY\"} CREATE (m)-[:COMP_RAMOCD1_0X37877E1C25116C19_22]->(c)\n",
      "MATCH c:COMP {name: \"A7J_DEVICE_FAMILY\"}, v:VAL {name: \"LG\", category: \"A7J_DEVICE_FAMILY\"} CREATE (c)-[:VALUE_RAMOCD1_0X37877E1C25116C19_22]->(v)\n"
     ]
    }
   ],
   "source": [
    "for item in ele['CSTIC']:\n",
    "    item_name, item_value = item['name'], item['value']\n",
    "    comp_node = f'c:COMP {{name: \"{item[\"name\"]}\"}}'\n",
    "    print(f\"MATCH {current_node}, {comp_node} CREATE (m)-[:COMP_{f_name}_{ele['number']}]->(c)\")\n",
    "    value_node = f'v:VAL {{name: \"{item_value}\", category: \"{item_name}\"}}'\n",
    "    print(f\"MATCH {comp_node}, {value_node} CREATE (c)-[:VALUE_{f_name}_{ele['number']}]->(v)\")"
   ]
  },
  {
   "cell_type": "code",
   "execution_count": null,
   "metadata": {},
   "outputs": [],
   "source": []
  }
 ],
 "metadata": {
  "kernelspec": {
   "display_name": "Python 3",
   "language": "python",
   "name": "python3"
  },
  "language_info": {
   "codemirror_mode": {
    "name": "ipython",
    "version": 3
   },
   "file_extension": ".py",
   "mimetype": "text/x-python",
   "name": "python",
   "nbconvert_exporter": "python",
   "pygments_lexer": "ipython3",
   "version": "3.10.6"
  },
  "orig_nbformat": 4,
  "vscode": {
   "interpreter": {
    "hash": "916dbcbb3f70747c44a77c7bcd40155683ae19c65e1c03b4aa3499c5328201f1"
   }
  }
 },
 "nbformat": 4,
 "nbformat_minor": 2
}

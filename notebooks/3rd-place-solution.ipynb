{
 "cells": [
  {
   "cell_type": "markdown",
   "metadata": {
    "papermill": {
     "duration": 0.024814,
     "end_time": "2020-12-15T10:21:52.804168",
     "exception": false,
     "start_time": "2020-12-15T10:21:52.779354",
     "status": "completed"
    },
    "tags": []
   },
   "source": [
    "Credits: [https://github.com/miraan/google-hash-code-qualification-round](https://github.com/miraan/google-hash-code-qualification-round) and [https://www.kaggle.com/egrehbbt/greedy-solution-post-processing](https://www.kaggle.com/egrehbbt/greedy-solution-post-processing)"
   ]
  },
  {
   "cell_type": "markdown",
   "metadata": {
    "papermill": {
     "duration": 0.023231,
     "end_time": "2020-12-15T10:21:52.850963",
     "exception": false,
     "start_time": "2020-12-15T10:21:52.827732",
     "status": "completed"
    },
    "tags": []
   },
   "source": [
    "# Hash Code Archive: Drone Delivery"
   ]
  },
  {
   "cell_type": "markdown",
   "metadata": {
    "papermill": {
     "duration": 0.02302,
     "end_time": "2020-12-15T10:21:52.897657",
     "exception": false,
     "start_time": "2020-12-15T10:21:52.874637",
     "status": "completed"
    },
    "tags": []
   },
   "source": [
    "## 1. Libraries"
   ]
  },
  {
   "cell_type": "code",
   "execution_count": 1,
   "metadata": {
    "execution": {
     "iopub.execute_input": "2020-12-15T10:21:52.950444Z",
     "iopub.status.busy": "2020-12-15T10:21:52.949605Z",
     "iopub.status.idle": "2020-12-15T10:21:52.952346Z",
     "shell.execute_reply": "2020-12-15T10:21:52.951791Z"
    },
    "papermill": {
     "duration": 0.031523,
     "end_time": "2020-12-15T10:21:52.952468",
     "exception": false,
     "start_time": "2020-12-15T10:21:52.920945",
     "status": "completed"
    },
    "tags": []
   },
   "outputs": [],
   "source": [
    "import argparse\n",
    "from tqdm import tqdm\n",
    "from math import ceil, sqrt\n",
    "from typing import List, Dict, Set, Optional, Tuple\n",
    "from collections import defaultdict, Counter"
   ]
  },
  {
   "cell_type": "markdown",
   "metadata": {
    "papermill": {
     "duration": 0.023068,
     "end_time": "2020-12-15T10:21:52.999169",
     "exception": false,
     "start_time": "2020-12-15T10:21:52.976101",
     "status": "completed"
    },
    "tags": []
   },
   "source": [
    "## 2. Clases"
   ]
  },
  {
   "cell_type": "markdown",
   "metadata": {
    "papermill": {
     "duration": 0.022825,
     "end_time": "2020-12-15T10:21:53.045747",
     "exception": false,
     "start_time": "2020-12-15T10:21:53.022922",
     "status": "completed"
    },
    "tags": []
   },
   "source": [
    "### Point"
   ]
  },
  {
   "cell_type": "code",
   "execution_count": 2,
   "metadata": {
    "_cell_guid": "b1076dfc-b9ad-4769-8c92-a6c4dae69d19",
    "_uuid": "8f2839f25d086af736a60e9eeb907d3b93b6e0e5",
    "execution": {
     "iopub.execute_input": "2020-12-15T10:21:53.095267Z",
     "iopub.status.busy": "2020-12-15T10:21:53.094668Z",
     "iopub.status.idle": "2020-12-15T10:21:53.101064Z",
     "shell.execute_reply": "2020-12-15T10:21:53.101577Z"
    },
    "papermill": {
     "duration": 0.032759,
     "end_time": "2020-12-15T10:21:53.101719",
     "exception": false,
     "start_time": "2020-12-15T10:21:53.068960",
     "status": "completed"
    },
    "tags": []
   },
   "outputs": [],
   "source": [
    "class Point:\n",
    "    def __init__(self, x: int, y: int):\n",
    "        self.x = x\n",
    "        self.y = y\n",
    " \n",
    "    def __repr__(self):\n",
    "        return f\"Point({self.x}, {self.y})\"\n",
    " \n",
    "    def distance_from(self, other: \"Point\") -> int:\n",
    "        return ceil(sqrt((self.x - other.x) ** 2 + (self.y - other.y) ** 2))"
   ]
  },
  {
   "cell_type": "markdown",
   "metadata": {
    "papermill": {
     "duration": 0.023234,
     "end_time": "2020-12-15T10:21:53.148426",
     "exception": false,
     "start_time": "2020-12-15T10:21:53.125192",
     "status": "completed"
    },
    "tags": []
   },
   "source": [
    "### Obj"
   ]
  },
  {
   "cell_type": "code",
   "execution_count": 3,
   "metadata": {
    "_cell_guid": "79c7e3d0-c299-4dcb-8224-4455121ee9b0",
    "_uuid": "d629ff2d2480ee46fbb7e2d37f6b5fab8052498a",
    "execution": {
     "iopub.execute_input": "2020-12-15T10:21:53.198591Z",
     "iopub.status.busy": "2020-12-15T10:21:53.197963Z",
     "iopub.status.idle": "2020-12-15T10:21:53.203726Z",
     "shell.execute_reply": "2020-12-15T10:21:53.204171Z"
    },
    "papermill": {
     "duration": 0.032461,
     "end_time": "2020-12-15T10:21:53.204329",
     "exception": false,
     "start_time": "2020-12-15T10:21:53.171868",
     "status": "completed"
    },
    "tags": []
   },
   "outputs": [],
   "source": [
    "class Obj:\n",
    "    def __init__(self, id: int):\n",
    "        self._id = id\n",
    " \n",
    "    def __repr__(self):\n",
    "        return f\"{self.__class__.__name__} {self._id}\"\n",
    " \n",
    "    @property\n",
    "    def id(self):\n",
    "        return self._id"
   ]
  },
  {
   "cell_type": "markdown",
   "metadata": {
    "papermill": {
     "duration": 0.023176,
     "end_time": "2020-12-15T10:21:53.251213",
     "exception": false,
     "start_time": "2020-12-15T10:21:53.228037",
     "status": "completed"
    },
    "tags": []
   },
   "source": [
    "### Product"
   ]
  },
  {
   "cell_type": "code",
   "execution_count": 4,
   "metadata": {
    "execution": {
     "iopub.execute_input": "2020-12-15T10:21:53.304957Z",
     "iopub.status.busy": "2020-12-15T10:21:53.304152Z",
     "iopub.status.idle": "2020-12-15T10:21:53.306612Z",
     "shell.execute_reply": "2020-12-15T10:21:53.307048Z"
    },
    "papermill": {
     "duration": 0.032517,
     "end_time": "2020-12-15T10:21:53.307181",
     "exception": false,
     "start_time": "2020-12-15T10:21:53.274664",
     "status": "completed"
    },
    "tags": []
   },
   "outputs": [],
   "source": [
    "class Product(Obj):\n",
    "    def __init__(self, id: int, weight: int):\n",
    "        super().__init__(id)\n",
    "        self._weight = weight\n",
    " \n",
    "    @property\n",
    "    def weight(self):\n",
    "        return self._weight"
   ]
  },
  {
   "cell_type": "markdown",
   "metadata": {
    "papermill": {
     "duration": 0.023402,
     "end_time": "2020-12-15T10:21:53.354330",
     "exception": false,
     "start_time": "2020-12-15T10:21:53.330928",
     "status": "completed"
    },
    "tags": []
   },
   "source": [
    "### PositionObj"
   ]
  },
  {
   "cell_type": "code",
   "execution_count": 5,
   "metadata": {
    "execution": {
     "iopub.execute_input": "2020-12-15T10:21:53.412910Z",
     "iopub.status.busy": "2020-12-15T10:21:53.412161Z",
     "iopub.status.idle": "2020-12-15T10:21:53.414667Z",
     "shell.execute_reply": "2020-12-15T10:21:53.415107Z"
    },
    "papermill": {
     "duration": 0.037251,
     "end_time": "2020-12-15T10:21:53.415246",
     "exception": false,
     "start_time": "2020-12-15T10:21:53.377995",
     "status": "completed"
    },
    "tags": []
   },
   "outputs": [],
   "source": [
    "class PositionObj(Obj):\n",
    "    def __init__(self, id: int, position: Point):\n",
    "        super().__init__(id)\n",
    "        self._position = position\n",
    " \n",
    "    def __repr__(self):\n",
    "        return f\"{self.__class__.__name__} {self._id} at {self._position}\"\n",
    " \n",
    "    @property\n",
    "    def position(self):\n",
    "        return self._position\n",
    " \n",
    "    def distance_from(self, _other: \"PositionObj\") -> int:\n",
    "        return self._position.distance_from(_other.position)\n",
    " \n",
    "    def find_nearest_object(\n",
    "        self, _others: List[\"PositionObj\"]\n",
    "    ) -> Tuple[\"PositionObj\", int]:\n",
    "        nearest = _others[0]\n",
    "        distance = self.distance_from(nearest)\n",
    "        for other in _others[1:]:\n",
    "            d = self.distance_from(other)\n",
    "            if d < distance:\n",
    "                nearest, distance = other, d\n",
    "        return nearest, distance"
   ]
  },
  {
   "cell_type": "markdown",
   "metadata": {
    "papermill": {
     "duration": 0.023756,
     "end_time": "2020-12-15T10:21:53.462857",
     "exception": false,
     "start_time": "2020-12-15T10:21:53.439101",
     "status": "completed"
    },
    "tags": []
   },
   "source": [
    "### ProductHolder"
   ]
  },
  {
   "cell_type": "code",
   "execution_count": 6,
   "metadata": {
    "execution": {
     "iopub.execute_input": "2020-12-15T10:21:53.523682Z",
     "iopub.status.busy": "2020-12-15T10:21:53.522849Z",
     "iopub.status.idle": "2020-12-15T10:21:53.525639Z",
     "shell.execute_reply": "2020-12-15T10:21:53.524991Z"
    },
    "papermill": {
     "duration": 0.039115,
     "end_time": "2020-12-15T10:21:53.525755",
     "exception": false,
     "start_time": "2020-12-15T10:21:53.486640",
     "status": "completed"
    },
    "tags": []
   },
   "outputs": [],
   "source": [
    "class ProductHolder(PositionObj):\n",
    "    def __init__(self, *args, **kwargs):\n",
    "        super().__init__(*args, **kwargs)\n",
    "        self._products: Dict[Product, int] = {}\n",
    " \n",
    "    @property\n",
    "    def products(self):\n",
    "        return self._products\n",
    " \n",
    "    def add_products(self, products: Dict[Product, int]):\n",
    "        for product, quantity in products.items():\n",
    "            if product in self._products:\n",
    "                self._products[product] += quantity\n",
    "            else:\n",
    "                self._products[product] = quantity\n",
    " \n",
    "    def remove_products(self, products: Dict[Product, int]):\n",
    "        for product, quantity in products.items():\n",
    "            self._products[product] -= quantity\n",
    "            if self._products[product] == 0:\n",
    "                self._products.pop(product)\n",
    " \n",
    "    @property\n",
    "    def product_weight(self):\n",
    "        return sum(p.weight * q for p, q in self._products.items())\n",
    " \n",
    "    def remove_all_products(self):\n",
    "        self._products = {}"
   ]
  },
  {
   "cell_type": "markdown",
   "metadata": {
    "papermill": {
     "duration": 0.023952,
     "end_time": "2020-12-15T10:21:53.573676",
     "exception": false,
     "start_time": "2020-12-15T10:21:53.549724",
     "status": "completed"
    },
    "tags": []
   },
   "source": [
    "### Command"
   ]
  },
  {
   "cell_type": "code",
   "execution_count": 7,
   "metadata": {
    "execution": {
     "iopub.execute_input": "2020-12-15T10:21:53.630125Z",
     "iopub.status.busy": "2020-12-15T10:21:53.629307Z",
     "iopub.status.idle": "2020-12-15T10:21:53.632027Z",
     "shell.execute_reply": "2020-12-15T10:21:53.631528Z"
    },
    "papermill": {
     "duration": 0.034474,
     "end_time": "2020-12-15T10:21:53.632133",
     "exception": false,
     "start_time": "2020-12-15T10:21:53.597659",
     "status": "completed"
    },
    "tags": []
   },
   "outputs": [],
   "source": [
    "class Command:\n",
    "    def __init__(\n",
    "        self,\n",
    "        drone: ProductHolder,\n",
    "        destination: ProductHolder,\n",
    "        product: Product,\n",
    "        quantity: int,\n",
    "    ):\n",
    "        self.drone = drone\n",
    "        self.destination = destination\n",
    "        self.product = product\n",
    "        self.quantity = quantity\n",
    "\n",
    "    def __repr__(self):\n",
    "        return self.to_string()\n",
    "\n",
    "    @property\n",
    "    def str_command(self):\n",
    "        raise NotImplementedError\n",
    "\n",
    "    def to_string(self):\n",
    "        return f\"{self.drone.id} {self.str_command} {self.destination.id} {self.product.id} {self.quantity}\""
   ]
  },
  {
   "cell_type": "markdown",
   "metadata": {
    "papermill": {
     "duration": 0.023717,
     "end_time": "2020-12-15T10:21:53.680053",
     "exception": false,
     "start_time": "2020-12-15T10:21:53.656336",
     "status": "completed"
    },
    "tags": []
   },
   "source": [
    "### Load"
   ]
  },
  {
   "cell_type": "code",
   "execution_count": 8,
   "metadata": {
    "execution": {
     "iopub.execute_input": "2020-12-15T10:21:53.733474Z",
     "iopub.status.busy": "2020-12-15T10:21:53.732711Z",
     "iopub.status.idle": "2020-12-15T10:21:53.735447Z",
     "shell.execute_reply": "2020-12-15T10:21:53.734887Z"
    },
    "papermill": {
     "duration": 0.031184,
     "end_time": "2020-12-15T10:21:53.735561",
     "exception": false,
     "start_time": "2020-12-15T10:21:53.704377",
     "status": "completed"
    },
    "tags": []
   },
   "outputs": [],
   "source": [
    "class Load(Command):\n",
    "    str_command = \"L\""
   ]
  },
  {
   "cell_type": "markdown",
   "metadata": {
    "papermill": {
     "duration": 0.025295,
     "end_time": "2020-12-15T10:21:53.785152",
     "exception": false,
     "start_time": "2020-12-15T10:21:53.759857",
     "status": "completed"
    },
    "tags": []
   },
   "source": [
    "### Deliver"
   ]
  },
  {
   "cell_type": "code",
   "execution_count": 9,
   "metadata": {
    "execution": {
     "iopub.execute_input": "2020-12-15T10:21:53.854323Z",
     "iopub.status.busy": "2020-12-15T10:21:53.853641Z",
     "iopub.status.idle": "2020-12-15T10:21:53.857456Z",
     "shell.execute_reply": "2020-12-15T10:21:53.856827Z"
    },
    "papermill": {
     "duration": 0.039182,
     "end_time": "2020-12-15T10:21:53.857583",
     "exception": false,
     "start_time": "2020-12-15T10:21:53.818401",
     "status": "completed"
    },
    "tags": []
   },
   "outputs": [],
   "source": [
    "class Deliver(Command):\n",
    "    str_command = \"D\""
   ]
  },
  {
   "cell_type": "markdown",
   "metadata": {
    "papermill": {
     "duration": 0.027967,
     "end_time": "2020-12-15T10:21:53.911127",
     "exception": false,
     "start_time": "2020-12-15T10:21:53.883160",
     "status": "completed"
    },
    "tags": []
   },
   "source": [
    "### Order"
   ]
  },
  {
   "cell_type": "code",
   "execution_count": 10,
   "metadata": {
    "execution": {
     "iopub.execute_input": "2020-12-15T10:21:53.977261Z",
     "iopub.status.busy": "2020-12-15T10:21:53.976188Z",
     "iopub.status.idle": "2020-12-15T10:21:53.978811Z",
     "shell.execute_reply": "2020-12-15T10:21:53.979472Z"
    },
    "papermill": {
     "duration": 0.034756,
     "end_time": "2020-12-15T10:21:53.979650",
     "exception": false,
     "start_time": "2020-12-15T10:21:53.944894",
     "status": "completed"
    },
    "tags": []
   },
   "outputs": [],
   "source": [
    "class Order(ProductHolder):\n",
    "    def __init__(self, id: int, position: Point, products: Dict[Product, int]):\n",
    "        super().__init__(id, position)\n",
    "        self._products = products\n",
    "\n",
    "    def is_complete(self):\n",
    "        return not self._products"
   ]
  },
  {
   "cell_type": "markdown",
   "metadata": {
    "papermill": {
     "duration": 0.029777,
     "end_time": "2020-12-15T10:21:54.035915",
     "exception": false,
     "start_time": "2020-12-15T10:21:54.006138",
     "status": "completed"
    },
    "tags": []
   },
   "source": [
    "### Drone"
   ]
  },
  {
   "cell_type": "code",
   "execution_count": 11,
   "metadata": {
    "execution": {
     "iopub.execute_input": "2020-12-15T10:21:54.099437Z",
     "iopub.status.busy": "2020-12-15T10:21:54.098453Z",
     "iopub.status.idle": "2020-12-15T10:21:54.113004Z",
     "shell.execute_reply": "2020-12-15T10:21:54.113817Z"
    },
    "papermill": {
     "duration": 0.044326,
     "end_time": "2020-12-15T10:21:54.114019",
     "exception": false,
     "start_time": "2020-12-15T10:21:54.069693",
     "status": "completed"
    },
    "tags": []
   },
   "outputs": [],
   "source": [
    "class Drone(ProductHolder):\n",
    "    def __init__(self, id: int, position: Point, max_capacity: int):\n",
    "        super().__init__(id, position)\n",
    "        self.max_capacity = max_capacity\n",
    "        self.is_busy = False\n",
    "        self.stops_being_busy_at = 0\n",
    " \n",
    "    def set_position(self, position: Point):\n",
    "        self._position = position\n",
    " \n",
    "    def update_state(self, current_time):\n",
    "        if self.is_busy and current_time == self.stops_being_busy_at:\n",
    "            self.is_busy = False\n",
    " \n",
    "    @property\n",
    "    def current_capacity(self) -> int:\n",
    "        return self.max_capacity - self.product_weight\n",
    " \n",
    "    def get_products_that_can_fit_out_of(\n",
    "        self, products: Dict[Product, int]\n",
    "    ) -> Dict[Product, int]:\n",
    "        can_carry = defaultdict(int)\n",
    "        products = sorted(\n",
    "            [(p, q) for p, q in products.items()], key=lambda x: -x[0].weight\n",
    "        )\n",
    "        capacity = self.current_capacity\n",
    "        for product, quantity in products:\n",
    "            if not quantity:\n",
    "                continue\n",
    " \n",
    "            weight = product.weight\n",
    "            if weight > capacity:\n",
    "                continue\n",
    " \n",
    "            for _ in range(quantity):\n",
    "                can_carry[product] += 1\n",
    "                capacity -= weight\n",
    "                if weight > capacity:\n",
    "                    break\n",
    " \n",
    "        return can_carry"
   ]
  },
  {
   "cell_type": "markdown",
   "metadata": {
    "papermill": {
     "duration": 0.025483,
     "end_time": "2020-12-15T10:21:54.170626",
     "exception": false,
     "start_time": "2020-12-15T10:21:54.145143",
     "status": "completed"
    },
    "tags": []
   },
   "source": [
    "### Warehouse"
   ]
  },
  {
   "cell_type": "code",
   "execution_count": 12,
   "metadata": {
    "execution": {
     "iopub.execute_input": "2020-12-15T10:21:54.229572Z",
     "iopub.status.busy": "2020-12-15T10:21:54.228523Z",
     "iopub.status.idle": "2020-12-15T10:21:54.230972Z",
     "shell.execute_reply": "2020-12-15T10:21:54.231534Z"
    },
    "papermill": {
     "duration": 0.035886,
     "end_time": "2020-12-15T10:21:54.231669",
     "exception": false,
     "start_time": "2020-12-15T10:21:54.195783",
     "status": "completed"
    },
    "tags": []
   },
   "outputs": [],
   "source": [
    "class Warehouse(ProductHolder):\n",
    "    def __init__(self, id: int, position: Point, products=Dict[Product, int]):\n",
    "        super().__init__(id, position)\n",
    "        self._products = products\n",
    "\n",
    "    def get_products_that_are_in_stock_out_of(\n",
    "        self, products=Dict[Product, int]\n",
    "    ) -> Dict[Product, int]:\n",
    "        return {p: min(q, self._products.get(p, 0)) for p, q in products.items()}"
   ]
  },
  {
   "cell_type": "markdown",
   "metadata": {
    "papermill": {
     "duration": 0.024792,
     "end_time": "2020-12-15T10:21:54.281266",
     "exception": false,
     "start_time": "2020-12-15T10:21:54.256474",
     "status": "completed"
    },
    "tags": []
   },
   "source": [
    "### Shipment"
   ]
  },
  {
   "cell_type": "code",
   "execution_count": 13,
   "metadata": {
    "execution": {
     "iopub.execute_input": "2020-12-15T10:21:54.334902Z",
     "iopub.status.busy": "2020-12-15T10:21:54.333937Z",
     "iopub.status.idle": "2020-12-15T10:21:54.348344Z",
     "shell.execute_reply": "2020-12-15T10:21:54.348923Z"
    },
    "papermill": {
     "duration": 0.042756,
     "end_time": "2020-12-15T10:21:54.349063",
     "exception": false,
     "start_time": "2020-12-15T10:21:54.306307",
     "status": "completed"
    },
    "tags": []
   },
   "outputs": [],
   "source": [
    "class Shipment:\n",
    "    def __init__(self, drone: Drone, order: Order, warehouse: Warehouse):\n",
    "        self.drone = drone\n",
    "        self.order = order\n",
    "        self.warehouse = warehouse\n",
    "\n",
    "        self.products = drone.get_products_that_can_fit_out_of(\n",
    "            warehouse.get_products_that_are_in_stock_out_of(order.products)\n",
    "        )\n",
    "        self.product_weight = sum(p.weight * q for p, q in self.products.items())\n",
    "\n",
    "    def __repr__(self):\n",
    "        return f\"Shipment({self.product_types()} -> {self.order})\"\n",
    "\n",
    "    def has_products(self) -> bool:\n",
    "        return self.product_weight > 0\n",
    "\n",
    "    def product_types(self) -> Set[Product]:\n",
    "        return set(self.products)\n",
    "\n",
    "    def number_of_product_types(self) -> int:\n",
    "        return len(self.products)\n",
    "\n",
    "    def percentage_of_order(self) -> float:\n",
    "        order_weight = self.order.product_weight\n",
    "        if not order_weight:\n",
    "            return 0\n",
    "        return self.product_weight / self.order.product_weight\n",
    "\n",
    "    def load(self):\n",
    "        self.warehouse.remove_products(self.products)\n",
    "        self.drone.add_products(self.products)\n",
    "        self.order.remove_products(self.products)\n",
    "        load = []\n",
    "        deliver = []\n",
    "        for product, quantity in self.products.items():\n",
    "            load.append(Load(self.drone, self.warehouse, product, quantity))\n",
    "            deliver.append(Deliver(self.drone, self.order, product, quantity))\n",
    "        return load, deliver"
   ]
  },
  {
   "cell_type": "markdown",
   "metadata": {
    "papermill": {
     "duration": 0.024726,
     "end_time": "2020-12-15T10:21:54.400582",
     "exception": false,
     "start_time": "2020-12-15T10:21:54.375856",
     "status": "completed"
    },
    "tags": []
   },
   "source": [
    "### Simulation"
   ]
  },
  {
   "cell_type": "code",
   "execution_count": 14,
   "metadata": {
    "execution": {
     "iopub.execute_input": "2020-12-15T10:21:54.455069Z",
     "iopub.status.busy": "2020-12-15T10:21:54.453652Z",
     "iopub.status.idle": "2020-12-15T10:21:54.576565Z",
     "shell.execute_reply": "2020-12-15T10:21:54.577041Z"
    },
    "papermill": {
     "duration": 0.151733,
     "end_time": "2020-12-15T10:21:54.577189",
     "exception": false,
     "start_time": "2020-12-15T10:21:54.425456",
     "status": "completed"
    },
    "tags": []
   },
   "outputs": [],
   "source": [
    "class Simulation:\n",
    "    def __init__(\n",
    "        self,\n",
    "        max_time: int,\n",
    "        drones: List[Drone],\n",
    "        warehouses: List[Warehouse],\n",
    "        orders: List[Order],\n",
    "        show_bar: int,\n",
    "    ):\n",
    "        self.max_time = max_time\n",
    "        self.drones = drones\n",
    "        self.warehouses = warehouses\n",
    "        self.orders = orders\n",
    " \n",
    "        products = {x for x in orders + warehouses for x in x.products}\n",
    "        self.min_product_weight = min(x.weight for x in products)\n",
    " \n",
    "        self.commands: List[Command] = []\n",
    "        self.total_score: int = 0\n",
    "        self.current_time: int = 0\n",
    "        self.completed_orders: int = 0\n",
    "        self.order_to_delivery_time: Dict[Order, list] = defaultdict(list)\n",
    " \n",
    "        self.show_bar = show_bar\n",
    " \n",
    "    def run(self, branching_factor_sim=5):\n",
    "        if (self.show_bar == 1):\n",
    "          bar = tqdm(total=len(self.orders))\n",
    "        elif(self.show_bar == 2):\n",
    "          print(\"Progress:\")\n",
    "        while self.current_time < self.max_time:\n",
    "            if self.all_orders_complete():\n",
    "                break\n",
    " \n",
    "            self.do_turn(branching_factor_sim=branching_factor_sim)\n",
    "            self.current_time += 1\n",
    "            if (self.show_bar == 1):\n",
    "              bar.update(self.completed_orders - bar.n)\n",
    "            elif (self.show_bar == 2):\n",
    "              print(\"\\r completed %i orders of %i\" % (self.completed_orders, len(self.orders)), end='')\n",
    " \n",
    "        if (self.show_bar == 1):\n",
    "          bar.close()\n",
    " \n",
    "    def all_orders_complete(self):\n",
    "        return self.completed_orders == len(self.orders)\n",
    " \n",
    "    def do_turn(self, branching_factor_sim=5):\n",
    "        for drone in self.drones:\n",
    "            drone.update_state(self.current_time)\n",
    " \n",
    "        for drone in self.drones:\n",
    "            if not drone.is_busy:\n",
    "                self.send_drone(drone, branching_factor_sim=branching_factor_sim)\n",
    " \n",
    "    def send_drone(self, drone, branching_factor_sim=5):\n",
    "        drone.remove_all_products()\n",
    "        optimal_shipment_list = self.get_optimal_shipment_list(drone, branching_factor=branching_factor_sim)\n",
    "        if optimal_shipment_list:\n",
    "            _, total_actual_score, total_time, completed_orders, deliver_time = self.get_shipment_list_analysis(\n",
    "                optimal_shipment_list\n",
    "            )\n",
    " \n",
    "            load_commands = []\n",
    "            deliver_commands = []\n",
    "            for shipment, time in zip(optimal_shipment_list, deliver_time):\n",
    "                load, deliver = shipment.load()\n",
    "                load_commands += load\n",
    "                deliver_commands += deliver\n",
    "                self.order_to_delivery_time[shipment.order].append(time)\n",
    " \n",
    "            self.commands += load_commands + deliver_commands\n",
    " \n",
    "            drone.is_busy = True\n",
    "            drone.stops_being_busy_at = self.current_time + total_time\n",
    "            drone.set_position(optimal_shipment_list[-1].order.position)\n",
    "            drone.remove_all_products()\n",
    " \n",
    "            if total_actual_score > 0:\n",
    "                self.completed_orders += completed_orders\n",
    "                self.total_score += ceil(total_actual_score)\n",
    " \n",
    "    def get_optimal_shipment_list(\n",
    "        self, drone: Drone, branching_factor: int = 5\n",
    "    ) -> Optional[List[Shipment]]:\n",
    "        initial_list = self.get_initial_shipments_list_for_drone(drone)\n",
    "        if not initial_list:\n",
    "            return\n",
    " \n",
    "        possibilities = [[x] for x in initial_list[:branching_factor]]\n",
    "        loop = True\n",
    "        roots = []\n",
    "        while loop:\n",
    "            loop = False\n",
    " \n",
    "            roots += possibilities\n",
    "            new_possibilities = []\n",
    "            for p in possibilities:\n",
    "                next_list = self.get_next_shipments_list(p)\n",
    "                if next_list:\n",
    "                    loop = True\n",
    "                    new_possibilities += [p + [n] for n in next_list[:branching_factor]]\n",
    " \n",
    "            possibilities = new_possibilities\n",
    "            if len(roots) > 30:\n",
    "                break\n",
    " \n",
    "        possibilities += roots\n",
    " \n",
    "        optimal = possibilities[0]\n",
    "        score = self.get_shipment_list_analysis(optimal)[0]\n",
    "        for p in possibilities[1:]:\n",
    "            s = self.get_shipment_list_analysis(p)[0]\n",
    "            if s > score:\n",
    "                optimal, score = p, s\n",
    " \n",
    "        return optimal\n",
    " \n",
    "    def get_shipment_list_analysis(self, shipment_list: List[Shipment]):\n",
    "        drone = shipment_list[0].drone\n",
    "        warehouse = shipment_list[0].warehouse\n",
    "        d1 = drone.distance_from(warehouse)\n",
    " \n",
    "        product_types = len({x for x in shipment_list for x in x.product_types()})\n",
    "        total_load_time = d1 + product_types\n",
    " \n",
    "        total_time = total_load_time\n",
    "        completed_orders = 0\n",
    "        total_scaled_score = 0\n",
    "        total_actual_score = 0\n",
    "        previous_position = warehouse\n",
    "        deliver_time = []\n",
    "        for shipment in shipment_list:\n",
    "            total_time += (\n",
    "                shipment.order.distance_from(previous_position)\n",
    "                + shipment.number_of_product_types()\n",
    "            )\n",
    "            p = shipment.percentage_of_order()\n",
    "            scaled_score = p * self.score_for_order_completed_at(\n",
    "                self.current_time + total_time + 1\n",
    "            )\n",
    "            deliver_time.append(self.current_time + total_time + 1)\n",
    "            total_scaled_score += scaled_score\n",
    "            actual_score = 0\n",
    "            if p == 1:\n",
    "                completed_orders += 1\n",
    "                actual_score = self.score_for_order_completed_at(\n",
    "                    self.current_time + total_time + 1\n",
    "                )\n",
    "            total_actual_score += actual_score\n",
    " \n",
    "            previous_position = shipment.order\n",
    " \n",
    "        total_scaled_score /= total_time\n",
    "        return (\n",
    "            total_scaled_score,\n",
    "            total_actual_score,\n",
    "            total_time,\n",
    "            completed_orders,\n",
    "            deliver_time,\n",
    "        )\n",
    " \n",
    "    def get_next_shipments_list(\n",
    "        self, current_shipment_list: List[Shipment]\n",
    "    ) -> List[Shipment]:\n",
    "        drone = current_shipment_list[0].drone\n",
    " \n",
    "        product_weight = sum(sh.product_weight for sh in current_shipment_list)\n",
    "        if product_weight + self.min_product_weight > drone.max_capacity:\n",
    "            return []\n",
    " \n",
    "        drone.remove_all_products()\n",
    "        warehouse = current_shipment_list[0].warehouse\n",
    " \n",
    "        used_orders = set()\n",
    "        for shipment in current_shipment_list:\n",
    "            used_orders.add(shipment.order)\n",
    "            drone.add_products(shipment.products)\n",
    "            warehouse.remove_products(shipment.products)\n",
    " \n",
    "        next_shipments_list = []\n",
    "        for order in self.orders:\n",
    "            if order in used_orders or order.is_complete():\n",
    "                continue\n",
    " \n",
    "            sh = Shipment(drone, order, warehouse)\n",
    "            if not sh.has_products():\n",
    "                continue\n",
    " \n",
    "            score = self.get_score_for_last_shipment(sh, current_shipment_list)\n",
    "            next_shipments_list.append((sh, score))\n",
    " \n",
    "        next_shipments_list = [\n",
    "            x for x, _ in sorted(next_shipments_list, key=lambda x: -x[1])\n",
    "        ]\n",
    " \n",
    "        drone.remove_all_products()\n",
    "        for shipment in current_shipment_list:\n",
    "            warehouse.add_products(shipment.products)\n",
    " \n",
    "        return next_shipments_list\n",
    " \n",
    "    @staticmethod\n",
    "    def get_score_for_last_shipment(\n",
    "        last_shipment: Shipment, shipment_list: List[Shipment]\n",
    "    ) -> float:\n",
    "        d = shipment_list[-1].order.distance_from(last_shipment.order)\n",
    "        m = last_shipment.number_of_product_types()\n",
    "        current_product_types = {x for x in shipment_list for x in x.product_types()}\n",
    "        last_product_types = last_shipment.product_types()\n",
    "        n = len(last_product_types - current_product_types)\n",
    "        p = last_shipment.percentage_of_order()\n",
    "        turns = d + m + n\n",
    "        return p / turns\n",
    " \n",
    "    def get_initial_shipments_list_for_drone(self, drone: Drone) -> List[Shipment]:\n",
    "        drone.remove_all_products()\n",
    " \n",
    "        shipment_list = []\n",
    "        for order in self.orders:\n",
    "            if order.is_complete():\n",
    "                continue\n",
    " \n",
    "            for warehouse in self.warehouses:\n",
    "                sh = Shipment(drone, order, warehouse)\n",
    "                if not sh.has_products():\n",
    "                    continue\n",
    " \n",
    "                d1 = drone.distance_from(warehouse)\n",
    "                d2 = warehouse.distance_from(order)\n",
    "                turns = d1 + d2 + sh.number_of_product_types() * 2\n",
    "                p = sh.percentage_of_order()\n",
    "                scaled_score = p / turns\n",
    " \n",
    "                if self.current_time + turns > self.max_time:\n",
    "                    continue\n",
    " \n",
    "                shipment_list.append((sh, scaled_score))\n",
    " \n",
    "        return [sh for sh, _ in sorted(shipment_list, key=lambda x: -x[1])]\n",
    " \n",
    "    def score_for_order_completed_at(self, time: int) -> int:\n",
    "        return ceil((self.max_time - time) / self.max_time * 100)"
   ]
  },
  {
   "cell_type": "markdown",
   "metadata": {
    "papermill": {
     "duration": 0.024509,
     "end_time": "2020-12-15T10:21:54.626867",
     "exception": false,
     "start_time": "2020-12-15T10:21:54.602358",
     "status": "completed"
    },
    "tags": []
   },
   "source": [
    "## 3. Functions"
   ]
  },
  {
   "cell_type": "markdown",
   "metadata": {
    "papermill": {
     "duration": 0.025006,
     "end_time": "2020-12-15T10:21:54.677062",
     "exception": false,
     "start_time": "2020-12-15T10:21:54.652056",
     "status": "completed"
    },
    "tags": []
   },
   "source": [
    "### read_file"
   ]
  },
  {
   "cell_type": "code",
   "execution_count": 15,
   "metadata": {
    "execution": {
     "iopub.execute_input": "2020-12-15T10:21:54.731998Z",
     "iopub.status.busy": "2020-12-15T10:21:54.730967Z",
     "iopub.status.idle": "2020-12-15T10:21:54.748330Z",
     "shell.execute_reply": "2020-12-15T10:21:54.748798Z"
    },
    "papermill": {
     "duration": 0.046284,
     "end_time": "2020-12-15T10:21:54.748952",
     "exception": false,
     "start_time": "2020-12-15T10:21:54.702668",
     "status": "completed"
    },
    "tags": []
   },
   "outputs": [],
   "source": [
    "def read_file(input_file):\n",
    "    with open(input_file) as f:\n",
    "        num_rows, num_columns, num_drones, max_time, max_cargo = map(\n",
    "            int, f.readline().split(\" \")\n",
    "        )\n",
    "\n",
    "        # products\n",
    "        num_products = int(f.readline())\n",
    "        product_weights = list(map(int, f.readline().split(\" \")))\n",
    "        assert num_products == len(product_weights)\n",
    "        products = [Product(id=i, weight=w) for i, w in enumerate(product_weights)]\n",
    "\n",
    "        # warehouses\n",
    "        num_warehouses = int(f.readline())\n",
    "        wh_list = []\n",
    "        for i in range(num_warehouses):\n",
    "            x, y = map(int, f.readline().split(\" \"))\n",
    "            num_products_in_wh = list(map(int, f.readline().split(\" \")))\n",
    "            assert num_products == len(num_products_in_wh)\n",
    "            wh_products = {p: n for p, n in zip(products, num_products_in_wh)}\n",
    "            wh = Warehouse(id=i, position=Point(x, y), products=wh_products)\n",
    "            wh_list.append(wh)\n",
    "\n",
    "        # order info\n",
    "        order_list = []\n",
    "        num_orders = int(f.readline())\n",
    "        for i in range(num_orders):\n",
    "            x, y = map(int, f.readline().split(\" \"))\n",
    "            num_products_in_order = int(f.readline())\n",
    "            order_products = list(map(int, f.readline().split(\" \")))\n",
    "            assert num_products_in_order == len(order_products)\n",
    "            order_products = [products[x] for x in order_products]\n",
    "            order = Order(\n",
    "                id=i, position=Point(x, y), products=dict(Counter(order_products))\n",
    "            )\n",
    "            order_list.append(order)\n",
    "\n",
    "    return num_rows, num_columns, num_drones, max_time, max_cargo, wh_list, order_list"
   ]
  },
  {
   "cell_type": "markdown",
   "metadata": {
    "papermill": {
     "duration": 0.02534,
     "end_time": "2020-12-15T10:21:54.799886",
     "exception": false,
     "start_time": "2020-12-15T10:21:54.774546",
     "status": "completed"
    },
    "tags": []
   },
   "source": [
    "### simulate"
   ]
  },
  {
   "cell_type": "code",
   "execution_count": 16,
   "metadata": {
    "execution": {
     "iopub.execute_input": "2020-12-15T10:21:54.861293Z",
     "iopub.status.busy": "2020-12-15T10:21:54.860625Z",
     "iopub.status.idle": "2020-12-15T10:21:54.862638Z",
     "shell.execute_reply": "2020-12-15T10:21:54.863175Z"
    },
    "papermill": {
     "duration": 0.037841,
     "end_time": "2020-12-15T10:21:54.863328",
     "exception": false,
     "start_time": "2020-12-15T10:21:54.825487",
     "status": "completed"
    },
    "tags": []
   },
   "outputs": [],
   "source": [
    "def simulate(input_file, branching_factor_sim, show_bar=0):\n",
    "    _, _, num_drones, max_time, max_cargo, wh_list, order_list = read_file(input_file)\n",
    "\n",
    "    drones = []\n",
    "    first_wh = wh_list[0]\n",
    "    for i in range(num_drones):\n",
    "        drones.append(Drone(id=i, position=first_wh.position, max_capacity=max_cargo))\n",
    "\n",
    "    simulation = Simulation(\n",
    "        max_time=max_time, drones=drones, warehouses=wh_list, orders=order_list, show_bar=show_bar\n",
    "    )\n",
    "    simulation.run(branching_factor_sim=branching_factor_sim)\n",
    "\n",
    "    with open(\"submission.csv\", \"w\") as w:\n",
    "        w.write(str(len(simulation.commands)) + \"\\n\")\n",
    "        for c in simulation.commands:\n",
    "            w.write(c.to_string() + \"\\n\")"
   ]
  },
  {
   "cell_type": "markdown",
   "metadata": {
    "papermill": {
     "duration": 0.025358,
     "end_time": "2020-12-15T10:21:54.915058",
     "exception": false,
     "start_time": "2020-12-15T10:21:54.889700",
     "status": "completed"
    },
    "tags": []
   },
   "source": [
    "### check"
   ]
  },
  {
   "cell_type": "code",
   "execution_count": 17,
   "metadata": {
    "execution": {
     "iopub.execute_input": "2020-12-15T10:21:54.969112Z",
     "iopub.status.busy": "2020-12-15T10:21:54.968495Z",
     "iopub.status.idle": "2020-12-15T10:21:54.977586Z",
     "shell.execute_reply": "2020-12-15T10:21:54.977052Z"
    },
    "papermill": {
     "duration": 0.037098,
     "end_time": "2020-12-15T10:21:54.977701",
     "exception": false,
     "start_time": "2020-12-15T10:21:54.940603",
     "status": "completed"
    },
    "tags": []
   },
   "outputs": [],
   "source": [
    "def check(input_file, submission):\n",
    "    _, _, num_drones, max_time, max_cargo, wh_list, order_list = read_file(input_file)\n",
    "\n",
    "    with open(submission, \"r\") as f:\n",
    "        _f = f.readlines()\n",
    "        num_commands = int(_f[0])\n",
    "        commands = [x.rstrip(\"\\n\") for x in _f[1:]]\n",
    "        assert num_commands == len(commands)\n",
    "\n",
    "    score = 0\n",
    "    try:\n",
    "        score = calculate_score(num_drones, max_time, max_cargo, wh_list, order_list, commands)\n",
    "    except Exception as e:\n",
    "        print(e)\n",
    "\n",
    "    #print(f\"Total score = {score}.\")\n",
    "    \n",
    "    return score"
   ]
  },
  {
   "cell_type": "markdown",
   "metadata": {
    "papermill": {
     "duration": 0.025218,
     "end_time": "2020-12-15T10:21:55.029746",
     "exception": false,
     "start_time": "2020-12-15T10:21:55.004528",
     "status": "completed"
    },
    "tags": []
   },
   "source": [
    "calculate_score"
   ]
  },
  {
   "cell_type": "code",
   "execution_count": 18,
   "metadata": {
    "execution": {
     "iopub.execute_input": "2020-12-15T10:21:55.105363Z",
     "iopub.status.busy": "2020-12-15T10:21:55.104356Z",
     "iopub.status.idle": "2020-12-15T10:21:55.107097Z",
     "shell.execute_reply": "2020-12-15T10:21:55.107561Z"
    },
    "papermill": {
     "duration": 0.052436,
     "end_time": "2020-12-15T10:21:55.107702",
     "exception": false,
     "start_time": "2020-12-15T10:21:55.055266",
     "status": "completed"
    },
    "tags": []
   },
   "outputs": [],
   "source": [
    "def calculate_score(num_drones, max_time, max_cargo, wh_list, order_list, commands):\n",
    "    warehouses: Dict[int, Warehouse] = {w.id: w for w in wh_list}\n",
    "    orders: Dict[int, Order] = {x.id: x for x in order_list}\n",
    "    drones: Dict[int, Drone] = {}\n",
    "    for i in range(num_drones):\n",
    "        drones[i] = Drone(id=i, position=warehouses[0].position, max_capacity=max_cargo)\n",
    "    products: Dict[int, Product] = {\n",
    "        x.id: x for x in order_list + wh_list for x in x.products\n",
    "    }\n",
    "    drone_to_delivery_time: Dict[Drone, int] = defaultdict(int)\n",
    "    order_to_delivery_time: Dict[Order, list] = defaultdict(list)\n",
    "    score = 0\n",
    "    for i, command in enumerate(commands):\n",
    "        drone_id, str_command, destination_id, product_id, quantity = command.split(\" \")\n",
    "\n",
    "        drone_id = int(drone_id)\n",
    "        destination_id = int(destination_id)\n",
    "        product_id = int(product_id)\n",
    "        quantity = int(quantity)\n",
    "\n",
    "        drone = drones[drone_id]\n",
    "        product = products[product_id]\n",
    "        basket = {product: quantity}\n",
    "\n",
    "        if str_command == \"L\":\n",
    "            warehouse = warehouses[destination_id]\n",
    "\n",
    "            if warehouse.products.get(product, 0) < quantity:\n",
    "                raise ValueError(f\"Command {i}: {warehouse} have not enough {product}.\")\n",
    "            warehouse.remove_products(basket)\n",
    "\n",
    "            drone.add_products(basket)\n",
    "            if drone.product_weight > max_cargo:\n",
    "                raise ValueError(f\"Command {i}: {drone} overloaded.\")\n",
    "\n",
    "            drone_to_delivery_time[drone] += drone.distance_from(warehouse) + 1\n",
    "            drone.set_position(warehouse.position)\n",
    "\n",
    "        elif str_command == \"D\":\n",
    "            order = orders[destination_id]\n",
    "            if order.is_complete():\n",
    "                raise ValueError(\n",
    "                    f\"Command {i}: the {order} is closed, nothing can be delivered there.\"\n",
    "                )\n",
    "\n",
    "            if drone.products.get(product, 0) < quantity:\n",
    "                raise ValueError(f\"Command {i}: {drone} have not enough {product}.\")\n",
    "            drone.remove_products(basket)\n",
    "\n",
    "            if order.products.get(product, 0) < quantity:\n",
    "                raise ValueError(f\"Command {i}: Too many {product} for {order}.\")\n",
    "            order.remove_products(basket)\n",
    "\n",
    "            drone_to_delivery_time[drone] += drone.distance_from(order) + 1\n",
    "            drone.set_position(order.position)\n",
    "            order_to_delivery_time[order].append(drone_to_delivery_time[drone])\n",
    "\n",
    "            if order.is_complete():\n",
    "                delivery_time = max(order_to_delivery_time[order])\n",
    "                if delivery_time < max_time:\n",
    "                    score += ceil(100 * (max_time - delivery_time) / max_time)\n",
    "                else:\n",
    "                    raise ValueError(f\"Command {i}: Run out of time.\")\n",
    "        else:\n",
    "            raise ValueError(f\"Command {i}: Unknown command {str_command}.\")\n",
    "    return score"
   ]
  },
  {
   "cell_type": "markdown",
   "metadata": {
    "papermill": {
     "duration": 0.025397,
     "end_time": "2020-12-15T10:21:55.158861",
     "exception": false,
     "start_time": "2020-12-15T10:21:55.133464",
     "status": "completed"
    },
    "tags": []
   },
   "source": [
    "## 4.Test"
   ]
  },
  {
   "cell_type": "code",
   "execution_count": 19,
   "metadata": {
    "execution": {
     "iopub.execute_input": "2020-12-15T10:21:55.216846Z",
     "iopub.status.busy": "2020-12-15T10:21:55.216172Z",
     "iopub.status.idle": "2020-12-15T12:54:21.941632Z",
     "shell.execute_reply": "2020-12-15T12:54:21.941048Z"
    },
    "papermill": {
     "duration": 9146.756803,
     "end_time": "2020-12-15T12:54:21.941754",
     "exception": false,
     "start_time": "2020-12-15T10:21:55.184951",
     "status": "completed"
    },
    "tags": []
   },
   "outputs": [
    {
     "name": "stdout",
     "output_type": "stream",
     "text": [
      "Progress:\n",
      " completed 1250 orders of 1250\n",
      "branching_factor = 23, score = 114229\n"
     ]
    }
   ],
   "source": [
    "input_file = \"../input/hashcode-drone-delivery/busy_day.in\"\n",
    "branching_factor_sim = 23\n",
    "\n",
    "simulate(input_file, branching_factor_sim=branching_factor_sim, show_bar=2)\n",
    "\n",
    "score = check(input_file, \"submission.csv\")\n",
    "print (\"\\n\\rbranching_factor = %i, score = %i\" %(branching_factor_sim, score))"
   ]
  }
 ],
 "metadata": {
  "kernelspec": {
   "display_name": "Python 3",
   "language": "python",
   "name": "python3"
  },
  "language_info": {
   "codemirror_mode": {
    "name": "ipython",
    "version": 3
   },
   "file_extension": ".py",
   "mimetype": "text/x-python",
   "name": "python",
   "nbconvert_exporter": "python",
   "pygments_lexer": "ipython3",
   "version": "3.7.6"
  },
  "papermill": {
   "duration": 9154.858139,
   "end_time": "2020-12-15T12:54:22.815875",
   "environment_variables": {},
   "exception": null,
   "input_path": "__notebook__.ipynb",
   "output_path": "__notebook__.ipynb",
   "parameters": {},
   "start_time": "2020-12-15T10:21:47.957736",
   "version": "2.1.0"
  }
 },
 "nbformat": 4,
 "nbformat_minor": 4
}

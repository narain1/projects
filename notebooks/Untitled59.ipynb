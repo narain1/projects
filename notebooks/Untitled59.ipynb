{
  "nbformat": 4,
  "nbformat_minor": 0,
  "metadata": {
    "colab": {
      "provenance": []
    },
    "kernelspec": {
      "name": "python3",
      "display_name": "Python 3"
    },
    "language_info": {
      "name": "python"
    }
  },
  "cells": [
    {
      "cell_type": "code",
      "execution_count": 1,
      "metadata": {
        "id": "GdWqbsMwtnH7"
      },
      "outputs": [],
      "source": [
        "import networkx as nx\n",
        "import matplotlib.pyplot as plt\n",
        "%matplotlib inline"
      ]
    },
    {
      "cell_type": "code",
      "source": [
        "g = nx.Graph()\n",
        "g.add_edges_from([(0,1), (0,2), (1,2), (1,3)])\n",
        "# pos = {2:(-1, 0), 0:(1,0), 1:(0, 0.5), 3:(0,1.2)}\n",
        "plt.axis('off')\n",
        "nx.draw_networkx(g)"
      ],
      "metadata": {
        "colab": {
          "base_uri": "https://localhost:8080/",
          "height": 248
        },
        "id": "xIQpaInAvGwo",
        "outputId": "ec39607a-97f0-4cbf-f47f-1a74652237fe"
      },
      "execution_count": 6,
      "outputs": [
        {
          "output_type": "display_data",
          "data": {
            "text/plain": [
              "<Figure size 432x288 with 1 Axes>"
            ],
            "image/png": "[encoded data removed]"
          },
          "metadata": {}
        }
      ]
    },
    {
      "cell_type": "code",
      "source": [
        "h = nx.Graph()\n",
        " \n",
        "h.add_edges_from([(1, 2), (2, 3), (3, 4), (1, 4), (1, 5)])\n",
        " \n",
        "nx.draw_networkx(h)"
      ],
      "metadata": {
        "colab": {
          "base_uri": "https://localhost:8080/",
          "height": 248
        },
        "id": "GvXzeo09xPXN",
        "outputId": "b49f8ffc-a522-42e1-f130-08963910727e"
      },
      "execution_count": 9,
      "outputs": [
        {
          "output_type": "display_data",
          "data": {
            "text/plain": [
              "<Figure size 432x288 with 1 Axes>"
            ],
            "image/png": "[encoded data removed]"
          },
          "metadata": {}
        }
      ]
    },
    {
      "cell_type": "markdown",
      "source": [
        "## Graph edit distance\n",
        "\n",
        "Graph edit distance is a graph similarity measure analogous to Levenshtein distance for strings. It is defined as minimum cost of edit path (sequence of node and edge edit operations) transforming graph G1 to graph isomorphic to G2."
      ],
      "metadata": {
        "id": "WiWlazLvzrqd"
      }
    },
    {
      "cell_type": "code",
      "source": [
        "nx.graph_edit_distance(g, h)"
      ],
      "metadata": {
        "colab": {
          "base_uri": "https://localhost:8080/"
        },
        "id": "QWuRcnfxxnsC",
        "outputId": "5fa224d0-27d3-4919-968d-a086371ac3a2"
      },
      "execution_count": 7,
      "outputs": [
        {
          "output_type": "execute_result",
          "data": {
            "text/plain": [
              "4.0"
            ]
          },
          "metadata": {},
          "execution_count": 7
        }
      ]
    },
    {
      "cell_type": "markdown",
      "source": [
        "## optimal edit distance\n",
        "Graph edit path is a sequence of node and edge edit operations transforming graph G1 to graph isomorphic to G2. Edit operations include substitutions, deletions, and insertions."
      ],
      "metadata": {
        "id": "0UwLWReUz7sN"
      }
    },
    {
      "cell_type": "code",
      "source": [
        "nx.optimal_edit_paths(g, h)[0][:5]"
      ],
      "metadata": {
        "colab": {
          "base_uri": "https://localhost:8080/"
        },
        "id": "BGRRghc7zYSv",
        "outputId": "730bdb49-c496-49c5-a336-4c4d73a42f56"
      },
      "execution_count": 14,
      "outputs": [
        {
          "output_type": "execute_result",
          "data": {
            "text/plain": [
              "[([(0, 1), (1, 2), (3, 3), (2, 4), (None, 5)],\n",
              "  [((0, 1), (1, 2)),\n",
              "   ((1, 3), (2, 3)),\n",
              "   ((0, 2), (1, 4)),\n",
              "   ((1, 2), None),\n",
              "   (None, (3, 4)),\n",
              "   (None, (1, 5))]),\n",
              " ([(0, 1), (1, 2), (3, 3), (None, 4), (2, 5)],\n",
              "  [((0, 1), (1, 2)),\n",
              "   ((1, 3), (2, 3)),\n",
              "   (None, (1, 4)),\n",
              "   (None, (3, 4)),\n",
              "   ((0, 2), (1, 5)),\n",
              "   ((1, 2), None)]),\n",
              " ([(0, 1), (2, 2), (1, 3), (3, 4), (None, 5)],\n",
              "  [((0, 2), (1, 2)),\n",
              "   ((0, 1), None),\n",
              "   ((1, 2), (2, 3)),\n",
              "   ((1, 3), (3, 4)),\n",
              "   (None, (1, 4)),\n",
              "   (None, (1, 5))]),\n",
              " ([(0, 1), (2, 2), (3, 3), (1, 4), (None, 5)],\n",
              "  [((0, 2), (1, 2)),\n",
              "   (None, (2, 3)),\n",
              "   ((0, 1), (1, 4)),\n",
              "   ((1, 2), None),\n",
              "   ((1, 3), (3, 4)),\n",
              "   (None, (1, 5))]),\n",
              " ([(0, 1), (3, 2), (1, 3), (2, 4), (None, 5)],\n",
              "  [(None, (1, 2)),\n",
              "   ((0, 1), None),\n",
              "   ((1, 3), (2, 3)),\n",
              "   ((0, 2), (1, 4)),\n",
              "   ((1, 2), (3, 4)),\n",
              "   (None, (1, 5))])]"
            ]
          },
          "metadata": {},
          "execution_count": 14
        }
      ]
    },
    {
      "cell_type": "code",
      "source": [],
      "metadata": {
        "id": "x7xPf24J2iQa"
      },
      "execution_count": null,
      "outputs": []
    }
  ]
}
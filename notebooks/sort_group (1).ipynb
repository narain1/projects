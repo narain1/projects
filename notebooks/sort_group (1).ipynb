{
  "nbformat": 4,
  "nbformat_minor": 0,
  "metadata": {
    "colab": {
      "name": "sort_group.ipynb",
      "provenance": [],
      "collapsed_sections": []
    },
    "kernelspec": {
      "name": "python3",
      "display_name": "Python 3"
    },
    "language_info": {
      "name": "python"
    }
  },
  "cells": [
    {
      "cell_type": "code",
      "execution_count": 1,
      "metadata": {
        "id": "x4on-ov07GE2"
      },
      "outputs": [],
      "source": [
        "import pandas as pd\n",
        "import numpy as np"
      ]
    },
    {
      "cell_type": "code",
      "source": [
        "df = pd.read_csv('/content/t_bg_wf.csv').set_index('id')\n",
        "np.random.seed(10)\n",
        "alpha = np.random.dirichlet(np.ones(11), size=1, ).squeeze()\n",
        "groups = {f'omega_{k_id+1}': [] for k_id in range(11)}\n",
        "k = 1000\n",
        "acc_columns = df.columns.tolist()[:-1]\n",
        "n_select = (alpha * k).astype('int')"
      ],
      "metadata": {
        "id": "gOkwOSXM7caV"
      },
      "execution_count": 154,
      "outputs": []
    },
    {
      "cell_type": "code",
      "source": [
        "count = 0\n",
        "for _ in range(df.shape[0]):\n",
        "    ks = df.sum(axis=0).values/alpha\n",
        "    ks_idx = ks.argsort()\n",
        "    df['column_sum'] = df.sum(axis=1)\n",
        "    df.sort_values(by='column_sum', inplace=True)\n",
        "    if count != df.shape[1]-1 and df.sum().sum() > 0:\n",
        "        if (df.loc[:, f'wf_{ks_idx[count]+1}'] == 1).sum() == 0: count += 1\n",
        "        drop_idx = df.loc[df.loc[:, f'wf_{ks_idx[count]+1}']==1, :].index[0]\n",
        "        if len(groups[f'omega_{ks_idx[count]+1}']) < n_select[ks_idx[count]]:\n",
        "            groups[f'omega_{ks_idx[count]+1}'].append((drop_idx, df.loc[drop_idx, acc_columns].values))\n",
        "        df.drop(drop_idx, inplace=True, axis=0)\n",
        "    df.drop('column_sum', inplace=True, axis=1)"
      ],
      "metadata": {
        "id": "Aa8Lqhe-H4nS"
      },
      "execution_count": 155,
      "outputs": []
    },
    {
      "cell_type": "code",
      "source": [
        "(alpha * k).astype('int')"
      ],
      "metadata": {
        "colab": {
          "base_uri": "https://localhost:8080/"
        },
        "id": "ppXmWeDxWY6b",
        "outputId": "a95efd57-26cf-4b80-9d9f-ee6d97ef2de7"
      },
      "execution_count": 156,
      "outputs": [
        {
          "output_type": "execute_result",
          "data": {
            "text/plain": [
              "array([186,   2, 126, 174,  87,  32,  27, 180,  23,  11, 146])"
            ]
          },
          "metadata": {},
          "execution_count": 156
        }
      ]
    },
    {
      "cell_type": "code",
      "source": [
        "for k, v in groups.items(): print(k, len(v))"
      ],
      "metadata": {
        "colab": {
          "base_uri": "https://localhost:8080/"
        },
        "id": "eFO4gQ_bT21Q",
        "outputId": "8b859d8d-3d5e-4e1a-8897-4708732957ad"
      },
      "execution_count": 157,
      "outputs": [
        {
          "output_type": "stream",
          "name": "stdout",
          "text": [
            "omega_1 151\n",
            "omega_2 2\n",
            "omega_3 93\n",
            "omega_4 174\n",
            "omega_5 58\n",
            "omega_6 30\n",
            "omega_7 27\n",
            "omega_8 180\n",
            "omega_9 23\n",
            "omega_10 11\n",
            "omega_11 88\n"
          ]
        }
      ]
    },
    {
      "cell_type": "code",
      "source": [
        "final_matrix = np.zeros((1000, 11))\n",
        "for i, (k, v) in enumerate(groups.items()):\n",
        "    final_matrix[list(map(lambda x: x[0] - 1, v)), i] = 1"
      ],
      "metadata": {
        "id": "A5vdNXOPArWg"
      },
      "execution_count": 158,
      "outputs": []
    },
    {
      "cell_type": "code",
      "source": [
        "final_matrix.sum(axis=0)"
      ],
      "metadata": {
        "colab": {
          "base_uri": "https://localhost:8080/"
        },
        "id": "FTdYQnFSZqlj",
        "outputId": "8b53f3c6-d6c0-419f-c534-1971cada3c06"
      },
      "execution_count": 160,
      "outputs": [
        {
          "output_type": "execute_result",
          "data": {
            "text/plain": [
              "array([151.,   2.,  93., 174.,  58.,  30.,  27., 180.,  23.,  11.,  88.])"
            ]
          },
          "metadata": {},
          "execution_count": 160
        }
      ]
    },
    {
      "cell_type": "code",
      "source": [
        "np.savetxt('output_file.txt', final_matrix)"
      ],
      "metadata": {
        "id": "qL3EotSvaZkw"
      },
      "execution_count": 162,
      "outputs": []
    },
    {
      "cell_type": "code",
      "source": [
        ""
      ],
      "metadata": {
        "id": "GKnZNEjvanFk"
      },
      "execution_count": null,
      "outputs": []
    }
  ]
}